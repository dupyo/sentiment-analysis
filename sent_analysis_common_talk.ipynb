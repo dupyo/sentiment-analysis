{
 "cells": [
  {
   "cell_type": "code",
   "execution_count": 96,
   "id": "7560f901",
   "metadata": {},
   "outputs": [
    {
     "ename": "SyntaxError",
     "evalue": "invalid syntax (<ipython-input-96-63d32839bb0a>, line 2)",
     "output_type": "error",
     "traceback": [
      "\u001b[1;36m  File \u001b[1;32m\"<ipython-input-96-63d32839bb0a>\"\u001b[1;36m, line \u001b[1;32m2\u001b[0m\n\u001b[1;33m    pip install pandas\u001b[0m\n\u001b[1;37m              ^\u001b[0m\n\u001b[1;31mSyntaxError\u001b[0m\u001b[1;31m:\u001b[0m invalid syntax\n"
     ]
    }
   ],
   "source": [
    "# 라이브러리가 없다면 다운로드, 있다면 코드 건너뛰기\n",
    "pip install pandas\n",
    "pip install matplotlib\n",
    "pip install konlpy\n",
    "pip install tqdm\n",
    "pip install tensorflow"
   ]
  },
  {
   "cell_type": "code",
   "execution_count": null,
   "id": "b443d0b7",
   "metadata": {},
   "outputs": [],
   "source": [
    "# 라이브러리가 없다면 다운로드, 있다면 코드 건너뛰기\n",
    "pip install sklearn"
   ]
  },
  {
   "cell_type": "code",
   "execution_count": 421,
   "id": "6e625534",
   "metadata": {},
   "outputs": [],
   "source": [
    "import pandas as pd\n",
    "import numpy as np\n",
    "import matplotlib.pyplot as plt\n",
    "import re\n",
    "import urllib.request\n",
    "from konlpy.tag import Okt\n",
    "from tqdm import tqdm\n",
    "from sklearn.model_selection import train_test_split\n",
    "from tensorflow.keras.preprocessing.text import Tokenizer\n",
    "from tensorflow.keras.preprocessing.sequence import pad_sequences"
   ]
  },
  {
   "cell_type": "code",
   "execution_count": 422,
   "id": "beb3ca16",
   "metadata": {},
   "outputs": [
    {
     "name": "stdout",
     "output_type": "stream",
     "text": [
      "훈련용 리뷰의 개수 : 7237\n",
      "테스트용 리뷰의 개수 : 2413\n"
     ]
    }
   ],
   "source": [
    "# train_data = pd.read_table('ratings_train.txt')\n",
    "# test_data = pd.read_table('ratings_test.txt')\n",
    "total_data = pd.read_table('5차년도_2차(긍정부정분류).txt')\n",
    "\n",
    "train_data, test_data = train_test_split(total_data, test_size = 0.25, random_state = 42)\n",
    "print('훈련용 리뷰의 개수 :', len(train_data))\n",
    "print('테스트용 리뷰의 개수 :', len(test_data))"
   ]
  },
  {
   "cell_type": "code",
   "execution_count": null,
   "id": "a99131ad",
   "metadata": {},
   "outputs": [],
   "source": []
  },
  {
   "cell_type": "code",
   "execution_count": 423,
   "id": "19955e10",
   "metadata": {},
   "outputs": [
    {
     "name": "stdout",
     "output_type": "stream",
     "text": [
      "훈련용 리뷰 개수 :  7237\n"
     ]
    }
   ],
   "source": [
    "print('훈련용 리뷰 개수 : ', len(train_data)) # 훈련용 리뷰 개수 출력"
   ]
  },
  {
   "cell_type": "code",
   "execution_count": 424,
   "id": "b7e06941",
   "metadata": {},
   "outputs": [
    {
     "data": {
      "text/html": [
       "<div>\n",
       "<style scoped>\n",
       "    .dataframe tbody tr th:only-of-type {\n",
       "        vertical-align: middle;\n",
       "    }\n",
       "\n",
       "    .dataframe tbody tr th {\n",
       "        vertical-align: top;\n",
       "    }\n",
       "\n",
       "    .dataframe thead th {\n",
       "        text-align: right;\n",
       "    }\n",
       "</style>\n",
       "<table border=\"1\" class=\"dataframe\">\n",
       "  <thead>\n",
       "    <tr style=\"text-align: right;\">\n",
       "      <th></th>\n",
       "      <th>id</th>\n",
       "      <th>document</th>\n",
       "      <th>label</th>\n",
       "    </tr>\n",
       "  </thead>\n",
       "  <tbody>\n",
       "    <tr>\n",
       "      <th>433</th>\n",
       "      <td>5f5b5c552e23c7161acccefc</td>\n",
       "      <td>눈을 떠보니 밖에 온통 물 밖에 없네. 어쩌지?</td>\n",
       "      <td>0</td>\n",
       "    </tr>\n",
       "    <tr>\n",
       "      <th>5192</th>\n",
       "      <td>5f8aef319e04b149046cd27f</td>\n",
       "      <td>나 프로젝트 끝났다.</td>\n",
       "      <td>1</td>\n",
       "    </tr>\n",
       "    <tr>\n",
       "      <th>6475</th>\n",
       "      <td>5fb380dde3dcec421f83587c</td>\n",
       "      <td>갇혔다고. 갇혔어.</td>\n",
       "      <td>0</td>\n",
       "    </tr>\n",
       "    <tr>\n",
       "      <th>8770</th>\n",
       "      <td>5fbc9c17576e9378b67aceec</td>\n",
       "      <td>내가 평소에 갖고싶었던 거야.</td>\n",
       "      <td>1</td>\n",
       "    </tr>\n",
       "    <tr>\n",
       "      <th>104</th>\n",
       "      <td>5f425cd79dd513131eacf01c</td>\n",
       "      <td>내 좋아하는 인플루언서가 파격 이벤트를 하더라고. 그래서 그냥 한 번 신청해봤지.</td>\n",
       "      <td>1</td>\n",
       "    </tr>\n",
       "  </tbody>\n",
       "</table>\n",
       "</div>"
      ],
      "text/plain": [
       "                            id                                       document  \\\n",
       "433   5f5b5c552e23c7161acccefc                     눈을 떠보니 밖에 온통 물 밖에 없네. 어쩌지?   \n",
       "5192  5f8aef319e04b149046cd27f                                    나 프로젝트 끝났다.   \n",
       "6475  5fb380dde3dcec421f83587c                                     갇혔다고. 갇혔어.   \n",
       "8770  5fbc9c17576e9378b67aceec                               내가 평소에 갖고싶었던 거야.   \n",
       "104   5f425cd79dd513131eacf01c  내 좋아하는 인플루언서가 파격 이벤트를 하더라고. 그래서 그냥 한 번 신청해봤지.   \n",
       "\n",
       "      label  \n",
       "433       0  \n",
       "5192      1  \n",
       "6475      0  \n",
       "8770      1  \n",
       "104       1  "
      ]
     },
     "execution_count": 424,
     "metadata": {},
     "output_type": "execute_result"
    }
   ],
   "source": [
    "train_data[:5] # 상위 5개 출력"
   ]
  },
  {
   "cell_type": "code",
   "execution_count": 682,
   "id": "3d1b797e",
   "metadata": {},
   "outputs": [
    {
     "name": "stdout",
     "output_type": "stream",
     "text": [
      "테스트용 리뷰 개수 :  2413\n"
     ]
    }
   ],
   "source": [
    "print('테스트용 리뷰 개수 : ', len(test_data)) # 테스트용 리뷰 개수 출력"
   ]
  },
  {
   "cell_type": "code",
   "execution_count": 683,
   "id": "22f520d6",
   "metadata": {},
   "outputs": [
    {
     "data": {
      "text/html": [
       "<div>\n",
       "<style scoped>\n",
       "    .dataframe tbody tr th:only-of-type {\n",
       "        vertical-align: middle;\n",
       "    }\n",
       "\n",
       "    .dataframe tbody tr th {\n",
       "        vertical-align: top;\n",
       "    }\n",
       "\n",
       "    .dataframe thead th {\n",
       "        text-align: right;\n",
       "    }\n",
       "</style>\n",
       "<table border=\"1\" class=\"dataframe\">\n",
       "  <thead>\n",
       "    <tr style=\"text-align: right;\">\n",
       "      <th></th>\n",
       "      <th>id</th>\n",
       "      <th>document</th>\n",
       "      <th>label</th>\n",
       "    </tr>\n",
       "  </thead>\n",
       "  <tbody>\n",
       "    <tr>\n",
       "      <th>3773</th>\n",
       "      <td>5f85c32ed338b948c4e69654</td>\n",
       "      <td>달리는 운동을 너무나 좋아해서 매번 열리고 있는 마라톤 대회에 출전하고 있어</td>\n",
       "      <td>1</td>\n",
       "    </tr>\n",
       "    <tr>\n",
       "      <th>4053</th>\n",
       "      <td>5f8c5032111dfd48d40fe982</td>\n",
       "      <td>저런 놈 욕을 해줘야 돼 욕 처먹고 싶어서 저러니깐</td>\n",
       "      <td>0</td>\n",
       "    </tr>\n",
       "    <tr>\n",
       "      <th>4165</th>\n",
       "      <td>5f8ed249f8fac448cc0a7b1c</td>\n",
       "      <td>내가  마라톤 대회에 출전했는데 예전에 내 기록을 훨씬 갱신했어</td>\n",
       "      <td>1</td>\n",
       "    </tr>\n",
       "    <tr>\n",
       "      <th>3424</th>\n",
       "      <td>5f7152f3111dfd48d40fd46d</td>\n",
       "      <td>달리는 동안에는 너무 힘들었는데 결승선을 통과한 순간 기분이 엄청 좋았어</td>\n",
       "      <td>1</td>\n",
       "    </tr>\n",
       "    <tr>\n",
       "      <th>5391</th>\n",
       "      <td>5f8f6948f8fac448cc0a7c20</td>\n",
       "      <td>알았어 여행도 좀 다녀볼게</td>\n",
       "      <td>1</td>\n",
       "    </tr>\n",
       "  </tbody>\n",
       "</table>\n",
       "</div>"
      ],
      "text/plain": [
       "                            id                                    document  \\\n",
       "3773  5f85c32ed338b948c4e69654  달리는 운동을 너무나 좋아해서 매번 열리고 있는 마라톤 대회에 출전하고 있어   \n",
       "4053  5f8c5032111dfd48d40fe982                저런 놈 욕을 해줘야 돼 욕 처먹고 싶어서 저러니깐   \n",
       "4165  5f8ed249f8fac448cc0a7b1c         내가  마라톤 대회에 출전했는데 예전에 내 기록을 훨씬 갱신했어   \n",
       "3424  5f7152f3111dfd48d40fd46d    달리는 동안에는 너무 힘들었는데 결승선을 통과한 순간 기분이 엄청 좋았어   \n",
       "5391  5f8f6948f8fac448cc0a7c20                              알았어 여행도 좀 다녀볼게   \n",
       "\n",
       "      label  \n",
       "3773      1  \n",
       "4053      0  \n",
       "4165      1  \n",
       "3424      1  \n",
       "5391      1  "
      ]
     },
     "execution_count": 683,
     "metadata": {},
     "output_type": "execute_result"
    }
   ],
   "source": [
    "test_data[:5]"
   ]
  },
  {
   "cell_type": "code",
   "execution_count": null,
   "id": "01928947",
   "metadata": {},
   "outputs": [],
   "source": []
  },
  {
   "cell_type": "code",
   "execution_count": 427,
   "id": "a0872048",
   "metadata": {},
   "outputs": [
    {
     "data": {
      "text/plain": [
       "(7237, 2)"
      ]
     },
     "execution_count": 427,
     "metadata": {},
     "output_type": "execute_result"
    }
   ],
   "source": [
    "# document 열과 label 열의 중복을 제외한 값의 개수\n",
    "train_data['document'].nunique(), train_data['label'].nunique()"
   ]
  },
  {
   "cell_type": "code",
   "execution_count": 428,
   "id": "30bde9ff",
   "metadata": {},
   "outputs": [
    {
     "name": "stderr",
     "output_type": "stream",
     "text": [
      "C:\\Users\\ssu\\.conda\\envs\\hate_speech\\lib\\site-packages\\ipykernel_launcher.py:2: SettingWithCopyWarning: \n",
      "A value is trying to be set on a copy of a slice from a DataFrame\n",
      "\n",
      "See the caveats in the documentation: https://pandas.pydata.org/pandas-docs/stable/user_guide/indexing.html#returning-a-view-versus-a-copy\n",
      "  \n"
     ]
    }
   ],
   "source": [
    "# document 열의 중복 제거\n",
    "train_data.drop_duplicates(subset=['document'], inplace=True)"
   ]
  },
  {
   "cell_type": "code",
   "execution_count": 429,
   "id": "43f3589f",
   "metadata": {},
   "outputs": [
    {
     "name": "stdout",
     "output_type": "stream",
     "text": [
      "총 샘플의 수 : 7237\n"
     ]
    }
   ],
   "source": [
    "print('총 샘플의 수 :',len(train_data))"
   ]
  },
  {
   "cell_type": "code",
   "execution_count": 684,
   "id": "87ffab60",
   "metadata": {},
   "outputs": [
    {
     "data": {
      "text/plain": [
       "<AxesSubplot:>"
      ]
     },
     "execution_count": 684,
     "metadata": {},
     "output_type": "execute_result"
    },
    {
     "data": {
      "image/png": "[encoded data removed]",
      "text/plain": [
       "<Figure size 432x288 with 1 Axes>"
      ]
     },
     "metadata": {
      "needs_background": "light"
     },
     "output_type": "display_data"
    }
   ],
   "source": [
    "train_data['label'].value_counts().plot(kind = 'bar')"
   ]
  },
  {
   "cell_type": "code",
   "execution_count": 431,
   "id": "6aace947",
   "metadata": {},
   "outputs": [
    {
     "name": "stdout",
     "output_type": "stream",
     "text": [
      "   label  count\n",
      "0      0   4531\n",
      "1      1   2706\n"
     ]
    }
   ],
   "source": [
    "print(train_data.groupby('label').size().reset_index(name = 'count'))"
   ]
  },
  {
   "cell_type": "code",
   "execution_count": 432,
   "id": "33943806",
   "metadata": {},
   "outputs": [
    {
     "name": "stdout",
     "output_type": "stream",
     "text": [
      "False\n"
     ]
    }
   ],
   "source": [
    "# 리뷰 중에 Null 값을 가진 샘플이 있는지 확인합니다.\n",
    "print(train_data.isnull().values.any())"
   ]
  },
  {
   "cell_type": "code",
   "execution_count": 433,
   "id": "5b3598c6",
   "metadata": {},
   "outputs": [
    {
     "name": "stdout",
     "output_type": "stream",
     "text": [
      "id          0\n",
      "document    0\n",
      "label       0\n",
      "dtype: int64\n"
     ]
    }
   ],
   "source": [
    "# 어떤 열에 존재하는지 확인해봅시다.\n",
    "print(train_data.isnull().sum())"
   ]
  },
  {
   "cell_type": "code",
   "execution_count": 434,
   "id": "4f6bb35e",
   "metadata": {},
   "outputs": [
    {
     "data": {
      "text/html": [
       "<div>\n",
       "<style scoped>\n",
       "    .dataframe tbody tr th:only-of-type {\n",
       "        vertical-align: middle;\n",
       "    }\n",
       "\n",
       "    .dataframe tbody tr th {\n",
       "        vertical-align: top;\n",
       "    }\n",
       "\n",
       "    .dataframe thead th {\n",
       "        text-align: right;\n",
       "    }\n",
       "</style>\n",
       "<table border=\"1\" class=\"dataframe\">\n",
       "  <thead>\n",
       "    <tr style=\"text-align: right;\">\n",
       "      <th></th>\n",
       "      <th>id</th>\n",
       "      <th>document</th>\n",
       "      <th>label</th>\n",
       "    </tr>\n",
       "  </thead>\n",
       "  <tbody>\n",
       "  </tbody>\n",
       "</table>\n",
       "</div>"
      ],
      "text/plain": [
       "Empty DataFrame\n",
       "Columns: [id, document, label]\n",
       "Index: []"
      ]
     },
     "execution_count": 434,
     "metadata": {},
     "output_type": "execute_result"
    }
   ],
   "source": [
    "# Null 값을 가진 샘플이 어느 인덱스의 위치에 존재하는지 한 번 출력해봅시다.\n",
    "train_data.loc[train_data.document.isnull()]"
   ]
  },
  {
   "cell_type": "code",
   "execution_count": 435,
   "id": "8ba174fd",
   "metadata": {},
   "outputs": [
    {
     "name": "stdout",
     "output_type": "stream",
     "text": [
      "False\n"
     ]
    }
   ],
   "source": [
    "# Null 값을 가진 샘플을 제거하겠습니다.\n",
    "train_data = train_data.dropna(how = 'any') # Null 값이 존재하는 행 제거\n",
    "print(train_data.isnull().values.any()) # Null 값이 존재하는지 확인"
   ]
  },
  {
   "cell_type": "code",
   "execution_count": 436,
   "id": "6377d5e0",
   "metadata": {},
   "outputs": [
    {
     "name": "stdout",
     "output_type": "stream",
     "text": [
      "7237\n"
     ]
    }
   ],
   "source": [
    "# 다시 샘플의 개수를 출력하여 1개의 샘플이 제거되었는지 확인해봅시다.\n",
    "print(len(train_data))"
   ]
  },
  {
   "cell_type": "code",
   "execution_count": 437,
   "id": "32201659",
   "metadata": {},
   "outputs": [
    {
     "name": "stdout",
     "output_type": "stream",
     "text": [
      "do you expect people to read the FAQ etc and actually accept hard atheism\n"
     ]
    }
   ],
   "source": [
    "#알파벳과 공백을 제외하고 모두 제거\n",
    "eng_text = 'do!!! you expect... people~ to~ read~ the FAQ, etc. and actually accept hard~! atheism?@@'\n",
    "print(re.sub(r'[^a-zA-Z ]', '', eng_text))"
   ]
  },
  {
   "cell_type": "code",
   "execution_count": 438,
   "id": "3ad4744a",
   "metadata": {},
   "outputs": [
    {
     "data": {
      "text/html": [
       "<div>\n",
       "<style scoped>\n",
       "    .dataframe tbody tr th:only-of-type {\n",
       "        vertical-align: middle;\n",
       "    }\n",
       "\n",
       "    .dataframe tbody tr th {\n",
       "        vertical-align: top;\n",
       "    }\n",
       "\n",
       "    .dataframe thead th {\n",
       "        text-align: right;\n",
       "    }\n",
       "</style>\n",
       "<table border=\"1\" class=\"dataframe\">\n",
       "  <thead>\n",
       "    <tr style=\"text-align: right;\">\n",
       "      <th></th>\n",
       "      <th>id</th>\n",
       "      <th>document</th>\n",
       "      <th>label</th>\n",
       "    </tr>\n",
       "  </thead>\n",
       "  <tbody>\n",
       "    <tr>\n",
       "      <th>433</th>\n",
       "      <td>5f5b5c552e23c7161acccefc</td>\n",
       "      <td>눈을 떠보니 밖에 온통 물 밖에 없네 어쩌지</td>\n",
       "      <td>0</td>\n",
       "    </tr>\n",
       "    <tr>\n",
       "      <th>5192</th>\n",
       "      <td>5f8aef319e04b149046cd27f</td>\n",
       "      <td>나 프로젝트 끝났다</td>\n",
       "      <td>1</td>\n",
       "    </tr>\n",
       "    <tr>\n",
       "      <th>6475</th>\n",
       "      <td>5fb380dde3dcec421f83587c</td>\n",
       "      <td>갇혔다고 갇혔어</td>\n",
       "      <td>0</td>\n",
       "    </tr>\n",
       "    <tr>\n",
       "      <th>8770</th>\n",
       "      <td>5fbc9c17576e9378b67aceec</td>\n",
       "      <td>내가 평소에 갖고싶었던 거야</td>\n",
       "      <td>1</td>\n",
       "    </tr>\n",
       "    <tr>\n",
       "      <th>104</th>\n",
       "      <td>5f425cd79dd513131eacf01c</td>\n",
       "      <td>내 좋아하는 인플루언서가 파격 이벤트를 하더라고 그래서 그냥 한 번 신청해봤지</td>\n",
       "      <td>1</td>\n",
       "    </tr>\n",
       "  </tbody>\n",
       "</table>\n",
       "</div>"
      ],
      "text/plain": [
       "                            id                                     document  \\\n",
       "433   5f5b5c552e23c7161acccefc                     눈을 떠보니 밖에 온통 물 밖에 없네 어쩌지   \n",
       "5192  5f8aef319e04b149046cd27f                                   나 프로젝트 끝났다   \n",
       "6475  5fb380dde3dcec421f83587c                                     갇혔다고 갇혔어   \n",
       "8770  5fbc9c17576e9378b67aceec                              내가 평소에 갖고싶었던 거야   \n",
       "104   5f425cd79dd513131eacf01c  내 좋아하는 인플루언서가 파격 이벤트를 하더라고 그래서 그냥 한 번 신청해봤지   \n",
       "\n",
       "      label  \n",
       "433       0  \n",
       "5192      1  \n",
       "6475      0  \n",
       "8770      1  \n",
       "104       1  "
      ]
     },
     "execution_count": 438,
     "metadata": {},
     "output_type": "execute_result"
    }
   ],
   "source": [
    " # 한글과 공백을 제외하고 모두 제거\n",
    "train_data['document'] = train_data['document'].str.replace(\"[^ㄱ-ㅎㅏ-ㅣ가-힣 ]\",\"\")\n",
    "train_data[:5]"
   ]
  },
  {
   "cell_type": "code",
   "execution_count": 439,
   "id": "58f19334",
   "metadata": {},
   "outputs": [
    {
     "name": "stdout",
     "output_type": "stream",
     "text": [
      "id          0\n",
      "document    1\n",
      "label       0\n",
      "dtype: int64\n"
     ]
    }
   ],
   "source": [
    "# 한글이 없는 리뷰였다면 더 이상 아무런 값도 없는 빈(empty) 값이 되었을 것입니다. \n",
    "# train_data에 공백(whitespace)만 있거나 빈 값을 가진 행이 있다면 \n",
    "# Null 값으로 변경하도록 하고, Null 값이 존재하는지 확인해보겠습니다.\n",
    "train_data['document'] = train_data['document'].str.replace('^ +', \"\") # white space 데이터를 empty value로 변경\n",
    "train_data['document'].replace('', np.nan, inplace=True)\n",
    "print(train_data.isnull().sum())"
   ]
  },
  {
   "cell_type": "code",
   "execution_count": 440,
   "id": "d2e587a0",
   "metadata": {},
   "outputs": [
    {
     "data": {
      "text/html": [
       "<div>\n",
       "<style scoped>\n",
       "    .dataframe tbody tr th:only-of-type {\n",
       "        vertical-align: middle;\n",
       "    }\n",
       "\n",
       "    .dataframe tbody tr th {\n",
       "        vertical-align: top;\n",
       "    }\n",
       "\n",
       "    .dataframe thead th {\n",
       "        text-align: right;\n",
       "    }\n",
       "</style>\n",
       "<table border=\"1\" class=\"dataframe\">\n",
       "  <thead>\n",
       "    <tr style=\"text-align: right;\">\n",
       "      <th></th>\n",
       "      <th>id</th>\n",
       "      <th>document</th>\n",
       "      <th>label</th>\n",
       "    </tr>\n",
       "  </thead>\n",
       "  <tbody>\n",
       "    <tr>\n",
       "      <th>4834</th>\n",
       "      <td>5f8318a7d338b948c4e6927e</td>\n",
       "      <td>NaN</td>\n",
       "      <td>0</td>\n",
       "    </tr>\n",
       "  </tbody>\n",
       "</table>\n",
       "</div>"
      ],
      "text/plain": [
       "                            id document  label\n",
       "4834  5f8318a7d338b948c4e6927e      NaN      0"
      ]
     },
     "execution_count": 440,
     "metadata": {},
     "output_type": "execute_result"
    }
   ],
   "source": [
    "# Null 값이 있는 행을 5개만 출력\n",
    "train_data.loc[train_data.document.isnull()][:5]"
   ]
  },
  {
   "cell_type": "code",
   "execution_count": 441,
   "id": "969e3e65",
   "metadata": {},
   "outputs": [
    {
     "name": "stdout",
     "output_type": "stream",
     "text": [
      "7236\n"
     ]
    }
   ],
   "source": [
    "# Null 샘플들은 레이블이 긍정일 수도 있고, 부정일 수도 있습니다. 아무런 의미도 없는 데이터므로 제거\n",
    "train_data = train_data.dropna(how = 'any')\n",
    "print(len(train_data))"
   ]
  },
  {
   "cell_type": "code",
   "execution_count": 442,
   "id": "fccbf2b3",
   "metadata": {},
   "outputs": [
    {
     "name": "stdout",
     "output_type": "stream",
     "text": [
      "전처리 후 테스트용 샘플의 개수 : 2413\n"
     ]
    },
    {
     "name": "stderr",
     "output_type": "stream",
     "text": [
      "C:\\Users\\ssu\\.conda\\envs\\hate_speech\\lib\\site-packages\\ipykernel_launcher.py:2: SettingWithCopyWarning: \n",
      "A value is trying to be set on a copy of a slice from a DataFrame\n",
      "\n",
      "See the caveats in the documentation: https://pandas.pydata.org/pandas-docs/stable/user_guide/indexing.html#returning-a-view-versus-a-copy\n",
      "  \n",
      "C:\\Users\\ssu\\.conda\\envs\\hate_speech\\lib\\site-packages\\ipykernel_launcher.py:3: SettingWithCopyWarning: \n",
      "A value is trying to be set on a copy of a slice from a DataFrame.\n",
      "Try using .loc[row_indexer,col_indexer] = value instead\n",
      "\n",
      "See the caveats in the documentation: https://pandas.pydata.org/pandas-docs/stable/user_guide/indexing.html#returning-a-view-versus-a-copy\n",
      "  This is separate from the ipykernel package so we can avoid doing imports until\n",
      "C:\\Users\\ssu\\.conda\\envs\\hate_speech\\lib\\site-packages\\ipykernel_launcher.py:4: SettingWithCopyWarning: \n",
      "A value is trying to be set on a copy of a slice from a DataFrame.\n",
      "Try using .loc[row_indexer,col_indexer] = value instead\n",
      "\n",
      "See the caveats in the documentation: https://pandas.pydata.org/pandas-docs/stable/user_guide/indexing.html#returning-a-view-versus-a-copy\n",
      "  after removing the cwd from sys.path.\n",
      "C:\\Users\\ssu\\.conda\\envs\\hate_speech\\lib\\site-packages\\pandas\\core\\series.py:4582: SettingWithCopyWarning: \n",
      "A value is trying to be set on a copy of a slice from a DataFrame\n",
      "\n",
      "See the caveats in the documentation: https://pandas.pydata.org/pandas-docs/stable/user_guide/indexing.html#returning-a-view-versus-a-copy\n",
      "  method=method,\n"
     ]
    }
   ],
   "source": [
    "# 테스트 데이터에 앞서 진행한 전처리 과정을 동일하게 진행합니다.\n",
    "test_data.drop_duplicates(subset = ['document'], inplace=True) # document 열에서 중복인 내용이 있다면 중복 제거\n",
    "test_data['document'] = test_data['document'].str.replace(\"[^ㄱ-ㅎㅏ-ㅣ가-힣 ]\",\"\") # 정규 표현식 수행\n",
    "test_data['document'] = test_data['document'].str.replace('^ +', \"\") # 공백은 empty 값으로 변경\n",
    "test_data['document'].replace('', np.nan, inplace=True) # 공백은 Null 값으로 변경\n",
    "test_data = test_data.dropna(how='any') # Null 값 제거\n",
    "print('전처리 후 테스트용 샘플의 개수 :',len(test_data))"
   ]
  },
  {
   "cell_type": "code",
   "execution_count": null,
   "id": "1f623841",
   "metadata": {},
   "outputs": [],
   "source": []
  },
  {
   "cell_type": "code",
   "execution_count": 443,
   "id": "59515ece",
   "metadata": {},
   "outputs": [],
   "source": [
    "stopwords = ['의','가','이','은','들','는','좀','잘','걍','과','도','를','으로','자','에','와','한','하다']"
   ]
  },
  {
   "cell_type": "code",
   "execution_count": 444,
   "id": "03f84480",
   "metadata": {},
   "outputs": [
    {
     "data": {
      "text/plain": [
       "['오다', '이렇다', '것', '도', '영화', '라고', '차라리', '뮤직비디오', '를', '만들다', '게', '나다', '뻔']"
      ]
     },
     "execution_count": 444,
     "metadata": {},
     "output_type": "execute_result"
    }
   ],
   "source": [
    "okt = Okt()\n",
    "okt.morphs('와 이런 것도 영화라고 차라리 뮤직비디오를 만드는 게 나을 뻔', stem = True)"
   ]
  },
  {
   "cell_type": "code",
   "execution_count": 685,
   "id": "04421deb",
   "metadata": {},
   "outputs": [
    {
     "name": "stderr",
     "output_type": "stream",
     "text": [
      "100%|█████████████████████████████████████████████████████████████████████████████| 7236/7236 [00:14<00:00, 509.27it/s]\n"
     ]
    }
   ],
   "source": [
    "# train_data에 형태소 분석기를 사용하여 토큰화를 하면서 불용어를 제거하여 X_train에 저장\n",
    "X_train = []\n",
    "for sentence in tqdm(train_data['document']):\n",
    "    tokenized_sentence = okt.morphs(sentence, stem=True) # 토큰화\n",
    "    stopwords_removed_sentence = [word for word in tokenized_sentence if not word in stopwords] # 불용어 제거\n",
    "    X_train.append(stopwords_removed_sentence)"
   ]
  },
  {
   "cell_type": "code",
   "execution_count": 686,
   "id": "a5901f63",
   "metadata": {},
   "outputs": [
    {
     "name": "stdout",
     "output_type": "stream",
     "text": [
      "[['눈', '을', '떠보다', '밖에', '온통', '물', '밖에', '없다', '어쩌지'], ['나', '프로젝트', '끝나다'], ['갇히다', '갇히다']]\n"
     ]
    }
   ],
   "source": [
    "print(X_train[:3])"
   ]
  },
  {
   "cell_type": "code",
   "execution_count": 687,
   "id": "61eb545c",
   "metadata": {},
   "outputs": [
    {
     "name": "stderr",
     "output_type": "stream",
     "text": [
      "100%|█████████████████████████████████████████████████████████████████████████████| 2413/2413 [00:04<00:00, 535.61it/s]\n"
     ]
    }
   ],
   "source": [
    "# 형태소 토큰화가 진행된 것을 볼 수 있습니다. \n",
    "# 테스트 데이터에 대해서도 동일하게 토큰화를 해줍니다.\n",
    "X_test = []\n",
    "for sentence in tqdm(test_data['document']):\n",
    "    tokenized_sentence = okt.morphs(sentence, stem=True) # 토큰화\n",
    "    stopwords_removed_sentence = [word for word in tokenized_sentence if not word in stopwords] # 불용어 제거\n",
    "    X_test.append(stopwords_removed_sentence)"
   ]
  },
  {
   "cell_type": "code",
   "execution_count": null,
   "id": "d4cf03cd",
   "metadata": {},
   "outputs": [],
   "source": []
  },
  {
   "cell_type": "code",
   "execution_count": 688,
   "id": "f103c4b3",
   "metadata": {},
   "outputs": [
    {
     "name": "stdout",
     "output_type": "stream",
     "text": [
      "7236\n",
      "7236\n",
      "[['눈', '을', '떠보다', '밖에', '온통', '물', '밖에', '없다', '어쩌지'], ['나', '프로젝트', '끝나다'], ['갇히다', '갇히다'], ['내', '평소', '갖다', '거야'], ['내', '좋아하다', '인', '플루', '언', '서', '파격', '이벤트', '그래서', '그냥', '번', '신청', '해봤다'], ['그러니까', '얼른', '버리다', '겠다', '냄새', '너무', '나다', '있다'], ['그렇다'], ['유튜버들', '사람', '을', '속', '이고', '광고', '안', '광고', '물건'], ['자고', '일어나다', '우리', '집', '빼다', '주변', '다', '물바다', '되어다'], ['그런데', '요즘', '날씨', '너무', '추다'], ['쉬다', '못', '하고', '얼마나', '열심히', '완전하다', '끝나다'], ['드디어', '노트북', '오다', '빨리', '뜯다', '보다'], ['아니다', '요즘', '다', '왜', '이르다', '거야', '난', '정말', '이해', '안', '가다'], ['집', '안', '나', '혼자', '갇히다', '되다', '너무나', '무섭다', '두렵다'], ['장마', '로', '인하다', '비', '많이', '내리다', '우리', '동네', '고립', '돼다', '그래서', '갇히다', '되어다'], ['스트레스', '해소', '나', '가다'], ['지금', '당장', '사진', '을', '메세지', '로', '첨부', '짜장면', '집', '전화하다'], ['아', '그니까', '빨리', '버리다', '걸', '그렇다', '아', '진짜', '역겹다', '아주', '그냥'], ['나', '엘리베이터', '갇히다', '어떡하다'], ['내', '음식물', '쓰레기', '그', '곳', '버리다', '버리다'], ['너무', '힘들다', '그런데', '뛰다', '나서다', '너무', '상쾌하다', '기분', '좋다'], ['결승선', '을', '지나다', '때', '가장', '기분', '좋다', '너', '마라톤', '해보다', '적', '있다'], ['아', '그', '새끼', '일', '없다', '집', '에나', '갈다', '것', '이지', '도대체', '왜', '난리', '야', '정말'], ['아니다', '그', '새끼', '자꾸', '나', '한테', '만', '짜증', '내다', '일', '시키다', '짜증나다', '그렇다'], ['그거', '내', '다', '그러니까', '다시', '갖다', '뭐', '보상', '주다'], ['아', '당연하다', '환기', '시키다', '나', '깔끔하다', '성격', '이라서', '그렇다', '다', '한단', '말', '이야', '그런데', '왜', '안', '사라지다', '거야'], ['짜장면', '벌레', '나오다'], ['화장실', '이라', '그렇다', '여기다', '심하다', '거', '같다', '애'], ['화장실', '환기', '자주', '시키다', '왜', '이렇게', '곰팡이', '안', '없어지다'], ['그러면', '클럽', '을', '가다'], ['헐다', '나', '이벤트', '당첨', '되어다'], ['맞다', '짜증', '나', '죽다'], ['그렇다', '달동', '안', '고생', '마음', '후련하다'], ['내일', '그', '새끼', '한테', '얘기'], ['그렇다'], ['맞다', '사진', '을', '확실하다', '찍다', '거', '환불', '무조건', '받다', '돈', '을', '더', '받다', '내다'], ['맞다', '진짜', '너무', '짜증나다'], ['창', '밖', '밖', '을', '보다', '우리', '집', '주변', '물이', '차', '올라서다', '바깥', '나가다', '수가', '없다', '상황', '이야'], ['내', '좋아하다', '유튜버', '소개', '제품', '있다', '사보다', '그런데', '그게', '돈', '받다', '광고', '이다'], ['환기', '자주', '있다', '창문', '작다', '그렇다', '가보다'], ['아', '화장실', '청소', '곰팡이', '없어지다', '않다'], ['답답하다', '회사', '그만두다'], ['회사', '에서', '진행', '이벤트'], ['음식물', '쓰레기', '상', '뭐', '야'], ['들다', '음식물', '거기', '서', '썩다', '보다'], ['알다', '다음', '부턴', '조심하다'], ['벌레', '나오다', '더럽다', '먹다', '수가', '없다', '너무', '지저분하다'], ['그거', '좋다', '것', '같다', '애', '신나다', '음악', '듣다', '스트레스', '풀', '고', '싶다'], ['크루', '없다'], ['아니다', '진정하다', '그', '정돈', '아니다', '것', '같다'], ['너무', '혐오', '스럽다', '정말'], ['버리다', '냄새', '너무', '지독하다', '빨리', '버리다'], ['다행하다', '집', '안', '까지', '물이', '들어오다', '않다'], ['나', '갇히다', '되다', '것', '같다', '무섭다'], ['당첨', '명', '이다', '내', '당첨', '되어다', '운', '정말', '좋다', '거', '같다'], ['혼자', '있다', '나', '너무', '무섭다'], ['향수', '이벤', '틀다', '그래서', '향수', '받다'], ['알다', '적당하다', '조치', '취할', '수', '있다', '증거', '제출', '까지', '꼼꼼하다', '해보다'], ['매일', '환기', '시키다', '청소', '왜', '곰팡이', '안', '없어지다'], ['내', '음식물', '쓰레기', '쓰레기통', '버리다', '냄새', '나다'], ['내', '마라톤', '대회', '출전', '그런데', '그', '곳', '에서', '내', '기록', '엄청', '좋다', '나오다'], ['알다', '다음', '부터는', '조심하다'], ['무슨', '일이', '냐', '면', '마라톤', '대회', '에서', '내', '기록', '엄청', '좋다'], ['노트북', '동영상', '을', '보다', '중국어', '공부', '거야'], ['음악', '좋다', '나', '맛있다', '먹다', '가다', '싶다'], ['나', '신나다', '음악', '듣다', '싶다'], ['어', '너무', '너무', '마음', '들다'], ['응', '사진', '찍다', '중국집', '사장', '님', '한테', '다시', '보내다'], ['너', '말', '대로', '냄새', '방향', '제로', '처리', '되다', '거', '같다'], ['친구', '한테', '자랑', '너무', '좋아하다', '약간', '부러워하다', '거', '같다', '해', '정말', '너무', '행운', '이다'], ['그렇다', '아니다', '그냥', '혼자', '서', '열심히', '연습', '하고', '있다'], ['내', '좋아하다', '인', '플루', '언', '서', '이벤트', '열다', '더', '라고', '그래서', '그냥', '신청', '해봤다'], ['아니다', '못', '찍다'], ['내', '생각', '에는', '창문', '작다', '그렇다', '거', '같다', '애'], ['나', '그', '생각', '해보다', '못', '지금', '당장', '살', '래'], ['지금', '당장', '구매'], ['나', '축하', '해주다', '기분', '좋다', '일이', '생기다'], ['자다', '재난', '문자', '못', '보다', '피하', '라는', '전화', '못', '받다'], ['나', '축하', '주다', '기분', '좋다', '일', '있다'], ['대박', '나', '이벤트', '당첨', '돼다'], ['그동안', '일이', '너무', '많다', '바쁘다', '일', '년', '만에', '받다', '휴가', '인데', '비', '오다', '망하다'], ['그렇다', '그래서', '졸라', '빡치다'], ['몸', '아직', '괜찮다', '놀라다', '뿐', '이지'], ['내', '좋아하다', '유튜버', '좋다', '제품', '이라고', '소개', '그래서', '나다', '같이', '사다', '그런데', '알', '고', '보다', '그게', '광고', '이다'], ['내', '자다', '동안', '우리', '동네', '비', '엄청', '많이', '오다', '나', '대피', '못', '하고', '잠', '만', '잔', '거야'], ['아니다', '놈', '화장실', '청소', '해도', '곰팡이', '사라지다', '않다'], ['마라톤', '내', '기록', '더', '줄다'], ['그렇게', '해보다'], ['아니다', '정도', '있다', '욕', '안', '나오다', '생기다'], ['쓰레기통', '에서', '완전', '역겹다', '냄새', '나다', '있다'], ['어', '그것', '괜찮다', '생각', '인', '것', '같다'], ['마라톤', '기록', '갱신'], ['그렇다', '확인', '해보다'], ['친구', '너무', '좋다', '만나다', '만나다', '신나다', '놀', '거야'], ['그렇게', '말', '해주다', '너무', '고맙다'], ['그래서', '너', '한테', '이렇게', '얘기', '라도', '거지', '내', '뭐', '앞', '에서', '어떻다'], ['어', '쓰레기통', '에서', '너무', '냄새', '나다', '어우', '너무', '역겹다'], ['보다', '해'], ['에이', '고생', '무슨', '진작', '되다'], ['나', '마라톤', '그거', '기록', '갱신'], ['아니다', '그', '새끼', '일', '없다', '집', '에나', '가든'], ['나', '마라톤', '가끔', '뛰다', '이번', '에는', '대회', '진출'], ['너', '같이', '가다'], ['시간', '되다', '여행', '을', '가다', '마음', '을', '힐링', '시키다', '오다', '싶다'], ['나', '하나', '사다', '어떻다', '돼다'], ['이번', '나가다', '마라톤', '대회', '에서', '신기록', '을', '세우다'], ['오다', '그렇다', '방법', '있다', '그렇다'], ['당연하다', '그렇다', '건', '가입'], ['함께', '달리다', '크루', '있다', '내', '지치다', '힘들다', '때', '크다', '힘', '되어다', '주다'], ['아', '우리', '집', '쓰레기통', '에서', '역겹다', '냄새', '나다'], ['야', '같이', '놀다'], ['비싸다', '건', '못', '사다', '용돈', '을', '아끼다', '산', '거야'], ['이미', '나', '터지다', '일보', '직전', '이야'], ['내', '마라톤', '기록', '을', '갱신'], ['혼자', '갇히다', '나', '너무', '무섭다'], ['습기', '많아지다', '생기다', '곰팡이', '을', '어떻다'], ['좋아하다', '인', '플루', '언', '서', '이벤트', '그래서', '그냥', '해봤다'], ['명', '뽑다', '건데', '내', '당첨', '되어다'], ['거', '화장실', '청소', '해도', '곰팡이', '안', '지워지다'], ['바닷가', '에서', '신나다', '물놀이', '맛있다', '것', '해먹', '고', '재밌다', '놀리다'], ['아무래도', '빨리', '버리다', '게', '좋다', '것', '같다', '애', '정말', '끔찍하다', '일이', '야'], ['헐다', '나', '이벤트', '당첨', '되어다'], ['내', '쓰레기통', '음식물', '쓰레기', '버리다', '그렇다', '것', '같다'], ['친구', '이랑', '약속', '잡', '을', '거고', '운동', '다시', '시작'], ['그렇다', '건', '아니다', '혼자', '서', '많이', '연습', '을'], ['결승선', '을', '통과', '순간', '힘들다', '싹', '잊혀지다', '더', '라고'], ['딱', '나', '혼자', '당첨', '돼다'], ['축하', '해주다', '나', '기분', '좋다', '일이', '생기다'], ['그렇다', '다시다', '이렇다', '일이', '없다'], ['나', '혼자', '달리다', '걸', '좋아하다', '하지만', '다른', '사람', '과도', '뛰다', '싶다'], ['화장실', '곰팡이', '청소', '해도', '없어지다', '않다'], ['방향', '제로', '처리', '게', '과연', '맞다', '걸다'], ['응', '프로젝트', '최종', '발표', '끝나다'], ['아니다', '나', '아마추어', '야'], ['화장실', '청소', '해도', '곰팡이', '사라지다', '않다'], ['응원', '해주다', '고맙다'], ['그렇다', '음식', '값', '만', '환불', '해주다', '좋다'], ['자고', '일어나다', '우리', '집', '주변', '다', '물', '잠기다', '있다'], ['그', '새끼', '욕', '먹다', '해'], ['그동안', '얼마나', '열심히', '말', '못', '힘들다', '이제', '완전하다', '끝나다'], ['지금', '엄청', '무섭다', '밖에', '나가다', '수도', '없다'], ['안', '그래도', '한번', '사보다'], ['알다', '사용', '설명', '서', '보고', '꼼꼼하다', '살피다', '볼', '게'], ['그렇다', '바로', '묶다', '버리다'], ['버리다', '오다'], ['앞', '으로도', '계속', '이렇게', '다른', '회사', '로', '가야', '지', '뭐'], ['그', '상사', '새끼', '서로', '말', '통', '않다'], ['그러니까', '얼른', '버리다', '냄새', '나서다', '차다', '수가', '없다'], ['곰팡이', '제', '거제', '효과', '있다', '나', '사용', '볼', '래'], ['억지로', '사과', '진정', '성', '있다', '않다', '상처', '만', '더', '받다'], ['아깝다', '짜장면', '시키다', '짜장면', '에서', '벌레', '나오다'], ['선수', '아니다', '내', '달리다', '운동', '을', '너무', '좋아하다', '매번', '열리다', '마라톤', '대회', '나가다', '있다'], ['짜장면', '을', '먹다', '벌레', '나오다', '너무', '지저분하다', '역겹다', '못', '먹다', '구'], ['몸', '괜찮다', '비', '너무', '많이', '내다', '집', '안', '까지', '물이', '들어오다', '걱정', '돼다'], ['그러니까', '환기', '중요하다', '우리', '집', '엔', '창문', '없다'], ['그러면', '더', '냄새', '이상하다', '그냥', '환기', '시키다'], ['백화점', '에서', '향수', '이벤트', '그게', '당첨', '돼다'], ['휴가', '첫날', '부터', '비', '오기', '시작', '하고', '있다'], ['그', '사람', '사과', '진정', '성', '없다'], ['그렇다', '뭐', '내', '실수', '거', '잖다'], ['그렇다', '되게', '신나다'], ['그러니까', '얼른', '버리다', '냄새', '너무', '심해'], ['오케이', '고맙다'], ['나', '자다', '비', '그렇게', '많이', '오다', '지다', '모르다', '그리고', '재난', '문자', '못', '보다'], ['그렇다', '음악', '이나', '들다', '기분', '풀다', '나', '신나다', '음악', '좋다'], ['나', '노트북', '산', '거', '오다', '빨리', '뜯다', '보다'], ['알다', '친구', '만나다', '여행', '계획', '세우다', '볼', '게'], ['나', '혼자', '집안', '갇히다', '되어다', '어떡하다'], ['습기', '많다', '환기', '많다', '곰팡이', '생기다', '거', '같다', '매일', '청소', '없어지다', '않다'], ['무섭다', '밖에', '나가다', '못', '하고', '물', '엄청', '고여', '있다'], ['화장실', '청소', '해도', '곰팡이', '없어지다', '않다'], ['나', '먹다', '토'], ['너', '벌레', '나오다'], ['아', '진짜', '완전', '마음', '들다'], ['너무', '불쾌하다'], ['하', '야', '그', '래야', '되다', '것', '같다', '아', '진짜', '너무', '끔찍하다', '일단', '나', '한번', '전화하다', '가보다'], ['맞다', '같이', '운동', '하고', '대회', '출전', '사람', '있다'], ['으응', '완전하다', '끝나다', '그래서', '지금', '너무', '행복하다'], ['같이', '뛰다', '같이', '운동', '하고', '같이', '출전', '크루', '있다'], ['아니다', '유명하다', '유튜버들', '다', '들다', '뒷', '광고', '있다'], ['명', '중', '명', '밖에', '안', '뽑다', '거', '이다'], ['그렇다', '얼마나', '예쁘다', '좋다', '향수', '인지', '보여주다'], ['당연하다', '선물', '때문', '이벤트', '신청'], ['대회', '참가', '그런데', '내', '기록', '모르다', '보다', '향상', '돼다', '더', '라고'], ['친구', '한테', '얘기', '너무', '부러워하다', '좋다', '향수', '라고'], ['내주', '니까', '힘', '나다', '얼른', '자다', '치우다', '볼', '게'], ['나', '이벤트', '당첨', '돼다'], ['나', '혼자', '집', '안', '갇히다', '되어다', '어떻다', '해'], ['나', '헤어지다'], ['아', '짜증나다', '그', '새끼', '일', '없다', '집', '에나', '갈다', '것', '이지', '왜', '이르다', '있다', '걸다'], ['다', '내', '저지르다', '일이', '잖다'], ['친구', '한테', '얘길', '너무', '좋아하다', '부럽다', '하드', '라', '이렇다', '일', '처음', '이야'], ['너무', '좋다', '그렇게', '처리'], ['엘리베이터', '움직이다', '않다', '어떡하다'], ['당첨', '명', '뽑다', '거', '이다', '내', '당첨', '돼다'], ['어쩌겠어'], ['맞다', '같이', '서로', '의지', '뛰다', '사람', '있다'], ['나', '축하', '해주다', '나', '기분', '좋다', '일이', '있다'], ['달리다', '동안', '에는', '엄청', '힘들다', '지치다', '결승선', '을', '통과', '순간', '기분', '엄청', '좋다'], ['다시다', '여기', '서', '안', '시키다'], ['완전하다', '다', '끝나다', '일', '년', '동안', '진짜', '고생'], ['아', '몸', '괜찮다', '어떻다', '모르다'], ['몸', '괜찮다', '집', '안', '물이', '들어오다', '보다', '걱정', '돼다'], ['알다', '방향', '제로', '처리', '볼', '게'], ['자세하다', '상황', '모르다', '그냥', '불', '꺼지다'], ['이번', '마라톤', '대회', '에서', '내', '기록', '많이', '단축', '되어다'], ['아니다', '혼자', '서', '그냥', '연습'], ['정말', '기분', '좋다', '더', '라고', '앞', '으로도', '더', '열심히', '노력', '해'], ['그렇다', '구매'], ['응', '나', '지금', '혼자', '있다', '너무', '무섭다'], ['다음', '부터는', '이르다', '않다', '위해', '서', '조심하다'], ['니', '말', '맞다', '한데', '그래도', '너무', '화가', '나'], ['그', '런가', '보다', '말', '을', '왜', '그렇게', '거야', '진짜'], ['맞다', '그래서', '그', '런가', '하루', '종일', '화장실', '청소', '만', '느낌', '이야'], ['어', '주말', '친구', '이랑', '약속'], ['아니다', '유튜', '버들', '말', '이야', '우리', '좋다', '아주', '기고만장하다', '건가'], ['맞다', '청소', '너무', '힘들다'], ['뛰다', '사람', '없다', '혼자', '해'], ['아니다', '선물', '오다', '같이', '자랑', '거야'], ['너무', '놀래다', '다', '안', '먹다', '그냥', '나오다'], ['음식물', '쓰레기', '때문', '인', '것', '같다'], ['야', '나', '엘레베이터', '갇히다'], ['드디어', '구매', '노트북', '도착', '뜯다', '보다'], ['휴가', '첫날', '부터', '비', '오다', '있다'], ['환불', '받다', '수', '있다'], ['깨비', '너무', '많이', '오다'], ['집', '갇히다', '밖에는', '물이', '잔뜩', '고여', '있다'], ['아니다', '괜찮다'], ['곰팡이', '제', '거제', '과연', '효과', '있다'], ['응', '어디', '여행', '을', '갈다', '해'], ['그렇다', '그거', '라도', '보고', '기분', '을', '진정', '시키다'], ['엘리베이터', '작동', '을', '안'], ['나', '혼자', '고립', '돼다', '갇히다', '것', '같다', '애'], ['집', '안', '갇히다', '밖에', '물이', '엄청', '차오르다'], ['이번', '마라톤', '에서', '내', '기록', '깨다'], ['당첨', '명', '이다', '내', '당첨', '되다', '거야', '정말', '운', '좋다'], ['아', '무슨', '음식물', '찌꺼기', '썩다', '보다'], ['그러면', '다시', '보내다'], ['프로젝트', '진행', '친구', '못', '만나다', '이번', '기회', '만나다', '보다'], ['나', '축하', '해주다', '기분', '좋다', '일', '있다'], ['거기', '새롭다', '생긴덴데', '아', '너무', '별로', '야', '너', '시키다', '먹다', '마'], ['너무', '지저분하다', '힘들다', '얼른', '청소'], ['화장실', '청소', '해도', '해도', '곰팡이', '사라지다', '않다'], ['짜장면', '을', '먹다', '벌레', '나오다', '너무', '더럽다', '못', '먹다'], ['오늘', '바로', '구매', '좋다', '생각', '고맙다'], ['지금', '아무', '영상', '보다', '않다'], ['내', '마라톤', '대회', '출전', '예전', '내', '기록', '을', '훨씬', '갱신'], ['들다', '다니다', '자랑', '그리고', '음악', '듣다', '영화', '보다'], ['신나다', '음악', '좋다', '좋다', '음악', '있다'], ['아니다', '그렇다', '너', '한테', '씨발', '새끼', '야'], ['진짜', '그렇다', '보다', '내', '기분', '조금', '나빠지다', '것', '같다'], ['그렇다', '다음', '부턴', '조심하다', '되다'], ['명', '뽑다', '그게', '내', '돼다'], ['그렇다', '구매', '겠다', '좋다', '거', '있다', '추천', '해주다'], ['뭔', '진', '모르다', '뭐', '썩다', '있다', '보다'], ['오랜', '만', '친구', '이랑', '서해', '바다', '가다', '놀다', '오기', '로'], ['응', '쉬다', '날', '없다', '너무', '좋다'], ['친구', '만나다', '게', '얼마', '만인', '건데'], ['창문', '너무', '조그만', '문', '을', '열', '어도', '환기', '안', '돼다'], ['좋다', '생각', '이야', '지금', '당장', '전화', '해보다', '전화하다', '화', '엄청', '내야', '되다', '거', '같다', '애'], ['완전하다', '끝나다'], ['어', '곰팡이', '제', '거제', '써다', '청소', '해봤다', '계속', '다시', '생기', '니까', '기분', '너무', '나쁘다'], ['마라톤', '대회', '에서', '내', '이전', '기록', '을', '깨다', '갱신'], ['아니다', '그', '정도', '아니다'], ['음악', '을', '들다'], ['나', '드디어', '공역', '프로젝트', '끝나다'], ['회사', '너무', '바쁘다', '그', '동안', '휴가', '못', '내다', '년', '만인', '가보다'], ['나', '짜장면', '을', '주문', '짜장면', '에서', '벌레', '나오다', '너무', '싫다'], ['너무', '맘', '들다', '내', '얼마나', '갖다', '싶다', '향수', '인데'], ['정식', '운동', '선수', '아니다', '나름', '대로', '열심히', '연습', '그만하다', '보람', '있다', '거', '같다'], ['응', '맛있다', '거', '먹다', '다니다'], ['그렇다', '수도', '있다'], ['아', '짜증나다', '그', '새끼', '왜', '나', '한테', '만', '일', '을', '시키다', '거야', '결혼', '집', '에나', '빨리', '가지', '아', '짜증나다'], ['곰팡이', '제', '거제', '라는', '것', '있다', '아', '진작', '알다', '계속', '그걸', '써다'], ['곰팡이', '제', '거제', '사용', '해봤다', '없어지다', '않다'], ['그', '런가', '아', '미안', '너무', '짜증나다', '그렇다'], ['이제', '막', '이사', '오다', '문', '을', '자주', '열다', '환기', '시키다', '야하다', '것', '같다'], ['아', '그렇다', '집', '가다', '길', '술', '이나', '잔'], ['화장실', '청소', '해도', '끝', '안나', '곰팡이', '와의', '전쟁', '이야'], ['겠다', '지금', '해보다'], ['아니다', '요즘', '다', '들다', '왜', '그렇다', '이해', '안', '가다'], ['아', '짜증나다', '그', '새끼', '일도', '없다', '집', '에나', '갈다', '것', '이지', '왜', '나', '한테', '그렇다'], ['그렇다', '한번', '보다', '보지', '뭐', '기분', '안', '좋다'], ['아니다', '곰팡이', '청소', '해도', '지워지다', '않다'], ['내', '마라톤', '최고', '기록', '을', '경신', '뭐', '야'], ['당연하다', '서로', '의지', '운동', '하고', '대회', '출전', '사람', '있다'], ['맞다', '완전하다', '끝내다', '보다', '돼다', '달', '동안', '정말', '고생', '많다'], ['오다', '화장실', '청소', '해도', '곰팡이', '없어지다', '않다'], ['넌', '어디', '로', '여행가', '고', '싶다'], ['내', '기분', '지금', '너무', '안좋다', '내', '기분', '을', '전환', '해주다', '영상', '있다'], ['자세하다', '모르다', '진짜', '조금', '뽑다', '거', '이다'], ['주말', '나가다', '마라톤', '에서', '기록', '갱신'], ['청소', '게', '힘들다', '하지만', '내', '벌이다', '일이', '니까', '얼른', '치우다'], ['아니다', '친구', '랑', '같이', '있다'], ['알다', '너', '말', '없다'], ['알다', '몇', '장', '찍다'], ['무섭다', '그래도', '너', '있다', '괜찮다'], ['뿌리', '고', '오다', '티', '안나'], ['완전하다', '끝나다', '속이다', '다', '시원하다'], ['딱', '명', '뽑다', '건데', '그게', '내', '된거', '야'], ['당연하다', '완전', '마음', '들다', '비싸다', '향수', '거들다'], ['맞다', '이제', '끝나다', '좋아하다', '스포츠', '보고', '쉬다'], ['쓰레기통', '역겹다', '냄새', '나다'], ['당연하다', '그렇다', '않다', '못'], ['그렇게', '되다', '그렇다', '다음', '부터', '그렇다', '않다'], ['아니다', '이제', '자랑'], ['응', '정말', '뿌듯하다'], ['그래서', '그', '런가', '하루', '종일', '화장실', '청소', '만', '해'], ['무슨', '상황', '인', '진', '자다', '모르다', '갑자기', '엘리베이터', '안', '움직', '여서', '정전', '인', '것', '같다'], ['사진', '찍다', '가게', '에도', '연락'], ['그렇다', '그렇다'], ['아니다', '선수', '말고', '일반', '인들', '사이', '에서만', '자다', '거야'], ['그렇다', '아주', '중국집', '전화하다', '갖다', '가라', '거야', '아', '나', '진짜'], ['아니다', '요즘', '다', '들다', '왜', '그렇다', '거지'], ['너무', '무섭다', '어떡하다', '되다', '모르다'], ['밖', '못', '나가다', '완전', '꽉', '막히다', '다', '차갑다', '물', '잠기', '고', '밖', '다', '물바다', '야'], ['마라톤', '기록', '이번', '갱신'], ['그', '새끼', '욕', '을', '들다', '싸다'], ['음식물', '쓰레기', '버리다', '건', '너무', '귀찮다', '힘들다', '그래서', '이렇다', '일', '반복', '되다', '있다', '것', '같다'], ['습기', '너무', '많다', '곰팡이', '계속', '생기다', '것', '같다'], ['디어', '완전', '끝나다', '너무', '행복하다'], ['집', '주변', '까지', '물이', '차오르다', '바깥', '나가다', '수가', '없다'], ['아니다', '요즘', '다', '들다', '왜', '이르다', '모르다'], ['곰팡이', '제', '거제', '쓰다', '정말', '괜찮다'], ['응', '같이', '뛰다', '크루', '있다'], ['그렇다', '효과', '있다', '그러면', '나', '구매', '해보다', '추천', '해주다'], ['안', '그래도', '약속', '잡다', '해'], ['창문', '너무', '작고', '문', '을', '열다', '미세먼지', '들어오다'], ['아니다', '요즘', '다', '들다', '왜', '그렇다', '이해', '안', '가다'], ['바로', '전화하다', '보다', '하', '전화', '귀찮다'], ['응', '다치다', '없다', '너', '조심하다', '돼다'], ['그렇다', '꼭', '보여주다'], ['내', '휴가', '첫날', '부터', '온종일', '비다', '보다'], ['그렇다', '음악', '을', '들다', '기분', '풀다', '좋다', '음악', '좋아하다'], ['노트북', '을', '오래', '사용', '수', '있다', '팔다', '노트북', '보험', '가입', '생각', '보다'], ['화장실', '청소', '해도', '곰팡이', '사라지다', '않다'], ['명', '이라고'], ['기분', '진짜', '좋다'], ['아니다', '화장실', '청소', '해도', '깨끗해지다', '않다', '응'], ['응', '완전하다', '끝나다'], ['나다', '그래서', '지금', '바로', '묶다', '버리다'], ['제품', '에는', '문제', '없다', '것', '같다', '상품', '너무', '좋다'], ['그래도', '기분', '나아지다', '것', '같다', '않다'], ['휴가', '첫날', '부터', '하루', '종일', '비', '오다'], ['깨끗이', '닦다', '환기', '시키다', '말리', '고', '어쩔', '수', '없이', '청소'], ['쓰레기통', '냄새', '지독하다', '계속', '무슨', '소리', '거야'], ['아', '짜증나다', '그', '새끼', '일이', '없다', '집', '에나', '갈다', '왜', '자꾸', '나', '한테', '만', '그렇다'], ['그렇다', '그게', '좋다', '냄새', '어쩔', '수', '없다'], ['내', '휴가', '엉망', '이야'], ['선물', '현금', '이야', '최고', '지'], ['명', '만', '당첨', '되다', '건데', '당첨', '돼다', '향수', '받다'], ['당첨', '선물', '내', '예전', '부터', '갖다', '싶다', '거', '라서', '너무나', '마음', '들다'], ['내', '자다', '동안', '비', '그렇게', '많이', '오다', '난', '그것', '모르다', '대피', '못'], ['알다', '조만간', '보여주다'], ['그렇다', '친구', '이랑', '벌써', '약속', '내일', '만나다'], ['그렇다', '너', '말', '대로', '여행', '계획', '을', '세우다', '여행', '가다', '오다'], ['좋다', '스트레스', '풀', '고', '싶다'], ['역시', '그렇게', '좋다'], ['내', '버리다', '음식물', '쓰레기', '상해', '서', '역겹다', '냄새', '나', '거야'], ['알다', '음악', '들다', '나쁘다', '기분', '풀', '게', '나', '발라드', '음악', '좋다'], ['그동안', '일이', '많다', '바쁘다', '년', '만에', '받다', '휴가', '인데', '비', '오다', '다', '망하다'], ['그래서', '지금', '화가', '나', '상황', '이라', '구'], ['어', '그렇다'], ['나', '엘리베이터', '갇히다', '너무', '무섭다'], ['그래서', '매일', '청소', '있다', '곰팡이', '없어지다', '않다'], ['좋아하다', '인', '플루', '언', '서', '거', '이다'], ['그렇다', '기다', '한데', '코로나', '때문', '약간', '걱정', '돼다'], ['그렇다', '그렇다'], ['조금', '무섭다', '비도', '아직도', '오다', '나가다', '수가', '없다'], ['아', '짜장면', '에서', '벌레', '나오다'], ['너무', '좋다', '생각', '인데'], ['알다', '나중', '한번', '너', '꼭', '보여주다'], ['오다', '드디어', '끝나다'], ['너', '보고', '싶다', '내', '나중', '한번', '보여주다'], ['나', '갇히다', '되다', '것', '같다'], ['오랜', '만', '가족', '이랑', '서해', '바다', '가다', '놀다', '약속'], ['그거', '좋다', '방법', '인걸'], ['아우', '짜증', '나', '그', '새끼', '일', '끝나다', '빨리', '집', '에나', '가지', '남아', '서', '자꾸', '나', '한테', '뭐라다', '해'], ['너무', '냄새', '독하다', '지금', '버리다', '밖에', '빼다'], ['기분', '너무', '너무', '좋다'], ['십', '킬로미터', '마라톤', '대회', '출전', '이전', '내', '기록', '을', '훨씬', '갱신'], ['인', '플루', '언', '서', '진행', '이벤트', '당첨', '돼다', '기분', '엄청', '좋다'], ['화장실', '청소', '해도', '곰팡이', '없어지다', '않다'], ['어', '정말', '짜증나다'], ['내', '너무나', '좋아하다', '인', '플루', '언', '서', '진행', '이벤트', '있다', '거기', '당첨', '돼다'], ['나', '엄청', '힘들다', '다른', '사람', '한텐', '친절하다', '나', '한테', '만', '자꾸', '뭐라다', '화가', '나'], ['알다', '바로', '묶다', '버리다', '거야'], ['신나다', '음악', '을', '들다', '춤', '을', '추다', '것', '좋다', '거', '같다'], ['오다', '여행', '괜찮다', '생각', '이다', '진짜', '오랜', '만', '인데'], ['너', '고맙다', '참고'], ['지금', '층', '층', '사이', '멈추다', '있다', '지금', '깜깜', '정전', '돼다'], ['내', '말', '벌써', '부터', '그만', '두다'], ['휴', '그렇다', '그냥', '음악', '들다', '기분', '풀다', '신나다', '음악', '좋다'], ['그렇게'], ['쓰레기통', '에서', '아주', '역겹다', '냄새', '나다'], ['어', '그것', '괜찮다', '그러면', '일단', '먼저', '잠', '먼저', '자고', '그', '다음', '친구', '이랑', '약속', '잡다', '되다', '것', '같다', '아', '행복하다'], ['떤다', '향수', '이벤트', '당첨', '돼다'], ['알다', '화', '내지', '마', '그렇게'], ['하하', '하', '그렇다', '나다', '나중', '나', '다음', '너', '번', '들려주다'], ['자고', '일어나다', '전화', '여러', '통', '오다', '더', '라고', '그런데', '이렇다', '상황', '돼다'], ['어떻다', '좋다'], ['알다', '친구', '여행', '계획', '세우다', '볼', '게'], ['곰팡이', '제', '거제', '좋다', '것', '같다'], ['향수', '매장', '이벤트', '야'], ['그거', '좋다', '생각', '이야'], ['고약하다', '냄새', '계속', '올라오다', '버리다', '쓰레기', '봉투', '에다가', '넣다'], ['냄새', '너무', '고약하다', '버리다', '밖에', '빼다'], ['내', '자다', '재난', '문자', '랑', '대', '피전', '화', '받다', '못', '그래서', '나', '만', '혼자', '갇히다', '거야'], ['맞다', '맞다', '말', '이야'], ['아니다', '요즘', '다', '들다', '왜', '그렇다', '이해', '안', '가다'], ['구매', '효과', '좋다', '걸', '로', '추천', '해주다'], ['그렇다', '알다', '이제', '부터', '제때', '제때', '배우다'], ['어', '그거', '정말', '좋다', '거', '같다'], ['나', '스트레스', '풀리다', '것', '같다'], ['그렇다', '사다'], ['그렇다', '내', '달', '간', '얼마나', '고생'], ['너무', '무섭다', '밖에', '나가다', '못', '하고', '물', '고여', '있다'], ['그래서', '지금', '짜장면', '집', '전화하다'], ['어', '나', '제일', '싸다', '걸', '로', '사다'], ['명', '뽑다', '건데', '향수', '딱', '명', '테', '만', '주다'], ['나', '지금', '엘리베이터', '갇히다', '것', '같다'], ['아', '알', '지', '나다', '그렇다', '알다', '지금', '너무', '기분', '안', '좋다'], ['일이', '너무', '많다', '영화', '보고', '프로젝트', '돼다'], ['그', '래야', '것', '같다', '좋다', '냄새', '로', '나쁘다', '냄새', '가다', '것', '같다'], ['아', '저번', '버리다', '쓰레기', '썩다', '있다', '것', '같다', '애'], ['음식물', '쓰레기', '상해', '서', '냄새', '너무', '고약하다', '버리다', '묶다'], ['장마', '오다', '갑자기', '비', '많이', '내리다', '우리', '동네', '고립', '돼다', '나', '혼자', '집', '갇히다', '돼다'], ['그렇다', '얼른', '버리다'], ['나', '아무래도', '집', '갇히다', '것', '같다', '애'], ['당연하다', '사진', '다', '찍다', '두다'], ['저번', '버리다', '음식', '썩다', '보다'], ['응', '나', '혼자', '있다', '너무', '무섭다'], ['꼭', '이야기', '정말', '고맙다'], ['집주인', '해주다', '되다', '아니다'], ['그렇다', '얼마나', '실망하다', '모르다', '그리고', '사과', '억지로'], ['야', '것', '같다', '너무', '곰팡이', '심해', '이사', '가다', '싶다'], ['나', '혼자', '만', '뽑히다', '너무', '좋다'], ['전기', '나가다', '정전', '돼다', '보다'], ['곰팡이', '없어지다'], ['힘들다', '집', '안', '에서', '냄새', '너무', '고약하다', '얼른', '치우다'], ['나다', '그렇다', '해', '집', '에서', '영화', '나', '보다'], ['그거', '아니다', '내', '달리다', '운동', '을', '너무', '좋아하다', '항상', '마라톤', '대회', '나가다', '있다'], ['응', '완전하다', '끝나다', '거야'], ['집안', '까지', '물', '들어오다', '않다', '나', '괜찮다'], ['그렇다', '하루', '종일', '화장실', '청소', '만', '있다'], ['아', '그렇다', '어떻다', '이렇다', '일이', '일어나다'], ['아니다', '요즘', '다', '왜', '이르다', '정말', '이해', '안', '돼다'], ['안', '그래도', '지금', '확인', '해보다', '아', '자다', '돼다', '좋다'], ['당연하다', '사다', '지금', '당장', '구매'], ['백화점', '에서', '향수', '이벤트'], ['아', '곰팡이', '때문', '진짜', '미치다'], ['그러니까', '사진', '찍다', '두다', '자다', '거', '같다'], ['휴', '그렇다', '음악', '이나', '들다', '기분', '풀다', '나', '신나다', '음악', '좋다'], ['창문', '을', '계속', '열다', '있다', '그래도', '효과', '없다'], ['쓰레기통', '에서', '역겹다', '냄새', '나다', '있다'], ['알다', '나', '그동안', '못', '보다', '드라마', '정', '주행'], ['아', '그건', '이미', '쓰다', '있다', '그래도', '효과', '없다'], ['스트레스', '확', '풀리다', '만', '화끈하다', '노래', '로', '부탁'], ['당첨', '선물', '내', '예전', '부터', '갖다', '싶다', '향수', '라서', '너무나', '마음', '들다'], ['정말', '믿다', '유튜버', '인데', '뒷', '광고', '너무', '실망', '스럽다', '화가', '나'], ['그렇다', '빨리', '전화', '부터'], ['짜증나다', '걸', '어떡하다', '욕', '밖에', '안나'], ['딱', '명', '뽑다', '건데', '그', '새', '내', '된거', '야'], ['내', '마라톤', '대회', '출전', '이전', '내', '기록', '을', '훨씬', '갱신'], ['아', '짜장면', '에서', '벌레', '나오다'], ['다행하다', '몸', '아프다', '덴', '없다'], ['아무래도', '그렇다', '것', '같다', '해', '너무', '걱정', '되다'], ['만원', '정도', '노트북', '을', '사다', '배송', '늦어지다', '걱정', '하고', '있다', '근데', '오늘', '도착'], ['집', '근처', '물이', '잔뜩', '차', '있다'], ['고맙다', '지금', '당장', '해', '볼', '게'], ['너무', '화가', '나', '지만', '모두', '위해', '서', '바로', '전화하다', '항의'], ['아니다', '요즘', '다', '들다', '왜', '그렇다', '이해', '수가', '없다'], ['아무리', '화장실', '청소', '해도', '곰팡이', '안', '없어지다'], ['당연하다', '구매', '써다', '보다', '당장', '구매'], ['짜장면', '에서', '벌레', '나오다', '더럽다', '못', '먹다', '갖다', '버리다', '야하다', '것', '같다'], ['그렇다', '이따', '한번', '사르다', '가다'], ['일이', '많다', '영화', '랑', '음악', '다운', '받다', '거고', '프로젝트', '돼다'], ['그렇다', '좋다'], ['그렇다', '쉬다', '영화', '나', '실컷', '보다'], ['아니다', '요즘', '다', '왜', '이르다', '이해', '안되다'], ['알다', '먼저', '푹', '쉬', '고', '그', '다음', '여행', '다녀오다'], ['짜장면', '에서', '벌레', '나오다', '너무', '지저분하다', '더럽다', '버리다'], ['자다', '모르다', '아마도', '환기', '문제', '인', '것', '같다'], ['집안', '물이', '들어오다', '거', '같다', '않다', '나다', '괜찮다', '지금', '나가다', '못', '하고', '있다'], ['노트북', '가입', '수', '있다', '보험', '있다', '정말', '필요하다', '거', '같다'], ['아니다', '선수', '보다는', '기록', '많이', '치다', '그냥', '내', '기록', '보다', '좋다'], ['신나다', '음악', '을', '듣다', '것', '엄청', '좋다', '것', '같다'], ['백화점', '에서', '향수', '이벤', '트이다', '딱', '명', '만', '뽑다', '거', '이다'], ['달리다', '동안', '에는', '너무', '지치다', '힘들다', '결승선', '을', '통과', '순간', '기분', '엄청', '좋다'], ['오늘', '최종', '발표', '마치다', '이제', '완전하다', '끝나다'], ['그렇게', '말', '해주다', '고맙다'], ['아', '짜증나다', '그', '새끼', '왜', '집', '구석', '안', '들어가다', '내', '옆', '붙다', '자꾸', '지랄', '하고', '있다'], ['몸', '슬슬', '추워지다', '있다', '어떡하다'], ['영상', '이란', '건', '대체', '뭐', '야'], ['프로젝트', '진행', '친구', '을', '못', '만나다', '이번', '기회', '만나다', '보다'], ['자다', '모르다', '자고', '일어나다', '주변', '다', '물바다', '이다'], ['어', '좋다', '좋다', '나', '그', '동안', '효준', '못', '만나다', '이번', '꼭', '다시', '만날', '거야', '그리고', '어', '친구', '빨리', '연락', '만나다', '고맙다'], ['응', '너', '보여주다'], ['너', '말', '대로', '여행', '을', '다니다', '오다', '것', '의미', '있다', '거', '같다'], ['냄새', '너무', '고약하다', '버리다', '쓰레기', '봉투', '담다'], ['알다', '내일', '친구', '이랑', '만나다', '여행', '계획', '세우다', '재미있다', '놀', '거야'], ['이번', '에는', '친구', '을', '만나다', '다음', '여행', '을', '생각', '해보다'], ['헐다', '나', '이벤트', '당첨', '돼다'], ['벌써', '세', '컷', '정도', '찍다', '걱정', '마'], ['장마철', '이라서', '그', '런가', '하루', '종일', '화장실', '청소', '만', '것', '같다'], ['아니다', '화장실', '청소', '해도', '곰팡이', '없어지다', '않다'], ['노트북', '을', '가지', '고', '동영상', '을', '보다', '어학', '공부'], ['너무', '많다', '영화', '볼', '거고', '노래', '듣다', '게임', '쇼핑', '채팅', '너무', '신나다'], ['그러니까', '얼른', '버리다', '냄새', '심하다', '나다', '있다'], ['네', '많이', '힘드다', '것', '같다'], ['드디어', '구매', '노트북', '도착', '뜯다', '보다'], ['화장실', '청소', '해도', '곰팡이', '사라지다', '않다'], ['음', '그', '래야', '되다'], ['그렇다', '방금', '갖다', '버리다'], ['그거', '효과', '좋다', '안', '써다', '보다'], ['화장실', '엔', '청소', '해도', '곰팡이', '없어지다', '않다'], ['지금', '마침', '청소기', '필요하다', '청소기', '이벤트', '당첨', '돼다'], ['정말', '실망', '스럽다'], ['딱', '명', '뽑다', '거', '이다', '어떻다', '돼다', '거'], ['어우', '상사', '새끼', '집', '안', '가다', '지랄', '이지'], ['밖에', '비', '엄청', '오다'], ['노트북', '문제', '없다', '여기저기', '꼼꼼하다', '살펴보다'], ['뛰다', '동안', '너무', '힘들다', '결승선', '을', '통과', '그렇게', '뿌듯하다'], ['아니다', '왜', '상사', '놈', '집', '에도', '안', '가다', '내', '옆', '붙다', '지랄', '이대'], ['아니다', '아직', '이요', '이제'], ['명', '뽑다', '거', '이다', '내', '운', '좋다', '당첨', '돼다'], ['당연하다', '무섭다', '못', '나가다'], ['아니다', '근데', '화나다'], ['마라톤', '기록', '경신'], ['내', '원래', '가지', '고', '싶다', '향수', '당첨', '돼다', '나', '정말', '갖다'], ['노트북', '게', '너무', '많다', '영화', '다운', '받다', '음악', '다운', '받다', '프로젝트', '돼다'], ['짜증나다', '그', '새끼', '일', '없다', '집', '에나', '갈다', '것', '이지', '항상', '나', '테', '만', '그렇다', '모르다'], ['그렇다', '알다', '얘기', '누구', '한테', '이야기', '하고', '싶다'], ['고약하다', '냄새', '방향', '제로', '처리', '가능하다'], ['달리다', '운동', '을', '너무나', '좋아하다', '매번', '연습', '마라톤', '대회', '나가다', '있다'], ['기분', '날아가다', '것', '같다', '보람', '을', '느끼다', '너무', '좋다'], ['아니다', '아무리', '화장실', '청소', '해도', '곰팡이', '지워지다', '않다'], ['너', '말', '대로', '벌레', '나오다', '짜장면', '을', '사진', '찍다', '놓다', '거', '같다'], ['그래서', '매', '일', '매일', '청소', '있다', '곰팡이', '안', '없어지다'], ['지우다', '보다', '아', '곰팡이', '때문', '너무', '머리', '아프다'], ['맞다', '맞다', '그', '결승선', '에서', '기분', '진짜', '잊다', '못', '것', '같다'], ['오늘', '발표', '다', '완전하다', '끝나다', '거야'], ['휴가', '기간', '내내', '비', '소식', '있다', '아무래도', '너', '말', '대로', '집', '에서', '쉬다', '휴가', '보내다', '생각', '을', '거', '같다'], ['유튜버들', '사람', '을', '속', '이고', '물품', '을', '구매', '것', '처럼', '꾸미다', '대고', '있다'], ['사진', '당연하다', '찍다'], ['내', '음식물', '쓰레기', '쓰레기통', '버리다', '버리다'], ['사과', '영상', '을', '보다', '사과', '라기', '보다는', '자기', '변명', '만', '있다', '너무', '화가', '나다'], ['너무', '가지', '고', '싶다', '거', '이다', '당첨', '돼다', '기분', '정말', '좋다'], ['난', '딱하다', '좋아하다', '음악', '없다', '그냥', '기분', '전환', '것', '만', '틀어주다'], ['그렇다', '알다', '참고', '보험', '가입', '것', '좋다', '것', '같다', '비싸다'], ['몸', '에는', '문제', '없다', '한데'], ['그', '것', '너무', '좋다', '친구', '이랑', '여행', '이나', '갈다'], ['아마', '다음주', '쯤', '오다', '그', '때', '보여주다'], ['그게', '좋다', '냄새', '너무', '지독하다', '빨리', '방향', '제', '뿌리다'], ['곰팡이', '제', '거제', '효과', '있다', '나', '구매', '좋다', '제품', '알다'], ['백화점', '향수', '매장', '에서', '행사', '이다'], ['어', '지금', '혼자', '있다', '어떡하다'], ['어', '이제', '진짜', '완전하다', '다', '끝나다'], ['내', '주변', '사람', '한테', '이벤트', '당첨', '돼다', '비싸다', '향수', '받다', '자랑', '다', '들다', '부럽다', '해'], ['곰팡이', '제', '거제', '과연', '효과', '있다'], ['맨날', '맨날', '그러니까', '내', '욕', '나오다', '안나'], ['그렇다', '욕', '뭐', '음악', '이나', '듣다', '기분', '을', '풀다', '신나다', '음악', '을', '좋아하다'], ['습기', '때문', '계속', '생기다', '곰팡이', '어떻다', '없애다', '수', '있다'], ['곰팡이', '제', '거제', '곰팡이', '없애다', '데', '효과', '있다'], ['만원', '짜다', '노트북', '을', '사다', '배송', '늦어지다', '걱정', '하고', '있다', '그런데', '오늘', '도착', '너무', '기분', '좋다'], ['그렇다', '냄새', '쉬다', '안', '빠지다'], ['딱', '명', '진짜', '대박', '이지'], ['진짜', '니', '말', '대로', '장마철', '이라', '그', '런가', '진짜', '곰팡이', '끊다', '않다'], ['선수', '절대', '아니다'], ['알다', '친구', '만나다', '여행', '계획', '세우다', '볼', '게'], ['뭐', '그렇다고', '수', '있다', '너무', '기분', '좋다'], ['그렇다', '얼른', '치우다', '냄새', '빠져나가다'], ['어', '방향', '제', '사오다', '되다', '거', '같다'], ['나', '축하', '주다', '기분', '좋다', '일이', '생기다'], ['싶다', '추천', '해주다'], ['나', '갇히다', '되다', '것', '같다'], ['한동안', '못', '만나다', '친구', '을', '만나다', '것', '좋다', '거', '같다'], ['나', '축하', '해주다', '기분', '좋다', '일이', '생기다', '너무', '좋다'], ['헐다', '나', '이벤트', '당첨', '되어다'], ['맞다', '같이', '뛰다', '운동', '그리고', '참여', '크루', '있다'], ['함께', '달리다', '크루', '있다', '내', '지치다', '힘들다', '때', '크다', '힘', '되어다'], ['내', '몸', '괜찮다', '다치다', '덴', '없다', '그리고', '우리', '집', '까진', '아직', '들어오다', '않다'], ['음악', '을', '듣다', '거', '너무', '너무', '좋다', '한번', '그렇게', '해보다', '그렇다'], ['구매', '겠다', '좋다', '거', '있다', '추천', '해주다', '보다'], ['백화점', '에서', '향수', '이벤트', '돼다'], ['선수', '처럼', '자다', '뛰다', '않다', '그냥', '내', '기록', '향상', '되어다', '뜻', '이야'], ['어', '진짜', '완전하다', '끝나다', '이제', '다시', '안', '보다', '돼다'], ['어쩔', '수', '없다', '뭐', '다음', '부턴', '조심하다'], ['그', '새', '끼다', '욕먹다', '싸다', '진짜', '짜증나다'], ['습기', '너무', '많다', '곰팡이', '사라지다', '않다', '거야'], ['당연하다', '해주다', '거', '안', '해주다', '진짜', '말', '안', '되다'], ['정말', '기분', '좋다'], ['그렇다', '그렇다', '고맙다'], ['아니다', '더', '이야기', '안', '하고', '싶다'], ['내', '쓰레기통', '에다가', '음식물', '쓰레기', '같이', '버리다'], ['앗다', '짜증나다', '그', '새끼', '일', '끝나다', '빨리', '집', '에나', '가지', '회사', '남아', '서', '나', '한테', '잔소리', '해'], ['정말', '그렇다', '거', '같다', '해', '생각', '해보다'], ['진짜', '맨날', '문', '열다', '환기', '근데', '계속', '생기다', '청소', '해도', '끝', '없다'], ['그래서', '그', '런가', '하루', '종일', '화장실', '청소', '만', '기분', '이야'], ['두', '명', '뽑다', '건데', '내', '된거', '야'], ['당연하다', '맘', '들다', '아주', '비싸다', '향수', '야'], ['어', '지금', '당장', '구매'], ['응', '그거', '너무', '좋다', '거', '같다', '번', '해보다'], ['함께', '달리다', '크루', '있다', '서로', '도와주다', '너무나', '크다', '힘', '돼다'], ['그래도', '다행', '인게', '몸', '또', '괜찮다'], ['방향', '제', '처리', '수', '있다', '냄새'], ['집', '에서', '자고', '일어나다', '바깥', '물난리', '야', '물이', '엄청', '많이', '차오르다'], ['그렇다', '그거', '좋다'], ['알다', '선물', '도착', '바로', '보여주다'], ['사과', '진정', '성', '안', '보이다', '또', '돌아서다', '사람', '을', '속이다', '것', '같다'], ['동영상', '편집', '일부러', '비싸다', '사다'], ['어제', '먹다', '남다', '음식', '을', '버리다', '그렇다', '것', '같다'], ['달리다', '동안', '에는', '너무나', '힘들다', '결승선', '을', '통과', '순간', '기분', '엄청', '좋다'], ['매일', '있다', '오래', '돼다', '그렇다'], ['맞다', '우리', '집', '화장실', '환기', '구가', '없다'], ['가족', '이랑', '동해', '바다', '가다', '놀다', '오기', '로'], ['그렇다', '주위', '다', '물', '바다', '야'], ['응', '다치다', '않다'], ['어', '빨리', '뜯다', '켜', '보다'], ['아니다', '그렇다', '않다'], ['나', '축하', '해', '주다', '너무', '좋다', '일이', '있다'], ['사과', '것', '진실성', '없다', '보이다', '다', '그냥', '눈', '감고', '아웅', '하', '듯이', '그냥', '넘어가다', '것', '같다'], ['다른', '직원', '한테', '늘다', '친절하다', '나', '한테', '만', '짜증', '내다', '뭐라다', '내', '화가', '나서다', '그렇다'], ['습기', '많아지다', '곰팡이', '계속', '생기', '고', '있다', '어떻다'], ['욕', '을', '치다', '먹다', '욕', '을'], ['아니다', '자고', '있다', '비', '그렇게', '많이', '오다', '모르다', '재난', '문자', '못', '받다', '그냥', '자고', '있다', '거야'], ['그렇다', '사진', '찍다'], ['알', '고', '있다', '그런데', '어쩔', '수', '없다'], ['정전', '때문', '엘리베이터', '멈추다', '것', '같다', '나', '어떡하다'], ['너무', '지저분하다', '것', '같다', '애', '너무', '너무', '싫다'], ['내', '자다', '때', '우리', '동네', '비', '엄청', '오다'], ['거의', '선수', '라고', '수', '있다'], ['방향', '제', '냄새', '역겹다', '냄새', '없애다', '있다'], ['아', '쓰레기통', '에서', '역겹다', '냄새', '나다'], ['지만', '그', '분', '욕', '을', '먹다', '돼다'], ['나다', '자다', '모르다', '뭐', '썩', '나'], ['나', '벌써', '친구', '약속', '만나다'], ['노트북', '을', '살펴보다', '문제', '하나', '없다', '작동', '너무나', '자다', '돼다'], ['자고', '일어나다', '우리', '집', '빼다', '다', '주변', '물바다', '되어다'], ['내', '선물', '궁금하다', '내', '나중', '꼭', '보이다', '줄', '게'], ['너', '말', '대로', '푹', '쉬', '고', '여행', '계획', '잡다', '볼', '게'], ['내', '좋아하다', '유튜버', '뒷', '광고', '시청자', '에게', '사과', '영상', '을', '올리다'], ['만원', '짜다', '노트북', '을', '구입', '오늘', '도착', '기분', '너무', '좋다'], ['어', '너무', '마음', '들다'], ['좋다', '생각', '이야', '번은', '써다', '보다', '것', '같다'], ['응', '퇴근', '하고', '한강', '에서', '맨날', '만나다'], ['내', '실수', '로', '그렇다', '깨끗하다', '치우다'], ['미세먼지', '보다', '여름', '이라', '곰팡이', '심하다', '거', '같다', '애'], ['선수', '아니다', '내', '운동', '을', '좋아하다', '시작'], ['벌써', '가면', '어떡하다'], ['그', '정도', '아니다', '그냥', '아마추어', '마라톤', '경기', '야'], ['향수', '이벤트', '당첨', '돼다'], ['응', '사진', '찍다', '거', '어떻다', '좋다'], ['갇히다', '있다', '무섭다'], ['그렇다', '좋다', '빨리', '끝나다', '되다'], ['선수', '처럼', '그렇게', '자다', '뛰다', '않다', '하지만', '내', '기록', '정말', '자다', '나오다'], ['휴가', '엉망', '되어다'], ['너무', '마음', '들다', '내', '얼마나', '사고', '싶다'], ['그래서', '어떻다', '지다', '모르다'], ['달리다', '동안', '에는', '엄청', '힘들다', '결승선', '을', '통과', '순간', '날아가다', '거', '같다'], ['그렇다', '말', '이야', '다음', '부터는', '그렇다', '일', '없다', '겠다'], ['그렇다', '나', '구매', '번', '사용', '해보다', '좋다', '제품', '추천', '해주다'], ['다행하다', '몸', '아프다', '데', '아무', '데', '없다'], ['집', '안', '나', '혼자', '갇히다', '되다', '너무', '무섭다', '두렵다'], ['내', '쓰레기통', '을', '제대로', '안', '비우다'], ['갑자기', '비', '많이', '오다', '우리', '동네', '고립', '돼다', '그렇다', '갇히다', '돼다'], ['자다', '재난', '문자', '못', '받다', '피', '못'], ['같이', '뛰다', '사람', '있다', '같이', '운동', '해'], ['사진', '확보', '건', '메세지', '로', '첨부', '바로', '보내다', '항의', '전화', '해보다'], ['맞다', '요새', '미세먼지', '너무', '심해'], ['나', '드디어', '그거', '프로젝트', '끝나다'], ['몸', '괜찮다', '집', '안', '물이', '들어오다', '너무나', '무섭다'], ['응', '몸', '괜찮다', '혹시', '신고', '해주다', '수', '있다'], ['화장실', '청소', '해도', '곰팡이', '끝', '없이', '생기다'], ['장마', '철', '이라서', '습기', '많이', '생기다', '곰팡이', '생기', '나', '보다', '자꾸', '신경', '쓰이다'], ['함께', '달리다', '크루', '있다', '내', '지치다', '힘들다', '때', '크다', '힘', '되어다'], ['곰팡이', '제', '거제', '쓰다', '효과', '있다'], ['그렇다', '번', '사용', '해보다', '싶다'], ['너', '안', '당', '해보다', '모르다', '다른', '직원', '한테', '늘다', '친절하다', '나', '한테', '만', '자꾸', '뭐라다', '화가', '나서다', '그렇다'], ['오랜', '만', '친구', '만나다'], ['첨', '엄청', '놀라다', '지금', '약간', '무섭다', '한데', '어떡하다', '기다리다'], ['나', '기분', '너무', '좋다'], ['더', '실망', '스러운', '건', '억지로', '사과', '거야'], ['ㅏ', '드디어', '프로젝트', '끝나다'], ['내', '선수', '처럼', '기록', '좋다', '건', '아니다', '기록', '만', '조금', '좋아지다'], ['화장실', '청소', '해도', '곰팡이', '없어지다', '않다'], ['당연하다', '그렇게', '그', '사람', '진짜', '로', '사과', '자기', '발뺌'], ['나', '갇히다', '되다', '거', '같다', '무섭다'], ['이벤트', '거', '보고', '신청', '내', '돼다'], ['나', '정말', '속상하다'], ['짜장면', '에서', '벌레', '나오다'], ['그렇다', '제', '좋아하다', '음악', '요'], ['아니다', '나', '혼자', '서', '많이', '해'], ['그렇다', '친구', '꼭', '만나다', '싶다', '너무', '보고', '싶다'], ['에이', '그래도', '아직', '아마추어', '지', '선수', '쉽다', '일이', '아니다'], ['방향', '제', '냄새', '랑', '쓰레기', '냄새', '랑', '섞이다', '서다', '못', '쓰다', '있다'], ['오', '좋다', '음악', '하나', '추천', '해주다', '보다'], ['당첨', '명', '뽑다', '거', '이다', '내', '당첨', '돼다', '나', '운', '정말', '좋다', '거', '같다'], ['마라톤', '대회', '에서', '내', '기록', '많이', '좋아지다'], ['니', '안', '당', '해보다', '그렇다', '아주', '욕', '맨날', '맨날', '입', '끝', '에서', '맴돌다', '있다', '쌍놈', '새끼'], ['어', '그렇다', '알다'], ['아직', '다', '안', '끝나다'], ['프로젝트', '달동', '안', '친구', '못', '만나다', '못', '만나다', '친구', '을', '만날', '약속', '을', '잡다'], ['자고', '일어나다', '비', '이렇다', '많이', '오다', '뭐', '야', '난', '재난', '문자', '못', '보다'], ['응', '나', '달동', '안', '정말', '열심히', '다', '끝나다'], ['오다', '자장면', '에서', '벌레', '나오다'], ['화장실', '청소', '해도', '곰팡이', '왜', '사라지다', '않다', '거야'], ['나', '마라톤', '좋아하다', '요', '번', '마라톤', '대회', '나가다', '기록', '갱신'], ['응', '알다', '알아보다'], ['그것', '좋다', '것', '같다'], ['집', '주변', '까지', '물이', '차오르다', '밖', '나가다', '수가', '없다'], ['응', '거의', '선수', '급', '기록', '올라서다', '너무', '좋다'], ['휴가', '신청', '장마철', '이랑', '겹', '치다'], ['일이', '바쁘다', '일', '년', '만에', '받다', '휴가', '인데', '비', '오다', '아무', '데', '갈다', '수가', '없다'], ['그렇다', '보험', '있다', '지금', '당장', '가입'], ['어떻다', '곰팡이', '다', '없애다', '수', '있다'], ['그렇다', '것', '같다', '화장실', '창문', '없다', '답답하다'], ['어디', '선', '냄새', '나서다', '원인', '을', '찾다', '쓰레기통', '인', '것', '을', '발견'], ['향수', '행사', '이벤트', '당첨', '돼다'], ['일단', '사진', '찍다', '그', '사람', '사과', '안'], ['맞다', '완전하다', '끝나다', '내', '달', '간', '얼마나', '고생'], ['아', '짜증나다', '그', '새끼', '일', '없다', '집', '에나', '갈다', '것', '이지', '늦다', '들어오다', '히스테리', '다', '나', '한테', '부리다', '건가', '왜', '항상', '나', '한테', '만', '그렇다'], ['그렇다', '기분', '나쁘다', '거', '음악', '이나', '들다', '풀다', '나', '신나다', '음악', '좋다'], ['정말', '유명하다', '유튜버들', '다', '뒷', '광고', '있다'], ['헐다', '나', '이벤트', '당첨', '되어다'], ['그', '래야', '것', '같다', '아무리', '청소', '해', '두', '없어지다', '않다'], ['어', '오늘', '왠지', '운수', '좋다', '거', '같다'], ['응', '다행하다', '다치다', '데', '없다'], ['헐다', '나', '이벤트', '당첨', '돼다'], ['어', '완전', '미치다', '놈', '이야'], ['진짜', '어떻다', '유튜브', '만', '아니다', '돼다'], ['요즘', '유명하다', '유튜버', '자꾸', '제품', '을', '좋다', '써다', '보라', '거야', '그런데', '알', '고', '보다', '뒷', '광고', '이다'], ['오', '신나다', '음악', '들다', '더', '신나다'], ['향수', '이벤트', '당첨', '돼다'], ['내', '마라톤', '대회', '출전', '그런데', '내', '기록', '엄청', '단축', '돼다', '더', '라고'], ['방향', '제', '집', '방향', '제', '없다', '나가다', '김', '하나', '사오다'], ['너무', '실망', '스럽다', '화가', '나'], ['아니다', '그', '정도', '아니다', '그래도', '되게', '노력', '많이', '그동안'], ['향', '진짜', '너무', '좋다'], ['휴가', '내다', '동시', '비', '오기', '시작', '거야', '하루', '종일', '비', '오다'], ['그렇다', '좋다'], ['아니다', '그냥', '혼자', '뛰다'], ['아니다', '요즘', '다', '들다', '왜', '그렇다', '거야'], ['내', '좋아하다', '유튜버', '뒷', '광고', '사과', '영상', '을', '올리다'], ['환기', '계속', '시키다'], ['당연하다', '엄청', '마음', '들다'], ['집', '안', '갇히다', '바깥', '을', '보', '니까', '온', '동네', '물', '난리', '야'], ['친구', '들다', '벌써', '약속', '을', '다', '잡다'], ['당연하다', '맘', '들다', '아주', '비싸다', '향수', '거들다'], ['나다', '이렇다', '경우', '처음', '이야', '짜장면', '에서', '벌레', '나오다', '너무', '더럽다'], ['신나다', '음악', '을', '듣다', '것', '정말', '좋다', '것', '같다'], ['응', '그것', '차다', '좋다', '생각', '이야', '아', '많이', '도움', '돼다'], ['유명하다', '인', '플루', '언', '서', '이벤트', '내', '걸다', '더', '라고'], ['쉬다', '오랜', '만', '여행', '을', '다녀오다', '것', '괜찮다', '거', '같다'], ['그', '새끼', '욕먹다', '싸다'], ['나가다', '수가', '없다', '밖에', '물이', '너무', '많이', '차오르다'], ['아', '짜증나다', '그', '새끼', '일', '없다', '집', '에나', '갈다', '것', '이지', '왜', '나', '한테', '지랄', '이야'], ['그렇다', '이제', '완전하다', '끝내다', '달', '간', '정말', '고생', '많다'], ['아니다', '그', '새끼', '욕', '먹다', '싸다'], ['그렇다', '아', '그냥', '음식', '값', '환불', '이나', '해주다', '좋다'], ['가끔', '밖에', '나가다', '작업', '일도', '생기다', '컴퓨터', '보험', '가입', '을', '생각', '해보다'], ['아니다', '요즘', '다', '들다', '왜', '이르다', '거야', '난', '이해', '수가', '없다'], ['너무', '무섭다'], ['선수', '아니다', '내', '운동', '을', '좋아하다', '조금', '연습', '을', '많이', '그랬더니', '결과', '좋다'], ['하루', '종일', '화장실', '만', '청소', '기분', '이야'], ['응', '진짜', '기분', '별로', '이다'], ['달리다', '동안', '에는', '엄청', '힘들다', '결승선', '을', '통과', '순간', '기분', '엄청', '좋다'], ['알다', '그래도', '내', '잘못', '거', '니깐', '조심하다'], ['나가다', '수가', '없다', '물이', '차오르다', '문', '을', '열', '수가', '없다', '무섭다'], ['밖', '을', '내다', '보다', '집', '주변', '까지', '물이', '차오르다', '밖', '나가다', '수', '없다'], ['응', '안', '그래도', '만나다', '가기', '로'], ['어후', '쓰레기통', '에서', '역겹다', '냄새', '나다', '있다'], ['억지로', '사과', '진정', '성', '절대', '없다'], ['나', '시키다', '배달', '어플', '사진', '올리다'], ['아직', '까지', '집', '안', '물이', '들어오다', '않다', '하지만', '금방', '이라도', '물이', '들어오다', '보다', '걱정', '이야'], ['그', '새끼', '일', '끝나다', '빨리', '집', '에나', '가지', '회사', '남아', '서', '자꾸', '나', '한테', '잔소리', '해'], ['그래서', '신경', '쓰다', '더', '청소', '열심히', '곰팡이', '안', '없어지다'], ['너무', '열', '받다', '어떻다', '좋다'], ['맞다', '미세먼지', '다시', '엄청', '심해지다'], ['딱', '명', '만', '뽑다'], ['좋다', '내', '너', '한번', '사용', '해주다'], ['아', '짜증나다', '그', '새끼', '일', '없다', '집', '에나', '갈다', '것', '이지', '왜', '항상', '나', '한테', '만', '그렇다'], ['나', '이벤트', '당첨', '돼다'], ['알다', '난', '영화', '좋아하다', '영', '화보', '는걸', '로'], ['다른', '직원', '한테', '늘다', '친절하다', '나', '한테', '만', '자꾸', '잔소리', '짜증나다', '그렇다'], ['그러니까', '새롭다', '생기다', '음식점', '에서', '어떻다', '그렇다', '수가', '있다'], ['사과', '영상', '을', '보다', '사과', '라기보다는', '자기', '변명', '만', '있다', '더', '화가', '나'], ['물', '너무', '마음', '들다'], ['그렇다', '알다', '알', '아', '둘', '게', '수', '있다', '모르다'], ['안', '그렇다', '냄새', '빼다', '환기', '시키다', '중', '이다'], ['휴', '그렇다', '그냥', '음악', '이나', '들다', '기분', '풀다', '나', '신나다', '음악', '좋다'], ['우리', '집', '옆', '새롭다', '생기다', '중국집', '인데', '일부러', '시키다', '보다', '너무', '실망', '스럽다'], ['상사', '인데', '뭔', '상관', '이야', '그', '새끼', '그', '새끼', '라'], ['노트북', '거', '많다', '영화', '랑', '음악', '다운', '받다', '거야', '그리고', '프로젝트', '돼다'], ['욕', '을', '어떻다', '안해', '너', '한번', '당', '해보다'], ['그렇다', '문', '열다'], ['그냥', '음악', '이나', '들다', '기분', '을', '풀다', '나', '신나다', '음악', '좋다'], ['다른', '사람', '한테', '늘다', '안', '그렇다', '나', '한테', '만', '자꾸', '뭐라다', '짜증', '내', '니까', '화가', '나서다', '그렇다'], ['이번', '마라톤', '대회', '에서', '내', '기록', '엄청', '향상', '되어다'], ['듣다', '보다', '맞다', '것', '같다'], ['환기', '안', '돼다', '아마', '그렇다', '거', '같다', '해'], ['그렇다', '냄새', '너무', '지독하다', '벌레', '있다'], ['마라톤', '나가다', '기록', '완전', '단축', '돼다'], ['너무', '힘들다', '집', '을', '깨끗하다', '치우다', '위해', '서', '얼른', '청소'], ['그', '것', '괜찮다', '거', '같다', '애'], ['불다', '구', '조', '요청', '을', '싶다', '전화', '안', '터지다', '있다'], ['그렇다', '야하다', '것', '같다', '방향', '제', '역시', '냄새', '빠지다', '기다', '좋다'], ['마라톤', '대회', '에서', '기존', '기록', '을', '갱신'], ['그니까', '너', '내', '맘', '을', '읽다'], ['어', '알다', '그렇다'], ['알다', '여행', '계획', '세우다', '보다'], ['그', '전', '보다', '지금', '얼마나', '많다', '노력', '을', '요', '번', '에는', '한참', '이나', '기록', '올라가다'], ['야', '대박', '나', '이벤트', '당첨', '돼다'], ['오다', '짜장면', '에서', '벌레', '나오다'], ['나', '만', '싫어하다', '거', '같다', '애'], ['새롭다', '나오다', '차', '주다', '거', '이다', '거', '어떻다', '당첨', '돼다'], ['헐다', '맞다', '네', '말', '맞다', '빨리', '확인', '해', '보다'], ['아니다', '듣기', '싫다'], ['헐다', '나', '이벤트', '당첨', '되어다'], ['그', '정도', '아니다', '그냥', '내', '기록', '을', '갱신', '거지'], ['선물', '받다'], ['오랜', '만', '가족', '이랑', '동해', '바다', '가다', '놀다', '오기', '로', '그런데', '망하다'], ['알다', '친구', '약속'], ['응', '같이', '뛰다', '크루', '있다'], ['휴가', '첫날', '부터', '비', '오다', '있다'], ['방', '안', '고약하다', '냄새', '가득하다', '날', '파리', '생기다', '얼른', '쓰레기', '묶다', '버리다'], ['명인', '그', '정도', '뽑다'], ['그러니까', '맨날', '맨날', '청소', '저러다'], ['명', '이다', '운', '좋다', '제', '뽑다', '보다'], ['하나', '사', '보고', '싶다'], ['아니다', '우리', '학교', '건물', '인데', '갑자기', '정전', '돼다', '나', '어떡하다', '죽다', '건가'], ['다른', '직원', '한테', '늘다', '친절하다', '나', '한테', '만', '짜증', '을', '내', '니까', '화가', '나서다', '그렇다'], ['장마철', '이라', '곰팡이', '계속', '생기다', '자꾸', '신경', '쓰이다', '어떡하다', '없애다', '수', '있다'], ['아', '음식물', '쓰레기', '버리다', '내', '잘못', '이지', '뭐'], ['맞다', '우리', '집', '습기', '많다', '환기', '구가', '없다'], ['어', '크루', '있다'], ['달리다', '운동', '을', '너무나', '좋아하다', '매번', '열리다', '마라톤', '대회', '출전'], ['맞다', '나다', '있다', '같이', '운동', '하고', '같이', '대회', '출전'], ['그거', '좋다', '신나다', '음악', '부탁'], ['마라톤', '대회', '이번', '출전', '내', '기록', '엄청나다', '향상', '된거', '야'], ['비싸다', '건', '못', '사다', '하지만', '내', '알바', '비', '모으다', '산', '거', '라', '너무', '소중하다'], ['역겹다', '냄새', '랑', '날', '파리', '때문', '집안', '너무', '지저분하다', '얼른', '청소'], ['오다', '짜장면', '에서', '벌레', '나오다'], ['축하', '해주다', '나', '기분', '좋다', '이다'], ['어후', '그렇다', '가보다', '거', '어떻다', '돼다'], ['나', '무섭다'], ['집', '주변', '까지', '물이', '차오르다', '밖', '나가다', '없다'], ['선수', '아니다', '내', '운동', '을', '좋아하다', '조깅', '좋아하다'], ['당첨', '명', '이다', '내', '당첨', '되어다'], ['대박', '나', '이벤트', '당첨', '돼다'], ['어', '맞다', '너', '어떻다', '그렇게', '정확하다', '아니다'], ['응', '지금', '나', '혼자', '있다'], ['아무래도', '밖에', '나가다', '수가', '없다'], ['네', '정말', '고맙다', '정말', '이렇다', '일이', '나', '에게', '벌어지다', '정말', '끔찍하다'], ['내', '잘못', '벌어지다', '일', '인데', '뭐', '다', '자업자득', '이야'], ['집', '안', '갇히다', '무슨', '일인', '지', '물이', '많이', '차오르다'], ['당첨', '명', '뽑다', '거', '이다', '내', '당첨', '되다', '거야'], ['으', '가다', '번', '말', '해보다', '사진', '첨부', '하고'], ['어', '버리다', '지금', '쓰레기통', '청소', '중이', '야'], ['응', '완전', '죽', '을', '것', '같다', '그래도', '악물다', '뛰다'], ['지금', '먹다', '있다'], ['조금', '놀라다', '뿐', '이고', '몸', '괜찮다', '너무', '힘들다'], ['어', '다치다', '곳', '다행하다', '없다'], ['너', '말', '대로', '여행', '을', '다녀오다', '것', '의미', '있다', '것', '같다'], ['여행', '정말', '가다', '싶다', '너무', '가다', '싶다', '지금', '시기', '아니다', '것', '같다'], ['그렇다', '결승선', '을', '통과', '순간', '세상', '을', '다', '얻다', '기분', '이다'], ['선수', '처럼', '않다', '그리고', '나', '완주', '시간', '엄청', '많이', '단축'], ['어떻다', '일', '을', '그렇게'], ['그냥', '맛있다', '거', '먹다'], ['근데', '상사', '니깐', '말', '못', '그냥', '다니다', '뭐', '짜증', '나다'], ['너', '고생', '많다'], ['아', '짜증나다', '상사', '새끼', '집', '에나', '갈다', '것', '이지', '왜', '나', '한테', '짜증', '이야'], ['스트레스', '싹', '날다', '버리다', '영상', '부탁'], ['맞다', '뛰다', '동안', '엔', '정말', '힘들다', '결승선', '들어오다', '정말', '기분', '좋다'], ['냄새', '너무', '고약하다', '버리다', '쓰레기', '봉투', '묶다'], ['명', '뽑다', '거', '이다', '운', '좋다', '내', '당첨', '되다', '거야', '너무', '행운', '이야'], ['유튜버들', '돈', '받다', '뒷', '광고', '바람', '우리', '만', '피', '해봤다'], ['아주', '유명하다', '인', '플루', '언', '서', '이벤트', '진행', '더', '라고'], ['그렇다', '그게', '좋다'], ['곰팡이', '제', '거제', '그거', '효과', '있다'], ['네', '친구', '빨리', '보고', '싶다'], ['어', '그렇다', '찾아보다'], ['내', '좋아하다', '유튜버', '있다', '뒷', '광고', '사과', '영상', '을', '올리다'], ['하', '아니다', '진짜', '첫', '자취', '방', '인데', '이건', '진짜', '아니다', '것', '같다'], ['화장실', '청소', '해도', '곰팡이', '없어지다', '않다'], ['쓰레기', '제', '때', '버리다', '않다', '그렇다'], ['그렇다', '건', '아니다', '그냥', '혼자', '서', '열심히', '연습'], ['내', '마라톤', '대회', '출전', '이전', '내', '기록', '보다', '훨씬', '자다', '나오다'], ['연구실', '가다', '엘리베이터', '타다', '갑자기', '덜컹', '멈추다'], ['응', '지금', '나', '혼자', '있다', '거', '어떻다', '돼다'], ['곰팡이', '제거', '효과', '있다', '구매', '사용', '하고', '싶다', '좋다', '거', '알다'], ['과연', '그렇다', '나르다', '너무', '많이', '미워하다', '무슨', '음악', '좋아하다', '모르다', '어렵다', '말', '이야'], ['맞다', '우리', '집', '빼다', '주변', '집들이', '다', '물', '잠기다'], ['결승선', '을', '통과', '순간', '힘드다', '싹', '사라지다', '더', '라고'], ['아', '방향', '제', '뿌리다'], ['다행하다', '집', '안', '물이', '안', '차서', '괜찮다'], ['냄새', '너무', '심하다', '지금', '버리다', '준비'], ['오다', '놈', '곰팡이', '어떡하다', '좋다', '방법', '없다'], ['향수', '매장', '에서', '향수', '주다', '이벤트', '등', '당첨', '돼다'], ['지금', '장마', '태풍', '나', '여기', '서', '발자국', '못', '나가다', '있다'], ['응', '그렇다', '고맙다'], ['아니다', '요즘', '다', '들다', '왜', '그렇다', '이해', '안', '가다'], ['나', '마라톤', '경기', '나가다', '기록', '을', '갱신'], ['더', '이상하다', '냄새', '날', '거', '같다'], ['아니다', '나', '혼자', '뛰다'], ['선수', '까지는', '아니다', '내', '운동', '을', '좋아하다', '번', '해봤다'], ['곰팡이', '제', '거제', '효과', '있다', '나', '구매', '번', '해보다'], ['신나다', '음악', '을', '듣다', '거', '너무', '좋다'], ['그렇다', '지금', '버리다', '오다', '길이', '다'], ['그렇다', '네', '그렇게', '보고', '싶다', '나중', '내', '보이다', '줄', '게'], ['매', '일', '매일', '청소', '있다', '계속', '곰팡이', '생기다'], ['소', '엄청', '많이', '잡다'], ['그것', '괜찮다', '다음', '그렇게'], ['자고', '일어나다', '우리', '집', '주변', '다', '물', '잠기다'], ['드디어', '구매', '노트북', '오늘', '오다'], ['아', '짜증나다', '그', '새끼', '일', '다', '끝나다', '집', '에나', '가지', '남아', '서', '나', '한테', '뭐라다', '해'], ['뭐', '어떻다'], ['그렇다', '앞', '이렇다', '일이', '없다', '위해', '서', '꼭'], ['내', '달리다', '운동', '을', '너무나', '좋아하다', '연습', '을', '매번', '마라톤', '대회', '출전'], ['나', '마라톤', '거기', '기록', '갱신'], ['다행하다', '몸', '괜찮다'], ['진짜', '짜증나다', '거야', '정말'], ['그렇다', '오랜', '만', '가족', '이랑', '여행', '을', '다녀오다', '것', '의미', '있다', '것', '같다', '생각', '번', '해보다'], ['비', '계속', '내리다', '나', '혼자', '집', '안', '갇히다', '너무', '무섭다', '두렵다'], ['비싸다', '핸드폰', '을', '오래', '쓸다', '수'], ['이번', '마라톤', '대회', '출전', '그런데', '내', '기록', '엄청', '좋아지다'], ['너', '말', '대로', '방향', '제로', '처리', '게', '가장', '좋다', '방법', '같다'], ['만원', '넘다', '요', '번', '엔', '비싸다', '걸', '로', '사다'], ['드디어', '프로젝트', '끝내다'], ['그렇다', '이건', '이대로', '넘어가다', '수', '없다', '일인', '것', '같다'], ['어떡하다', '나', '엘리베이터', '갇히다'], ['그', '래야', '것', '같다', '도대체', '곰팡이', '없어지다', '않다'], ['나', '지금', '엘레베이터', '갇히다'], ['휴가', '첫', '날', '부터', '비', '엄청', '오다', '있다'], ['여행', '이나', '다녀오다'], ['훨씬', '낫다', '면', '구매', '게', '낫다'], ['다른', '사람', '유튜버', '말', '만', '듣다', '제품', '을', '사다'], ['비', '너무', '많이', '오다'], ['너', '상황', '을', '한번', '겪다', '보다'], ['당첨', '선물', '내', '갖다', '향수', '라서', '너무', '마음', '들다'], ['그렇다', '참고', '상황', '보다', '보험', '들다', '수', '있다', '들다', '뭐'], ['벌레', '나오다', '사진', '을', '왜', '찍다'], ['많다', '영화', '보고', '프로젝트', '해'], ['아무', '없다', '나', '혼자', '집', '있다', '당연하다', '무섭다', '두렵다'], ['파리', '같다', '거', '나오다', '완전', '더럽다', '진짜'], ['맞다', '결승선', '을', '통과', '순간', '모든', '힘드다', '게', '싹', '사라지다', '버', '리드', '라고'], ['미세먼지', '너무', '심하다', '것', '같다', '근데', '더', '크다', '문제', '우리', '집', '있다', '곰팡이', '야'], ['아', '지금', '방향', '제', '없다', '사르다', '나가야', '되다', '듯'], ['내', '지금', '너무', '화가', '난', '상탠데', '내', '화', '잠재우다', '수', '있다', '영상', '있다'], ['집', '밖', '나가다', '수가', '없다', '상황', '이라서', '엄청', '당황', '스럽다', '하지만', '몸', '괜찮다'], ['노트북', '도착', '하', '자마자', '이리저리', '살펴보다', '노트북', '작동', '이상하다', '곳', '군데', '없다'], ['어', '지난', '번', '버리다', '쓰레기', '썩다'], ['어', '엄청', '무섭다', '나', '어떻다', '돼다'], ['아니다', '요즘', '다', '왜', '이르다', '거야', '이해', '안', '돼다'], ['아', '나', '벌레', '진짜', '싫어하다', '아', '너무', '징그럽다'], ['냄새', '나', '곳', '방향', '제', '뿌리', '면', '냄새', '더', '독하다', '서다'], ['냄새', '너무', '심하다', '방향', '제로', '안되다', '수도', '있다'], ['선수', '아니다', '그냥', '평소', '보다', '자다', '돼다'], ['드디어', '프로젝트', '끝내다'], ['당연하다', '결승선', '을', '통과', '순간', '힘드다', '싹', '사라지다'], ['어떻다', '알다', '나', '가끔가다가', '음식물', '버리다'], ['내', '휴가', '엉망', '진창', '되어다'], ['뛰다', '때', '숨', '차고', '너무', '힘드다', '뛰다', '나니', '너무', '기분', '좋다'], ['너무', '맘', '들다'], ['곰팡이', '제', '거제', '써다', '보다', '소용', '없다', '소용'], ['응', '진짜', '배고프다', '밥', '못', '먹다'], ['아우', '상사', '새끼', '짜증나다', '내', '옆', '붙다', '왜', '지랄', '인지', '모르다', '미치다', '놈', '인가'], ['친구', '한테', '자랑', '그거', '비싸다', '무지', '부러워하다'], ['네', '너무', '마음', '들다', '행복하다'], ['선수', '아니다', '내', '운동', '을', '좋아하다', '번', '해봤다'], ['그렇다', '꼭', '보여주다', '얼마나', '예쁘다', '고급', '진', '향수', '인지'], ['영화', '보고', '게임', '음악', '듣다', '쇼핑', '게', '너무', '많다'], ['마라톤', '에서', '기록', '갱신', '을'], ['영화', '보고', '게임', '음악', '듣다', '쇼핑', '거야'], ['응', '몸', '상태', '괜찮다'], ['그렇다', '로또', '장', '사보다', '것', '나쁘다', '않다', '것', '같다', '애'], ['다행하다', '몸', '괜잖', '아', '기분', '만', '우울하다', '뿐', '이야'], ['내', '오죽하다', '이르다', '어'], ['추천', '해주다', '싶다', '제품', '있다'], ['음식', '을', '시키다', '먹다', '보다', '음식물', '들어가다', '것', '같다'], ['유튜버들', '사람', '을', '속', '여가', '며', '뒷', '광고', '있다'], ['그렇다', '어떻다', '기분', '좋아지다', '응', '개', '빡치다'], ['너', '말', '대로', '증거', '로', '사진', '을', '찍다', '놓다'], ['오랜', '만', '친구', '이랑', '서해', '바다', '가다', '신나다', '놀다', '오기', '로', '그런데', '망하다'], ['전', '버리다', '게', '상하', '고', '있다', '보다', '모르다'], ['신나다', '음악', '을', '듣다', '게', '좋다', '거', '같다'], ['다음', '부턴', '빨리', '빨리', '치우다'], ['아니다', '놈', '화장실', '아무리', '청소', '해도', '곰팡이', '사라지다', '기미', '안', '보이다'], ['그렇다', '것', '있다', '번', '추천', '해주다', '고맙다'], ['오늘', '가다', '빨리', '버리다', '오다'], ['내', '휴가', '엉망', '이야'], ['곰팡이', '고', '둘', '다', '정말', '별로', '다'], ['그렇다', '일주일', '간', '얼마나', '고생'], ['아무래도', '너', '말', '대로', '습기', '많다', '환기', '자다', '되다', '않다', '그렇다', '것', '같다'], ['너무', '무섭다', '어떻다'], ['아', '짜증나다', '왜', '그', '새끼', '나', '한테', '만', '그렇다'], ['통수', '맞다', '실망하다', '있다'], ['번', '써다', '보다', '진짜', '로'], ['어', '구매', '생각', '있다'], ['유명하다', '유튜버들', '죄다', '뒷', '광고', '있다'], ['알다', '그렇다', '그렇게'], ['그렇다', '그러니까', '이렇게', '욕', '을', '안', '사람', '욕', '것', '아니다'], ['너무', '화가', '나', '니까', '사과', '사과', '같다', '않다', '진정', '성', '없다'], ['구조', '요청', '을', '어디', '지다'], ['여름', '바다', '가다', '수영', '물놀이', '써다'], ['이번', '마라톤', '대회', '에서', '내', '삼', '등', '을', '거야'], ['무섭다', '죽다', '어떻다', '지다'], ['맞다', '결승선', '을', '통과', '동안', '내', '마음', '날아가다', '듯이', '힘드다', '싹', '사라지다', '더', '라고'], ['아직', '안', '선물', '오다', '같이'], ['가지', '고', '싶다', '거', '이다'], ['주위', '홍수', '나서다', '집들이', '모두', '물', '잠기다', '그래서', '밖', '나가다', '못', '것', '같다', '애'], ['아니다', '집', '밖', '을', '나가다', '밖에', '물이', '넘다', '있다'], ['아무리', '상사', '라도', '나르다', '인간취', '급하다', '않다', '당연하다', '욕', '나오다', '수', '밖에', '없다'], ['아니다', '불만', '을', '어떻다', '식', '풀다', '되다'], ['다행하다', '몸', '괜찮다'], ['다른', '직원', '한테', '늘다', '친절하다', '맨날', '나', '한테', '만', '뭐라다', '내', '화가', '나서다', '그렇다'], ['선수', '처럼', '자다', '뛰다', '않다', '내', '기록', '보다', '훨씬', '기록', '단축', '되어다'], ['그렇다', '얼른', '묶다', '쓰레기통', '버리다'], ['일단', '증거', '로', '사진', '확보'], ['그렇다', '다', '들다', '그', '유튜버', '광고', '보고', '물건', '을', '사다', '피해', '보다', '사람', '많다'], ['그래서', '매', '일', '매일', '청소', '열심히', '곰팡이', '안', '없어지다'], ['휴', '내', '잘못', '생기다', '일이', '니까', '얼른', '청소', '벌레', '생기다', '걱정', '돼다'], ['그것', '믿다', '수가', '없다', '또', '가짜', '아니다', '뭔', '지', '석', '연', '치가', '않다'], ['내', '잠', '을', '자다', '동안', '비', '너무', '많이', '오다', '우리', '동네', '홍수', '피해', '지역', '돼다', '그래서', '고립', '돼다'], ['알다', '지금', '당장', '사용', '설명', '서', '보고', '알아보다'], ['맞다', '맞다'], ['아우', '쓰레기', '에서', '역겹다', '냄새', '나다', '있다'], ['그렇다', '보험', '있다', '지금', '당장', '가입'], ['나', '이벤트', '당첨', '되어다'], ['고약하다', '냄새', '방향', '제로', '처리', '게', '가장', '좋다', '방법', '같다'], ['그냥', '내', '문', '안', '열다', '그렇다', '것', '같다', '애'], ['자다', '재난', '문자', '랑', '대', '피하', '라는', '전화', '못', '받다'], ['선물', '내', '갖다', '향수', '라서', '너무', '마음', '들다'], ['휴가', '기간', '내내', '비', '소식', '있다', '아무', '데도', '못', '갈다', '거', '같다', '너', '말', '대로', '집', '에서', '휴가', '즐겁다', '보내다', '수', '있다', '방법', '을', '찾다', '보다'], ['기분', '별로', '이다', '먹기', '싫어지다'], ['그', '전', '쓰레기통', '음식물', '쓰레기', '버리다', '그게', '상한', '거', '같다', '애'], ['내', '쓰레기통', '제때', '비우다', '못'], ['노트북', '으로는', '지금', '구상', '하고', '있다', '만화', '만들다', '거야'], ['다', '거야', '다', '알다'], ['아', '문', '자주', '열다', '낫다', '지금', '냄새', '너무', '고약하다'], ['나', '아무래도', '갇히다', '되다', '거', '같다'], ['다른', '직원', '한테', '늘다', '모두', '친절하다', '대하', '면서', '나', '한테', '만', '짜증', '내다', '뭐라다', '해', '너무', '화가', '나'], ['내', '십', '킬로미터', '마라톤', '대회', '출전', '예전', '내', '기록', '보다', '훨씬', '자다', '나오다'], ['수', '없다', '뭐', '언', '젠', '간', '깨끗해지다'], ['당첨', '명', '이다', '운', '좋다', '내', '돼다'], ['여행', '가다', '오다', '보다', '생각', '중', '인데', '추천', '해주다', '말다', '있다'], ['나', '아무래도', '갇히다', '거', '같다'], ['환기', '자주', '시키다', '너', '왜', '딴', '소리', '야'], ['무섭다', '그걸', '질문', '이라고', '해'], ['그렇다', '보험', '있다', '지금', '당장', '가입'], ['이번', '마라톤', '대회', '에서', '내', '기록', '엄청', '좋다', '나오다'], ['내', '버리다', '음식물', '쓰레기', '상해', '서', '냄새', '나', '거', '이다'], ['응', '교수', '님', '조금', '만', '확인', '해주다', '되다', '거', '같다', '아마', '끝나다', '거야'], ['아직', '안', '상품', '오다', '같이', '자랑'], ['알다', '다음', '부터는', '제', '떼', '제때', '버리다'], ['어', '바로바로', '그렇게', '해보다', '고맙다'], ['상사', '놈', '집', '에도', '안', '가다', '계속', '내', '옆', '에서', '짜증', '내다', '있다', '미치다', '놈', '이지'], ['쓰레기', '넣다', '깜빡', '하고', '안', '버리다', '그렇다'], ['쓰레기', '냄새', '나', '거', '같다'], ['자다', '재난', '문자', '못', '보다', '대', '피하', '라는', '소리', '못', '들다'], ['유튜브', '에서', '사기', '광고', '있다'], ['냄새', '다', '없애다', '볼', '게', '고맙다'], ['응', '하나', '만', '살', '게'], ['너', '안', '당', '해보다', '모르다', '얼마나', '짜증나다', '욕', '절로', '나오다'], ['음식물', '쓰레기', '때문', '냄새', '나', '것', '같다'], ['빠르다', '치우다', '보다', '고맙다'], ['그', '생각', '못', '좋다', '생각', '이야'], ['함께', '달리다', '크루', '있다', '내', '지치다', '힘들다', '때', '크다', '힘', '되어다'], ['아', '진짜', '짜증나다', '어떻다', '벌레', '나오다', '수', '있다'], ['그렇다', '그렇게', '해보다'], ['복권', '당첨', '돼다', '왜', '또', '물어보다'], ['어', '일단', '배달', '시키다', '어플', '후기', '남기다', '보다'], ['향수', '오다', '바로', '보여주다'], ['맞다', '이제', '부터', '뭐'], ['다음', '부터는', '내', '더', '조심하다', '겠다'], ['응', '맞다', '딱', '그', '기분', '이다'], ['너무', '화가', '나'], ['다른', '직원', '한테', '늘다', '친절하다', '대하', '면서', '나', '한테', '만', '자꾸', '짜증', '내다', '잔소리'], ['그렇다', '냄새', '너무', '심하다', '스트레스', '쌓이다', '어떡하다'], ['창', '밖', '을', '보다', '집', '주변', '까지', '물이', '차오르다', '아예', '밖', '나가다', '수가', '없다'], ['여행', '계획', '을', '세우다', '여행', '을', '다녀오다', '것', '의미', '있다', '것', '같다'], ['선수', '까지는', '아니다', '그냥', '조금', '자다', '것', '같다'], ['응', '열심히', '노력', '덕분', '인', '것', '같다'], ['싫다', '안', '보여주다', '싶다'], ['프로젝트', '진행', '친구', '을', '못', '만나다', '오랜', '만', '만', '나볼', '약속', '을', '잡다'], ['네', '아무튼', '너무', '너무', '힘들다'], ['그렇다', '사람', '양심', '없다', '사과', '억지로'], ['다행하다', '다치다', '않다'], ['내', '예전', '부터', '받다', '싶다', '향수', '선물', '로', '받다', '엄청', '마음', '들다'], ['비싸다', '건', '못', '사다', '알바', '비', '모으다', '산', '거', '거들다'], ['빨리', '버리다', '오다', '정말', '큰일', '이야'], ['고맙다', '힘내다'], ['좋다', '제품', '을', '알다'], ['달', '동안', '얼마나', '열심히', '쉬다', '않다', '일', '을', '진짜', '끝나다'], ['정말', '비', '너무', '많이', '오다', '화가', '나'], ['응', '기분', '너무', '좋다', '너무', '마음', '들다'], ['우리', '집', '안', '물', '들어오다', '않다', '그래서', '나다', '아직', '괜찮다'], ['년', '만에', '휴가', '내다', '그동안', '너무', '바쁘다', '쉬다', '시간', '없다'], ['화장실', '청소', '해도', '곰팡이', '사라지다', '않다'], ['음악', '추천', '해주다', '수', '있다', '거', '있다'], ['학교', '건물', '인데', '나', '지금', '너무', '무섭다'], ['맞다', '항상', '나', '만', '꼭', '찌다', '일', '저', '일', '다', '시키다'], ['함께', '달리다', '크루', '있다', '지치다', '힘들다', '때', '힘', '되어다', '주다'], ['기분', '너무', '좋다', '신나다', '음악', '을', '듣다', '게', '좋다'], ['어떻다', '조치', '게', '좋다'], ['안', '돼다', '하지만', '어쩔', '수', '없다'], ['아니다', '자랑', '안'], ['나', '혼자', '게', '좋다', '어', '혼자', '뛰다', '있다'], ['거의', '선수', '급'], ['내', '킬로미터', '마라톤', '대회', '출전', '예전', '내', '기록', '을', '훨씬', '갱신', '그래서', '기분', '좋다'], ['아', '짜증나다', '그', '새끼', '일', '없다', '집', '에나', '갈다', '것', '이지', '왜', '내', '옆', '붙다', '아직도', '지랄', '하고', '있다'], ['너', '말', '대로', '노트북', '문제', '없다', '여기저기', '꼼꼼하다', '살펴보다'], ['자고', '일어나다', '우리', '집', '빼다', '주변', '다', '물', '잠기다', '있다'], ['곰팡이', '제', '거제', '사용', '효과', '있다'], ['괜찮다', '지다'], ['실망', '스러운', '건', '이루', '말로', '수가', '없다', '하물며', '사과', '우리', '증거', '들다', '이대', '니까', '그때', '서다', '마지못하다'], ['명', '인데', '그게', '내', '되다', '거야'], ['방향', '제로', '처리', '되다'], ['또', '다운', '받다', '프로젝트', '돼다'], ['음식물', '쓰레기', '통', '에서', '지독하다', '냄새', '나다', '있다'], ['어쩔', '수', '없다', '고맙다'], ['노트북', '을', '오래', '사용', '수', '있다', '보험', '가입', '거', '생각', '보다'], ['역시', '모카', '내', '기분', '을', '자다', '알아주다'], ['지금', '당장', '벌레', '나오다', '짜장면', '을', '사진', '찍다', '놓다'], ['아', '음악', '들다', '기분', '아니다'], ['친구', '한테', '자랑', '너무', '좋아하다', '부러워하다'], ['곰팡이', '제', '거제', '효과', '있다', '나', '한번', '사용', '해보다', '좋다', '제품', '있다', '추천', '해주다'], ['쓰레기통', '에서', '냄새', '나다', '음식물', '쓰레기', '있다'], ['기분', '전환', '용', '영상', '어떻다', '나', '한테', '말', '해주다', '보다'], ['당연하다', '바다', '갈리다'], ['신나다', '음악', '듣다', '거', '정말', '좋아하다'], ['일', '년', '만에', '휴', '가다'], ['바닷가', '가다', '신나다', '물놀이', '맛있다', '것', '해먹', '고', '고기', '굽다', '먹다', '친구', '하고', '수다', '떨다'], ['그렇다', '친구', '만나다', '재밌다', '놀다', '오다', '거야'], ['마라톤', '을', '기록', '을', '경신'], ['응', '곰팡이', '제', '거제', '효과', '좋다'], ['회사', '바쁘다', '달', '만에', '낼', '수가', '없다', '일', '년', '정도', '걸리다'], ['아무래도', '그렇다', '야하다', '것', '같다', '난', '영화', '좋아하다'], ['아이', '그것', '그렇다', '아', '환기', '해도', '곰팡이', '안', '없어지다', '진짜'], ['달리다', '동안', '에는', '엄청', '힘들다', '결승선', '을', '통과', '순간', '기분', '날아가다', '것', '같다'], ['여름', '휴가', '라서', '바다', '가다', '다', '엉망', '진창', '돼다', '버리다'], ['아니다', '엘리베이터', '갑자기', '쾅', '하고', '서다', '정전', '까지', '돼다', '버리다', '거야', '어떡하다'], ['그렇다', '그', '것', '괜찮다', '것', '같다', '친구', '못', '만나다', '신나다', '먹다', '놀다'], ['좋다', '방향', '제', '있다', '나', '냄새', '섞이다'], ['노트북', '을', '가지', '고', '지금', '있다', '만화', '작업', '을', '거야'], ['그렇다', '같이', '먹다', '사람', '난리', '나다'], ['그치다', '일단', '쉬다'], ['며칠', '전', '버리다', '음식물', '쓰레기', '썩다', '뭐', '야'], ['그렇다', '너', '말', '대로', '오랜', '만', '여행', '을', '다녀오다', '것', '좋다', '것', '같다', '여행', '계획', '잡다', '볼', '게'], ['그렇다', '내', '입', '만', '더러워지다', '뿐', '이지'], ['이번', '새롭다', '산', '노트북', '오늘', '도착'], ['모르다', '물이', '막', '많다', '홍수', '난', '거', '같다', '애'], ['말'], ['장마철', '이라서', '곰팡이', '많이', '생기', '고', '청소', '해도', '없어지다', '않다', '신경', '많이', '쓰이다'], ['헐다', '나', '이벤트', '당첨', '돼다'], ['그렇다', '비다', '또', '왜', '그렇게', '오다', '거야', '더', '습하다'], ['무섭다', '왜', '안', '무섭다', '다', '물', '로', '잠기다'], ['쓰레기통', '에서', '완전', '역겹다', '냄새', '나다', '있다'], ['냄새', '너무', '심하다', '나서다', '지금', '버리다', '밖에', '내다'], ['휴가', '받다', '장마철', '이라서', '하루', '종일', '비', '오다'], ['응', '어떻다', '노래', '추천', '주다'], ['그렇다', '나다', '보상', '받다', '싶다'], ['그러니까', '어떻다', '새롭다', '생기다', '음식점', '에서', '그렇다', '수가', '있다'], ['나', '드디어', '프로젝트', '끝나다'], ['아주', '유명하다', '유튜버들', '죄다', '뒷', '광고', '있다'], ['바로', '전화하다', '버리다', '아', '진짜', '기분', '더럽다'], ['그래도', '내', '잘못', '건데', '다음', '부턴', '조심하다'], ['응', '좋다', '제품', '있다', '알다'], ['힘들다', '얼른', '청소', '돼다', '냄새', '심하다', '벌레', '생기다', '것', '같다'], ['화장실', '청소', '해도', '곰팡이', '없다', '지지', '않다'], ['내', '청소', '게', '힘들다', '얼른', '치우다', '거', '같다', '냄새', '너무', '독해'], ['함께', '달리다', '크루', '있다', '내', '힘들다', '때', '마다', '크다', '힘', '되어다'], ['프로젝트', '진행', '못', '만나다', '친구', '을', '만나다', '것', '좋다', '거', '같다'], ['응', '내', '완전', '갖다', '싶다', '거야'], ['화', '내지', '마', '바로', '묶다', '버리다', '생각', '하고', '있다'], ['저번', '음식물', '쓰레기', '모르다', '버리다', '것', '때문', '그렇다', '거', '같다'], ['입맛', '떨어지다', '하나', '못', '먹다'], ['드디어', '구매', '노트북', '오늘', '오다'], ['내', '휴가', '엉망', '진창', '되어다'], ['장마철', '이라서', '곰팡이', '많이', '생기', '니까', '너무', '신경', '쓰이다'], ['앞', '여기', '서', '시키다', '먹다', '일', '없다', '것', '같다'], ['아니다', '나', '보통', '혼자', '해', '혼자', '편하다'], ['유튜버', '속', '이고', '뒷', '광고', '사람', '피해', '크다'], ['그렇다', '거', '같다'], ['그치다', '먹다', '정말', '토', '줄', '알다'], ['이제', '완전하다', '모두', '다', '끝나다'], ['무섭다', '사람', '언제', '오다', '줄', '알', '아'], ['맞다', '결국', '엔', '환기', '이다', '환기', '문제', '야'], ['끝나다', '너무', '기분', '좋다', '날아가다', '것', '같다'], ['노트북', '포토샵', '을', '깔다', '만화', '작업', '을', '정말', '자다', '되다', '거', '같다'], ['아', '만하', '니까', '그', '새끼', '맨날', '나', '한테', '어', '괜히', '싫어하다', '그냥', '이유', '없이'], ['난', '영화', '보다'], ['모르다', '왜', '이렇게', '지저분하다', '곰팡이', '잔뜩', '나오다'], ['방향', '제로', '해도', '괜찮다'], ['곰팡이', '제', '거제', '과연', '효과', '있다'], ['당연하다', '완전', '좋다'], ['나', '혼자', '집', '안', '갇히다', '돼다', '너무나', '무섭다'], ['고맙다', '나다', '그렇다', '바', '래'], ['인', '플루', '언', '서', '이벤트', '것', '을', '발견', '신청', '당첨', '돼다'], ['너', '말', '대로', '노트북', '문제', '없다', '여기저기', '꼼꼼하다', '살펴보다'], ['그거', '좋다', '생각', '이다'], ['갑자기', '문', '안', '열리다'], ['노트북', '비싸다', '노트북', '보험', '가입', '것', '괜찮다', '거', '같다', '생각', '해보다'], ['화장실', '청소', '해도', '곰팡이', '사라지다', '않다'], ['우리', '동네', '다', '물바다', '되어다'], ['비싸다', '노트북', '을', '사다', '노트북', '보험', '가입', '오래', '쓸다', '수', '있다', '해보다'], ['응', '평소', '내', '정말', '정말', '가지', '고', '싶다', '향수', '이다'], ['음식물', '쓰레기', '내', '쓰레기통', '버리다', '생기다', '일이', '니까', '힘들다', '얼른'], ['나', '너무', '힘들다', '머리', '너무', '아프다'], ['정해', '서', '친구', '을', '보다'], ['하', '짜증나다', '그', '새끼', '일', '없다', '집', '에나', '갈다', '것', '이지', '결혼', '늦다', '못', '히스테리', '부리다', '건가', '왜', '나', '한테', '만', '그렇다'], ['어', '음식물', '쓰레기', '버리다', '그게', '썩다', '구'], ['구매', '좋다', '거', '있다', '추천', '해주다'], ['괜찮다', '정말', '다행', '이라고', '생각'], ['드디어', '구매', '노트북', '오늘', '도착'], ['그렇다', '달', '간', '정말', '열심히'], ['다행하다', '집', '안', '까지는', '물이', '들어오다', '않다', '더', '라고'], ['오다', '고맙다'], ['오케이', '알다', '나다', '보상', '이라는', '걸', '받다', '보다'], ['알다', '걱정', '마', '꼼꼼하다', '살펴보다', '또', '살피다', '볼', '게'], ['아니다', '무섭다', '너', '한테', '얘기', '아', '미치다'], ['며칠', '전', '버리다', '음식물', '쓰레기', '때문', '그렇게', '되다', '것', '같다', '애'], ['당연하다', '마음', '들다', '당연하다', '마음', '들다'], ['모르다', '그냥', '다', '구', '독자', '떨어지다', '나가다', '사과', '건지다', '진짜', '로', '사과', '건지다'], ['아니다', '억지로', '사과', '진정', '성', '없다'], ['내', '음식물', '쓰레기', '버리다', '생기다', '일이', '니까', '얼른', '청소'], ['집', '안', '갇히다', '있다', '게', '무슨', '상황', '인지', '모르다'], ['너', '말', '대로', '여행', '을', '다녀오다', '것', '좋다', '것', '같다'], ['다', '들다', '그', '맛', '거지', '진짜', '전율', '흐르다'], ['글쎄', '내', '좋아하다', '유튜버', '뒷', '광고', '시청자', '한테', '사과', '영상', '을', '올리다'], ['니', '진심', '축하', '해주다', '내', '기분', '너무', '좋다'], ['좋다', '생각', '같다', '청소', '해도', '안', '돼다'], ['우리', '사장', '님', '나', '만', '미우다', '가보다', '나', '만', '일', '을', '엄청', '시키다', '있다'], ['내', '달리다', '운동', '을', '너무', '좋아하다', '매번', '열리다', '있다', '마라톤', '대회', '나가다', '있다'], ['그래도', '거기', '짜장면', '집', '전화하다', '음식', '값', '환불', '해주다'], ['나', '향수', '써다', '보고', '싶다', '개꿀'], ['맞다', '완전하다', '끝내다', '달', '간', '정말', '고생', '많다'], ['그렇다', '건', '아니다', '그냥', '혼자', '서', '열심히', '연습', '하고', '있다'], ['선수', '하고는', '비교', '수가', '없다', '일반인', '중', '에서', '자다', '나오다'], ['순간', '힘드다', '게', '싹', '사라지다', '더', '라고'], ['아니다', '요즘', '다', '정말', '왜', '이르다', '거지', '이해', '안', '돼다'], ['조금', '무섭다', '기다', '해'], ['그건', '맞다', '뭔가', '너무', '방금', '너무', '화가', '나다'], ['우와', '나', '갇히다', '것', '같다'], ['아니다', '아직'], ['그렇다', '않다', '지금', '뜯다', '그런데', '상품', '아주', '좋다', '너무', '마음', '들다'], ['근데', '상사', '진짜', '너무하다'], ['나', '혼자', '집', '갇히다', '것', '같다', '너무', '무섭다'], ['선수', '까진', '아니다', '그냥', '내', '원래', '기록', '을', '조금', '단축'], ['방향', '제', '뿌리', '면', '냄새', '더', '독해', '지지', '않다'], ['다른', '직원', '한테', '늘다', '친절하다', '나', '한테', '만', '맨날', '뭐라다', '화가', '나서다', '그렇다', '정말', '너무하다', '않다'], ['장마', '때문', '비', '엄청', '내다', '우리', '동네', '고립', '되다', '집', '안', '갇히다', '돼다'], ['집', '주변', '까지', '물이', '차', '올라서다', '바깥', '나가다', '수가', '없다'], ['에이', '선수', '무슨', '그냥', '취미', '로', '뭐'], ['아우', '짜증나다', '상사', '새끼', '옆', '붙다', '왜', '지랄', '인지', '모르다'], ['나가다', '수가', '없다', '밖에', '물', '많이', '차', '있다', '문도', '안', '열리다'], ['나', '혼자', '집', '안', '갇히다'], ['어', '알다', '고맙다'], ['얼른', '치우다'], ['휴가', '기간', '내내', '비소', '식이', '있다', '집', '에서', '즐겁다', '휴가', '보내다', '보다'], ['응', '지금', '혼자', '갇히다'], ['야', '화장실', '을', '청소', '해도', '곰팡이', '없어지다', '않다'], ['오다', '짜장면', '에서', '벌레', '나오다'], ['모르다', '진짜', '짜증나다', '어떡하다'], ['아', '짜증나다', '그', '새끼', '왜', '나', '한테', '만', '그렇다', '거야', '일', '없다', '집', '에나', '갈다', '것', '이지', '결혼', '못', '히스테리', '부리다', '건가'], ['나', '이벤트', '당첨', '돼다'], ['어', '그렇다', '고맙다'], ['너', '말', '맞다', '것', '같다', '욕', '기분', '나아지다', '않다', '나', '신나다', '음악', '을', '들다', '기분', '좋아지다'], ['그래도', '너무', '짜증', '나', '걸', '어떡하다'], ['나', '마라톤', '기록', '을', '갱신'], ['그렇다', '건', '아니다', '그냥', '나', '혼자', '서', '열심히', '연습', '하고', '있다'], ['맞다', '우리', '화장실', '환풍기', '없다'], ['아니다', '너', '지금', '내', '왜', '화가', '나다', '모르다', '거', '같다', '이해', '안', '돼다'], ['곰팡이', '제', '거제', '가격', '얼마', '지'], ['그러니까', '먹다', '토', '알다'], ['내', '선물', '그렇게', '궁금하다', '나중', '꼭', '보여주다'], ['하필', '장마철', '이랑', '겹', '치다', '하루', '종일', '비', '오다'], ['내', '쓰레기통', '을', '제때', '제', '때', '비우다', '않다', '그렇다'], ['당연하다', '벌써', '버리다', '오다'], ['그렇다', '아', '집', '냄새', '다', '베다', '아', '진짜', '어떡하다'], ['친구', '내일', '만나다', '벌써', '약속'], ['그래서', '그', '런가', '하루', '종일', '화장실', '만', '청소'], ['빨리', '버리다', '되다', '거', '같다', '애'], ['최종', '발표', '마치다', '프로젝트', '완전하다', '끝나다', '너무', '신나다'], ['화장실', '자주', '청소', '해도', '곰팡이', '사라지다', '않다'], ['그렇다', '으', '휴', '아직도', '그', '냄새', '끔찍하다'], ['무섭다', '그래도', '곧', '사람', '오다', '것', '같다', '해'], ['다음', '부턴', '음식물', '쓰레기', '그', '때', '그', '때', '버리다'], ['으', '사진', '찍기', '징그럽다'], ['응', '알다', '나', '랑', '여행', '갈래'], ['너', '랑', '이야기', '안', '통해', '답답하다'], ['맞다', '정확하다', '그래서', '너무', '힘들다'], ['짜증나다', '새끼', '일', '없다', '집', '에나', '갈다', '것', '이지', '정말'], ['아', '짜증나다', '상사', '놈', '왜', '집', '에도', '안', '가다', '내', '옆', '붙다', '지랄', '이야'], ['내', '달리다', '운동', '을', '너무', '좋아하다', '매번', '마라톤', '대회', '출전', '을', '해'], ['유튜버들', '돈', '받다', '제품', '을', '사서', '광고', '해주다', '있다'], ['지금', '몸', '보다는', '마음', '너무', '무섭다'], ['과연', '방향', '제로', '냄새', '잡', '을', '수', '있다'], ['알다', '바로', '사용', '설명', '서', '보고', '확인', '해보다'], ['오', '신나다', '음악', '좋다', '들다'], ['그거', '괜찮다', '친구', '이랑', '놀다'], ['당연하다', '달', '간', '얼마나', '고생'], ['몸', '괜', 'ㅊ', '낳다', '혼자', '있다', '게', '너무', '무섭다', '집', '안', '물이', '들어오다', '너무', '겁나다'], ['비', '너무', '많이', '오다', '너무', '슬프다', '짜증', '나'], ['거기', '다시다', '안', '시키다', '거야'], ['그렇다', '바로', '버리다'], ['집', '밖', '을', '보다', '집', '주변', '까지', '물이', '차오르다', '바깥', '나가다', '없다'], ['그렇다', '놈', '욕', '을', '처', '먹다', '그렇다', '짓', '을', '거', '라고'], ['지금', '당장', '벌레', '나오다', '짜장면', '을', '찍다', '놓다'], ['어쩌겠어', '내', '실수', '거', '니까', '얼른', '깨끗이', '치우다'], ['내', '버리다', '음식물', '쓰레기', '상해', '서', '냄새', '나', '거', '이다'], ['환기', '자주', '확인', '창문', '너무', '작다', '보다'], ['음식물', '썩다', '내', '가장', '싫다'], ['맞다', '기분', '진짜', '별로', '야', '거', '어떡하다', '돼다'], ['아', '모르다', '짜증', '나', '짜증', '나다'], ['어', '이제', '집', '에서', '맨날', '쉬', '고', '놀다'], ['무섭다', '너무', '너무', '무섭다', '나가다', '싶다'], ['아', '짜증나다', '그', '새끼', '일이', '없다', '집', '에나', '갈다', '것', '이지', '결혼', '못', '히스테리', '나', '한테', '부리다', '건가', '왜', '나', '한테', '만', '그렇다'], ['나', '축하', '주다', '기분', '좋다', '일이', '생기다'], ['너무', '무섭다', '귀신', '나오다', '것', '같다'], ['방향', '제보', '다', '환기', '먼저'], ['그래도', '사진', '찍다', '좋다'], ['쓰레기통', '에서', '존나', '역겹다', '냄새', '나다'], ['너무', '많다', '일일이', '나열하다', '수가', '없다'], ['응', '갖다', '싶다', '향수'], ['요즘', '사람', '때문', '미치다', '믿다', '수', '있다', '사람', '별로', '없다'], ['그렇다', '꼭', '보여주다', '얼마나', '예쁘다', '비싸다', '향', '순', '데'], ['기분', '전환', '되다', '영상', '있다'], ['오다', '달동', '안', '개', '고생', '인제', '야', '끝나다'], ['아', '짜증나다', '그', '새끼', '일', '끝나다', '빨리', '집', '에나', '가지', '남다', '자꾸', '나', '한테', '뭐라다', '해'], ['어떻다', '음악', '인데'], ['거의', '그렇다고', '수', '있다'], ['아니다', '자랑', '않다'], ['곰팡이', '제', '거제', '효과', '있다'], ['바닷가', '에서', '수영', '물놀이', '실컷', '거야'], ['맞다', '진짜', '기분', '좋다'], ['향수', '이벤트'], ['아직', '안', '선물', '오다'], ['곰팡이', '제', '거제', '사용', '훨씬', '나아지다', '나', '한번', '구매', '해보다'], ['명', '뽑다', '건데', '내', '운', '너무', '좋다', '행운', '이야'], ['나', '혼자', '갇히다', '것', '같다', '너무', '무섭다'], ['너무', '너무', '기분', '좋다', '나르다', '갈다', '것', '같다', '행복하다'], ['가야', '장마', '오다', '갈다', '수가', '없다', '일', '년', '만에', '휴', '가다', '너무', '속상하다'], ['내', '가족', '이랑', '동해', '바다', '가다', '놀다', '오기', '로'], ['확인', '하고', '집', '들어오다', '돼다', '내', '바보', '이다'], ['원래', '휴가', '계획', '여름', '바다로', '놀다', '가기', '로'], ['꼭', '보여주다'], ['그렇다', '달', '간', '얼마나', '고생'], ['아', '사진', '찍다', '따지다', '되다', '그러면', '되다'], ['명', '뽑다', '내', '당첨', '되다', '거야'], ['여행', '힘들다', '많이', '쉬다', '겠다'], ['아니다', '다른', '애', '한테', '늘다', '안', '그렇다', '나', '한테', '만', '지랄', '다니다'], ['왜', '좋다', '거', '알', '아', '추천', '해주다', '수', '있다'], ['그렇다', '냄새', '너무', '심하다', '빨리', '없애다', '해'], ['음식물', '쓰레기', '때문', '이야'], ['그러니까', '말', '이야', '다른', '사람', '앞', '에서는', '그렇게', '왜', '나', '한테', '만', '그렇다', '모르다'], ['노트북', '상태', '너무', '궁금하다', '오', '자마자', '노트북', '을', '살펴보다', '노트북', '을', '켜보', '니까', '너무', '작동', '을', '문제', '있다', '곳', '곳도', '없다'], ['만원', '조금', '넘다', '내', '요', '번', '에는', '제대로', '투자'], ['으아', '짜장면', '먹다', '거기', '서', '벌레', '나오다'], ['그렇다', '당연하다', '구매'], ['그래서', '그', '런가', '하루', '종일', '화장실', '청소', '만', '있다', '기분', '이야'], ['진짜', '기분', '좋다'], ['마라톤', '대회', '출전', '거기', '서', '예전', '내', '기록', '을', '갱신', '너무', '기분', '좋다'], ['내', '기록', '이라', '엄청', '좋다', '않다'], ['내', '선물', '어떻다', '건지다', '보고', '싶다', '그렇다', '나중', '꼭', '보여주다'], ['쓰레기통', '내', '버리다', '음식물', '쓰레기', '상하', '서', '냄새', '나', '거야'], ['내', '잘못', '것', '없다', '어', '유독', '나', '한테', '만', '그렇다', '거', '같다', '애'], ['정말', '여행', '가다', '싶다', '요즘', '휴가', '철', '이라', '갈다', '많다', '것', '같다'], ['나', '이번', '마라톤', '에서', '기록', '갱신'], ['그렇다', '일주일', '동안', '고생'], ['나', '지금', '엘리베이터', '갇히다', '버리다', '어떡하다'], ['장마', '때문', '갑자기', '비', '많이', '내다', '우리', '동네', '고립', '되다', '혼자', '갇히다', '돼다'], ['알다', '친구', '이랑', '만나다', '여행', '계획', '세우다', '볼', '게'], ['엘리베이터', '갑자기', '쾅', '그냥', '멈추다', '버리다'], ['그렇다', '너', '말', '대로', '음악', '이나', '들다', '기분', '풀다', '난', '발라드', '좋다'], ['너', '생각', '그렇다', '나다', '그렇게', '생각'], ['그렇다'], ['구매', '좋다', '거', '강하다', '거', '있다', '추천', '해주다'], ['들다', '모두', '같이', '가보다'], ['아', '짜증나다', '그', '새끼', '일', '없다', '집', '에나', '갈다', '것', '이지', '왜', '나', '한테', '만', '뭐라다', '해'], ['헐다', '나', '이벤트', '당첨', '돼다'], ['는데', '무슨', '사진', '이야', '안', '찍다'], ['회사', '바쁘다', '년', '만에', '내다'], ['마라톤', '대회', '출전', '내', '기록', '엄청', '좋다', '나오다', '더', '라고'], ['하나', '사다', '어디서', '살다', '제일', '싸다', '좋다'], ['사진', '찍다', '걸', '어디', '말'], ['아', '짜증나다', '상사', '자꾸', '옆', '에서', '괴롭히다', '있다', '그', '놈', '집', '에도', '안', '가다', '뭐', '대'], ['아니다', '그냥', '나', '혼자', '취미', '로'], ['당연하다', '선물', '오다', '바로', '보여주다'], ['응', '이제', '뭐', '거의', '마무리', '만', '끝', '이니까', '자유', '지', '자유'], ['당연하다', '맘', '들다', '엄청', '비싸다', '향수', '거들다'], ['이번', '마라톤', '대회', '출전', '그', '대회', '에서', '내', '기록', '엄청', '좋아지다', '더', '라고'], ['몸', '지금', '괜찮다'], ['그거', '어디서', '팔다'], ['어쩔', '수', '없다', '비', '오', '니까', '나가다', '수도', '없다', '알다', '고맙다'], ['네', '운동', '을', '통해', '서', '스트레스', '해소', '해보다'], ['명', '뽑다', '거', '라', '기대', '안', '내', '뽑히다'], ['응', '달', '간', '고생', '완전하다', '끝내다'], ['거기', '안', '음식물', '쓰레기', '있다', '그게', '엄청', '상', '아'], ['응', '나', '구매', '하고', '싶다', '혹시', '알다', '곳', '있다'], ['아유', '어쩔', '수', '없다', '뭐', '고맙다'], ['노트북', '오늘', '도착'], ['그렇다', '당연하다', '완전하다', '끝내다', '달', '간', '정말', '고생', '많다'], ['어우', '짜장면', '에서', '벌레', '나오다'], ['당연하다', '같이', '운동', '하고', '같이', '출전', '사람', '있다'], ['쓰레기', '냄새', '때문', '너무', '속상하다', '저걸', '어떻다', '치우다', '너무', '고민', '돼다'], ['그냥', '화장실', '구조', '문제', '인', '것', '같다'], ['그', '동안', '회사', '너무', '바쁘다', '가지', '못', '년', '만인', '것', '같다'], ['아', '짜증나다', '그', '새끼', '일', '없다', '집', '에나', '갈다', '것', '이지', '왜', '히스테리', '부리다'], ['마라톤', '대회', '에서', '내', '좋다', '성적', '을', '거두다'], ['휴가', '기간', '내내', '비', '오다', '너', '말', '대로', '집', '에서', '즐기다', '수', '있다', '방법', '을', '찾다', '보다'], ['내', '너무나', '믿다', '유튜버', '인데', '뒷', '광고', '실망', '스럽다', '배신', '을', '느끼다'], ['선수', '아니다', '내', '달리다', '운동', '을', '너무나', '좋아하다', '매번', '열리다', '마라톤', '대회', '나가다', '있다'], ['안', '그렇다', '지금', '묶다', '버리다'], ['뭐', '어떻다'], ['그냥', '사과', '만', '해도', '좋다', '것', '같다'], ['맞다', '사실', '별로', '튀다', '게', '안', '좋아하다', '가지', '고'], ['그렇게'], ['음식물', '쓰레기통', '들어가다', '보다'], ['장마철', '이라서', '그', '런가', '저', '게', '없어지다', '않다', '계속', '닦다', '있다'], ['쓰레기통', '음식물', '쓰레기', '버리다', '음식물', '쓰레기', '상해', '서', '냄새', '나다'], ['다행하다', '우리', '집', '까지는', '들어오다', '않다', '나다', '괜찮다'], ['비', '너무', '많이', '오다'], ['썩다', '음식물', '쓰레기', '손대다', '싫다'], ['아', '내', '말', '짜증나다'], ['그렇다', '알다'], ['그런', '건가', '너무', '짜증나다'], ['헤어지다', '우울하다'], ['크다', '이벤트', '대회', '당첨', '돼다'], ['명', '만', '뽑다', '거', '이다'], ['곰팡이', '제', '거제', '사용', '효과', '있다'], ['며칠', '전', '음식물', '버리다', '그게', '썩다', '있다'], ['어', '잠깐', '밖에', '나가다', '멈추다'], ['어', '그동안', '너무', '힘들다'], ['어', '정말', '고맙다'], ['완전하다', '끝나다', '기분', '너무', '좋다'], ['어', '그거', '좋다'], ['곰팡이', '제', '거제', '효과', '있다'], ['내', '선물', '궁금하다', '그렇다', '나중', '번', '보여주다'], ['어', '때', '까지', '잠도', '자다', '못', '자다', '주말', '계속', '잠', '자다', '집', '있다'], ['마라톤', '완주', '성공하다'], ['그냥', '버리다', '버리다', '아우', '진짜', '끔찍하다', '아무리', '내', '그런', '거', '라고는', '하지만', '다음', '부턴', '조심하다'], ['내', '좋아하다', '인', '플루', '언', '서', '진행', '이벤트', '당첨', '되다', '거야', '너무', '기쁘다'], ['저런', '새끼', '욕', '치다', '먹다', '나', '한테', '그렇다', '거야'], ['나다', '그렇다', '생각', '중이', '야', '집', '에서', '없다'], ['어떻다', '노래', '추천', '줄', '수', '있다'], ['집', '아무', '없다', '나', '혼자', '갇히다', '돼다', '너무', '무섭다', '두렵다'], ['이번', '마라톤', '나가다', '내', '기록', '깨다'], ['아니다', '요즘', '왜', '그렇다'], ['그', '래야', '것', '같다', '곰팡이', '안', '없어지다'], ['나', '아무래도', '혼자', '갇히다', '거', '같다'], ['에이', '미리', '미리', '돼다', '안', '이렇다', '뭐', '고맙다'], ['아유', '그렇다', '음식물', '쓰레기', '빨리', '빨리', '버리다'], ['전화', '여러', '번', '오다', '모르다', '잠', '들다'], ['정말', '왜', '그렇게', '돼다', '사진', '찍다'], ['내', '마라톤', '대회', '출전', '이전', '내', '기록', '을', '훨씬', '갱신'], ['그래도', '욕', '을', '안', '수가', '없다', '사람', '이야'], ['응', '나', '혼자', '있다', '너무', '무섭다'], ['몸', '괜찮다', '우리', '집', '언제', '잠기다', '불안하다'], ['알다', '짜장면', '버리다', '전', '얼른', '사진', '찍다', '놓다'], ['지난', '번', '음식물', '쓰레기', '내', '그', '곳', '버리다', '그렇다'], ['그래도', '나', '한테', '그렇다', '게', '더', '나쁘다', '그렇다', '새끼', '욕', '을', '바가지', '해주다', '되다'], ['너무', '좋다', '고맙다'], ['그것', '좋다', '거', '같다', '애', '근데', '음악', '추천', '해주다', '안', '되다'], ['아니다', '아직', '논문', '쓰다', '남아', '서'], ['화장실', '습기', '많다', '환기', '자다', '되다', '않다', '매', '일', '매일', '화장실', '청소', '곰팡이', '왜', '안', '없어지다'], ['딱', '명', '뽑다', '건데', '내', '당첨', '돼다'], ['조금씩', '물이', '들어오다', '것', '같다', '한데', '아직', '괜찮다'], ['휴가', '동해', '바다', '가기', '로'], ['알다', '친구', '이랑', '여행', '계획', '세우다', '볼', '게'], ['아니다', '다른', '사람', '한테', '늘다', '아무', '말', '안', '나', '한테', '만', '계속', '지적', '하고', '뭐라다', '그러니까', '화가', '나서다', '자연', '스럽게', '욕', '나오다', '거야'], ['억지로', '사과', '진정', '성', '있다', '우리', '더', '상처', '받다', '느낌', '이야'], ['어', '지금', '뜯다', '켜', '보다'], ['유튜', '버들', '뒷', '광고', '말', '이야'], ['그렇다', '우선', '냄새', '나', '니까', '그게', '제일', '이지'], ['그러니까', '하루', '종일', '화장실', '청소', '만', '기분', '이야'], ['사람', '때문', '억지로', '사과', '진정', '성', '없다'], ['화장실', '청소', '계속', '해도', '곰팡이', '없어지다', '않다'], ['명', '만', '뽑다', '거', '이다', '근데', '내', '당첨', '돼다'], ['어', '바닷가', '가다'], ['내', '음식물', '쓰레기', '쓰레기통', '버리다', '냄새', '나', '거야'], ['그러니까', '새롭다', '오픈', '집', '이어서', '시키다', '보다', '건데', '게', '뭐', '야'], ['드디어', '새롭다', '산', '노트북', '도착', '뜯다', '보다'], ['맞다', '환기', '제대로', '못', '시키다', '그렇다', '것', '같다'], ['백화점', '에서', '진행', '되다', '이벤', '틀다', '그거', '당첨', '돼다'], ['프로젝트', '너무', '많다', '바쁘다', '일', '년', '만에', '받다', '휴가', '인데', '어쩜', '휴가', '갈다', '수가', '없다', '돼다'], ['마라톤', '대회', '출전', '내', '이전', '기록', '을', '훨씬', '갱신'], ['몸', '괜찮다', '집', '안', '에까지', '물이', '들어오다', '너무', '걱정', '돼다'], ['지금', '나', '한테', '뭐라다', '거야'], ['나', '혼자', '집안', '갇히다', '돼다', '엄청', '무섭다'], ['자고', '일어나다', '보', '니까', '이렇게', '돼다', '상황', '전화', '여러', '번', '오다'], ['어', '그렇다', '그거', '너무', '좋다'], ['응', '완전하다', '끝나다', '야근', '없다'], ['알다', '사용', '설명', '서', '보고', '꼼꼼하다', '챙기다', '볼', '게'], ['그니까', '짜장면', '집', '에서', '벌레', '나오다', '적다', '게', '처음', '이야'], ['추천', '해주다', '보다', '아직', '강력하다', '쎄다', '걸', '로'], ['아니다', '밖에', '홍수', '나가다', '막', '대', '피하', '라는', '데', '물이', '들이다', '차갑다', '문', '안', '열리다'], ['문', '을', '자주', '열', '어도', '자꾸', '곰팡이', '생기다'], ['완전', '좋다'], ['이제', '드디어', '완전하다', '끝나다'], ['우와', '그것', '진짜', '좋다', '거', '같다', '너무', '고맙다'], ['사진', '을', '남기다', '컴', '플레인', '을', '걸', '수', '있다', '모르다'], ['휴', '내', '벌리다', '일이', '니까', '내', '얼른', '치우다'], ['아니다', '혼자', '뛰다', '나'], ['나', '혼자', '갇히다', '것', '같다'], ['응', '진짜', '오래', '걸리다', '자다', '끝나다', '다행', '이야'], ['화장실', '청소', '곰팡이', '계속', '생기다'], ['이벤트', '라는', '데', '너무', '기분', '좋다'], ['딱', '명', '뽑다', '그게', '내', '된거', '야'], ['자세하다', '말', '건', '없다', '우리', '동네', '밤', '비', '그렇게', '많이', '오다'], ['어떡하다', '나', '갇히다', '것', '같다'], ['집', '안', '갇히다', '있다', '물이', '밖에는', '잔뜩', '고여', '있다'], ['내', '좋아하다', '인', '플루', '언', '서', '진행', '이벤트', '있다', '거기', '당첨', '되어다'], ['나', '혼자', '집', '안', '갇히다', '되다', '것', '같다'], ['정말', '그렇다', '보험', '있다', '당연하다', '가입'], ['당연하다', '맘', '들다', '엄청', '비싸다', '향수', '야'], ['너', '지금', '내', '앞', '에서', '그', '새끼', '편', '들다', '거야'], ['나', '좋다', '일', '있다'], ['그렇다', '조언', '고맙다'], ['노트북', '거', '너무', '많다', '영화', '랑', '음악', '다운', '받다', '보다', '그리고', '프로젝트', '돼다'], ['나', '축하', '해주다', '기분', '좋다', '일이', '생기다'], ['나', '축하', '해주다', '기분', '좋다', '일', '있다'], ['맞다', '완전', '정확하다', '나', '한테', '만', '계속', '난리', '야', '진짜', '지랄', '이야'], ['아', '짜장면', '에서', '벌레', '나오다'], ['이번', '마라톤', '에서', '등'], ['다', '들다', '같이', '운동', '같이', '경기', '참여'], ['좋다', '생각', '인데', '나', '말', '을', '자다', '못', '해'], ['결승선', '을', '통과', '순간', '힘드다', '싹', '사라지다'], ['그동안', '바쁘다', '여행', '을', '못', '가다', '이번', '기회', '여행', '갈다', '계획', '을', '세우다', '보다'], ['절대로', '안', '알다', '궁금하다'], ['음식물', '쓰레기', '들다', '있다', '그게', '썩다', '거', '같다'], ['너', '말', '방법', '가장', '좋다', '거', '같다'], ['선수', '아니다', '그냥', '조금', '열심히', '것', '뿐', '이야', '그', '동안', '연습', '을', '많이'], ['드디어', '완전하다', '끝나다', '너무', '신나다'], ['드디어', '구매', '노트북', '도착', '뜯다', '보다'], ['아', '노트북', '보험', '있다', '한번', '생각', '해보다'], ['너무', '많다', '영화', '보고', '음악', '듣다', '게임', '쇼핑', '채팅', '두루', '두루', '많이'], ['쓰레기통', '을', '자다', '안', '비우다', '그렇다'], ['내', '평소', '정말', '갖다', '싶다', '향수', '야'], ['갑자기', '멈추다', '전원', '나가다'], ['당첨', '선물', '내', '갖다', '싶다', '향수', '라서', '너무나', '마음', '들다'], ['그냥', '하늘만', '원망하다', '지내다', '영화', '나', '게임', '그런', '걸', '보내다', '더', '나다', '것', '같다', '해'], ['다', '들다', '바쁘다', '내', '얘기', '들다', '줄', '시간', '없다'], ['딱', '명', '뽑다', '그게', '내', '되다', '거야'], ['아니다', '취미', '생활', '이라', '그냥', '나', '혼자', '가다'], ['완전하다', '끝나다', '얼마나', '열심히'], ['내', '좋아하다', '유튜버', '괜찮다', '제품', '이라고', '소개', '난', '그걸', '철썩', '같이', '믿다', '구매', '뭐', '야', '근데', '알', '고', '보다', '그게', '광고', '이다', '돈', '받다', '광고'], ['휴가', '기간', '동안', '비', '소식', '있다', '집', '에서', '휴가', '즐기다', '수', '있다', '방법', '을', '찾다'], ['아니다', '요즘', '엔', '다', '왜', '이르다', '거지', '이해', '안되다'], ['니', '뭘', '알', '아'], ['아', '짜장면', '에서', '벌레', '나오다'], ['뭐', '거의', '선수', '라고', '수', '있다'], ['아', '짜장면', '벌레', '나오다'], ['그런데', '신경', '쓰다', '청소', '곰팡이', '안', '없어지다'], ['어후', '그렇다', '거', '겠다', '근데', '거', '어떡하다'], ['만원', '짜다', '노트북', '을', '사다', '배송', '늦어지다', '걱정', '하고', '있다', '오늘', '도착', '기분', '너무', '좋다'], ['선수', '아니다', '운동', '을', '좋아하다', '열심히', '뿐', '이야'], ['지금', '바로', '전화하다', '짜장면', '에서', '벌레', '나오다', '이야기', '해보다'], ['구매', '좋다', '거', '있다', '추천', '해주다'], ['오늘', '부터', '일주일', '간', '휴가', '기간', '인데', '휴가', '기간', '내내', '비', '온대'], ['아니다', '그', '새끼', '왜', '나', '한테', '만', '히스테리', '부리다', '거야', '집', '에나', '갈다', '것', '이지', '늦다', '잊다', '말고'], ['나', '이벤트', '당첨', '돼다', '흐흐'], ['아', '휴', '짜장면', '에서', '벌레', '나오다'], ['뛰다', '동안', '에는', '힘들다', '지치다', '결승선', '을', '통과', '순간', '기분', '너무', '좋다'], ['그러니까', '나다', '함께', '싶다', '힘들다'], ['고약하다', '냄새', '진동', '을', '얼른', '청소'], ['괜찮다', '빨리', '나가다', '버리다', '오다'], ['엄청', '비싸다', '향수', '당첨', '선물', '로', '받다', '다', '들다', '부럽다', '해'], ['아', '짜증나다', '그', '새끼', '일이', '없다', '집', '에나', '갈다', '것', '이지', '결혼', '못', '히스테리', '나', '한테', '부리다', '건가', '왜', '항상', '나', '한테', '만', '그렇다'], ['그렇다', '달', '간', '얼마나', '고생'], ['선물', '내', '갖다', '싶다', '향수', '라서', '너무', '마음', '들다'], ['그', '래야', '것', '같다', '그', '동안', '너무', '힘들다'], ['선수', '아니다', '달리다', '운동', '을', '너무', '좋아하다', '매번', '열리다', '있다', '마라톤', '대회', '나가다', '있다'], ['몸', '괜찮다', '어떻다', '걱정', '돼다'], ['경품', '등', '추첨', '건데', '등', '돼다', '버리다'], ['어', '항상', '마라톤', '동호회', '사람', '이랑', '같이', '뛰다'], ['화장실', '을', '청소', '곰팡이', '사라지다', '않다'], ['내', '쓰레기', '함부로', '버리다', '생기다', '일이', '니까', '힘들다', '얼른', '치우다'], ['오케이', '알다', '네', '하라', '대로', '다', '해', '볼', '게'], ['몸', '괜찮다', '하지만', '여기', '서', '나가다', '못', '보다', '두렵다'], ['아', '짜증나다', '그', '새끼', '일', '없다', '집', '에나', '갈다', '것', '이지', '왜', '나', '한테', '만', '그렇다'], ['속이다', '다', '시원하다', '완전하다', '끝나다'], ['이제', '그', '중국집', '다시다', '안', '가다'], ['씨발', '좆', '같다', '애', '그', '새끼', '왜', '나', '한테', '만', '그렇다', '거야'], ['나', '축하', '해주다', '기분', '좋다', '일이', '있다'], ['입다', '거', '내', '꼭', '보여주다', '약속'], ['벌레', '들어가다', '짜장면', '을', '확실하다', '찍다', '적당하다', '조치', '취', '해주다'], ['그렇다', '말', '이야', '너무', '힘들다'], ['여행', '어디', '로', '가다', '좋다'], ['밤', '비', '그렇게', '오는', '지도', '모르다', '잠', '만', '자다', '그래서', '대피', '문자', '못', '보고'], ['고맙다', '너', '한번', '같이', '뛰다', '나중'], ['완전', '마음', '들다', '비싸다', '향수', '거들다'], ['네', '빨리', '환기', '시키다'], ['아니다', '요즘', '다', '들다', '왜', '그렇다', '모르다'], ['욕', '말고', '아', '짜증나다', '해'], ['신나다', '음악', '들다', '스트레스', '풀', '고', '싶다'], ['완전하다', '끝나다', '속이다', '아주', '시원하다', '그', '동안', '열심히', '일', '을', '쉬다', '못', '하고', '너무', '힘들다'], ['명', '뽑다', '그게', '나다'], ['당첨', '선물', '내', '좋아하다', '향수', '라서', '너무', '마음', '들다'], ['응', '그냥', '갇히다', '기계', '적', '문제', '없다', '것', '같다', '애'], ['아', '지난', '번', '버리다', '쓰레기', '있다'], ['그래도', '속', '시원하다', '걸'], ['원래', '휴가', '계획', '뭐', '겠다', '바다', '갈리다'], ['아니다', '진정', '성', '안', '보이다', '또', '다시', '거짓말', '을', '것', '같다'], ['그렇다', '더', '바라다', '나위', '없다', '내일', '만나다', '친구', '이랑', '상의', '해보다', '되다'], ['네', '좋다', '추천', '해주다'], ['휴가', '장마', '태풍', '겹', '치다', '나가다', '수가', '없다'], ['그게', '좋다', '그렇다', '바로', '전화', '해보다'], ['실망', '실망', '인데', '그냥', '지금', '너무', '짜증나다', '죽다', '걔네', '날', '속', '이고', '있다', '거', '잖다'], ['실수', '로', '음식물', '쓰레기', '제때', '안', '버리다', '보다', '쓰레기', '넘치다'], ['구매', '노트북', '오늘', '도착'], ['그렇다', '치우다', '전', '증거', '로', '사진', '찍다'], ['쓰레기통', '있다', '쓰레기', '오래', '돼다', '그렇다', '것', '같다'], ['빨리', '치우다', '뭐'], ['아니다', '그냥', '아마추어', '지', '아직'], ['불', '안', '꺼지다', '꼭', '금방', '이라도', '떨어지다', '거', '같다', '무섭다'], ['마라톤', '기록', '경신'], ['그렇다', '것', '같다', '우리', '화장실', '에는', '창문', '없다'], ['어', '지금', '기분', '너무', '안', '좋다', '토', '것', '같다'], ['어', '나', '지금', '혼자', '야', '어떡하다'], ['화장실', '청소', '아무리', '해도', '깨끗해지다', '않다'], ['내', '잘못', '것', '없다', '나', '한테', '만', '그렇다'], ['알다', '아', '기분', '진짜', '좋다'], ['우리', '집', '쓰레기통', '에서', '정말', '고', '약', '시', '런', '냄새', '나기', '시작'], ['그렇다', '정말', '짜증나다'], ['그러면', '어떻다'], ['우리', '집', '화장실', '환기', '자다', '되다', '않다'], ['오다', '나', '드디어', '끝나다'], ['으', '쓰레기통', '에서', '역겹다', '냄새', '나기', '시작'], ['아니다', '집', '에서', '엘리베이터', '타고', '회사', '가다가', '갑자기', '엘리베이터', '쾅', '하고', '멈추다', '거야'], ['홀가분하다', '마음', '신나다', '음악', '을', '듣다', '것', '좋다', '것', '같다'], ['어', '사방', '다', '물', '로', '막히다'], ['어후', '화장실', '청소', '해도', '곰팡이', '사라지다', '않다'], ['어', '사진', '못', '찍다'], ['너', '말', '대로', '오랜', '만', '여행', '을', '다녀오다', '것', '좋다', '것', '같다', '계획', '번', '세우다', '볼', '게'], ['화장실', '청소', '해도', '곰팡이', '사라지다', '않다'], ['우리', '집다', '층', '이라', '물이', '차다', '않다', '다행하다'], ['함께', '달리다', '크루', '있다', '힘들다', '지치다', '때', '크다', '힘', '되어다', '주다'], ['친구', '이랑', '같이'], ['알다', '나중', '내', '꼭', '뿌리', '고', '나오다'], ['짜증나다', '그', '새끼', '일', '없다', '집', '에나', '갈다', '것', '이지', '왜', '항상', '나', '한테', '만', '그렇다'], ['짜장면', '너무', '먹다', '도저히', '못', '먹다'], ['일단', '창문', '열다', '방향', '제', '사르다', '나가다'], ['오다', '나', '짜장면', '먹다', '벌레', '나오다'], ['당황', '못', '찍다'], ['방향', '제', '뿌리', '고', '환기', '시키다', '해'], ['사과', '진정', '성', '없다'], ['집', '주변', '까지', '물이', '차오르다', '밖', '나가다', '수가', '없다'], ['당연하다', '그렇다', '그거', '안', '해주다', '진짜', '말', '안', '되다'], ['프로젝트', '아직', '안', '끝나다'], ['유명하다', '유튜버들', '다', '뒷', '광고', '하고', '있다', '거야'], ['친구', '만나다', '여행', '계획', '세우다', '그렇게', '거야'], ['일단', '주말', '너무', '바쁘다', '일단', '쉬다'], ['냄새', '너무', '심하다', '버리다', '지금', '밖', '에다', '내다'], ['나', '지금', '갇히다', '거', '같다', '애'], ['내', '너무', '갖다', '건데', '받다', '정말', '기분', '좋다'], ['그렇다', '시간', '지나다', '전', '빨리', '말', '하고', '항의'], ['장마철', '이라서', '습기', '많아지다', '곰팡이', '계속', '생기', '니까', '자꾸', '신경', '쓰이다'], ['어', '명', '뽑다', '거', '이다'], ['그', '집', '이제', '더', '안', '시키다', '먹다', '아', '짜증', '나'], ['오랜', '만', '못', '만나다', '친구', '약속', '을', '잡다', '보다'], ['응', '당연하다', '다', '끝나다', '나', '엄청', '힘들다'], ['신나다', '음악', '을', '들다', '그동안', '스트레스', '날다', '버리다'], ['그것', '좋다'], ['그렇다', '지금', '당장', '버리다'], ['바로', '묶다', '버리다', '하지만', '냄새', '사라지다', '않다'], ['몸', '괜찮다'], ['비싸다', '건', '사지', '못', '용돈', '을', '아끼다', '사다'], ['지금', '당장', '구매', '하고', '싶다'], ['그러니까', '나다', '사과받다', '싶다'], ['다행하다', '몸', '괜찮다'], ['뽑다', '거', '이다', '돼다'], ['당연하다', '선물', '맘', '들다', '엄청', '비싸다', '향수', '거들다'], ['그렇다', '적당하다', '조치', '취', '해주다'], ['맞다', '우리', '집', '빼다', '사방', '다', '물바다', '되어다'], ['당장', '버리다'], ['어', '번', '그렇게', '생각', '해보다'], ['그렇다', '알다', '나다', '얘기', '하고', '싶다'], ['아니다', '요즘', '다', '왜', '이르다', '거야', '정말', '이해', '안', '돼다'], ['뛰다', '동안', '정말', '힘들다', '결승선', '을', '통과', '순간', '싹', '잊혀지다', '더', '라고'], ['함께', '달리다', '크루', '있다', '지치다', '힘들다', '때', '크다', '힘', '되어다', '있다'], ['아', '짜증나다', '그', '새끼', '일', '없다', '집', '에나', '갈다', '것', '이지', '도대체', '왜', '이르다', '거야'], ['마라톤', '대회', '나가다', '예전', '내', '기록', '을', '훨씬', '갱신'], ['어', '어떻다', '음악', '추천', '해주다'], ['일', '없다', '때', '까지', '쭉', '쉬다', '거야'], ['짜장면', '에서', '벌레', '나오다', '사진', '증거', '로', '확실하다', '그러니까', '적당하다', '조치', '취', '해주다'], ['아무리', '미세먼지', '많다', '환기'], ['다음', '부터는', '제때', '제때', '비우다', '되다', '너무', '힘들다'], ['그렇다', '아무', '데도', '나가다', '수가', '없다', '주위', '다', '물', '바다', '라서'], ['그러니까', '비다', '또', '왜', '그렇게', '오다', '속상하다'], ['너무', '너무', '마음', '들다'], ['휴가', '기간', '내내', '비', '오다', '어쩔', '수', '없이', '집', '에서', '수', '있다', '걸', '찾아보다', '거', '같다', '그런데', '너무', '속상하다'], ['곰팡이', '없애다', '데', '뭐', '좋다', '수가', '없다'], ['지금', '되게', '불쾌하다', '찝찝하다'], ['아니다', '아니다'], ['오랜', '만', '대', '청소', '겠다', '냄새', '잡고', '깨끗이', '치우다'], ['혼자', '있다', '아무', '없다'], ['휴가', '첫', '날', '부터', '비', '오기', '시작', '하루', '종일'], ['몸', '괜찮다', '집', '밖', '나가다', '수도', '없다', '집', '안', '물이', '들어오다', '보다', '너무', '겁', '나'], ['아우', '어떻다'], ['쓰레기통', '에서', '이상하다', '냄새', '나'], ['정말', '좋다', '오늘', '느낌', '좋다'], ['맞다', '결승선', '을', '통과', '순간', '힘들다', '게', '싹', '사라지다'], ['사진', '을', '인정', '해주다'], ['이번', '유명하다', '인', '플루', '언', '서', '이벤트', '당첨', '돼다'], ['그렇다', '알다', '너', '말', '대로', '해보다'], ['드디어', '구매', '노트북', '도착'], ['천천히', '집', '에서', '쉬다'], ['알다', '한번', '생각', '해보다', '너', '고민', '해주다'], ['나', '축하', '해주다', '기쁘다', '일', '있다'], ['자고', '일어나다', '재난', '문자', '오다', '있다', '자다', '바람', '피', '못', '거야'], ['아유', '그', '새끼', '왜', '집', '안', '가다', '내', '옆', '붙다', '또', '짜증나다'], ['좋다', '생각', '인', '것', '같다'], ['그렇다', '것', '같다', '집', '을', '잘못', '고르다', '속상하다'], ['사진', '을', '못', '찍다', '어떻다'], ['나', '갇히다', '것', '같다'], ['휴가', '기간', '동안', '가족', '이랑', '서해', '바다', '가다', '놀다', '오기', '로', '그런데', '비', '때문', '망하다'], ['나다', '고맙다'], ['함께', '달리다', '크루', '있다', '내', '지치다', '힘들다', '때', '마다', '크다', '힘', '되어다', '주다'], ['도와주다', '고맙다'], ['아니다', '이제', '라도', '발견', '다행', '이지', '안', '그렇다', '벌레', '생기다'], ['너무나', '화가', '난', '내', '마음', '을', '진정', '시키다', '줄', '영상', '있다'], ['일이', '많다', '바쁘다', '일', '년', '만에', '가다', '휴가', '인데', '비', '오다', '망하다'], ['응', '나중', '보여주다'], ['아', '진짜', '그렇다', '앞', '욕', '안', '미안하다'], ['응', '진짜', '너무나', '맘', '들다'], ['그것', '좋다', '생각', '이네', '약속', '잡다', '겠다'], ['그렇다', '얼른', '버리다', '냄새', '너무', '심해'], ['휴가', '내다', '장마', '태풍', '겹', '치다', '나가다', '수가', '없다'], ['거', '많다', '영화', '다운', '받다', '프로젝트', '돼다'], ['타', '다가', '갑자기', '정전', '돼다', '가지', '고', '막', '멈추다', '그래서', '지금', '갇히다', '상태', '야'], ['내', '좋아하다', '유튜버', '뒷', '광고', '시청자', '한테', '사과', '영상', '을', '올리다'], ['휴가', '받다', '장마철', '이랑', '겹', '치다', '하루', '종일', '비', '오다'], ['알다', '나다', '전화하다', '적당하다', '보상', '받다'], ['선물', '평소', '갖다', '싶다', '향수', '인데', '비싸다', '사지', '못', '제품', '이야'], ['냄새', '너무', '심하다', '버리다', '밖', '에다', '빼', '놨어'], ['난', '스트레스', '싹', '풀리다', '그냥', '아무', '음악', '이나', '준비', '해주다'], ['다치다', '없다', '너무', '무섭다'], ['곰팡이', '제', '과연', '효과', '있다'], ['그래서', '일', '그만', '다니다', '싶다'], ['너무', '속상하다'], ['니', '말', '대로', '해보다'], ['좋다', '생각', '이야', '친구', '여행', '계획', '세우다', '볼', '게'], ['지금', '엘리베이터', '갇히다', '너무', '무섭다', '외로워'], ['응', '다치다', '없다'], ['유명하다', '인', '플루', '언', '서', '이벤트'], ['다음', '한번', '보이다', '줄', '게'], ['그', '동안', '바쁘다', '번', '을', '휴가', '못', '가다', '년', '만인', '거', '같다', '애'], ['노트북', '도착', '하', '자마자', '문제', '있다', '여기저기', '살펴보다', '다', '괜찮다', '엄청', '좋다'], ['맞다', '한동안', '고생', '여행', '해주다'], ['정전', '돼다', '뭐', '야', '너무', '무섭다'], ['다음', '부터는', '빨리', '빨리', '버리다', '되다'], ['방', '에서', '이상하다', '냄새', '나다', '벌레', '생기다', '얼른', '치우다', '힘들다'], ['맞다', '같이', '뛰다', '형', '있다', '그', '형', '옆', '에서', '날', '열심히', '응원', '해주다'], ['맥북', '주다', '이벤', '트이다', '진짜', '주다', '신기하다'], ['아니다', '괜찮다', '이제'], ['사람', '한테', '이벤트', '당첨', '돼다', '향수', '선물', '로', '받다', '자랑', '다', '들다', '부럽다', '해'], ['아직', '얘기', '안', '향수', '오다', '그', '때'], ['주변', '사람', '한테', '이벤트', '당첨', '돼다', '비싸다', '향수', '받다', '자랑'], ['그게', '좋다', '방향', '제', '제일', '낫', '지'], ['오다', '짜장면', '에서', '벌레', '나오다'], ['힘들다', '집', '고약하다', '냄새', '나', '니까', '얼른', '청소'], ['내', '마라톤', '대회', '나가다', '이전', '내', '기록', '보다', '훨씬', '좋다', '나오다'], ['아니다', '누군가', '옆', '있다', '거', '같다', '자다', '모르다', '으아'], ['나', '혼자', '있다', '갑자기', '멈추다'], ['그렇다', '알다'], ['무섭다', '죽다', '왜', '안', '무섭다'], ['자고', '일어나다', '우리', '집', '주변', '다', '물바다', '되어다', '있다'], ['에서', '벌레', '나오다'], ['알다', '그렇다', '하나', '구매', '해보다'], ['어', '나', '엘리베이터', '갇히다'], ['이번', '마라톤', '대회', '기록', '갱신'], ['헐다', '나', '이벤트', '당첨', '돼다', '너무', '기쁘다', '신나다'], ['일반인', '선수', '처럼', '자다', '달리다', '않다', '그냥', '내', '기록', '좋아지다', '뿐', '이야'], ['아니다', '요즘', '다', '왜', '이르다', '거야', '이해', '안', '돼다'], ['완전', '별로', '이다'], ['너', '말', '대로', '노트북', '문제', '없다', '꼼꼼하다', '살펴보다'], ['사진', '당연하다', '찍다', '그래서', '어떻다', '말', '고민', '중', '이야'], ['곰팡이', '제', '거제', '써다', '보다', '생각', '보다', '별로', '이다'], ['원래', '바다', '구경', '가기', '로'], ['나', '혼자', '집', '안', '갇히다', '되어다'], ['냄새', '너무', '심하다', '나다', '지금', '버리다'], ['딱', '명', '뽑다', '거', '이다'], ['아니다', '그래도', '게', '안', '없어지다', '아', '너무', '화가', '나'], ['이번', '기회', '그동안', '못', '가다', '여행', '을', '가다', '것', '좋다', '것', '같다'], ['곰팡이', '제', '거제', '효과', '있다'], ['아직', '까지는', '집', '안', '물이', '들어오다', '않다', '다행', '인데', '물이', '들어오다', '걱정스럽다'], ['너무', '무섭다', '나가다', '싶다'], ['더', '실망', '스러운', '건', '모르다', '척', '거야', '그래서', '우리', '증거', '들이밀다', '그랬더니', '그', '때', '서다', '우리', '한테', '사과'], ['그냥', '자다', '동안', '비', '엄청', '많이', '오다', '그래서', '사람', '대피'], ['딱', '명'], ['어', '다행하다', '나', '다치다', '없다', '거', '같다', '애'], ['그렇다', '건', '아니다', '그냥', '혼자', '서', '연습', '을', '많이'], ['명', '뽑다', '거', '이다', '운', '너무', '좋다'], ['아직', '집', '안', '물이', '들어오다', '않다', '물이', '들어오다', '걱정', '돼다'], ['아직', '까지', '집', '안', '물이', '안', '들어오다', '내', '몸', '괜찮다', '혼자', '있다', '너무', '무섭다', '두렵다'], ['갑자기', '정전', '나다', '엘레베이터', '멈추다'], ['당첨', '명', '이다', '내', '당첨', '돼다', '정말', '운', '좋다'], ['집', '안', '갇히다', '돼다', '너무', '두렵다'], ['좋다', '생각', '이야', '나다', '지금', '가다', '바로'], ['아이', '뭐', '선수', '까진', '아니다', '근데', '열심히', '뛰다'], ['이제', '안', '해도', '돼다'], ['반응', '때문', '내', '기분', '더', '안', '좋아지다'], ['아니다', '요즘', '다', '왜', '이르다', '거야', '이해', '안', '돼다'], ['곧', '터지다', '거', '같다', '애'], ['달리다', '동안', '에는', '너무', '힘들다', '지치다', '결승선', '을', '통과', '순간', '기분', '엄청', '좋다'], ['너무', '맘', '들다', '얼마나', '비싸다', '향수', '인데', '내', '갖다', '싶다', '거야'], ['나', '이벤트', '당첨', '되어다'], ['쓰레기통', '에서', '역겹다', '냄새', '나다'], ['너무', '마음', '들다', '내', '얼마나', '갖다', '싶다', '향수', '인데'], ['나', '축하', '주다', '나', '기분', '좋다', '일', '있다'], ['냄새', '너무', '심하다', '버리다', '밖', '에다', '내다'], ['효과', '있다', '곰팡이', '제', '거제', '사용', '해', '볼', '래'], ['아', '씨발', '여기', '서', '어떻다', '더', '자세하다', '얘기', '무섭다'], ['아', '짜증나다', '그', '씨발', '새끼', '일', '끝나다', '집', '에나', '갈다', '것', '이지', '왜', '나', '한테', '만', '지랄', '이다'], ['혼자', '있다'], ['장마', '때문', '비', '엄청', '많이', '내다', '우리', '동네', '고립', '되다', '집', '안', '갇히다', '돼다'], ['응', '꼭', '보여주다'], ['냄새', '너무', '심하다', '지금', '버리다', '밖', '에다', '내다'], ['너', '당하다', '보지', '않다', '모르다', '나', '한테', '짜증', '내다', '화', '내다', '얼마나', '화가', '나다', '알', '아'], ['아니다', '이번', '나', '마라톤', '또', '나가다', '기록', '완전', '줄다'], ['비', '너무', '많이', '오다', '짜증나다'], ['사진', '을', '메세지', '로', '첨부', '다음', '항의', '전화'], ['그렇다', '영상', '있다', '좋다', '거', '번', '추천', '해주다', '보다'], ['프로젝트', '진행', '한동안', '친구', '을', '못', '만나다', '친구', '을', '만날', '계획', '을', '잡다', '보다'], ['프로젝트', '다시다', '싫다'], ['비싸다', '향수', '선물', '로', '받다', '주변', '사람', '한테', '이야기', '다', '들다', '부러워하다'], ['당연하다', '그렇다', '거', '확인', '안', '어떡하다', '고장', '나다', '누구', '책임', '이야'], ['먹다', '짜장면', '에서', '벌레', '나오다'], ['아니다', '그렇다', '것', '같다', '않다'], ['너', '말', '대로', '달리다', '동안', '에는', '힘들다', '결승선', '을', '통과', '순간', '엄청', '기분', '좋다'], ['좋다', '번', '보여주다'], ['정전', '돼다', '아무', '것', '안', '보이다'], ['제품', '에는', '문제', '없다', '것', '같다', '상품', '너무', '좋다', '마음', '들다'], ['영화', '보다', '하나', '재미없다'], ['내', '자주', '보다', '인', '플루', '언', '서', '이벤트', '나', '거기', '당첨', '돼다'], ['나', '마라톤', '기록', '갱신'], ['집', '밖', '을', '내다보다', '집', '주변', '까지', '물이', '차오르다', '밖', '나가다', '수가', '없다'], ['누가', '그렇다', '회사', '사장', '님', '집다', '왜', '나', '만', '시키다', '먹다', '거야'], ['회사', '두번째', '엘레베이터', '인데', '정전', '나다', '불', '꺼지다', '멈추다'], ['나다', '너', '처럼', '생각', '매일', '청소', '곰팡이', '안', '없어지다'], ['그래서', '신경', '쓰다', '열심히', '청소', '곰팡이', '안', '없어지다'], ['비싸다', '건', '못', '사다', '알바', '비', '모으다'], ['못', '만난', '친구', '또', '만나다', '싶다', '약속', '잡다'], ['내', '마라톤', '대회', '출전', '이전', '내', '기록', '을', '훨씬', '갱신'], ['그러니까', '환기', '안되다', '창문', '없다', '속상하다'], ['별로', '그렇다', '싶다', '않다'], ['그렇다', '내일', '다', '약속', '만나다'], ['응', '선물', '너무', '마음', '들다'], ['뭐', '어떻다', '지금', '그', '사람', '여기', '에도', '없다'], ['명', '인데', '내', '돼다'], ['난', '여행', '이라도', '가다'], ['그렇다', '알다'], ['당연하다', '완전하다', '끝내다', '달', '동안', '고생'], ['억지로', '사과', '진정', '성', '느껴지다', '않다'], ['나', '한번', '사보다', '싶다', '종류', '별로', '알아보다'], ['당연하다', '같이', '운동', '사람', '있다', '이번', '대회', '같이', '참가'], ['곰팡이', '제', '거제', '곰팡이', '없애다', '데', '효과', '있다', '그러면', '나', '하나', '구입', '사용', '해보다'], ['선물', '나오다', '바로', '보여주다'], ['난', '음악', '듣다', '싶다', '않다', '기분', '내', '키질', '않다'], ['그렇다', '연', '구결', '과도', '있다', '처음', '들다', '보다', '이야기', '인데'], ['아니다', '요즘', '다', '들다', '왜', '그렇다', '모르다'], ['드디어', '구매', '노트북', '도착', '뜯다', '보다'], ['그거', '차다', '좋다', '생각', '인걸'], ['그렇다', '음악', '들다', '휴식', '을', '취', '너무', '피곤하다'], ['아니다', '그래도', '짜증나다', '건', '짜증나다', '거', '잖다', '그', '새끼', '진짜', '별로', '야'], ['그', '새끼', '욕먹다', '싸다'], ['우리', '화장실', '환기', '구가', '없다', '해'], ['아', '짜증나다', '그', '새끼', '일', '다', '끝나다', '집', '에나', '가지', '왜', '남다', '나', '한테', '뭐라다', '해'], ['자고', '일어나다', '우리', '집', '빼다', '다', '주변', '물바다', '되어다', '있다'], ['우리', '집', '혼자', '있다', '밖에', '못', '나가다'], ['그건', '생각', '안', '해봤다', '괜찮다'], ['화장실', '청소', '해도', '곰팡이', '사라지다', '않다'], ['아니다', '전', '버리다', '쓰레기', '그', '안', '에서', '썩다', '있다', '구', '냄새', '아주', '미치다', '그냥'], ['아', '짜증나다', '그', '새끼', '일', '끝나다', '빨리', '집', '에나', '가지', '남다', '나', '한테', '자꾸', '뭐라다', '해'], ['맞다', '너무', '힘들다', '죽다'], ['번', '사보다', '뭐', '어떤', '걸', '살다', '좋다'], ['그렇다', '빨리', '버리다'], ['고맙다', '좋다', '방향', '제', '있다', '알다', '주다'], ['일', '년', '만에', '휴가', '인데', '이렇게', '돼다'], ['화장실', '청소', '해도', '곰팡이', '사라지다', '않다'], ['아직', '까지는', '집', '안', '물이', '들어오다', '않다', '다행', '이야', '하지만', '조금', '있다', '물이', '들어오다', '너무', '걱정', '돼다'], ['그렇다', '친구', '만나다', '친구', '랑', '수다', '떨다', '재미있다', '놀다', '오다', '되다'], ['무섭다', '왜', '안', '무섭다'], ['응', '나', '랑', '같이', '마라톤', '을', '뛰다', '크루', '있다', '다섯', '명', '정도', '같이', '팀', '돼다', '연습', '을', '있다'], ['다시', '이런', '일', '발생', '안', '내', '사진', '올리다'], ['얼른', '버리다', '싶다', '아직', '음식물', '쓰레기', '다', '안', '차다'], ['그렇다', '음악', '들다', '편하다', '쉬다', '겠다'], ['내', '쓰레기통', '을', '제때', '치우다', '않다', '그렇다'], ['하', '짜증나다', '그', '새끼', '일', '없다', '집', '에나', '갈다', '것', '이지', '왜', '항상', '나', '한테', '만', '그렇다'], ['당연하다', '보험', '가입'], ['지금', '당장', '구매'], ['맞다', '미세먼지', '걱정', '되다', '곰팡이', '계속', '생기', '니까', '너무', '그렇다'], ['너', '말', '대로', '냄새', '방향', '제로', '처리', '게', '가장', '좋다', '것', '같다'], ['아', '짜증나다', '그', '새끼', '일', '없다', '집', '에나', '갈다', '것', '이지', '항상', '나', '한테', '만', '그렇다'], ['어', '그것', '너무', '좋다', '것', '같다'], ['훨씬', '나아지다', '당연하다', '구매', '써다', '보다'], ['내', '좋아하다', '유튜버', '걸리다', '아무렇다', '영상', '보다', '않다'], ['알다', '증거', '사진', '함께', '전화', '걸다', '볼', '게'], ['화장실', '청소', '해도', '곰팡이', '없어지다', '않다'], ['맞다', '우리', '집', '빼다', '주변', '다', '물이', '야'], ['나', '축하', '다르다'], ['으', '쓰레기통', '에서', '역겹다', '냄새', '나'], ['그', '정도', '아니다'], ['그렇다', '것', '같다', '집', '오래되다', '싸다', '맛', '들어오다', '별로', '야'], ['구매', '되다', '좋다', '거', '있다', '추천', '해', '주다'], ['휴', '내', '음식물', '쓰레기', '쓰레기통', '버리다', '잘못', '이지', '얼른', '청소'], ['복권', '당첨', '돼다'], ['이제', '완전하다', '끝나다'], ['싹', '다', '끝나다'], ['나', '드디어', '프로젝트', '끝나다'], ['맞다', '뛰다', '땐', '힘들다'], ['달리다', '동안', '에는', '너무', '지치다', '힘들다', '결승선', '을', '통과', '순간', '기분', '너무', '좋다'], ['습기', '많아지다', '곰팡이', '생기다', '것', '같다', '자꾸', '신경', '쓰이다'], ['선물', '당연하다', '마음', '들다', '아주', '비싸다', '향수', '야'], ['비', '소식', '있다', '너', '말', '대로', '좋다', '것', '같다'], ['너', '아직', '많이', '멍청하다', '어', '넌', '아직', '인공', '지능', '이라고', '수', '없다'], ['방향', '제로', '처리', '해보다'], ['그렇다', '주변', '다', '물이', '야'], ['별', '건', '아니다', '이번', '마라톤', '대회', '에서', '내', '기록', '많이', '좋아지다'], ['그', '생각', '까지는', '못', '그렇다', '것', '있다'], ['아니다', '아직', '안', '찍다', '사진', '바로', '찍다'], ['나', '축하', '해주다', '기분', '좋다', '일', '있다'], ['아이', '엘리베이터', '갇히다', '것', '같다'], ['어', '사진', '안', '찍다', '빨리', '찍다', '고맙다'], ['그것', '나쁘다', '않다', '난', '진짜', '나가다', '싶다', '너무'], ['어', '퇴근', '하고', '집', '가다', '갑자기', '불', '꺼지다', '멈추다', '어떡하다'], ['그렇다', '영상', '있다', '즐겁다', '건가', '번', '추천', '주다', '보다'], ['노래', '좋다', '뭐', '추천', '해주다', '수', '있다'], ['우리', '집', '놀다', '오다', '내', '한번', '뿌리다'], ['그렇다', '신나다', '음악', '들다', '쉬다', '겠다'], ['맞다', '우리', '집', '화장실', '환풍기', '없다'], ['제주도', '나', '갈다'], ['그것', '좋다', '것', '같다', '달동', '안', '아무', '못', '만나다'], ['헐다', '나', '당첨', '돼다'], ['달동', '안', '얼마나', '열심히', '쉬다', '날', '못', '쉬', '고', '너무', '힘들다', '이제', '정말', '끝나다'], ['마라톤', '대회', '출전', '내', '기존', '기록', '보다', '훨씬', '좋다', '기록', '을', '세우다'], ['진짜', '싸다', '거', '사다'], ['신경', '쓰다', '청소', '곰팡이', '안', '없어지다'], ['그렇다', '걱정', '해주다', '고맙다'], ['오다', '나다', '생각', '지도', '못', '너무', '자다', '뛰다', '컨디션', '너무', '좋다', '보다'], ['내', '킬로미터', '마라톤', '대회', '출전', '예전', '내', '기록', '을', '훨씬', '갱신'], ['음악', '듣다', '쇼핑', '돈', '벌', '거리', '찾아보다'], ['맞다', '결승선', '을', '통과', '순간', '힘드다', '싹', '사라지다', '더', '라고'], ['하', '화장실', '청소', '해도', '곰팡이', '사라지다', '않다'], ['너무', '좋다', '내', '원하다', '향수', '야', '갖다', '싶다'], ['아니다', '뭐', '선수', '아니다', '기분', '좋다'], ['지금', '부터', '그렇다'], ['그렇게', '말', '해주다', '고맙다', '나다', '열심히'], ['어', '정도', '면', '뭐', '거의', '선수', '지', '선수'], ['야', '돼다', '나', '그렇다', '원한', '거', '아니다'], ['증거', '이미', '휴지통', '가버리다'], ['그렇다', '니', '보다', '나중', '당첨', '선물', '보여주다'], ['아니다', '혼자', '무슨', '말', '을', '거', '냐', '고', '대체', '나', '짜장면', '에서', '벌레', '나오다', '게', '짜증나다'], ['다행하다', '우리', '집다', '멀쩡하다'], ['어', '모르다', '지난', '번', '버리다', '쓰레기', '때문', '인가'], ['정말', '그렇다', '좋다'], ['창문', '작다', '환기', '자다', '안', '돼다'], ['주변', '사람', '한테', '번트', '당첨', '돼다', '선물', '을', '받다', '이야기'], ['알다', '다른', '대화', '나누다', '볼', '게'], ['그렇다', '거의', '다', '먹다', '발견', '나', '토', '뻔'], ['함께', '달리다', '크루', '있다', '내', '지치다', '힘들다', '때', '마다', '크다', '힘', '돼다'], ['너무', '어둡다', '나', '무섭다'], ['회사', '다니다', '짜증나다'], ['수', '없다', '빨리', '하자'], ['어', '사진', '바로', '찍다'], ['드디어', '프로젝트', '끝나다'], ['정말', '실망', '이야', '다시다', '음식', '을', '시키다', '싶다', '않다'], ['노트북', '을', '만', '원', '짜다', '구입', '도착', '기분', '너무', '좋다'], ['요새', '나다', '위험하다', '상태', '야'], ['이제'], ['백오십만원', '짜다', '노트북', '을', '구입', '배송', '늦어지다', '걱정', '하고', '있다'], ['네', '달', '동안', '너무', '고생', '많다', '이제', '집', '에서', '쉬다', '구', '요'], ['내', '휴가', '정말', '끝나다', '이제'], ['곰팡이', '제', '거제', '곰팡이', '없애다', '수', '있다'], ['그렇다', '고맙다'], ['선수', '까진', '아니다', '그래도', '많이', '주다', '줄다'], ['받다', '사진', '찍다', '보내다'], ['나', '축하', '해주다', '완전', '기분', '좋다', '일', '있다'], ['그렇다', '것', '같다', '한데', '걱정', '이야'], ['저렴하다', '걸', '로', '사다'], ['나', '프로젝트', '끝나다'], ['어', '너무', '무섭다', '죽다'], ['그렇다', '알다', '받다', '보여주다'], ['창문', '작다', '환기', '자다', '안되다', '것', '같다'], ['쓰레기통', '음식물', '쓰레기', '들다', '보다'], ['유명하다', '인', '플루', '언', '서', '이벤트', '해더', '라고'], ['집', '있다', '효과', '없다', '하나', '추천', '해주다', '수', '있다'], ['내', '잠', '을', '자고', '있다', '사이', '비', '엄청', '많이', '오다', '우리', '동네', '홍수', '피해', '지역', '되어다', '그래서', '우리', '동네', '고립', '돼다'], ['내', '받다', '선물', '궁금하다', '나중', '꼭', '보여주다'], ['지금', '터지다', '것', '같다', '어떻다', '되다'], ['욕', '을', '안되다', '거야'], ['응', '그렇다', '친구', '보다'], ['선수', '보단', '못', '일반', '인들', '사이', '에서도', '정말', '자다', '기록', '이래'], ['환기', '안', '돼다', '그렇다', '걸다'], ['어', '오늘', '바로', '전화', '해보다', '어차피', '증거', '있다'], ['응', '완전', '맘', '들다'], ['그렇다', '하루', '종일', '힘들다', '죽다'], ['내', '좋아하다', '유튜버', '뒷', '광고', '사과', '영상', '을', '올리다'], ['우리', '집', '빼다', '주변', '다', '물바다', '야'], ['너무', '마음', '들다', '기분', '최고다'], ['아', '짜증나다', '그', '새끼', '왜', '나', '만', '보다', '지랄', '이냐'], ['진짜', '완전', '마음', '들다'], ['오다', '짜장면', '에서', '벌레', '나오다'], ['아', '지금', '완전', '무섭다', '주변', '도와주다', '사람', '없다', '말', '이야'], ['완전하다', '끝나다', '속이다', '다', '시원하다'], ['야', '겠다', '앞', '정말', '이렇다', '일이', '없다', '되다'], ['분명하다', '며칠', '전', '자기', '뒷', '광고', '않다', '영상', '을', '올리다', '그런데', '오늘', '사과', '영상', '을', '올리다', '너무', '배신', '감', '느껴지다'], ['헐다', '나', '이벤트', '당첨', '되어다'], ['허다', '쓰레기통', '에서', '역겹다', '냄새', '나'], ['네', '곰팡이', '제', '거제', '추천', '해주다'], ['짜장면', '배달', '시키다', '벌레', '나오다'], ['이전', '버리다', '음식물', '쓰레기', '문제', '이다'], ['언제', '한번', '사장', '님', '한테', '말씀드리다'], ['주변', '사람', '한테', '당첨', '되어다', '자랑', '다', '들다', '부럽다', '해'], ['내', '음식물', '쓰레기', '같이', '버리다', '그렇다'], ['아직', '안', '선물', '도착'], ['맞다', '완전하다', '끝내다', '얼마나', '힘들다'], ['그렇다', '구', '요', '이번', '주말', '친구', '오랜', '만', '만나다'], ['함께', '달리다', '크루', '있다', '내', '지치다', '힘들다', '때', '크다', '힘', '돼다'], ['내', '평소', '갖다', '싶다', '향수', '있다', '그거', '이벤트', '당첨', '돼다'], ['내', '마라톤', '대회', '출전', '이번', '예전', '기록', '을', '훨씬', '갱신'], ['집', '을', '잘못', '구한', '것', '같다', '사가', '고', '싶다'], ['안', '들리다', '신경', '쓰다', '마'], ['곰팡이', '제', '거제', '그렇게', '효과', '있다'], ['때문', '생기다', '곰팡이', '안', '없어지다', '신경', '쓰이다'], ['네', '사진', '을', '찍다', '꼭', '경찰', '신고', '해', '요'], ['추천', '해주다', '상품', '있다'], ['함께', '달리다', '크루', '있다', '내', '지치다', '힘들다', '때', '크다', '힘', '되어다', '있다'], ['어디서', '사면', '되다'], ['내', '갖다', '향수'], ['너', '그', '크루', '가입', '해보다', '크루', '가입'], ['아니다', '하나', '괜찮다', '않다'], ['운동', '스트레스', '풀다'], ['그렇다', '음악', '이나', '들다', '기분', '을', '풀다', '나', '발라드', '좋다'], ['당연하다', '마음', '들다', '아주', '비싸다', '향수', '야'], ['응', '신나다', '음악', '들다', '막', '춤', '추다', '싶다'], ['아', '짜증', '나', '그', '새끼', '일', '없다', '집', '에나', '갈다', '것', '이지', '나', '한테', '만', '그렇다'], ['그래서', '그', '런가', '하루', '종일', '화장실', '만', '청소', '기분', '이야'], ['아니다', '보통', '혼자', '서', '해'], ['너무', '무섭다'], ['알다', '친구', '약속', '잡다', '볼', '게'], ['내', '잠', '을', '자다', '동안', '비', '너무', '많이', '오다', '우리', '동네', '고립', '돼다', '그래서', '갇히다', '돼다'], ['우리', '회사', '야'], ['드디어', '구매', '노트북', '오늘', '도착'], ['아', '그러니까', '진짜', '어떡하다'], ['아니다', '화장실', '창문', '없다'], ['장마', '때문', '습기', '많이', '차서', '곰팡이', '많이', '생기', '니까', '신경', '쓰이다'], ['어', '사진', '일단', '먼저', '찍다'], ['집', '안', '에까지는', '물이', '들어오다', '않다', '지금', '괜찮다'], ['축하', '해주다', '기분', '좋다', '일이', '있다'], ['왜', '안', '무섭다'], ['마라톤', '우승하다', '지롱'], ['쓰레기통', '에서', '역겹다', '냄새', '나다', '있다'], ['알다', '내일', '친구', '이랑', '만나다', '여행', '계획', '세우다', '볼', '게'], ['아', '짜증', '나', '그', '새끼', '일', '없다', '집', '에나', '갈다', '것', '이지', '나', '한테', '난리', '야'], ['정말', '괜챃', '아', '고맙다'], ['맞다', '미세먼지', '많다', '환기', '자다', '못'], ['한번', '말'], ['너무', '징그럽다', '사진', '을', '찍', '을', '생각', '조차도', '못', '그냥', '보기', '싫다'], ['아', '화장실', '청소', '해도', '해도', '곰팡이', '없어지다', '않다'], ['창문', '있다', '환기', '자다', '안', '되다', '이유', '자다', '모르다'], ['일이', '많다', '바쁘다', '년', '만에', '받다', '휴가', '인데', '비', '오다', '아무', '데', '갈다', '수가', '없다'], ['맞다', '그래서', '지금', '너무', '개운하다'], ['아니다', '진정', '성', '안', '보이다', '또', '언제', '사람', '을', '속이다', '수', '있다', '것', '같다'], ['쓰레기', '버리다', '때', '음식물', '섞이다', '들어가다', '것', '같다'], ['그렇다', '알다', '얼마나', '예쁘다', '비싸다', '향순', '지', '보여주다'], ['내', '방', '쓰레기통', '에서', '역겹다', '냄새', '나다', '있다'], ['창문', '집', '밖', '을', '보다', '집', '주변', '까지', '물이', '차오르다', '밖', '나가다', '수가', '없다'], ['대박', '나', '이벤트', '당첨', '돼다'], ['새끼', '일', '끝나다', '집', '갈다', '것', '이지', '왜', '맨날', '나', '한테', '지랄', '인', '걸다'], ['아', '짜증', '나', '그', '새끼', '일', '끝나다', '빨리', '집', '에나', '갈다', '것', '이지', '남다', '나', '한테', '잔소리'], ['완전', '무섭다', '떨어지다', '어떡하다'], ['에이', '여행', '귀찮다', '그냥', '집', '에서', '쉬다', '친구', '이나', '잠깐', '만나다'], ['그렇다', '야하다', '것', '같다', '어떻', '게', '든', '곰팡이', '냄새', '없애다', '싶다'], ['내려가다', '걸', '누르다', '갑자기', '탁', '멈추다', '불', '지금', '다', '꺼지다', '야', '완전', '무섭다', '거', '뭐', '야'], ['단', '명도', '진정', '성', '있다', '사과', '게', '없다'], ['사과', '하기는', '그렇다'], ['아', '후', '짜장면', '에서', '벌레', '나오다'], ['일이', '너무', '많다', '바쁘다', '년', '만에', '받다', '휴', '가다', '비', '오다', '망하다'], ['난', '프로젝트', '끝나다', '기념', '집', '에서', '쉬다'], ['그렇다', '어', '얘기', '자다', '해주다', '고맙다', '같이', '방향', '제', '찾아보다'], ['오늘', '짜장면', '시키다', '벌레', '나오다'], ['선물', '완전', '마음', '들다', '아주', '비싸다', '향수', '야'], ['그렇다', '새끼', '욕', '먹다', '싸다', '니', '안', '당', '해보다', '그렇다'], ['내', '좋아하다', '인', '플루', '언', '서', '이벤트', '당첨', '돼다'], ['내', '잘못', '내', '다', '치우다', '뭐'], ['먹다', '나', '오죽하다', '토', '뻔'], ['그렇다', '다시다', '다른', '소리', '못'], ['엘리베이터', '갇히다', '너무', '무섭다'], ['알다', '보여주다', '얼마나', '고급', '진', '향수', '인지'], ['쓰레기통', '버리다', '음식물', '쓰레기', '상해', '서', '냄새', '나', '거야'], ['평소', '문', '을', '자주', '열다', '환기', '계속', '곰팡이', '생기', '네'], ['글쎄', '그건', '아니다', '것', '같다'], ['집', '안', '에까지', '물이', '아직', '들어오다', '않다', '몸', '괜찮다'], ['오', '좋다', '생각', '혹시', '곰팡이', '제', '거제', '검색', '해주다', '수', '있다'], ['그렇다', '방법', '있다', '조언', '해주다', '감사하다'], ['난', '발라드', '좋다'], ['응', '이제', '완전하다', '끝', '이야', '거', '없다', '이제'], ['터지다', '나다', '어떻다', '되다', '모르다'], ['쓰레기통', '에서', '역겹다', '냄새', '아주', '나다', '있다'], ['냄새', '너무', '나다', '날', '파리', '꼬이다', '지금', '쓰레기', '밖', '에다', '빼다'], ['내', '쓰레기', '제때', '제때', '버리다', '않다', '그렇다', '미안'], ['이번', '해외', '여행', '못', '가다'], ['비', '엄청', '많이', '내다', '우리', '동네', '고립', '되다', '집', '안', '갇히다', '돼다'], ['쓰레기통', '에서', '끔찍하다', '냄새', '나다'], ['좋다', '아무튼', '너무', '신나다'], ['그렇다', '냄새', '냄새', '지독하다'], ['조금', '무섭다', '밖에', '나가다', '못'], ['엘리베이터', '타고', '집', '가다', '갑자기', '정전', '돼다', '지금', '멈추다'], ['엘리베이터', '전기', '나가다'], ['오늘', '최종', '발표', '마치다', '이제', '완전하다', '끝나다'], ['마라톤', '에서', '기록', '을', '경신'], ['어', '진짜', '짱', '이다', '그리고', '이번', '진짜', '열심히', '뛰다'], ['아차', '그', '생각', '을', '못', '지금', '당장', '가다', '사진', '을', '찍다', '놓다'], ['딱', '명', '이래', '내', '되다', '거야'], ['갖다', '싶다', '향수', '라서', '기분', '좋다', '너', '때문', '안', '좋아지다'], ['프로젝트', '머리', '너무', '아프다', '어디', '여행', '을', '가다', '머리', '식히다', '오다', '것', '좋다', '것', '같다', '어디', '로', '가보다'], ['내', '음식물', '쓰레기', '버리다'], ['마지막', '검사', '받다', '되다', '게', '남다', '한데', '자다', '되다', '거', '같다', '애'], ['유명하다', '인', '플루', '언', '서', '이벤트', '진행', '하고', '있다'], ['알다', '다음', '만날', '땐', '향수', '뿌리', '고', '나가다'], ['요즘', '다', '왜', '이르다', '건지다', '이해', '안', '돼다'], ['어제', '완전하다', '끝나다', '너무', '신나다'], ['화장실', '청소', '곰팡이', '없어지다', '않다'], ['그', '런가', '보다', '창문', '없다', '그렇다', '얼마나', '습하다'], ['맞다', '그래서', '곰팡이', '너무', '많다'], ['나', '신나다', '음악', '듣다', '스트레스', '풀', '고', '싶다'], ['그렇다', '빨리', '버리다'], ['응', '너무', '오래되다'], ['응', '그거', '좋다', '생각', '이네', '혹시', '좋다', '신나다', '음악', '추천', '수', '있다'], ['아니다', '해도', '사람', '정도', '있다', '욕', '안', '나오다', '생기다'], ['그렇다', '그러자', '그렇다', '그게', '좋다'], ['그게', '좋다', '얼른', '가다', '방향', '제', '사오다'], ['그게', '효과', '있다'], ['어떻다', '음악', '틀어주다'], ['주변', '사람', '한테', '당첨', '되다', '거', '아직', '자랑', '안', '향수', '오다'], ['주변', '홍수', '나다', '보다', '지금', '물이', '엄청', '차오르다', '밖', '나가다', '수가', '없다'], ['너', '말', '대로', '치우다', '전', '사진', '을', '찍다', '놓다'], ['아', '짜증나다', '그', '새끼', '왜', '집', '에는', '안', '가다', '내', '옆', '붙다', '지랄', '인', '거야'], ['알다', '친구', '을', '만나다', '여행', '계획', '번', '세우다', '볼', '게'], ['아', '짜증', '나', '그', '새끼', '일', '끝나다', '빨리', '집', '에나', '갈다', '것', '이지', '남다', '나', '한테', '뭐라다', '해'], ['그래서', '매일', '청소', '환기', '시키다', '곰팡이', '안', '없어지다'], ['선수', '아니다', '내', '달리다', '운동', '을', '너무', '좋아하다', '매번', '열리다', '있다', '마라톤', '대회', '나가다', '있다'], ['아니다', '요즘', '왜', '그렇다', '모르다'], ['오늘', '최종', '발표', '마치다', '이제', '완전하다', '끝나다', '거야', '마음', '너무', '홀가분하다'], ['구매', '해보다', '아니다', '너무', '짜증나다', '못', '참다'], ['그렇다', '우리', '집', '빼다', '죄다', '물', '잠기다', '있다'], ['곰팡이', '제', '거제', '효과', '있다', '나', '번', '구매', '사용', '해보다'], ['당첨', '선물', '내', '너무나', '좋아하다', '향수', '라서', '마음', '들다'], ['그렇다', '추천', '해주다', '보다', '그', '래야', '없어지다', '것', '같다'], ['장마', '때문', '갑자기', '비', '많이', '내다', '우리', '동네', '고립', '되다', '갇히다', '돼다'], ['오', '좋다', '좋다', '음악', '하나', '추천', '해주다'], ['달', '동안', '친구', '못', '만나다', '이번', '기회', '친구', '만나다', '보다'], ['신나다', '음악', '듣다', '싶다', '춤', '추다', '싶다'], ['내', '음식물', '쓰레기', '쓰레기통', '에서', '버리다', '생기다', '일이', '니까', '내', '처리'], ['좋다', '방법', '인데', '괜찮다'], ['알다', '버리다', '화', '내다'], ['너', '말', '대로', '홀가분하다', '마음', '신나다', '음악', '을', '듣다', '것', '좋다', '것', '같다'], ['기분', '너무', '좋다'], ['어', '혼자', '서', '지금', '갇히다'], ['노래', '틀다', '보다'], ['나', '친구', '이랑', '약속', '벌써'], ['사진', '찍다', '어디', '에다', '쓰다'], ['마라톤', '에서', '기록', '을', '갱신'], ['그렇다', '방향', '제로', '처리', '게', '제일', '낫다'], ['축하', '주다', '기분', '좋다', '일', '있다'], ['어', '혼자', '있다'], ['벌써', '해봤다', '왜', '안', '해봤다', '곰팡이', '제', '거제', '소용', '없다'], ['구매', '노트북', '엄청', '늦다', '오다', '기다리다', '있다', '오늘', '도착', '너무', '기쁘다', '노트북', '만원', '정도', '주다', '사다'], ['저번', '귀찮다', '음식물', '쓰레기', '그냥', '쓰레기통', '버리다'], ['앗다', '짜증나다', '그', '놈', '상사', '새끼', '왜', '집', '가지', '않다', '내', '옆', '붙다', '지랄', '인거', '야'], ['진짜', '이건', '말', '안되다'], ['그렇다', '주변', '사람', '한테', '이벤트', '당첨', '되다', '선물', '을', '받다', '자랑'], ['헐다', '나', '이벤트', '당첨', '돼다'], ['이전', '버리다', '음식물', '쓰레기', '상해', '서', '나', '냄새', '이다'], ['수', '없다', '뭐'], ['명', '뽑다', '거', '이다', '내', '운', '좋다'], ['알다', '사용', '설명', '서', '보고', '꼼꼼하다', '알아보다'], ['나가다', '수', '없다', '것', '같다', '애'], ['아니다', '요즘', '정말', '왜', '그렇다', '모르다'], ['아니다', '별로', '그렇다', '같다', '않다'], ['장마철', '이라서', '습기', '많아지다', '곰팡이', '엄청', '생기다', '자꾸', '신경', '쓰이다'], ['여기', '아파트', '동이', '야', '빨리', '오다'], ['신나다', '음악', '을', '들다', '춤', '이라도', '추다', '싶다', '지금', '내', '심정', '이야', '신나다', '음악', '너무', '좋다'], ['모르다', '니', '뭔', '상관', '인데', '내', '욕', '말', '든'], ['아', '마라톤', '오늘', '완주'], ['아', '짜증나다', '그', '새끼', '일', '없다', '집', '에나', '갈다', '것', '이지', '늦다', '결혼', '못', '히스테리', '나', '한테', '부리다', '건가', '왜', '그렇다'], ['난', '않다'], ['인', '플루', '언', '서', '이벤트', '것', '을', '발견', '하고', '신청', '당첨', '돼다'], ['응', '이제', '완전하다', '끝나다', '너무', '행복하다'], ['그', '정도', '아니다', '그냥', '내', '평소', '기록', '보다', '자다', '나오다'], ['당첨', '선물', '내', '예전', '부터', '갖다', '싶다', '향수', '라서', '너무', '좋다', '너무', '마음', '들다'], ['어', '완전', '힘들다', '죽', '을', '뻔'], ['아니다', '요즘', '다', '들다', '왜', '이르다', '정말', '이해', '안', '돼다'], ['그', '새끼', '어떻다', '놈', '인데', '회사', '에서도', '나', '한테', '만', '지랄', '이야'], ['알다', '그렇다', '묶다', '버리다'], ['곰팡이', '제', '거제', '효과', '있다', '나', '구매', '한번', '해보다'], ['갖다', '향수', '있다', '운', '좋다', '당첨', '돼다'], ['아니다', '화장실', '청소', '해도', '곰팡이', '사라지다', '않다'], ['지나가다', '이벤트', '걸', '보고', '신청'], ['그렇다', '그러니까', '성적', '좋아지다'], ['오다', '짜장면', '먹다', '벌레', '나오다'], ['정말', '너무', '좋다', '내', '이렇게', '까지', '자다', '달리다', '줄', '모르다', '최선', '노력', '인', '것', '같다'], ['기다리다', '노트북', '오다', '정말', '기쁘다', '만원', '주다', '사다'], ['그렇다', '너무', '냄새', '나다', '벌레', '있다', '것', '같다'], ['그렇다', '날', '춥다', '창문', '을', '자주', '못', '열다'], ['어', '정말', '좋다', '생각', '인', '거', '같다', '왜', '그', '생각', '을', '못'], ['사람', '유튜버', '말', '만', '믿다', '그', '제품', '을', '다', '사다', '그', '실망', '감', '을', '어떡하다', '것', '이야'], ['진짜', '청소', '때', '마다', '스트레스', '야'], ['그래서', '매일', '청소', '곰팡이', '안', '없어지다'], ['선물', '당연하다', '마음', '들다', '비싸다', '향', '순', '데'], ['나', '갇히다', '되다', '것', '같다'], ['어', '짜장면', '에서', '벌레', '나오다'], ['휴가', '기간', '내내', '비', '소식', '있다', '너', '말', '대로', '휴가', '집', '에서', '보내다', '수', '있다', '방법', '을', '생각', '보다'], ['해주다', '너무', '너무', '고맙다'], ['욕', '이라도', '내', '마음', '편하다', '거', '아니다'], ['프로젝트', '매일', '바쁘다', '힘들다', '이번', '기회', '여행', '을', '가다', '마음', '을', '휴식', '을', '취하', '고', '오다'], ['마라톤', '대회', '에서', '기존', '기록', '을', '갱신'], ['그렇다', '곰팡이', '제', '거제', '효과', '있다', '나', '한번', '구매', '사용', '해보다'], ['나르다', '너무', '힘들다', '해', '너무', '괴롭히다', '나다', '모르다', '화가', '나서다', '그렇다', '소리', '나오다', '것', '같다'], ['곰팡이', '제', '거제', '사용', '효과', '없다'], ['오다', '짜장면', '에서', '벌레', '나오다'], ['술', '이나', '마시다', '술', '밖에', '더', '있다'], ['그렇다', '빨리', '그렇게', '해보다'], ['짜장면', '에서', '벌레', '나오다', '어떡하다'], ['달리기', '대회', '에서', '좋다', '기록', '을', '내다'], ['아니다', '요즘', '다', '들다', '왜', '그렇다'], ['계속', '비', '오', '니까', '습기', '많다', '곰팡이', '정말', '안', '없어지다', '보다', '볼', '때', '마다', '청소', '너무', '힘들다'], ['그', '정도', '아니다', '내', '기록', '을', '경신'], ['알다', '알다'], ['진짜', '너무', '화나다'], ['헐다', '나', '대박', '이벤트', '당첨', '돼다'], ['당첨', '명', '뽑다', '거', '이다', '내', '당첨', '돼다', '나', '운', '너무', '좋다', '거', '같다'], ['응', '어', '집', '갇히다', '것', '같다', '비', '많이', '오다'], ['그렇다', '구매', '좋다', '거', '있다', '소개', '시키다'], ['맞다', '그', '때', '진짜', '좋다', '뛰다', '때', '뭐', '힘들다', '좋다'], ['거', '진짜', '고', '사양', '이야', '게임', '수', '있다'], ['방향', '제로', '처리', '정말', '냄새', '사라지다'], ['그러니까', '먹다', '토', '줄', '알다'], ['제품', '에는', '문제', '없다', '것', '같다', '너무', '마음', '들다', '확실하다', '돈', '주다', '돼다'], ['방향', '제로', '처리', '냄새', '더', '이상하다', '않다'], ['드디어', '구매', '노트북', '도착', '뜯다', '보다', '얼른'], ['음식물', '쓰레기', '상해', '서', '쓰레기통', '에서', '냄새', '나다', '있다'], ['집', '안', '갇히다', '있다', '어떻다', '되다', '일인', '지'], ['만원', '짜다', '노트북', '을', '사다', '배송', '늦어지다', '걱정', '하고', '있다'], ['어', '알다', '다음', '만날', '때', '들다', '나가다'], ['나', '갇히다', '되다', '거', '같다', '너무', '두렵다'], ['결승선', '에서', '정말', '기분', '좋다'], ['알다', '메세지', '로', '바로', '첨부', '하고', '전화', '해보다'], ['당연하다', '우리', '집', '빼다', '다', '물', '로', '뒤', '덮이다', '버리다'], ['맞다', '말', '이야', '여행', '가다', '것', '좋다'], ['어휴', '짜장면', '에서', '벌레', '나오다'], ['그래도', '너무', '짜증나다', '순간', '적', '욕', '나오다'], ['그렇다', '것', '같다', '집도', '너무', '오래', '돼다'], ['내', '달리기', '운동', '을', '너무', '좋아하다', '매년', '열리다', '마라톤', '대회', '출전', '기록', '점점', '좋아지다', '거', '같다'], ['우리', '집다', '환기', '되다', '곳', '없다'], ['마라톤', '대회', '신청', '그런데', '그', '대회', '에서', '내', '실력', '아주', '좋다', '더', '라고'], ['연구실', '가다', '엘레베이터', '타다', '갑자기', '덜컹', '멈추다'], ['방향', '제', '괜찮다', '것', '같다'], ['아니다', '홍수', '나서다', '집', '을', '못', '나가다'], ['영화', '다운', '받다', '프로젝트', '돼다'], ['난', '음악', '안', '좋아하다', '너', '나', '들다'], ['내', '실수', '로', '쓰레기통', '음식물', '을', '넣다', '것', '같다'], ['그래서', '매', '일', '매일', '신경', '쓰다', '청소', '있다', '곰팡이', '안', '없어지다'], ['실망', '스러운', '건', '본인', '스스로', '사과', '안', '거야'], ['습기', '때문', '생기다', '곰팡이', '어떻다', '없애다', '수', '있다'], ['프로젝트', '진행', '친구', '을', '못', '만나다', '이번', '기회', '만나다', '보다'], ['나', '드디어', '프로젝트', '마감', '돼다'], ['신나다', '음악', '듣다', '스트레스', '날다', '버리다', '싶다'], ['엘리베이터', '타다', '갑자기', '문', '닫히다', '어두워지다', '문', '안', '열리다'], ['맞다', '기분', '너무', '좋다'], ['그렇다', '거', '같다', '항상', '문', '을', '열다', '살다'], ['그래서', '그렇다', '하루', '종일', '화장실', '청소', '만', '기분', '이야'], ['상사면', '상사', '답', '게', '행동', '을', '되다', '거', '아니다', '저건', '미치다', '놈', '이지', '정상', '아니다'], ['꺼지다', '통신', '안', '돼다', '전화', '안', '터지다', '있다'], ['그렇다', '당장', '문', '을', '열다'], ['아니다', '상사', '고', '나발', '이고', '나', '한테', '만', '뭐라다'], ['유튜', '버들', '뒷', '광고', '거', '이번', '다', '걸리다'], ['그렇다', '내', '어떻다', '되다'], ['괜찮다', '편이', '야'], ['내', '선물', '어떻다', '건지다', '궁금하다', '나중', '너', '한테', '꼭', '보여주다'], ['걸', '언제', '다', '버리다'], ['벌레', '나오다', '깜짝', '놀래다'], ['헐다', '대박', '나', '이벤트', '당첨', '돼다'], ['다른사람', '한테', '착하다', '유독', '나', '한테', '만', '못', '되다', '굴더', '라고'], ['주변', '사람', '한테', '내', '이벤트', '당첨', '돼다', '선물', '을', '받다', '자랑'], ['아니다', '돼다', '다시', '전화하다', '싫다'], ['내', '달리다', '운동', '을', '너무', '좋아하다', '매번', '열리다', '마라톤', '대회', '나가다', '있다'], ['쓰레기통', '에서', '냄새', '나다'], ['자고', '일어나다', '밖에', '홍수', '나서다'], ['아', '짜증나다', '그', '새끼', '일', '끝나다', '빨리', '집', '에나', '가지', '사무실', '남아', '서', '자꾸', '나', '한테', '짜증', '내'], ['너', '말', '대로', '여행', '을', '다녀오다', '것', '좋다', '것', '같다', '계획', '번', '세우다', '볼', '게'], ['총', '명', '이다'], ['나', '이번', '마라톤', '에서', '내', '기록', '을', '훨씬', '갱신', '진짜', '대박', '이야'], ['너', '말', '맞다'], ['곰팡이', '제거', '방법', '있다'], ['달', '동안', '얼마나', '열심히', '정말', '완전하다', '끝나다'], ['딱', '명'], ['조금', '무섭다', '것', '같다', '바깥', '물이', '고여', '있다', '나가다', '못', '하고'], ['선수', '아니다', '내', '달리다', '운동', '을', '좋아하다', '매번', '열리다', '마라톤', '대회', '출전', '하고', '있다'], ['나', '축하', '해주다', '좋다', '소식', '있다'], ['아니다', '욕', '을', '않다', '수', '없다', '상황', '이니까', '내', '욕', '을'], ['엘레베이터', '문', '안', '열리다'], ['왜', '사진', '찍다', '뭐', '정말', '찍다', '놓다'], ['마라톤', '대회', '나가다', '기록', '경신', '쩔다'], ['응', '완전하다', '끝나다', '난', '이제', '자유', '야'], ['집', '에가', '고', '있다', '엘리베이터', '멈추다'], ['와우', '달', '동안', '친구', '못', '만나다', '그게', '제일', '좋다'], ['영상', '을', '보다', '진실되다', '사과', '라기', '보다는', '자기', '변명', '을', '있다'], ['그렇다', '우리', '집', '주변', '다', '물바다', '되어다'], ['아니다', '알다', '고맙다'], ['지나가다', '이벤트', '걸', '보고', '신청', '당첨', '돼다'], ['코로나', '빨리', '끝나다', '친구', '많이', '만나다', '좋다'], ['만', '원', '짜다', '노트북', '을', '사다', '오늘', '배송', '돼다', '기분', '너무', '좋다'], ['그러니까', '하루', '종일', '곰팡이', '만', '닦다', '끝나다', '것', '같다'], ['휴가', '기간', '내내', '비', '소식', '있다', '아무래도', '집', '안', '에서', '즐겁다', '휴가', '보내다', '수', '있다', '걸', '생각', '보다'], ['아니다', '요즘', '다', '왜', '그렇다', '거야', '정말', '이해', '안', '돼다'], ['정말', '오랜', '만', '휴가', '내다', '하필', '장마철', '이랑', '겹', '치다', '하루', '종일', '비', '오다', '있다'], ['정당하다', '조치', '한번', '받다', '보고', '싶다'], ['아무', '음악', '이나', '들려주다'], ['그렇다', '뿌리다'], ['알다', '향수', '오다', '제일', '먼저', '보여주다'], ['음악', '듣기', '전', '우선', '맛있다', '음식', '부터', '먹다', '보다'], ['그렇다', '고맙다'], ['복권', '이벤트'], ['약속', '있다', '밖에', '나가다', '갑자기', '엘레베이터', '멈추다'], ['내', '십', '킬로미터', '마라톤', '대회', '나가다', '예전', '내', '기록', '을', '훨씬', '갱신'], ['다', '들다', '바쁘다', '내', '정', '든', '사람', '회사', '그만두다'], ['당연하다', '무섭다', '빨리', '구조', '요', '청해'], ['만원', '짜다', '노트북', '을', '구입', '배송', '늦어지다', '걱정', '하고', '있다'], ['그렇다', '바로', '묶다', '버리다'], ['그거', '좋다', '생각', '인데'], ['응', '멈추다', '엘리베이터', '안', '혼자', '있다', '더', '무섭다', '너무', '무섭다'], ['사과', '믿다', '수가', '없다', '한번', '그렇게', '사람', '을', '속', '이면', '믿음', '안', '가다', '실망', '스럽다'], ['고맙다', '그래도', '너', '힘내다', '기운', '나다', '얼른', '청소'], ['그러면', '어떻다', '좋다'], ['그', '래야', '것', '같다', '먹다', '못', '하고', '너무', '속상하다'], ['프로젝트', '친구', '을', '못', '만나다', '이번', '기회', '만나다', '보다'], ['습기', '계속', '생기', '니까', '곰팡이', '나오다', '있다', '너무나', '신경', '쓰이다', '어떡하다'], ['당첨', '명', '딱', '명', '뽑다'], ['일주일', '이나', '늦다', '안전하다', '배달', '되어다', '꼼꼼하다', '살펴보다'], ['하', '내', '휴가', '엉망', '이야'], ['여행', '좋다', '지금', '시기', '아니다', '나중', '꼭', '가야', '지'], ['기분', '좋다', '일', '있다'], ['동안', '정말', '싫다', '마지막', '너무', '기분', '좋다'], ['사진', '찍다', '인스타', '올리다'], ['미세먼지', '너무', '심하다', '환기', '함부로', '못'], ['그렇게', '해도', '안되다', '어떡하다'], ['당연하다', '별로', '지'], ['응', '다음', '부턴', '자다', '확인'], ['친구', '약속', '미리'], ['백화점', '에서', '추첨', '향수', '주다', '내', '갖다', '싶다', '게', '당첨', '돼다'], ['오랜', '만', '휴가', '내다', '밖에는', '비', '너무', '오다'], ['다른', '직원', '한테', '늘다', '아무', '말', '안', '나', '한테', '자꾸', '뭐라다', '화가', '나서다', '그렇다'], ['나', '갇히다', '되다', '거', '같다', '무섭다'], ['무섭다', '않다', '답답하다', '상황', '이야'], ['그래서', '그', '런가', '하루', '종일', '화장실', '청소', '만', '것', '같다'], ['신나다', '음악', '좋다', '하나', '추천', '해주다', '보다'], ['여름', '바다', '가다', '수영', '튜브', '타고', '물놀이', '맛있다', '것', '먹다'], ['아', '사진', '을', '안', '찍다', '그', '생각', '을', '못', '대신', '사장', '님', '사과', '서비스', '주다'], ['응', '너무', '좋다'], ['너무', '많다', '영화', '다운', '받다', '되다', '프로젝트', '돼다'], ['화장실', '청소', '해도', '해도', '끝', '나다', '않다', '곰팡이', '사라지다', '않다'], ['동', '을', '안해'], ['나', '마라톤', '나가다', '기록', '갱신'], ['자고', '일어나다', '집', '주변', '다', '물', '잠기다'], ['우리', '집안', '까지는', '물이', '들어오다', '않다', '그래서', '나다', '아직', '괜찮다'], ['우리', '집', '쓰레기통', '에서', '냄새', '나기', '시작'], ['세', '명', '뽑다', '거', '이다'], ['드디어', '새롭다', '구매', '노트북', '도착'], ['백화점', '가다', '어떻다', '상품', '당첨', '돼다', '나', '기분', '너무', '좋다'], ['아우', '짜증', '나', '그', '새끼', '일', '끝나다', '빨리', '집', '에나', '가지', '남다', '나', '한테', '자꾸', '뭐라다', '해'], ['어', '지금', '바로', '버리다', '갈리다'], ['전화', '여러', '통', '오다', '있다', '잠', '들다'], ['진짜', '좋다', '고맙다'], ['갑자기', '멈추다', '불', '꺼지다'], ['짜장면', '집', '전화하다', '다시', '갖다', '달라', '고'], ['사과', '믿다', '없다', '그렇게', '사람', '을', '속이다', '미리', '사과', '하든', '뒤늦다', '이르다', '실망', '이야'], ['학교', '인데', '층', '짜다', '건물', '인데', '오다', '이런', '일이', '생기', '네'], ['자고', '일어나다', '우리', '집', '빼다', '주변', '다', '물', '잠기다'], ['뭐', '만', '나', '한테', '뭐라다', '가만히', '있다', '괜히', '나', '한테', '화', '내다', '그렇다'], ['달리다', '운동', '을', '너무나', '좋아하다', '마라톤', '대회', '매번', '나오다', '있다'], ['지나가다', '이벤트', '걸', '보고', '신청'], ['다행하다', '우리', '집안', '까지', '물이', '들어오다', '않다', '그래서', '나다', '괜찮다'], ['좋다', '신나다', '음악', '드', '고', '스트레스', '풀', '거야'], ['나', '마라톤', '그거', '이번', '기록', '갱신'], ['유명하다', '유튜버들', '다', '들다', '뒷', '광고', '있다'], ['오케이', '바로', '그렇게', '다시다', '지저분하다', '못', '만들다', '겠다'], ['향수', '주다', '건데', '나', '혼자', '당첨', '돼다', '정말', '대단하다', '것', '같다'], ['더', '나빠지다', '것', '없다'], ['응', '기분', '안', '좋다', '어떻다'], ['응', '몸', '괜찮다', '하', '근데', '무섭다'], ['그래서', '지금', '청소', '하고', '있다'], ['요즘', '노래', '자다', '모르다', '옛날', '노래', '트로트', '같다', '거', '신나다', '거', '좋아하다'], ['아', '짜증나다', '진짜', '그', '새끼', '맨날', '나', '한테', '만', '그렇다'], ['당연하다', '무섭다'], ['아예', '놀다', '가다', '거', '이다'], ['내', '너무나', '좋아하다', '인', '플루', '언', '서', '있다', '인', '플루', '언', '서', '진행', '이벤트', '당첨', '되다', '거야'], ['뭐', '이제', '거의', '선수', '라고', '수', '있다'], ['최악', '이야', '거의', '다', '먹다', '벌레', '나오다'], ['그렇다', '선수', '비슷하다', '수준', '이야'], ['그렇다', '효과', '있다', '구매', '사용', '해보다', '좋다', '제품', '추천', '해주다'], ['내', '진짜', '갖다', '거', '꽁', '짜다', '주다', '이벤트'], ['넘다', '짝', '아', '서다', '그', '런가', '환기', '때문', '인', '것', '같다', '해'], ['그렇다', '건가', '정말', '싫다'], ['그렇다', '너', '믿다', '번', '사', '볼', '게'], ['그', '래야', '것', '같다', '너무', '안', '없어지다', '곰팡이'], ['약속', '부터', '잡다', '보다', '그렇다'], ['근데', '아이패드', '주다'], ['지금', '너무', '무섭다', '밖에는', '물이', '많이', '차오르다', '있다', '나가다', '수가', '없다'], ['내', '마라톤', '대회', '출전', '이번', '예전', '기록', '보다', '훨씬', '좋다', '나오다'], ['거', '너무', '좋다', '음악', '들다', '보다'], ['사진', '찍다', '리뷰', '올리다'], ['화장실', '자주', '청소', '해도', '곰팡이', '없어지다', '않다'], ['우리', '집다', '집', '안', '까지', '물이', '들어오다', '않다', '그리고', '난', '괜찮다'], ['달리다', '동안', '에는', '엄청', '힘들다', '결승선', '을', '통과', '순간', '기분', '엄청', '좋다'], ['내', '좋아하다', '인', '플루', '언', '서', '진행', '이벤트', '있다', '거기', '당첨', '돼다'], ['응', '그렇다', '거', '있다', '바로바로', '들다', '타입', '이야'], ['너무', '가다', '싶다'], ['그렇다', '참다'], ['그렇다', '알다', '꼭', '얘기', '테', '니까', '들어주다', '해'], ['우리', '사장', '님', '내', '그렇게', '미우다', '보다', '나', '만', '그렇게', '부리다', '먹다'], ['인스타', '자랑', '인스타', '로', '보다'], ['너무', '지저분하다', '더럽다', '짜장면', '을', '못', '먹다', '버리다', '것', '같다'], ['어', '그렇다', '것', '같다', '애', '지금', '주변', '다', '물바다', '야'], ['그', '새끼', '욕', '먹다', '싸다'], ['자다', '때', '비', '그렇게', '많이', '오다', '난', '그것', '모르다', '잠', '만', '자다'], ['그건', '아니다', '혼자', '서', '열심히', '연습', '하고', '있다'], ['뒷', '광고', '너무', '실망', '스럽다', '배신', '감', '느껴지다'], ['니', '말', '해주다', '걸', '로', '구매'], ['아이', '그건', '아니다'], ['완전하다', '끝나다', '달동', '안', '연구', '진짜', '힘들다', '너무', '기쁘다'], ['완전하다', '끝나다', '너무', '기쁘다'], ['아', '짜증', '나', '그', '새끼', '일', '끝나다', '빨리', '집', '에나', '갈다', '것', '이지', '남다', '자꾸', '나', '한테', '뭐라다', '해'], ['나', '드디어', '프로젝트', '끝내다'], ['그렇다', '달', '간', '정말', '고생', '많다'], ['나', '축하', '해주다', '정말', '기분', '좋다', '일이', '있다'], ['오늘', '부터', '일주일', '동안', '휴가', '기간', '인데', '계속', '비소', '식이', '있다', '짜증나다'], ['약속', '잡다', '거', '진짜', '좋다', '것', '같다'], ['그', '명', '나야'], ['그동안', '열심히', '달리', '고', '노력', '그랬더니', '결과', '너무', '좋다'], ['그렇다', '바로', '전화', '해보다'], ['헐다', '나', '이벤트', '당첨', '되다', '것', '같다'], ['화장실', '아무리', '청소', '해도', '곰팡이', '안', '없어지다'], ['그렇다', '완전하다', '끝나다', '달', '간', '고생', '많다'], ['아', '근데', '그', '새끼', '너무', '스트레스', '받다', '해'], ['오다', '짜장면', '에서', '벌레', '나오다'], ['알바', '비', '모으다', '사다'], ['내', '버리다', '음식물', '쓰레기', '상해', '서', '냄새', '나다', '있다'], ['밖에', '비', '너무', '많이', '오다'], ['걸', '어떻다', '내', '기분', '풀리다'], ['아', '진짜', '너무', '화나다'], ['기분', '좋다', '신나다', '음악', '을', '듣다', '게', '좋다', '거', '같다'], ['아무래도', '혼자', '갇히다', '것', '같다'], ['뭔', '개', '소리', '야'], ['막', '너무', '좋다'], ['명', '뽑다'], ['그렇다', '좋다', '무슨', '향', '좋다'], ['집', '있다', '밖에', '물이', '가득', '차', '있다', '홍수', '오다', '보다'], ['그것', '좋다', '친구', '을', '너무', '못', '만나다', '일이', '바쁘다', '요', '번', '쉬다', '동안', '만나다'], ['나', '스트레스', '확', '풀리다', '음악', '해주다'], ['신나다', '음악', '들다', '맛있다', '것', '해', '먹다'], ['좋다', '생각', '인', '거', '같다', '애'], ['크루', '없다', '개인', '적', '열심히', '뛰다', '있다'], ['환기', '안', '없어지다'], ['나', '아무래도', '혼자', '집', '갇히다', '것', '같다'], ['지금', '빨리', '버리다'], ['우리', '요즘', '대체', '왜', '그렇다', '이해', '수가', '없다'], ['화장실', '아무리', '청소', '해도', '곰팡이', '없어지다', '않다'], ['그렇다', '방향', '제로', '한번', '해보다'], ['알다', '너', '한번', '사용', '해주다'], ['쓰레기통', '버리다', '음식물', '쓰레기', '상해', '서', '냄새', '나다', '있다'], ['딱', '명', '뽑다', '거', '이다', '당첨', '돼다'], ['안', '그래도', '마트', '에서', '곰팡이', '제', '거제', '사오', '려고', '좋다', '생각', '인', '것', '같다'], ['그', '걸', '로', '되다'], ['내', '음식물', '쓰레기', '버리다', '뭐', '야'], ['응', '내', '제일', '좋아하다', '향수', '야'], ['어', '같이', '뛰다', '분들', '있다', '어', '일주일', '번', '정도', '같이', '여기', '탄천', '뛰다', '있다'], ['나', '친구', '보다', '나', '혼자', '보내다', '싶다'], ['자기', '뒷', '광고', '않다', '영상', '을', '올리다', '내', '믿다', '있다', '배신', '감', '느껴지다', '너무', '실망', '스럽다'], ['그렇다', '다음', '부터', '게으름', '부리', '지', '말다', '되다'], ['너무', '실망', '스럽다', '사람', '그걸', '보고', '속', '아', '서다', '물건', '을', '살다', '알다'], ['맞다', '쉬다', '동안', '에는', '엄청', '힘들다', '결승선', '을', '통과', '순간', '날아가다', '거', '같다'], ['벌레', '나오다', '짜장면', '을', '사진', '찍다', '증거', '확실하다'], ['곰팡이', '제', '거제', '어디서', '팔', '아', '어떻다', '곰팡이', '제', '거제', '좋다'], ['몸', '괜찮다', '심리', '적', '너무', '불안하다'], ['아직', '까지는', '집', '안', '물이', '들어오다', '않다', '하지만', '언제', '물이', '들어오다', '너무', '무섭다', '걱정', '돼다'], ['아니다', '선수', '급', '아니다', '그냥', '내', '노력', '결과', '얻다', '것', '같다', '애', '서', '너무', '좋다', '거야'], ['알다', '방향', '제로', '처리', '고맙다'], ['오', '음악', '좋다', '하나', '추천', '해주다', '보다'], ['알다', '너', '말', '대로', '노트북', '이상', '없다', '꼼꼼하다', '살펴보다'], ['번', '둘러보다'], ['이다', '구매', '노트북', '오다'], ['덕분', '교훈', '하나', '얻다', '뭐'], ['너무', '기분', '좋다', '일이', '있다'], ['아', '짜증나다', '그', '새끼', '일', '없다', '집', '에나', '갈다', '것', '이지', '왜', '항상', '나', '한테', '만', '그렇다', '거야'], ['이번', '마라톤', '대회', '에서', '내', '기록', '을', '훨씬', '갱신', '뭐', '야'], ['그렇다', '그렇다', '것', '같다', '정말', '짜증나다'], ['어', '그', '생각', '을', '못', '그냥', '기분', '나쁘다', '있다', '사진', '꼭', '찍다'], ['뭘', '곰팡이', '없어지다'], ['들다', '다니다', '자랑', '게임', '영화', '보고', '그렬려', '고'], ['제품', '에는', '문제', '없다', '것', '같다', '새', '거', '라', '너무', '좋다', '얼른', '쓰다', '싶다'], ['냄새', '너무', '고약하다', '버리다', '쓰레기', '봉투', '넣다'], ['그렇다', '신나다', '음악', '들다', '스트레스', '풀다'], ['회사', '바쁘다', '년', '만에', '내다', '휴가', '이다'], ['맞다', '뛰다', '동안', '정말', '힘들다', '결승선', '을', '통과', '순간', '힘드다', '게', '싹', '사라지다'], ['응', '응', '지금', '당장', '갖다', '버리다'], ['당연하다', '마음', '들다', '내', '정말', '사고', '싶다', '향수', '거들다'], ['고약하다', '냄새', '방향', '제로', '처리', '게', '가장', '좋다'], ['내', '십', '킬로미터', '마라톤', '대회', '출전', '예쩐', '내', '기록', '을', '훨씬', '갱신'], ['나', '마라톤', '기록', '갱신'], ['주변', '사람', '한테', '이벤트', '당첨', '돼다', '비싸다', '향수', '선물', '로', '받다', '이야기', '다', '들다', '부럽다', '해'], ['말', '이라도', '그렇게', '해주다', '고맙다'], ['축하', '해주다', '정말', '고맙다'], ['그것', '좋다', '밖에', '나가다', '싶다'], ['아', '아', '나', '그냥', '그거', '보기', '싫다', '아', '그래도', '찍다', '놓다', '아', '진짜'], ['이번', '완전', '크다', '맘', '먹다', '만', '원', '짜다', '사다'], ['집', '갇히다', '바깥', '을', '보', '니까', '물이', '너무', '많이', '차다'], ['오랜', '만', '못', '만나다', '친구', '을', '만나다', '것', '좋다', '것', '같다'], ['집', '물', '안', '들어오다', '그냥', '무섭다', '죽다'], ['응', '나중', '한번', '보여주다'], ['아니다', '요즘', '다', '들다', '왜', '그렇다', '모르다'], ['아', '나다', '너무', '깜짝', '놀래다'], ['응', '지금', '나', '혼자', '야'], ['모르다', '층', '올라가다', '갇히다'], ['곰팡이', '제', '거제', '곰팡이', '제거', '효과', '있다'], ['나', '드디어', '오랜', '프로젝트', '끝나다'], ['그렇다', '달', '간', '정말', '고생', '많이'], ['프로젝트', '최종', '발표', '마치다', '모든', '게', '완전하다', '끝나다', '거야', '마음', '너무나', '홀가분하다'], ['실', '청소', '해도', '해도', '곰팡이', '줄어들다', '않다'], ['아니다', '그', '사람', '정말', '이상하다', '사람', '이야'], ['신나다', '음악', '듣다', '거', '정말', '좋다'], ['어', '뭐', '일단', '고맙다'], ['맞다', '냄새', '너무', '심하다', '지금', '버리다', '쓰레기', '봉투', '넣다', '묶다'], ['오늘', '부터', '일주일', '동안', '휴가', '기간', '인데', '휴가', '기간', '내내', '비소', '식이', '있다'], ['진짜', '너', '다', '돈', '줄', '거야'], ['선물', '당연하다', '맘', '들다', '아주', '비싸다', '향수', '거들다'], ['어', '정말', '그', '보험', '들다'], ['무슨', '쓰레기', '냄새', '방향', '제로', '처리'], ['어', '완전하다', '끝나다'], ['기분', '좋아지다', '수', '있다', '음악', '이면', '난', '다', '좋다'], ['그것', '좋다', '것', '같다', '한번', '해보다'], ['나', '드디어', '프로젝트', '끝나다'], ['곰팡이', '제', '거제', '과연', '효과', '있다'], ['당연하다', '무섭다', '나', '만', '혼자', '있다', '자꾸', '이상하다', '생각', '들다'], ['어쩌겠어', '내', '실수', '니까', '깨끗하다', '치우다'], ['아니다', '갑자기', '타다', '멈추다', '정전', '돼다', '지금', '정전', '돼다', '완전', '깜깜', '무섭다'], ['달리다', '동안', '너무', '지치다', '힘들다', '결승선', '들어서다', '순간', '너무', '기분', '좋다', '마음', '홀가분하다'], ['아이', '수', '백', '명', '뽑다', '건데', '그래도', '나', '이렇다', '거', '처음', '되다'], ['나', '갇히다', '거', '같다'], ['내', '자다', '사이', '비', '그렇다', '많이', '오다', '보다', '대피', '문자', '못', '보다'], ['그렇다', '노래', '나', '들다', '마음', '풀다', '나', '신나다', '음악', '좋아하다'], ['오늘', '최종', '발표', '이제', '완전하다', '끝나다', '거야'], ['벌레', '나오다', '사진', '을', '찍다', '조치', '해주다'], ['내', '좋아하다', '유튜버', '괜찮다', '제품', '이라고', '하나', '소개', '나다', '사다', '그랬더니', '그게', '돈', '받다', '광고', '이다'], ['그래서', '다음', '엔', '나다', '안', '참다'], ['한동안', '만나다', '못', '친구', '하고', '약속', '을', '잡다', '보다'], ['내', '너무나', '좋아하다', '인', '플루', '언', '서', '진행', '이벤트', '당첨', '돼다'], ['맞다', '미세먼지', '때문', '환기', '어렵다', '곰팡이', '때문', '너무', '더럽다'], ['그렇다', '달동', '안', '정말', '고생', '많다'], ['부장', '새끼', '욕', '먹다', '돼다'], ['나', '연구', '연구실'], ['화장실', '곰팡이', '제', '거제', '써다', '돼다'], ['알다', '친구', '랑', '만나다', '여행', '계획', '세우다'], ['아니다', '그렇다', '욕', '안', '만들다', '아', '진짜', '미치다', '새끼'], ['드디어', '노트북', '구매'], ['당첨', '선물', '내', '갖다', '싶다', '거', '라서', '너무', '마음', '들다'], ['당첨', '돼다', '너무', '너무', '행복하다'], ['아', '짜증나다', '그', '새끼', '일', '다', '끝나다', '집', '에나', '갈다', '것', '이지', '남다', '나', '한테', '잔소리', '질', '이야'], ['너무', '많다', '영화', '보고', '프로젝트', '끝내다', '돼다'], ['너무', '기분', '나쁘다', '음식점', '전화'], ['예전', '버리다', '음식물', '쓰레기', '때문', '이야'], ['내', '믿다', '유튜버', '인데', '뒷', '광고', '실망', '스럽다', '배신', '감', '을', '느끼다'], ['수', '없다', '뭐'], ['나', '너무', '무섭다', '혼자', '갇히다', '것', '같다'], ['오랜', '만', '친구', '을', '만', '나볼', '약속', '을', '정'], ['내', '쓰레기통', '을', '빨리', '안', '비우다', '그렇다'], ['집', '안', '갇히다', '나가다', '못', '하고'], ['아니다', '요즘', '다', '왜', '이르다', '거지', '이해', '안', '돼다'], ['너무', '무섭다'], ['갑자기', '비', '내다', '우리', '동네', '고립', '되다', '갇히다', '되어다'], ['명', '뽑다', '거', '이다', '그게', '바로', '내', '되다', '거야'], ['여러', '명', '뽑다', '않다'], ['나', '축하', '주다', '나', '기분', '좋다', '일', '있다'], ['일', '년', '만에', '휴가', '야'], ['향수', '주다', '건데', '엄청', '비싸다', '거', '당첨', '돼다'], ['맞다', '새롭다', '갖다'], ['휴가', '기간', '내내', '비', '내리다', '너', '말', '대로', '집', '에서', '쉬다', '즐겁다', '휴가', '보내다', '수', '있다', '방법', '을', '생각', '해보다', '야하다', '것', '같다'], ['그렇다', '미세먼지', '때문', '창문', '을', '열다', '집안', '공기', '너무', '답답하다', '너무', '싫다'], ['아', '딱', '그렇다'], ['짜장면', '만', '해도', '만원', '넘다', '어떻다', '이렇다', '일이', '있다'], ['비', '너무', '많이', '많이', '오다'], ['이번', '마라톤', '대회', '나가다', '내', '기록', '엄청', '좋아지다', '더', '라고'], ['그', '새끼', '대다', '때리다', '싶다', '진짜'], ['내일', '다', '만나다', '약속'], ['헐다', '나', '이벤트', '당첨', '되어다'], ['그렇다', '것', '있다', '어떻다', '건데'], ['냄새', '너무', '고약하다', '방향', '제로', '처리', '게', '가장', '좋다', '것', '같다'], ['나', '축하', '기분', '좋다', '일', '있다'], ['그렇다', '음악', '들다', '맛있다', '것', '해', '먹다', '겠다'], ['어', '진짜', '기분', '별로', '이다'], ['문', '을', '열다', '곰팡이', '없어지다'], ['나', '엘리베이터', '갇히다'], ['나', '오늘', '프로젝트', '끝나다'], ['추첨', '을', '통해', '서', '화장품', '주다', '건데', '그거', '당첨', '돼다'], ['아직', '다', '안', '끝나다'], ['너무', '무섭다', '아무', '것', '안', '보이다', '어떻다', '되다', '모르다'], ['나', '지금', '너무나', '화가', '나다', '어떻다', '영상', '을', '보여주다'], ['냄새', '방향', '제로', '처리', '가장', '좋다', '방법', '인', '거', '같다'], ['주말', '나오다', '너무', '계속', '일만', '시키다', '해', '힘들다', '죽다'], ['그렇다', '여행', '계획', '번', '세우다', '볼', '게'], ['무섭다', '나', '데리다', '오다', '안', '돼다'], ['화장실', '청소', '해도', '곰팡이', '없어지다', '않다'], ['모르다', '정말'], ['나', '향수', '이벤트', '당첨', '돼다'], ['당연하다', '완전', '맘', '들다'], ['내', '먹다', '음식', '에서', '벌레', '나오다'], ['선수', '아니다', '내', '달리다', '운동', '을', '너무', '좋아하다', '매번', '열리다', '마라톤', '대회', '출전', '하고', '있다'], ['당연하다', '있다', '이번', '같이', '대회', '추다'], ['그렇다', '근데', '진짜', '무슨', '짜장면', '집', '에서', '벌레', '나오다', '완전', '어이없다'], ['안', '당', '해보다', '모르다', '자꾸', '나', '한테', '뭐라다', '화가', '나서다', '그렇다'], ['어', '사진', '찍다'], ['아무리', '환기', '곰팡이', '안', '없어지다'], ['그것', '번', '뿐', '이야', '곰팡이', '사라지다', '않다'], ['쓰레기통', '역겹다', '냄새', '나다', '있다'], ['원래', '휴가', '계획', '바다로', '가다'], ['그렇다', '그거', '라도', '사다'], ['하', '뭐', '신나다', '음악', '있다', '하나', '추천', '해주다', '보다'], ['오다', '진짜', '안', '그래도', '지금', '버리다'], ['그렇다', '말', '이야', '당장', '버리다'], ['집', '안다', '괜찮다', '다행하다', '그런데', '내', '너무', '무섭다', '나가다', '수가', '없다'], ['맞다', '크루', '랑', '같이', '움직이다'], ['좋다', '생각', '이야', '가성', '비', '좋다', '상품', '좋다'], ['너', '말', '대로', '노트북', '문제', '없다', '꼼꼼하다', '살펴보다'], ['어', '무섭다', '않다'], ['짜증', '나', '그', '새끼', '일', '다', '끝나다', '집', '나가다', '것', '이지', '남아', '가지', '고', '나', '한테', '뭐라다', '해'], ['아니다', '혼자', '뛰다'], ['그렇다', '빨리', '사진', '찍다', '전화', '해보다'], ['짜장면', '에서', '벌레', '나오다', '사진', '증거', '로', '확실하다', '조치', '취', '해주다'], ['함께', '달리다', '크루', '있다', '내', '지치다', '힘들다', '때', '크다', '힘', '되어다'], ['내', '좋아하다', '유튜버', '뒷', '광고', '시청자', '한테', '사과', '영상', '을', '올리다'], ['내', '실수', '로', '음식물', '을', '쓰레기통', '버리다', '것', '같다'], ['비', '너무', '많이', '오다', '정말', '비', '오다', '게', '너무', '싫다'], ['야', '나', '이번', '이벤트', '당첨', '돼다', '향수', '받다', '신나다'], ['나다', '욕먹다', '욕', '안', '돼다'], ['선수', '아니다', '내', '달리다', '운동', '을', '너무', '좋아하다', '매번', '열리다', '마라톤', '대회', '나가다', '있다'], ['장마', '때문', '비', '너무', '많이', '오다', '우리', '동네', '고립', '되다', '갇히다', '되어다'], ['이제', '완전', '끝나다'], ['맞다', '지금', '혼자', '라', '더', '불안하다', '무섭다', '거', '같다'], ['그렇다', '놈', '욕', '먹다', '나', '한테', '그렇다', '거야', '그렇다', '땐', '욕', '해주다', '돼다'], ['당연하다', '구매', '싶다', '한번', '알아보다', '주다'], ['모르다', '음악', '을', '기분', '아니다'], ['아', '너무', '더럽다', '아깝다', '빨리', '치우다', '버리다'], ['곰팡이', '제', '거제', '괜찮다', '제품', '이야'], ['집', '에서', '바퀴벌레', '나오다'], ['그', '동안', '일이', '많다', '바쁘다', '일', '년', '만에', '받다', '휴', '가다', '어떻다', '이렇다', '수가', '있다'], ['오늘', '최종', '발표', '마치다', '이제', '완전하다', '끝나다', '거지'], ['응', '근데', '너무', '무섭다', '몸', '떨리다'], ['프로젝트', '최종', '발표', '끝나다'], ['그렇다', '건', '아니다', '혼자', '서', '열심히', '연습'], ['내', '받다', '선물', '궁금하다', '보다', '그렇다', '나중', '보여주다'], ['내', '쓰레기통', '비우다', '걸', '깜빡', '버리다'], ['음식', '장난', '치다', '거', '진짜', '죄', '야'], ['그것', '나쁘다', '않다', '거', '같다'], ['아', '존나', '짜증', '나', '그', '새끼', '씨바', '일', '없다', '집', '에나', '갈다', '것', '이지', '결혼', '결혼', '못', '히스테리', '나', '한테', '부리다', '건가', '좆', '같다'], ['지나가다', '이벤트', '거', '보고', '신청'], ['그', '래야', '것', '같다', '청소', '너무', '많이', '없어지다', '않다'], ['근데', '귀찮다'], ['친구', '없다', '혼자', '해'], ['아니다', '그', '래야', '되다', '것', '같다', '정말', '급하다', '급하다'], ['몸', '괜찮다', '물', '아직', '안', '들어오다'], ['훨씬', '나아지다', '당연하다', '구매'], ['그렇다', '우리', '모두', '열심히', '하자'], ['짜장면', '에서', '벌레', '나오다', '사진', '증거', '로', '확실하다', '적당하다', '조치', '취', '해주다'], ['요새', '환기', '자주', '시키다', '화장실', '곰팡이', '계속', '생기', '고', '있다', '신경', '쓰이다'], ['으', '어떻다', '버리다', '만', '지지도', '못', '것', '같다'], ['내', '청소', '자다', '안해', '서', '그렇다'], ['다행하다', '우리', '집', '까진', '들어오다', '않다'], ['그렇다', '시간', '지나다', '전', '얼른', '전화', '해보다'], ['냄새', '나기', '전', '버리다', '건데', '못', '버리다'], ['너무', '더럽다', '지저분하다', '버리다', '밖', '에다', '내다'], ['어', '그렇다', '이제', '친구', '만날', '수', '있다', '시간', '생기다', '것', '같다'], ['이번', '마라톤', '대회', '참가', '내', '생각', '것', '보다', '내', '기록', '너무', '자다', '나오다'], ['힘내다', '고맙다'], ['나다', '자다', '모르다', '아무튼', '뭐', '썩', '나', '보다'], ['그렇다', '방향', '제로', '처리', '하고', '그', '다음', '버리다'], ['오케이', '좋다'], ['아', '짜증', '나', '그', '새끼', '일', '없다', '집', '에나', '갈다', '것', '이지', '왜', '항상', '나', '한테', '만', '그렇다'], ['여행', '너무', '좋다'], ['웃기다', '너', '아직', '그', '정도', '까진', '아니다'], ['응', '이제', '완전하다', '다', '끝나다', '주말', '쉬다', '수', '있다'], ['나', '프로젝트', '끝내다'], ['아', '짜증나다', '그', '새끼', '일', '끝나다', '빨리', '집', '에나', '가지', '남다', '자꾸', '나', '한테', '뭐라다'], ['로또', '당첨', '돼다'], ['그건', '아니다', '그냥', '내', '개인', '적', '인', '어떻다', '목표', '달성', '이거지'], ['아니다', '나가다', '밖에', '막', '물이', '막', '가득', '차', '가지', '고', '나가다', '수가', '없다'], ['창밖', '을', '보다', '집', '주변', '까지', '물이', '차오르다', '바깥', '나가다', '수가', '없다', '완전하다', '갇히다', '되어다'], ['창문', '을', '안', '열다', '곰팡이', '없애다', '방법', '있다'], ['아', '후', '미리', '버리다', '돼다', '빨리', '버리다'], ['휴', '힘들다', '어떻다', '해', '내', '음식물', '쓰레기', '버리다', '문제', '지', '얼른', '청소'], ['알다', '오다', '바로', '보여주다'], ['왜', '사진', '을', '찍다', '거야'], ['곰팡이', '제', '거제', '쓰다', '괜찮다', '지다'], ['상사', '앞', '에서', '그', '새끼', '라고', '못', '너', '한테'], ['안'], ['응', '이제', '완전하다', '끝', '이야'], ['내', '좋아하다', '마라톤', '키로', '기록', '갱신'], ['그치다', '그', '기분', '생각', '끝', '까지', '열심히', '뛰다'], ['어쩌겠어', '갈다', '데', '없다', '먹다', '살다'], ['아우', '쓰레기통', '에서', '역겹다', '냄새', '나다', '있다'], ['집', '밖', '을', '살펴보다', '집', '주변', '까지', '물이', '차오르다', '밖', '나가다', '수', '있다', '상황', '아니다'], ['헐다', '내', '이벤트', '당첨', '되어다'], ['진정', '성', '이라고는', '하나', '느껴지다', '않다'], ['어떻다', '쓰다'], ['정말', '힘들다'], ['쓰레기', '버리다', '때', '자다', '못', '들어가다', '보다'], ['갇히다', '것', '같다', '아무래도', '밖에', '비', '오다'], ['내', '쓰레기통', '음식물', '쓰레기', '버리다', '그게', '상해', '서', '냄새', '나다'], ['휴가', '기간', '내내', '비소', '식이', '있다', '여행', '을', '가다', '건', '포기', '것', '같다', '너', '말', '대로', '쉬다', '집', '에서', '휴가', '즐기다', '수', '있다', '방법', '을', '찾아보다', '것', '같다'], ['구매'], ['구매', '다', '고', '좋다', '거', '있다', '해주다'], ['친구', '한테', '자랑', '너무', '부러워하다', '그거', '비싸다', '거', '라고'], ['나', '정말', '겁', '나', '혼자', '갇히다', '것', '같다'], ['자고', '일어나다', '주변', '온통', '물바다', '야'], ['휴', '환불', '정도', '해주다', '하', '따다', '건', '바라지', '않다'], ['맞다', '힘들다', '보람', '느끼다'], ['노래', '듣다', '거', '어떻다', '생각', '친구', '만나다', '것', '보다', '더', '좋다', '것', '같다'], ['마라톤', '대회', '신청', '생각', '보다', '내', '기록', '너무', '자다', '나오다'], ['냄새', '어떻다'], ['나', '갇히다', '되다', '것', '같다'], ['그', '래야', '것', '같다', '이대로', '넘어가다', '다음', '또', '이렇다', '일이', '생기다'], ['얘기', '해보다'], ['넌', '어떻다', '선물', '좋아하다'], ['고맙다', '너', '밖에', '없다'], ['힘들다', '보람', '을', '느끼다', '기분', '상쾌하다'], ['정전', '까지', '돼다', '너무', '무섭다'], ['어떻다', '걸', '보이다', '달라', '거야'], ['아직', '까지는', '집', '안', '물이', '들어오다', '않다', '괜찮다'], ['다행하다', '몸', '에는', '이상', '없다'], ['너무', '냄새', '나서다', '버리다', '밖에', '빼다'], ['아', '요즘', '다', '들다', '왜', '그렇다', '이해', '안'], ['고맙다', '너', '말', '대로', '번', '해보다'], ['그', '래야', '것', '같다', '정말', '곰팡이', '너무', '안', '없어지다'], ['뭐', '문서', '작업', '영화', '보고'], ['전화하다', '그거', '환불', '해달라다', '사진', '찍다'], ['그', '방법', '한번', '써다', '보다', '겠다'], ['그렇게', '해보다'], ['그렇다', '뭐', '때문', '인지', '모르다', '뭐', '썩다', '보다'], ['그렇다', '다음', '에는', '너', '같이', '하자'], ['회사', '바쁘다', '년', '만에', '휴가', '내다', '거', '이다'], ['그렇다', '그건', '그렇다', '근데', '정말', '정말', '짜증나다'], ['그렇다', '친구', '여행', '계획', '세우다', '볼', '게'], ['음식물', '쓰레기', '내', '안', '버리다', '더', '라고'], ['으', '쓰레기통', '에서', '역겹다', '냄새', '나기', '시작'], ['친구', '약속', '벌써'], ['응', '그', '상사', '새끼', '왜', '집', '안', '가다', '내', '옆', '붙다', '지랄', '이야'], ['내', '지금', '엄청', '화가', '나다', '내', '기분', '을', '풀다', '영상', '있다'], ['그렇다', '방향', '제', '지금', '준비', '청소', '중이', '야'], ['하지만', '결승선', '도착', '순간', '힘드다', '게', '싹', '사라지다', '더', '라고'], ['뛰다', '동안', '힘들다', '결승선', '을', '통과', '순간', '힘드다', '싹', '사라지다'], ['당연하다', '향수', '오다', '바로', '보여주다'], ['친구', '하고', '약속', '벌써', '잡다'], ['나', '혼자', '집', '안', '갇히다', '돼다', '어떻다', '해'], ['오랜', '만', '가족', '이랑', '동해', '바다', '가다', '실컷', '놀다', '오기', '로', '그런데', '비', '오다', '망하다'], ['마라톤', '기록', '을', '갱신'], ['그렇게', '게', '좋다', '그렇게', '게', '낫다'], ['그냥', '계속', '자다', '보다'], ['오자', '마자', '노트북', '여기', '저기', '살피다', '보다', '아무', '문제', '없다', '성능', '정말', '좋다'], ['알다', '내일', '만나다', '여행', '계획', '세우다', '오다'], ['알다', '그동안', '못', '만나다', '친구', '만나다', '볼', '게'], ['내', '잠', '을', '자다', '동안', '비', '너무', '많이', '오다', '우리', '동네', '고립', '돼다', '그렇다', '갇히다', '돼다'], ['아직', '까지는', '집', '안', '물이', '들어오다', '않다', '조만간', '물이', '들어오다', '너무나', '무섭다', '걱정', '돼다'], ['응', '사람', '이랑', '같이', '뛰다'], ['그게', '내', '되다', '거야'], ['어우', '야', '바퀴벌레', '나오다', '바퀴벌레', '오다', '개', '드럽다', '아', '진짜', '드럽다', '야', '바퀴벌레', '나오다', '야', '야', '바퀴벌레', '나오다', '바퀴벌레', '듣다', '있다', '바퀴벌레', '나오다', '바퀴벌레'], ['집', '안', '갇히다', '밖에', '물이', '너무', '많이', '차다'], ['알다', '그러면'], ['음식물', '쓰레기', '버리다', '썩다', '보다'], ['자고', '일어나다', '주위', '사람', '하나', '없다', '거야'], ['내', '쓰레기통', '음식물', '쓰레기', '버리다', '그게', '상해', '서', '냄새', '나', '거야'], ['나르다', '너무', '힘들다', '괴롭히다', '나다', '화가', '나서다', '그렇다'], ['친구', '이랑은', '내일', '만나다'], ['그렇다', '냄새', '아주', '오래', '갈다', '것', '같다', '걱정', '이야'], ['집', '안', '까지는', '물이', '안', '들어오다', '난', '괜찮다'], ['노트북', '새롭다', '사다'], ['노트북', '을', '구매'], ['맞다', '결승선', '을', '통과', '기분', '엄청', '좋다', '날아가다', '것', '같다'], ['그래도', '욕', '을', '시원하다'], ['나', '무섭다', '어떻다', '해'], ['달', '동안', '고생', '프로', '젝', '틀다', '이제', '완전하다', '끝나다'], ['진짜', '실망', '스럽다'], ['괜찮다'], ['며칠', '전', '내', '음식물', '쓰레기', '쓰레기통', '버리다', '음식물', '쓰레기', '상해', '서', '냄새', '나', '거야'], ['내', '찍다', '사진', '확실하다', '증거', '니까', '적당하다', '조치', '취', '해주다'], ['오늘', '최종', '발표', '마치다', '완전하다', '끝나다', '거야', '마음', '너무', '홀가분하다'], ['내', '휴가', '랑', '장마철', '이랑', '겹', '치다'], ['나다', '그렇게', '생각', '도와주다', '고맙다'], ['한동안', '친구', '을', '못', '만나다', '이번', '기회', '만나다', '보다'], ['아', '짜증나다', '그', '개새끼', '나', '만', '보다', '못', '잡아먹다', '안달', '이야'], ['그렇지만', '정말', '정말', '행복하다'], ['나', '혼자', '집안', '갇히다', '돼다', '너무', '무섭다', '두렵다'], ['일어나다', '보다', '우리', '집', '주위', '다', '물바다', '되어다'], ['함께', '달리다', '크루', '있다', '내', '힘들다', '지', '칠', '때', '크다', '힘', '되어다', '주다'], ['아니다', '그', '새끼', '왜', '나', '한테', '히스테리', '부리다', '거야', '집', '에나', '갈다', '것', '이지', '결혼', '이나', '것', '이지', '진짜', '짜증', '나다', '진짜'], ['그', '새끼', '한테', '이야기', '짜증나다'], ['더', '실망', '스러운', '건', '자기', '직접', '시인', '을', '않다', '거야', '사과', '억지로', '하드', '라고'], ['아', '놈', '화장실', '청소', '해도', '곰팡이', '없어지다', '않다'], ['어', '나', '싸다', '거', '사다'], ['아니다', '추천', '줄', '음악', '있다'], ['과제', '끝나다'], ['밖에', '비', '많이', '오다', '집', '에서', '갇히다'], ['그렇다', '냄새', '자다', '안', '빠지다', '것', '같다'], ['응', '밤', '이어서', '나', '혼자', '갇히다'], ['아', '짜증나다', '그', '새끼', '왜', '나', '한테', '만', '그렇다'], ['그렇다', '건', '아니다', '나', '혼자', '서', '틈틈이', '연습', '많이', '그랬더니', '결과', '좋다', '거야'], ['정말', '여행가', '고', '싶다', '그렇지만', '지금', '갈다', '수가', '없다'], ['보다', '나', '한테', '것', '같다', '애', '그렇다', '욕', '해주다'], ['오랜', '만', '여행', '을', '다녀오다', '것', '의미', '있다', '것', '같다', '생각', '번', '해보다'], ['음식물', '을', '버리다', '거', '같다', '애'], ['그렇다', '영상', '있다', '나', '보고', '싶다'], ['역겹다', '냄새', '방향', '제로', '처리', '게', '가장', '좋다', '거', '같다'], ['내', '찍다', '사진', '증거', '로는', '확실하다'], ['편집', '거', '지롱', '영상', '편집', '이랑', '음악', '작업', '거야'], ['어', '알다', '다음', '만날', '때', '뿌리', '고', '나가다'], ['사과', '억지로', '떠밀다', '려', '서', '그렇다', '진정', '성', '있다'], ['음악', '좋다', '하나', '추천', '해주다', '바'], ['아직', '선수', '까진', '아니다'], ['써다', '보다', '별로', '효과', '좋다', '않다'], ['함께', '뛰다', '크루', '있다', '힘들다', '때', '마다', '격려', '해주다', '크다', '힘', '돼다'], ['회사', '바쁘다', '년', '만에', '휴가', '내다', '거야'], ['모르다', '뭐', '썩다', '보다'], ['그렇다'], ['벌레', '나오다', '사진', '을', '찍다', '증거', '확실하다', '적당하다', '조치', '해달라다'], ['동해', '바다', '놀다', '가다'], ['프로젝트', '진행', '달', '동안', '친구', '못', '만나다', '이번', '기회', '만나다', '보다', '겠다'], ['사진', '찍다', '뭐', '토', '거', '같다'], ['그렇다', '증거', '확실하다', '만들다', '놓다', '돼다'], ['방향', '제', '냄새', '랑', '쓰레기', '냄새', '랑', '섞이다', '이상하다', '않다'], ['드디어', '연구실', '에서', '내', '프로젝트', '끝나다'], ['에이', '선수', '무슨', '그렇다', '보다', '아마추어', '지'], ['화장실', '청소', '해도', '곰팡이', '끊다', '않다'], ['그러면', '욕', '말다'], ['작동', '안', '되다', '곧', '오다', '사람'], ['사장', '님', '불쌍하다', '않다'], ['어떻다', '돼다', '나', '진짜', '짜증나다', '죽다'], ['아', '그렇다', '방향', '제', '뿌리', '면', '냄새', '낫다'], ['나', '백화점', '에서', '이벤트', '하나', '당첨', '돼다'], ['있다', '때', '비', '엄청나다', '내리다'], ['고맙다', '너', '항상', '건강하다'], ['주변', '사람', '한테', '이벤트', '당첨', '되다', '비싸다', '향수', '선물', '로', '받다', '자랑'], ['달리다', '동안', '에는', '엄청', '지치다', '힘들다', '결승선', '을', '통과', '순간', '기분', '엄청', '좋다'], ['화장실', '곰팡이', '아무리', '청소', '해도', '안', '없어지다'], ['방향', '제', '없다', '일단', '쓰레기', '부터', '버리다'], ['최종', '발표', '맞추다', '모든', '게', '다', '끝나다', '거야'], ['아니다', '기록', '을', '달성', '거야'], ['자고', '일어나다', '우리', '집', '빼다', '온', '동네', '다', '물', '잠기다'], ['달', '동안', '친구', '을', '못', '만나다', '이번', '기회', '친구', '을', '만나다', '보다', '겠다'], ['그러니까', '얼른', '쓰레기', '봉지', '담다', '버리다', '되다', '냄새', '너무', '심해', '벌레', '생기다', '것', '같다'], ['아', '알다', '알다', '고맙다', '전화하다'], ['요즘', '다', '들다', '왜', '그렇다', '거야', '이해', '안', '돼다'], ['나', '좋다', '일', '있다', '축하', '해주다'], ['내', '너무나', '갖다', '향수', '라서', '너무', '마음', '들다'], ['노트북', '동영상', '강의', '보다', '외국어', '공부', '거야'], ['지금', '너무', '화가', '나서다', '기분', '전환', '용', '영상', '보기', '싫다', '아무', '영상', '보기', '싫다'], ['정말', '너무', '기분', '좋다', '더', '라고', '내', '맛', '을', '보다', '열심히', '최선', '을', '다한', '것', '같다'], ['로또', '한번', '사보다'], ['너무', '더럽다'], ['진짜', '기분', '안', '좋다', '걸', '어떻다'], ['아이', '그거', '쓰다', '건강', '나빠지다'], ['아직', '까지', '집', '안', '물이', '안', '들어오다', '몸', '괜찮다', '나', '혼자', '고립', '되다', '너무', '무섭다'], ['장마철', '이라', '그', '런가', '하루', '종일', '곰팡이', '와의', '전쟁', '이야'], ['아', '여행', '있다', '여행', '한번', '계획', '해보다'], ['내', '지금', '너무', '화가', '나다', '내', '마음', '을', '진정', '시키다', '수', '있다', '영상', '있다'], ['오랜', '만', '못', '만나다', '친구', '을', '만나다', '계획', '을', '세우다', '보다'], ['노트북', '을', '밖에', '가지', '고', '나가다', '일이', '생기다', '수도', '있다', '보험', '가입', '을', '생각', '보다'], ['바닷가', '놀다', '가다', '거', '이다'], ['음식물', '쓰레기', '썩다'], ['아무래도', '얼마', '전', '버리다', '음식물', '쓰레기', '인거', '같다', '애'], ['따로', '가다', '서핑', '을', '즐기다'], ['나', '집', '인데', '자고', '일어나다', '밖에', '물이', '엄청', '차오르다'], ['응', '완전하다', '끝나다', '이제', '쉬다', '돼다'], ['고맙다', '신고'], ['진짜', '그건', '모르다', '얼른', '들다', '그것', '고맙다'], ['그렇다', '함께', '달리다', '크루', '있다', '내', '지치다', '힘들다', '때', '많다', '도움', '을', '받다', '있다'], ['아무래도', '나', '혼자', '집', '갇히다', '되다', '것', '같다'], ['모르다', '무슨', '일이', '지'], ['선수', '어깨', '나란하다'], ['나', '너무', '행복하다'], ['여름', '바다', '가다', '꿈', '야무지다'], ['나', '혼자', '집', '안', '갇히다', '너무', '무섭다', '두렵다'], ['내', '사진', '을', '찍다', '놨으', '니까', '증거', '확실하다', '그러니까', '적당하다', '조치', '취', '해주다'], ['일', '년', '번', '밖에', '없다', '이벤트', '당첨', '되다', '거지'], ['함께', '달리다', '크루', '있다', '내', '지치다', '때', '크다', '힘', '되어다', '주다'], ['지금', '완전', '무섭다'], ['나', '마라톤', '지난', '번', '보다', '기록', '훨씬', '좋아지다'], ['그것', '정말', '좋다', '생각', '인', '거', '같다', '애'], ['그래서', '신경', '쓰다', '청소', '곰팡이', '안', '없어지다'], ['상사', '상사', '다', '워', '야', '상사', '지'], ['무슨', '선수', '처럼', '기록', '좋다', '내', '예전', '기록', '보다', '많이', '단축', '돼다'], ['이전', '쓰레기통', '모르다', '음식물', '을', '버리다', '보다'], ['축하', '주다', '나', '기분', '좋다', '일', '있다'], ['당연하다', '같이', '대회', '나가다', '뛰다', '크루', '있다'], ['물이', '집', '주변', '까지', '차오르다', '밖', '나가다', '수가', '없다'], ['그렇다', '내', '선물', '보고', '싶다', '내', '나중', '보여주다'], ['게', '너무', '많다', '영화', '보고', '음악', '듣다', '두루', '두루', '쇼핑'], ['그렇다', '그렇다', '욕', '안'], ['게', '향수', '주다', '거', '이다', '거', '어떻다', '돼다', '완전', '조금', '뽑다', '거', '이다'], ['내', '좋아하다', '인', '플루', '언', '서', '좋아하다', '이벤트', '있다', '거기', '당첨', '되어다'], ['신나다', '음악', '들다', '스트레스', '날다', '버리다', '싶다'], ['자다', '동안', '비', '많이', '오다', '보다', '전화', '여러', '통', '오다', '있다', '더', '라고'], ['헐다', '나', '이벤트', '당첨', '돼다'], ['명', '밖에', '안', '뽑다', '건데', '내', '당첨', '돼다'], ['그냥', '환기', '환기', '시키다'], ['어쩌라고', '씨발'], ['그게', '낫다', '정말'], ['나', '욕', '기분', '좋아지다'], ['말', '나오다', '김', '지금', '가다', '곰팡이', '제', '거제', '사다'], ['알다', '고맙다'], ['달리다', '동안', '에는', '엄청', '힘들다', '지치다', '결승선', '을', '통과', '순간', '기분', '엄청', '날아가다', '거', '같앴어'], ['마라톤', '대회', '에서', '기존', '기록', '을', '갱신'], ['쓰레기통', '버리다', '음식물', '쓰레기', '상해', '서', '냄새', '나', '거', '이다'], ['기분', '좋다', '신나다', '음악', '을', '듣다', '게', '좋다', '거', '같다'], ['층', '에서', '층', '올라가다', '엘리베이터', '타다', '갇히다'], ['나가다', '수가', '없다', '물이', '너무', '많이', '차오르다', '엄두', '안나', '아직도', '비', '오다', '있다'], ['여행', '너무', '가다', '싶다', '그런데', '지금', '갈다', '수가', '없다'], ['네', '일단', '저', '집', '에서', '영화', '보고', '티비', '보다', '쉬다', '구', '요'], ['그거', '너무', '좋다'], ['집', '안', '음식물', '쓰레기', '냄새', '진동', '을', '버리다', '밖', '에다', '내다'], ['에서', '역겹다', '냄새', '나기', '시작'], ['그', '래야', '것', '같다', '곰팡이', '냄새', '너무', '싫다'], ['보다'], ['게', '너무', '많다', '영화', '보다', '그동안', '못', '보다', '드라마', '하고', '예능', '프로도', '볼', '거야', '그리고', '중요하다', '건', '프로젝트', '돼다'], ['그렇다', '우리', '집', '빼다', '죄다', '물', '잠기다'], ['에이', '이미', '써다', '보다', '근', '데', '너무', '자주', '생기', '니까', '너무', '불만', '이야'], ['최종', '발표', '마치다', '이제', '완전하다', '끝나다'], ['당첨', '선물', '내', '갖다', '싶다', '향수', '라서', '너무', '마음', '들다'], ['이번', '마라톤', '대회', '출전', '그런데', '그', '대회', '에서', '내', '좋다', '성적', '을', '거두다'], ['완전', '배고프다', '기분', '완전', '잡', '치다'], ['안', '그렇다', '오늘', '바로', '만나다', '갈다', '생각', '이야'], ['다행하다', '몸', '괜찮다', '우울하다', '그렇다'], ['집', '방향', '제', '없다'], ['얼른', '내다', '버리다'], ['주변', '홍수', '나서다', '집', '갇히다'], ['그래서', '그', '런가', '하루', '종일', '화장실', '청소', '만', '기분', '이야'], ['아니다', '이제', '보고서', '만', '쓰다', '끝나다'], ['혹시', '나', '미리', '사진', '을', '찍다'], ['근거', '없다', '빨리', '지워지다'], ['내', '잠', '들다', '업다', '모르다', '그래서', '재난', '문자', '랑', '피하', '라는', '전화', '못', '받다', '그냥', '잠', '만', '자고', '있다', '보다'], ['음', '그래도', '뭐', '내', '치우다', '어떡하다', '다음', '부터는', '빨리', '빨리', '버리다'], ['프로젝트', '너무', '바쁘다', '여행', '다니다', '시간', '없다', '이번', '기회', '여행', '을', '다녀오다', '것', '정말', '좋다', '것', '같다', '여행', '계획', '세우다', '볼', '게'], ['내', '생각', '고생', '많다'], ['자고', '일어나다', '전화', '많이', '오다', '있다', '더', '라고', '그것', '모르다', '자다', '보다'], ['당연하다', '아직', '자랑', '안', '향수', '오다'], ['그렇다', '추천', '해주다', '보다', '번', '보고', '기분', '전환', '되다', '것', '같다'], ['방향', '제', '아', '집', '방향', '제', '있다', '모르다'], ['쓰레기통', '에서', '나', '냄새', '너무', '고약하다', '날', '파리', '생기다', '지금', '당장', '음식물', '쓰레기', '랑', '같이', '쓰레기', '버리다', '되다', '거', '같다'], ['뛰다', '동안', '정말', '힘들다', '결승선', '을', '통과', '하', '니깐', '힘드다', '싹', '사라지다', '더', '라고'], ['친구', '너무', '좋다', '너무', '요', '번', '못', '만나다', '꼭', '만나다', '돼다'], ['사과', '라기', '보다는', '자기', '변명', '을', '있다', '더', '화가', '나다'], ['빨리', '사오다', '뿌리다'], ['이번', '년도', '휴가', '포기', '되다', '그렇다', '영화', '나', '게임', '을', '추천', '해주다'], ['장마', '때문', '갑자기', '비', '너무', '많이', '내다', '우리', '동네', '고립', '되다', '내', '갇히다', '되어다'], ['알다', '신나다', '음악', '듣다', '스트레스', '풀다'], ['좋다', '생각', '이야', '근데', '친구', '바쁘다', '아직'], ['그렇다', '다', '들다', '유튜버', '보다', '그', '제품', '을', '사다'], ['알다', '선물', '오다', '바로', '보여주다'], ['너무', '역겹다', '손대다', '싫다'], ['나', '혼자', '야', '너무', '무섭다'], ['나', '드디어', '프로젝트', '끝나다'], ['좋다', '꼭', '보여주다', '완전', '마음', '들다'], ['그게', '이번', '마라톤', '대회', '출전', '내', '기록', '엄청', '좋아지다'], ['그렇지만', '뭐', '어쩌겠어', '수', '없다', '뭐'], ['아우', '짜증나다', '그', '새끼', '일', '끝나다', '집', '에나', '가지', '회사', '남아', '서', '나', '한테', '자꾸', '짜증', '내'], ['그치다', '너무', '지저분하다', '더럽다', '버리다', '밖', '에다', '빼다'], ['몸', '괜찮다', '아직도', '비', '오', '니까', '걱정', '돼다'], ['오다', '자장면', '에서', '벌레', '나오다'], ['응', '좋다', '음악', '추천', '해주다', '수', '있다'], ['무섭다'], ['아', '그', '상사', '새끼', '왜', '집', '에는', '안', '가다', '내', '옆', '있다', '아우', '그렇다', '계속', '괴롭히다', '미치다', '놈', '인가', '보다'], ['어유', '모습', '상사', '다', '워', '야', '지다', '에흐'], ['내', '쓰레기통', '음식물', '쓰레기', '버리다', '상해', '서', '냄새', '나', '거야'], ['밖에', '나가다', '수가', '없다', '너무', '무섭다'], ['오다', '자장면', '에서', '벌레', '나오다'], ['그렇다', '제대로', '되다', '조치', '없다', '나', '인터넷', '올리다', '거야'], ['당첨', '명', '뽑다', '거', '이다', '운', '좋다', '내', '당첨', '되어다'], ['쓰레기', '버리다', '때', '섞이다', '들어가다', '보다'], ['함께', '달리다', '크루', '있다', '내', '지치다', '힘들다', '때', '크다', '힘', '되어다', '주다', '그래서', '이번', '기록', '세우다', '수', '있다', '거', '같다'], ['응', '마음', '들다'], ['내', '너무나', '좋아하다', '인', '플루', '언', '서', '진행', '이벤트', '당첨', '되어다'], ['자고', '일어나다', '우리', '집', '주변', '다', '물바다', '야'], ['자신', '절대로', '뒷', '광고', '않다', '말', '을', '오늘', '사과', '영상', '을', '보', '니까', '너무', '화가', '나다', '짜증', '나다'], ['당첨', '명', '뽑다', '거', '이다', '내', '당첨', '되어다'], ['내', '갖다', '싶다', '향수', '선물', '로', '받다', '마음', '들다'], ['나', '우리', '집', '갇히다'], ['휴가', '내다', '태풍', '장마', '겹', '치다', '나가다', '수가', '없다'], ['명', '명', '뽑다', '건데', '내', '뽑히다'], ['당연하다', '달', '간', '정말', '고생', '많다'], ['그렇다', '니', '말', '대로', '음악', '을', '들다', '기분', '을', '풀다', '나', '신나다', '음악', '좋다'], ['으', '짜장면', '에서', '벌레', '나오다'], ['어쩔', '수', '없다', '차다', '청소', '나', '깨끗하다', '지저분하다'], ['맞다', '운동', '같이', '같이', '출전', '다섯', '명의', '크루', '있다'], ['아', '짜증', '나', '그', '새끼', '일', '없다', '집', '에나', '갈다', '것', '이지', '왜', '나', '한테', '만', '그렇다'], ['아니다', '이번', '에는', '혼자', '뛰다'], ['음악', '을', '들다', '기분', '푸다', '나다', '거', '같다', '나', '신나다', '음악', '좋다'], ['화장실', '청소', '해도', '곰팡이', '없어지다', '않다'], ['내', '휴가', '엉망', '이야'], ['내', '잠', '을', '자다', '동안', '갑자기', '비', '많이', '오다', '우리', '동네', '고립', '되다', '갇히다', '돼다'], ['어', '그거', '좋다'], ['오늘', '부터', '일주일', '간', '휴가', '기간', '인데', '휴가', '기간', '내내', '비', '온대'], ['응', '맞다', '모든', '일', '을', '나', '한테', '만', '시키다', '거', '같다', '애'], ['그렇다', '완전하다', '비싸다', '향수', '야'], ['아니다', '지금', '아무', '것', '안', '보이', '고', '그냥', '엄청', '깜깜'], ['아', '나', '드디어', '프로젝트', '끝나다'], ['나', '복잡하다', '마음', '을', '잔잔하다', '호수', '처럼', '만들다', '수', '있다', '영상', '부탁'], ['내', '빨리', '안', '치우다', '그렇다', '뭐', '괜찮다'], ['여기', '우리', '집', '올라가다', '엘레베이터'], ['꼭', '사다', '되다'], ['여행', '돼다', '일단', '쉬다', '겠다'], ['그렇게', '말', '해주다', '기분', '좋다'], ['어', '퇴근', '쉬다', '못', '하고', '막', '야근', '열심히', '자다', '마무리', '되다', '거', '같다'], ['내', '받다', '선물', '궁금하다', '보다', '내', '나중', '꼭', '보여주다'], ['유명하다', '인', '플루', '언', '서', '이번', '이벤트', '열다', '더', '라고'], ['화장실', '문', '을', '열다', '추다', '어떡하다'], ['나', '축하', '해주다', '기분', '좋다', '일', '있다'], ['쓰레기통', '에서', '역겹다', '냄새', '나다', '있다'], ['자고', '일어나다', '우리', '집', '빼다', '주위', '다', '물바다', '야'], ['결국', '집', '에서', '휴식', '을', '취하', '면서', '영화', '보고', '맛있다', '거나', '해먹', '어', '야', '겠다'], ['응', '알다', '사진', '찍다', '인터넷', '올리다', '보다'], ['당첨', '선물', '내', '너무나', '갖다', '싶다', '향수', '라서', '너무나', '마음', '들다'], ['다행하다', '괜찮다', '그런데', '조금', '무섭다', '나가다', '수가', '없다'], ['그', '새끼', '또', '라이', '라서', '욕', '처', '먹다', '괜찮다'], ['아니다', '지금', '너', '누구', '편', '들다'], ['그렇다', '영상', '기분', '좋아지다', '수', '있다'], ['응', '안', '그렇다', '방금', '사진', '찍다'], ['어', '나', '지금', '혼자', '있다', '어떻다', '너무', '무섭다', '어떻다', '지다'], ['아우', '짜증', '나', '그', '새끼', '일', '끝나다', '빨리', '집', '에나', '갈다', '것', '이지', '남아', '서', '나', '한테', '뭐라다', '해'], ['야', '나', '갇히다', '거', '같다', '애'], ['알다', '그걸', '써다', '볼', '게'], ['아', '짜증나다', '그', '새끼', '일', '다', '끝나다', '집', '에나', '갈다', '것', '이지', '남다', '자꾸', '나', '한테', '뭐라다', '해'], ['아', '완전', '아', '진짜', '하나', '못', '먹다', '버리다', '진짜', '씨', '확', '전화하다', '말', '해', '버리다'], ['문', '을', '자주', '열다', '환기', '그렇다'], ['당첨', '선물', '예전', '부터', '내', '갖다', '싶다', '향수', '라서', '너무나', '마음', '들다'], ['모르다'], ['그렇다', '음악', '듣다', '쉬다', '겠다', '그리고', '맛있다', '것', '해', '먹다'], ['내', '휴가', '엉망', '되어다'], ['이렇다', '그렇다', '어떻다', '해'], ['나', '이벤트', '당첨', '돼다'], ['아니다', '환기', '자주', '방', '창문', '하나라', '환기', '자다', '안', '돼다'], ['그동안', '열심히', '노력', '보상', '받다', '것', '같다', '기분', '좋다'], ['오랜', '만', '가족', '이랑', '동해', '바다', '가다'], ['응', '신나다', '노래', '하나', '만', '추천', '해주다'], ['맞다', '나', '만', '괴롭히다', '거', '같다', '애'], ['집', '안', '갇히다', '게', '어떻다', '되다', '일인', '지'], ['것', '같다', '어떡하다', '좋다'], ['오랜', '만', '가족', '이랑', '동해', '바다', '가다', '놀다', '오기', '로'], ['쓰레기통', '에서', '엮겨운', '냄새', '나다', '있다'], ['유명하다', '인', '플루', '언', '서', '이벤', '트이다'], ['야', '나', '드디어', '프로젝트', '다', '끝나다'], ['그래도', '그', '새끼', '나', '한테', '만', '퉁', '명', '스럽게', '말', '정말', '싫다'], ['알다', '화', '내다', '금방', '갖다', '버리다'], ['응', '다치다', '없다', '너무', '무섭다'], ['내', '기분', '을', '전환', '줄', '수', '있다', '영상', '있다'], ['그렇다', '쓰레기통', '을', '바꾸다'], ['당첨', '명', '뽑다', '거', '이다', '내', '당첨', '되다', '거야', '엄청', '운', '좋다'], ['사진', '안', '찍다', '어떡하다', '환불', '안', '해주다'], ['그렇다', '보여주다', '얼마나', '비싸다', '예쁘다', '향수', '인지'], ['그치다', '안', '그렇다', '지금', '모으다', '버리다', '봉투', '묶다', '있다'], ['아직', '까지는', '집', '안', '물이', '들어오다', '않다', '정말', '다행', '이야'], ['정말', '왜', '그렇다', '모르다', '왜', '나', '한테', '만', '일', '을', '시키다', '건지다'], ['그렇다', '하지만', '아무튼', '짜증나다'], ['그러니까', '비다', '왜', '그렇게', '오다', '거야'], ['그렇다', '이렇게', '넘어가다', '수', '없다'], ['진짜', '별로', '이다', '맛', '있다'], ['명', '뽑다', '거', '이다', '운', '너무', '좋다', '내', '당첨', '돼다', '너무', '행운', '이야'], ['음식물', '쓰레기', '안', '버리다'], ['그러니까', '나', '먹다', '토'], ['나', '엘리베이터', '갇히다'], ['아니다', '아직', '안', '선물', '오다'], ['응', '영상', '추천', '고맙다'], ['뛰다', '동안', '힘들다', '결승선', '을', '통과', '하', '니깐', '힘드다', '게', '싹', '사라지다', '더', '라고'], ['미세먼지', '문제', '야', '공기청정기', '하나', '사다'], ['고맙다', '기왕', '이면', '라벤더', '향', '나', '걸', '로', '찾아보다'], ['문', '안', '열리다'], ['달리다', '동안', '에는', '너무', '힘들다', '지치다', '결승선', '을', '통과', '순간', '기분', '너무', '좋다', '날아가다', '것', '같다'], ['어떻다', '풀다'], ['그', '래야', '것', '같다', '화장실', '너무', '냄새', '나', '습하다'], ['아', '짜증나다', '그', '새끼', '왜', '나', '한테', '만', '그렇다'], ['너무', '많이', '오다', '나가다', '수가', '없다'], ['그렇다', '것', '같다', '매일', '매일', '청소', '곰팡이', '안', '없어지다'], ['알다', '좋다', '곰팡이', '제', '거제', '추천', '해주다', '싶다', '추천', '해주다'], ['그렇게', '좋다', '보험', '있다', '지금', '당장', '가입'], ['그렇다', '사진', '몇', '장', '찍다'], ['화장실', '청소', '해도', '곰팡이', '사라지다', '않다'], ['기분', '풀어지다', '수', '있다', '아무', '음악', '이나', '해주다'], ['헐다', '나', '이벤트', '당첨', '돼다'], ['친구', '한테', '자랑', '너무', '좋다', '하드', '라고', '비싸다', '거', '라고'], ['프로젝트', '진행', '못', '만나다', '친구', '을', '만나다', '것', '좋다', '것', '같다'], ['일', '년', '만에', '휴가', '거들다', '지금', '일', '하고', '있다', '프로젝트', '끝나다', '신나다', '놀다', '오다', '계획', '이다'], ['너무', '너무', '좋다'], ['곰팡이', '제', '거제', '써다', '보다', '되다', '거', '같다', '그거', '좋다', '아이디어', '인', '거', '같다', '애'], ['헐다', '나', '이벤트', '당첨', '돼다'], ['당연하다', '달', '동안', '얼마나', '개', '고생'], ['당첨', '선물', '내', '예전', '부터', '갖다', '싶다', '향수', '라서', '너무', '마음', '들다'], ['다른', '직원', '한테', '늘다', '친절하다', '나', '한테', '짜증', '내다', '화', '내', '니까', '그렇다', '너무', '화가', '나'], ['그치다', '짜증', '나', '거', '어떡하다'], ['다', '들다', '억지로', '사과', '바쁘다', '더', '라고', '진정', '성은', '하나', '없다'], ['내', '자고', '있다', '사이', '비', '엄청', '많이', '오다'], ['당연하다', '서로', '의지', '대회', '출전'], ['옛날', '노래', '트로트', '신나다', '음악', '좋아하다'], ['원래', '갖다', '싶다', '향수', '이다', '이렇게', '당첨', '되다', '기분', '너무', '좋다'], ['곰팡이', '제', '거제', '곰팡이', '제거', '크다', '효과', '있다', '나다', '번', '구매', '해보다', '좋다', '제품', '알아보다'], ['그렇다', '새끼', '욕', '먹다', '저러다', '거', '니까', '욕', '해주다', '돼다'], ['나', '지금', '무지', '화가', '나다', '어떻다', '영상', '을', '추천', '해주다', '거야'], ['좋다', '생각', '이야', '친구', '여행가', '고', '싶다'], ['아', '짜증', '나', '그', '새끼', '맨날', '나', '만', '보다', '머', '라고', '해', '자꾸', '나', '한테', '만', '뭐라다', '짜증', '나'], ['그래도', '너', '덕분', '도움', '돼다'], ['모르다', '뭐', '썩다', '있다', '건', '사실', '이야'], ['우리', '집', '아파트', '엘리베이터', '타다', '층', '누르다', '층', '에서', '멈추다', '버리다'], ['아', '그거', '진짜', '좋다', '생각', '이다'], ['내', '자다', '동안', '비', '엄청', '많이', '오다', '근데', '난', '대피', '문자', '못', '보고', '잠들다', '있다'], ['달리다', '동안', '에는', '엄청', '힘들다', '지치다', '결승선', '을', '통과', '순간', '날아가다', '거', '같다'], ['아직', '그', '정도', '실력', '아니다', '그래도', '많이', '발전', '하고', '있다', '이제', '선수', '급', '되다', '것', '같다'], ['여행', '가다', '싶다', '지금', '갈다', '수가', '없다'], ['알다', '친구', '약속', '잡', '을', '거야'], ['지금', '마음', '같다', '뭐라다', '다', '싶다', '다', '알다', '뭘', '되다'], ['어', '이제', '다', '끝나다', '너무', '힘들다', '다행', '이다'], ['아', '그렇다', '게', '있다', '고맙다'], ['나', '홍수', '때문', '집', '에서', '못', '나오다', '있다'], ['일이', '너무', '많다', '일', '년', '만에', '휴가', '내다', '건데', '어쩜', '이렇다', '수가', '있다'], ['믿다', '수', '있다', '모르다', '노래', '추천', '해주다'], ['기분', '전환', '해주다', '영상', '있다', '궁금하다'], ['신나다', '놀다', '되다', '맛있다', '것', '먹다', '음악', '틀', '고', '신나다', '친구', '만나다'], ['어', '그래서', '완전', '짜증나다', '아니다', '내', '뭘', '못', '그렇다', '거야'], ['처리', '보다'], ['이미', '듣다', '있다', '혹시', '추천', '해주다', '노래', '있다'], ['나', '드디어', '프로젝트', '다', '끝나다'], ['총', '다섯', '명', '뽑다', '거', '이다'], ['이번', '마라톤', '대회', '출전', '내', '성적', '엄청', '좋다', '나오다'], ['프로젝트', '끝나다', '나', '드디어', '프로젝트', '끝나다'], ['그', '새끼', '욕', '나오다'], ['응', '사진', '찍다', '아니다', '나', '한테', '뭐라다', '오히려'], ['지나가다', '이벤트', '걸', '보고', '신청', '돼다'], ['응', '이제', '쉬다', '거야'], ['신나다', '음악', '을', '들다', '춤', '이라도', '추다', '싶다'], ['함께', '달리다', '크루', '있다', '내', '지치다', '힘들다', '때', '크다', '도움', '을', '받다'], ['선수', '아니다', '일반인', '마라톤', '대회', '이다'], ['맛있다', '먹다', '추천', '해주다'], ['너무', '추다', '무섭다', '어둡다'], ['나다', '모르다', '뭐', '돼다'], ['나', '드디어', '구매', '노트북', '오늘', '도착', '대'], ['드디어', '구매', '노트북', '오늘', '도착'], ['얼마', '비싸다', '건', '못', '사다', '알바', '비', '모으다', '산', '거', '거들다'], ['그렇다', '건', '아니다', '그냥', '혼자', '서', '열심히', '노력'], ['그러니까', '먹다', '토', '뻔', '어쩜', '그렇게', '무책임하다'], ['그렇다', '좋다', '음악', '하나', '추천', '해주다'], ['나', '한테', '만', '그렇다'], ['더럽다', '만', '지기', '싫다'], ['기분', '전환', '용', '영상', '어떻다', '건데', '궁금하다'], ['나', '갇히다', '되다', '거', '같다', '너무', '무섭다'], ['어', '진짜', '이제', '완전', '끝나다', '거야', '내', '거', '하나', '없다', '완전', '좋다'], ['고맙다', '힘', '내', '볼', '게'], ['결국', '엔', '환기', '문제', '이다'], ['당첨', '명', '이다', '운', '좋다', '내', '돼다'], ['유명하다', '인', '플루', '언', '서', '진행', '하고', '있다', '내', '거기', '신청'], ['우리', '집', '화장실', '환기', '구가', '없다'], ['가지', '고', '싶다', '향수', '당첨', '돼다'], ['그게', '맞다'], ['기분', '전환', '용', '영상', '어떻다'], ['맞다', '그렇다', '것', '있다', '지금', '바로', '버리다'], ['집', '주변', '까지', '물이', '차오르다', '아예', '밖', '나가다', '수가', '없다'], ['응', '일단', '사진', '찍다', '중국집', '연락', '아직', '답장', '오진', '않다'], ['아', '짜증나다', '그', '새끼', '일', '없다', '집', '에나', '갈다', '것', '이지', '늦다', '결혼', '못', '히스테리', '부리다', '건가', '왜', '항상', '나', '한테', '만', '그렇다'], ['나', '혼자', '집', '안', '갇히다', '되다', '엄청', '무섭다'], ['기상', '벨', '찾다', '고맙다'], ['그거', '효과', '좋다', '한번', '써다', '보다'], ['맞다', '빨리', '버리다', '가다'], ['딱', '명', '라니까'], ['나다', '모르다', '으', '너무', '냄새', '나', '어떻다', '돼다'], ['몸', '괜찮다', '물이', '집안', '들어오다', '너무', '겁', '나'], ['무슨', '소리', '야', '나', '마라톤', '대회', '에서', '기록', '세우다', '기분', '좋다'], ['장마철', '이라서', '습기', '많아지다', '곰팡이', '생기다', '것', '같다', '어떻다', '모르다'], ['아니다', '일반인', '중', '에서', '자다', '뛰다'], ['니', '그렇게', '말', '나다', '기분', '나쁘다', '날', '그냥', '위로', '해주다', '돼다'], ['네', '좋다', '친구', '하고', '함께', '놀리다'], ['다행하다', '집', '안', '까지', '들어오다', '않다'], ['곰팡이', '제거', '곰팡이', '제', '거제', '효과', '있다', '나', '사용', '해보다'], ['지나가다', '이벤트', '걸', '발견', '하고', '신청'], ['에이', '그', '정도', '아니다'], ['아니다', '그건', '그런데', '나', '얘', '떄문', '이미', '기분', '나쁘다'], ['곰팡이', '때문', '화장실', '청소', '해도', '티', '하나', '안', '나'], ['그러니까', '거', '말', '안', '되다', '않다'], ['진짜', '많이', '실망하다'], ['내', '사용설명서', '보고', '자다', '살펴보다'], ['내', '이전', '자다', '못', '보고', '버리다', '것', '같다', '냄새', '너무', '심해'], ['하', '일단', '알다', '고맙다'], ['고약하다', '냄새', '방향', '제', '잡다', '수', '있다'], ['하', '화장실', '청소', '해도', '곰팡이', '없어지다', '않다'], ['내', '이번', '십', '킬로미터', '마라톤', '대회', '출전', '예전', '내', '기록', '보다', '훨씬', '자다', '나오다'], ['맞다', '뛰다', '때', '엄청', '힘들다', '결승선', '딱', '도착', '너무', '행복하다'], ['헐다', '나', '이벤트', '당첨', '돼다'], ['달리다', '동안', '에는', '너무', '지치다', '힘들다', '결승선', '을', '통과', '순간', '기분', '엄청', '좋다'], ['그렇다', '냄새', '안', '빠지다', '것', '같다', '오래', '가다'], ['먹다', '토', '줄', '알다', '정말', '짜증', '나'], ['응', '나', '혼자', '라서', '너무', '무섭다', '비상', '버튼', '안눌려'], ['맞다', '다른', '대안', '있다'], ['아니다', '선수', '까지는', '아니다', '엄청', '마라톤', '을', '좋아하다', '그렇게', '자주', '해'], ['향수', '주다', '이벤', '트이다', '오다', '거', '어떻다', '돼다'], ['요즘', '다', '왜', '이르다', '모르다'], ['내', '이번', '주', '부터', '일주일', '동안', '휴가', '기간', '인데', '계속', '비', '온대'], ['세', '명', '뽑다', '것', '중', '내', '당첨', '되어다'], ['사진', '찍다', '두다', '증명', '안', '되다'], ['장마철', '되다', '비', '엄청', '많이', '내다', '우리', '동네', '고립', '되다', '집안', '갇히다', '되어다'], ['여행', '아직', '몸', '피곤하다', '가다', '않다'], ['지금', '제품', '문제', '없다', '꼼꼼하다', '살펴보다', '있다'], ['어', '너무', '짜증나다', '걸', '어떡하다'], ['그렇다', '야하다', '것', '같다', '곰팡이', '없어지다', '않다'], ['사과', '영상', '을', '보다', '사과', '라기보다는', '자기', '변명', '만', '있다', '더', '화가', '나다'], ['백화점', '에서', '향수', '이벤', '틀다', '명', '만', '주다', '건데', '내', '돼다'], ['맞다', '배고프다', '식욕', '다', '떨어지다'], ['내', '십', '킬로미터', '마라톤', '대회', '출전', '이전', '내', '기록', '을', '훨씬', '갱신'], ['나', '마라톤', '기록', '갱신'], ['밤', '중', '그렇게', '비', '많이', '오다', '줄', '누가', '알다', '나', '자다', '대피', '못'], ['같이', '뛰다', '크루', '없다', '혼자', '해', '요'], ['그렇다', '우리', '집', '화장실', '환기', '구가', '없다'], ['여행', '가다', '싶다', '그런데', '혼자', '너무', '심심하다', '친구', '랑', '같이', '가야', '되다'], ['그렇다', '다', '들다', '크루', '랑', '운동', '하고', '크루', '랑', '대회', '출전'], ['고약하다', '냄새', '때문', '벌레', '꼬이다', '걱정스럽다', '얼른', '치우다'], ['나', '혼자', '집', '안', '갇히다', '돼다', '너무', '무섭다'], ['알다', '보여주다'], ['환기', '시키다', '창문', '쪼끄매', '서', '그', '런가', '환기', '안', '돼다'], ['어', '진짜', '기분', '진짜', '더럽다'], ['저런', '놈', '욕', '을', '해', '주다', '되다', '일부러', '저러다', '거', '같다', '미치다'], ['니', '알', '면', '뭐'], ['유명하다', '인', '플루', '언', '서', '이벤트', '인데', '그', '곳', '당첨', '된거', '야'], ['그렇다', '좋다', '내', '받다', '충격', '너무', '크다'], ['그렇다', '너', '말', '대로', '푹', '쉬', '고', '여행', '가다', '것', '괜찮다', '것', '같다'], ['장마철', '이라서', '곰팡이', '자꾸', '생기다', '신경', '쓰이다'], ['내', '달리다', '운동', '을', '너무나', '좋아하다', '매번', '열리다', '마라톤', '대회', '출전', '하고', '있다'], ['쓰레기', '냄새', '때문', '방향', '제라', '안', '되다', '것', '같다'], ['냄새', '방향', '제로', '처리', '가장', '좋다', '것', '같다'], ['오다', '냄새', '개', '좋다', '너', '나중', '번', '써다', '보다'], ['좋다', '생각', '인', '것', '같다', '바로'], ['그것', '좋다', '진우', '나', '랑', '만나다'], ['화장실', '곰팡이', '진짜', '짜증나다'], ['당첨', '딱', '명', '뽑다', '거', '이다', '그게', '내', '돼다'], ['잠', '을', '자고', '일어나다', '나', '혼자', '집', '안', '갇히다', '거', '같다', '너무', '무섭다'], ['화장실', '아무리', '청소', '해도', '곰팡이', '없어지다', '않다'], ['곰팡이', '제', '거제', '효과', '있다'], ['달리다', '동안', '에는', '너무', '지치다', '힘들다', '결승선', '을', '통과', '순간', '기분', '날아가다', '것', '같다'], ['그러니까', '음식', '먹다', '벌레', '나오다', '진짜', '놀라다', '기분', '나쁘다'], ['아니다', '따로', '없다', '나', '나', '혼자', '서', '만', '해'], ['그러니까', '먹다', '정말', '토', '줄', '알다'], ['아니다', '요즘', '다', '들다', '왜', '이르다', '거지'], ['완전', '그냥', '나르다', '종', '알', '아', '종', '나', '한테', '다', '시키다'], ['곰팡이', '제', '거제', '효과', '있다', '나', '구매', '해', '볼', '래'], ['나다', '모르다', '쓰레기', '안', '버리다', '그렇다', '뭐'], ['응', '내', '친구', '랑', '같이', '뛰다'], ['나', '갇히다', '되다', '것', '같다', '무섭다'], ['헐다', '나', '이벤트', '당첨', '돼다'], ['몸', '괜찮다', '걱정', '마'], ['헐다', '나', '이벤트', '등', '당첨', '돼다'], ['화장실', '청소', '해도', '곰팡이', '사라지다', '않다'], ['요즘', '장마', '홍수', '난리', '아니다', '우리', '집', '근처', '다', '물바다', '야'], ['아', '거', '어떡하다'], ['나', '엘리베이터', '갇히다', '어떡하다'], ['함께', '달리다', '크루', '있다', '지치다', '힘들다', '때', '나', '한테', '크다', '도움', '돼다'], ['얼른', '찾아오다'], ['알다', '욕', '안'], ['응', '그렇다고', '수', '있다', '음', '고맙다', '축하', '해주다'], ['처리', '해보다', '그러면'], ['방향', '제', '냄새', '섞이다', '더', '이상하다', '수도', '있다', '빨리', '쓰레기', '버리다'], ['뛰다', '동안', '에는', '엄청', '힘들다', '지치다', '결승선', '을', '통과', '순간', '기분', '엄청', '좋다'], ['나', '지금', '갇히다', '거', '같다'], ['최종', '발표', '마치다', '이제', '완전하다', '끝나다', '마음', '홀가분하다'], ['비싸다', '건', '못', '사다', '알바', '비', '모으다', '사다'], ['비싸다', '향수', '당첨', '선물', '로', '받다', '친구', '한테', '엄청', '자랑', '친구', '다', '들다', '부러워하다'], ['설마', '죽다'], ['보', '니까', '옛날', '음식물', '쓰레기', '버리다', '게', '있다'], ['명', '나', '혼자', '야'], ['정말', '좋다', '생각', '이다'], ['수', '없다', '뭐'], ['어', '달', '동안', '고생', '결과', '야'], ['미세먼지', '문제', '아니다', '그냥', '우리', '집', '안좋다', '거야'], ['그렇다', '근데', '그거', '자주', '하고', '있다', '다른', '해결', '방안', '없다'], ['고맙다', '청소', '가다'], ['홀가분하다', '마음', '신나다', '음악', '을', '듣다', '것', '좋다'], ['습기', '때문', '계속', '생기다', '곰팡이', '어떻다'], ['응', '평상시', '갖다', '싶다', '거', '이다'], ['아니다', '요즘', '다', '들다', '왜그러지', '이해', '안', '가다'], ['나', '혼자', '집안', '갇히다', '되어다'], ['그렇다', '나중', '시간', '되다', '보여주다'], ['거의', '그', '정도', '인', '것', '같다', '애', '나다', '내', '너무', '자랑스럽다'], ['휴가', '기간', '내내', '비', '소식', '있다', '아무래도', '집', '에서', '휴가', '보내다', '수', '있다', '방법', '을', '생각', '해보다', '것', '같다'], ['도저히', '나가다', '수가', '없다'], ['곰팡이', '제', '거제', '효과', '있다', '번', '사용', '해보다', '좋다', '제품', '있다', '소개', '시키다'], ['지금', '정전', '나가다', '엘리베이터', '멈추다', '어', '어떻다', '되다', '모르다'], ['나', '만', '미워하다', '나', '만', '맨날', '일만', '시키다', '나', '만', '괴롭히다', '말', '이야', '그래서', '화가', '나서다', '그렇다'], ['어후', '음악', '들다', '기분', '아니다', '음악', '듣다', '풀리다', '않다'], ['나', '마라톤', '기록', '경신'], ['쉬다', '수', '있다', '돼다'], ['뭐', '어떻다', '거'], ['너무', '무섭다'], ['쓰레기통', '에서', '음식물', '쓰레기', '나오다'], ['나', '남친', '한테', '차이다'], ['헐다', '나', '이벤트', '당첨', '돼다'], ['곰팡이', '제', '거제', '쓰다', '괜찮다', '한번', '그렇다', '생각', '을', '해보다', '적', '없다'], ['내', '쓰레기', '버리다', '때', '음식물', '섞이다', '들어가다', '보다'], ['아무래도', '너', '말', '대로', '그렇게', '게', '나다', '것', '같다', '얼른', '찍다'], ['나', '짜장면', '에서', '벌레', '나오다'], ['그', '걸', '로', '피해', '보다', '사람', '둘', '아니다'], ['아', '요새', '그렇다', '것', '있다', '진짜', '세상', '좋아지다'], ['일단', '전화', '받다', '보고', '다시', '말', '지는', '생각', '보다', '되다', '그냥', '동안', '끝나다'], ['당연하다', '시간', '되다', '때', '말'], ['나', '만', '갈구다', '난', '것', '없다'], ['그렇다', '참고', '보험', '들다', '두루', '두루', '편하다', '수도', '있다'], ['너무', '더럽다', '지저분하다', '버리다', '내다'], ['맞다', '요즘', '미세먼지', '너무', '심하다', '그거', '때문', '곰팡이', '생기', '고', '아주', '화나다', '죽다'], ['어', '완전하다', '끝나다'], ['어', '그렇다', '야하다', '것', '같다'], ['나', '살', '생각', '있다', '좋다', '걸', '로', '하나', '추천', '해주다'], ['내', '지금', '너무', '화가', '나다', '나', '화나다', '마음', '을', '진정', '시키다', '영상', '있다'], ['집', '안', '갇히다', '있다'], ['응', '일단', '여행', '부터', '갈다', '거야'], ['아', '그', '상사', '새끼', '일', '없다', '집', '에나', '갈다', '것', '이지', '왜', '일', '안', '짜증나다', '거야', '진짜'], ['아니다', '나', '보통', '혼자', '뛰다'], ['곰팡이', '눈', '보이', '니까', '자꾸', '신경', '쓰이다', '청소', '돼다', '청소', '너무', '힘들다'], ['사람', '한테', '속', '느낌', '인', '기분', '을', '싹', '사라지다', '해주다', '만', '영상', '있다'], ['사진', '을', '메세지', '로', '첨부', '지금', '당장', '전화하다'], ['나', '프로젝트', '끝내다'], ['진짜', '신나다'], ['다행하다', '비상', '벨', '작동', '경비', '아저씨', '랑', '연락'], ['난', '선수', '아니다', '일반인', '중', '에서', '그냥', '상위', '권', '정도', '밖에', '안', '돼다'], ['알다', '친구', '약속', '해보다'], ['어쩔', '수', '없다', '내', '실수', '로', '그렇다', '거', '니까', '깨끗이', '치우다'], ['아', '짜증나다', '그', '새끼', '일', '끝나다', '빨리', '집', '이나', '가지', '남다', '나', '한테', '자꾸', '뭐라다', '말'], ['예전', '부터', '같이', '뛰다', '친구', '명', '있다'], ['그렇다', '최종', '발표', '까지', '전', '끝내다', '완전하다', '끝나다', '것', '같다'], ['노트북', '을', '오래', '사용', '수', '있다', '보험', '가입', '을', '생각', '해보다'], ['곰팡이', '제', '거제', '라는', '것', '있다', '아이', '그렇다', '걸', '로', '청소', '건데'], ['퇴근', '한지', '얼마나', '돼다', '회사', '에서', '또', '연락', '오다'], ['지금', '나가다', '수', '없다', '거', '같다'], ['내', '휴가', '엉망', '진창', '되어다', '어떡하다'], ['일반', '인들', '중', '에서', '자다', '거지'], ['명', '뽑다', '거', '이다', '내', '돼다'], ['드디어', '구매', '노트북', '도착', '뜯다', '보다'], ['응', '그거', '좋다', '생각', '이다'], ['저번', '먹다', '버리다', '치킨', '있다', '그게', '상', '보다'], ['자고', '일어나다', '우리', '동네', '다', '물', '잠기다'], ['신나다', '음악', '을', '좋아하다'], ['친구', '연락', '해보다', '근데', '걔네', '바쁘다', '만날', '수', '있다', '모르다'], ['아우', '짜증나다', '그', '새끼', '일', '다', '끝나다', '집', '에나', '가지', '남다', '나', '한테', '뭐라다', '그렇다'], ['아니다', '원래', '바닷가', '가다', '가지', '고', '그', '옆', '팬션', '에서', '놀다', '경치', '구경', '해산물', '먹다', '그렇다'], ['화가', '풀리다', '음악', '부탁'], ['어', '사진', '찍다', '후기', '올리다'], ['그건', '어떻다', '알다'], ['그것', '일리', '있다', '혹시', '화장실', '청소', '꿀팁', '같다', '있다'], ['에이', '그', '정도', '까지는', '아니다', '그냥', '자다', '먹다', '돼다', '거기', '맛집', '더', '라고'], ['곰팡이', '제', '거제', '효과', '있다', '나', '구매', '해보다', '추천', '해주다'], ['집', '안', '갇히다', '바깥', '을', '보', '니까', '비', '너무', '오다', '물이', '많이', '차다'], ['었던', '향수', '이벤트', '당첨', '돼다'], ['거', '환불', '받다', '되다'], ['화', '자다', '청소', '해도', '곰팡이', '없어지다', '않다'], ['그렇다', '야하다', '것', '같다', '휴식', '을', '취하', '면서', '영화', '나', '보다'], ['맞다', '말', '이라도', '자다', '괜찮다', '말', '을', '정말', '퉁', '명', '스럽게', '해'], ['응', '두', '명', '정도', '도와주다', '있다'], ['그렇다', '그게', '좋다'], ['쓰레기통', '에서', '썩다', '내', '나'], ['습기', '많다', '환기', '자다', '되다', '않다', '거', '같다', '매일', '청소', '곰팡이', '안', '없어지다'], ['그렇다', '친구', '하고는', '약속', '벌써', '다', '잡다'], ['너무', '좋다', '것', '같다', '좋다', '생각', '이야'], ['동해', '바다로', '놀다', '가기', '로'], ['네', '정말', '좋다', '음악', '듣다', '싶다', '빨리'], ['그렇다', '것', '같다', '집', '너무', '습하다'], ['휴가', '첫', '날', '부터', '우울하다', '비', '오다', '있다', '하루', '종일'], ['알다', '고맙다', '아', '빨리', '곰팡이', '없어지다', '좋다'], ['그냥', '내', '달리다', '운동', '을', '너무나', '좋아하다', '매번', '열리다', '마라톤', '대회', '출전', '하고', '있다'], ['그렇다', '않다', '나', '혼자', '뛰다'], ['나', '프로젝트', '드디어', '끝내다'], ['담', '엔', '꼭', '그렇게'], ['우리', '집', '빼다', '온통', '다', '물바다', '되어다', '있다'], ['습기', '때문', '생기다', '곰팡이', '어떻다'], ['아이', '뭐', '그렇다', '건', '아니다', '따르다', '쪽', '에서', '안', '좋다', '일이', '있다'], ['너무', '힘들다', '지치다', '집안', '벌레', '생기다', '것', '같다', '얼른', '청소', '것', '같다'], ['당첨', '명', '이다', '내', '당첨', '돼다', '너무', '운', '좋다', '것', '같다'], ['너', '말', '대로', '오랜', '만', '여행', '을', '다녀오다', '것', '좋다', '것', '같다', '생각', '번', '해보다'], ['안', '그렇다', '친구', '한테', '연락'], ['무섭다', '엄청', '무섭다', '죽다'], ['맞다', '화나다', '게', '안', '풀다'], ['그렇다', '그냥', '넘어가다', '수가', '없다'], ['그래서', '매', '일', '매일', '청소', '있다', '곰팡이', '안', '없어지다'], ['그렇다', '친구', '만나다', '오', '랬', '동안', '못', '만나다', '보다'], ['내', '마라톤', '대회', '나가다', '예전', '내', '기록', '보다', '훨씬', '자다', '나오다', '거야'], ['드디어', '구매', '노트북', '도착'], ['아니다', '그', '정돈', '아니다', '그래도', '내', '최고', '기록', '이야'], ['아니다', '난', '음악', '별', '론데'], ['앙', 'ㄹ', '았', '어', '짜증', '그만', '부리다', '바로', '버리다'], ['괜찮다', '방향', '제', '추천', '해주다', '수', '있다'], ['장마', '오다', '비', '많이', '오다', '우리', '동네', '고립', '돼다', '그래서', '갇히다', '돼다'], ['아', '짜증나다', '그', '새끼', '일', '없다', '집', '에나', '갈다', '것', '이지', '결혼', '못', '히스테리', '부리다', '건가', '왜', '항상', '나', '한테', '만', '그렇다'], ['아주', '유명하다', '인', '플루', '언', '서', '이벤트'], ['함께', '달리다', '크루', '있다', '힘들다', '때', '마다', '크다', '힘', '되어다', '주다'], ['아니다', '욕', '안나', '올', '래야', '안', '나오다', '없다', '뭐', '상사면', '다', '갑', '이야', '아니다', '그', '새끼', '나', '한테', '함부로', '나', '뭐', '함부로', '안', '돼다'], ['축하', '해주다', '기분', '좋다', '일이', '있다'], ['당연하다', '달', '동안', '얼마나', '고생'], ['고맙다', '나', '한테', '혹시', '정보', '알다', '수', '있다'], ['응', '그렇다'], ['방향', '제로', '해결', '되다', '환기', '번', '시키다'], ['혼자', '있다', '나', '어떡하다'], ['집', '주변', '까지', '물이', '차오르다', '바깥', '나가다', '수가', '없다', '너무', '당황', '스럽다', '다행하다', '아프다', '덴', '없다'], ['나', '축하', '해주다', '지금', '기분', '좋다', '일', '생기다', '축하', '해주다'], ['너무', '고생', '많다', '것', '같다', '정말'], ['음악', '듣다', '추천', '해주다'], ['이미', '음식물', '버리다', '지다', '오래', '돼다', '근데', '왜', '계속', '냄새', '날다', '아', '진짜', '역겹다'], ['너무', '무섭다', '밖에', '나가다', '수도', '없다', '답답하다'], ['방향', '제', '써다', '냄새', '랑', '뒤', '섞이다', '무섭다', '못', '써다'], ['야', '니', '반지하', '번', '살', '아', '보다', '어'], ['백', '만', '원', '정도', '주다', '노트북', '을', '사다', '노트북', '배송', '늦다', '걱정', '하고', '있다', '근데', '오늘', '오다', '기분', '너무', '좋다'], ['헐다', '나', '이벤트', '당첨', '되어다'], ['그것', '해봤다', '없어지다', '않다'], ['쩜', '정확하다'], ['어', '나다', '너무', '놀다', '싶다', '기쁘다'], ['이렇게', '짜증나다', '술', '엄청', '땡기다'], ['헐다', '나', '이벤트', '당첨', '돼다'], ['너무', '놀라다', '사진', '못', '찍다'], ['어', '나', '지금', '혼자', '밖에', '없다'], ['맞다', '결승선', '을', '통과', '순간', '힘드다', '게', '싹', '사라지다'], ['응', '있다', '너', '같이', '뛰다'], ['음악', '을', '들다', '기분', '좋아지다', '것', '같다', '않다', '하지만', '하나', '고르다'], ['어', '무섭다', '죽다', '진짜'], ['응', '진짜', '고생', '너무', '좋다'], ['오늘', '최종', '발표', '이제', '완전하다', '끝나다', '거야', '너무', '신', '나'], ['많이', '놀라다', '아침', '일어나다', '보다', '재난', '문자', '잔뜩', '오다', '있다', '피하', '라고'], ['사진', '바로', '찍다', '거', '어디', '다가', '보내다', '돼다'], ['아니다', '상사', '상사', '나름', '이지', '그', '새끼', '그냥', '병신', '이야'], ['응', '사진', '찍다', '사장', '님', '한테', '말씀', '드리다', '음식', '에서', '벌레', '뭐', '야'], ['아하', '너', '말', '대로', '사진', '을', '찍다', '놓다'], ['미안하다', '음식물', '쓰레기', '없다'], ['노트북', '을', '만원', '짜다', '구입', '배송', '늦어지다', '걱정', '하고', '있다', '오늘', '도착', '정말', '기분', '좋다'], ['아니다', '그냥', '더', '잠', '을', '더', '자다'], ['완전하다', '끝나다', '속이다', '다', '시원하다'], ['노트북', '만화', '작업', '을', '해'], ['스트레스', '확', '날다', '음악', '부탁'], ['아', '프로젝트', '열심히', '준비', '끝', '나서다', '너무', '기쁘다'], ['그', '래야', '것', '같다', '냄새', '너무', '안', '없어지다'], ['여행', '좋다', '난', '그냥', '일단', '쉬다'], ['곰팡이', '제', '거제', '곰팡이', '제거', '효과', '있다', '나', '괜찮다', '걸', '로', '하나', '추천', '해주다'], ['너무', '끔찍하다', '불쾌하다'], ['비싸다', '향수', '당첨', '선물', '로', '받다', '주변', '사람', '한테', '엄청', '자랑', '너무', '부럽다', '구'], ['맞다', '비', '오', '니까', '더', '슬프다', '환', '장'], ['곰팡이', '제', '거제', '효과', '있다'], ['그렇다', '환기', '필요하다', '것', '같다'], ['나', '마라톤', '대회', '나가다', '너', '알', '지'], ['알다', '지금', '이라도', '사용', '설명', '서', '보고', '꼼꼼하다', '살피다', '볼', '게'], ['백화점', '향수', '이벤트'], ['너', '말', '대로', '지금', '당장', '사진', '을', '찍다'], ['왜', '그렇다', '음식물', '쓰레기', '썩다', '그렇다', '거야'], ['최종', '발표', '마치다', '이제', '완전하다', '끝나다'], ['같이', '가다', '여행'], ['나', '마라톤', '대회', '출전', '내', '내', '기록', '을', '갱신'], ['화장실', '아무리', '청소', '곰팡이', '안', '없어지다'], ['아니다', '요즘', '다', '들다', '왜', '그', '모', '냥', '이야'], ['내', '마라톤', '대회', '출전', '거기', '에서', '예전', '기록', '을', '훨씬', '갱신'], ['자다', '때', '비', '그렇게', '많이', '오다', '줄', '모르다', '대피', '문자', '못', '보고', '그냥', '버리다', '거야'], ['알다', '난', '영화', '보다', '지내다'], ['친구', '랑', '만나다', '여행', '계획', '세우다', '볼', '게'], ['어', '우리', '집다', '아직', '괜찮다', '나다', '괜찮다'], ['응', '일단', '며칠', '동안', '쉬다', '거야', '그리고', '차차', '여행', '계획', '을', '세우다'], ['오다', '짜장면', '에서', '벌레', '나오다'], ['방향', '제도', '뿌리다', '보다', '냄새', '만', '더', '이상하다'], ['친구', '만나다', '너무', '보고', '싶다', '오랜', '만이', '라'], ['지금', '당장', '짜장면', '에서', '벌레', '나오다', '항의', '전화', '해보다'], ['당첨', '선물', '내', '너무나', '갖다', '싶다', '향수', '라서', '마음', '들다'], ['집', '안', '나', '혼자', '갇히다', '되다', '거', '같다', '너무', '무섭다'], ['나가다', '꼭', '먼저', '얘기', '정말', '고맙다'], ['일', '년', '만에', '받다', '휴가', '인데', '비', '도움', '을', '알다'], ['맞다', '우리', '집', '빼다', '다', '물', '잠기다', '있다'], ['너무', '무섭다', '밖에', '비', '너무', '많이', '오다', '갇히다', '돼다'], ['맘', '들다', '내', '평소', '갖다', '싶다', '거', '이다'], ['신나다', '음악', '을', '듣다', '것', '정말', '좋다', '것', '같다'], ['오', '좋다', '음악', '들다'], ['명', '뽑다', '건데', '내', '되다', '거야'], ['내', '전', '음식물', '쓰레기', '제대로', '안', '버리다', '상해', '서', '그렇게', '돼다', '보다'], ['조금', '무섭다', '밖에', '비', '많이', '오다', '자꾸', '고이', '고', '있다'], ['그것', '나쁘다', '않다'], ['맞다', '정말', '별로', '야'], ['명', '뽑다', '거', '이다'], ['맞다', '근데', '이번', '신기록', '달성'], ['선수', '처럼', '자다', '뛰다', '않다', '내', '기록', '향상', '되다', '것', '뿐', '이야'], ['그렇다', '거', '같다', '우리', '집', '화장실', '창문', '없다'], ['그렇다', '지금', '바로', '묶다', '버리다', '오다'], ['그렇다', '건', '아니다', '혼자', '서', '연습', '하고', '있다'], ['맞다', '미세먼지', '때문', '신경', '써다', '되다', '게', '두', '가지', '아니다'], ['집', '밖에', '비', '많이', '오다', '보다'], ['오', '좋다', '생각', '인', '것', '같다'], ['그렇다', '그', '래야', '따다', '말', '안', '나오다', '알다'], ['나', '드디어', '구매', '노트북', '도착', '뜯다', '보다'], ['내일', '약속', '잡다'], ['화장실', '청소', '해도', '곰팡이', '없어지다', '않다'], ['그렇다', '더', '신나다'], ['선수', '급', '아니다', '그냥', '뭐', '일반인', '중', '에서', '편', '그', '정도', '이지', '않다'], ['어', '하나', '찾아보다'], ['당연하다', '같이', '운동', '하고', '대회', '출전', '하고', '그렇다', '사람', '있다'], ['결승선', '들어가다', '때', '진짜', '기분', '완전', '좋다'], ['그렇다', '뭐', '아', '후', '아주', '보기', '안', '좋다', '냄새', '쾌쾌', '하고', '미치다'], ['이번', '출전', '마라톤', '대회', '에서', '내', '기록', '정말', '자다', '나오다'], ['선수', '아니다', '내', '달리다', '운동', '을', '너무', '좋아하다', '마라톤', '대회', '나가다', '있다'], ['보상', '을', '해주다', '해도', '기분', '좋아지다', '것', '같다', '않다'], ['알다', '조금', '만', '힘내다', '보다'], ['응', '항의', '전화', '환불', '다', '받다', '다행', '이지'], ['통', '에서', '역겹다', '냄새', '나다', '있다'], ['며칠', '전', '음식', '남다', '거', '내', '모르다', '쓰레기통', '넣다', '버리다', '보다', '그래서', '상'], ['응', '너무', '별로', '이다'], ['지금', '당장', '버리다', '오르다', '아', '나가다', '귀찮다'], ['선수', '처럼', '엄청', '않다', '나다', '거의', '뻔'], ['지금', '바로', '전화하다', '짜장면', '벌레', '나오다', '항의', '해보다', '사진', '같이', '보내다', '거야'], ['내', '말', '아', '나', '지금', '벌레', '먹다', '거야', '나', '지금', '짜장면', '먹다', '단백질', '섭취', '거야'], ['오', '그거', '정말', '좋다', '생각', '인데'], ['그렇다', '음악', '들다', '쉬다', '피곤하다'], ['상황', '무섭다', '것', '뿐', '이야', '괜찮다'], ['같이', '뛰다', '크루', '없다'], ['같이', '운동', '사람', '이랑', '뛰다'], ['아', '그렇다', '좋다', '꼭'], ['주변', '사람', '한테', '이벤트', '당첨', '되어다', '엄청', '자랑'], ['헐다', '나', '이벤트', '당첨', '돼다', '보다'], ['이야기', '들어주다', '도와주다', '너', '덕분', '기분', '더', '좋아지다'], ['방향', '제로', '처리', '가장', '좋다', '거', '같다'], ['그', '래야', '것', '같다', '냄새', '며칠', '갈다', '것', '같다'], ['지저분하다', '내', '힘내다', '청소'], ['그렇다', '기도', '집', '너무', '오래', '돼다', '옛날', '집', '이라', '습하다'], ['오다', '직접', '먹다', '나', '오죽하다', '토', '줄', '알다'], ['고약하다', '냄새', '방향', '제로', '처리', '게', '가장', '좋다', '방법', '같다'], ['좋다', '일', '있다'], ['어', '왼', '팔이', '조금', '아프다'], ['말', '을', '진짜', '싸가지', '없다', '해'], ['사과', '영상', '을', '보다', '진실되다', '하나', '없다', '자기', '변명', '만', '있다', '너무', '화가', '나다'], ['아니다', '홍수', '때문', '밖', '나가다', '못', '집', '갇히다'], ['그렇다', '그것', '좋다', '오랜', '만', '친구', '보다'], ['아직', '아마추어', '지만', '너무', '좋다'], ['방향', '제', '새롭다', '사르다', '갈다'], ['프로젝트', '시간', '없다', '여행', '을', '다니다', '생각', '못', '이번', '기회', '여행', '을', '다녀오다', '것', '좋다', '것', '같다'], ['내', '좋아하다', '인', '플루', '언', '서', '진행', '이벤트', '있다', '거기', '당첨', '되어다'], ['알다', '앞', '안'], ['아니다', '혼자', '서', '그냥', '쉬엄쉬엄', '열심히', '연습', '거', '밖에', '없다'], ['저번', '설문조사'], ['습기', '때문', '곰팡이', '생기', '니까', '너무나', '신경', '쓰이다', '어떡하다'], ['완전', '내', '너무', '비싸다', '못', '사다', '향', '순', '데', '당첨', '되다', '얼마나', '기분', '좋다'], ['문', '매일', '열다', '있다', '그래도', '곰팡이', '계속', '생기다', '거', '같다'], ['당첨', '명', '뽑다', '거', '이다', '그게', '내', '된거', '지'], ['드디어', '구매', '노트북', '도착', '뜯다', '보다'], ['다친덴', '없다', '괜찮다'], ['완전하다', '끝나다'], ['아', '기분', '너무', '좋다'], ['아니다', '그', '새끼', '항상', '나', '한테', '만', '그렇다', '다른', '사람', '한테', '늘다', '착하다'], ['어', '바로', '묶다', '갖다', '버리다'], ['그렇다', '벌써', '찍다'], ['아', '짜증나다', '그', '새끼', '일', '끝나다', '빨리', '집', '에나', '가지', '남다', '자꾸', '뭐라다', '말', '을', '해'], ['알다', '사진', '을', '첨부', '지금', '항의', '전화', '해보다'], ['딱', '명', '뽑다', '거', '이다'], ['헐다', '야', '나', '이벤트', '당첨', '돼다'], ['네', '지금', '당장', '버리다', '나가다'], ['예전', '음식물', '쓰레기', '제대로', '안', '버리다', '난리', '나다'], ['아', '그치다', '환기', '문제', '이다'], ['알다', '바로', '묶다', '버리다'], ['응', '알다'], ['오다', '야', '쓰레기통', '에서', '역겹다', '냄새', '자꾸', '나다', '어떡하다'], ['나', '축하', '해주다', '너무', '너무', '기분', '좋다', '일이', '있다'], ['나', '드디어', '프로젝트', '끝나다'], ['너무', '좋다', '생각', '이야'], ['백화점', '향수', '이벤트', '야'], ['내', '잠', '을', '자고', '있다', '동안', '비', '너무나', '많이', '오다', '우리', '동네', '홍수', '피해', '지역', '돼다', '나', '고립', '되다', '거', '같다'], ['응', '번', '써다', '볼', '래', '뭐', '좋다', '추천', '해주다'], ['모르다', '구조', '특성', '상', '더', '그렇다', '것', '같다', '한데', '지긋지긋하다'], ['번', '더', '구매', '보다'], ['아니다', '난', '그냥', '혼자', '서'], ['아니다', '환기', '환기', '해도', '안', '없어지다'], ['응', '너무', '좋다'], ['그렇다', '가족', '이랑', '여행', '을', '다녀오다', '것', '의미', '있다', '거', '같다', '생각', '해보다'], ['짜장면', '에서', '벌레', '나오다'], ['응', '친구', '명', '이랑', '끼다'], ['안', '그렇다', '지금', '치우다', '고생', '중이', '야'], ['다음', '한번', '뿌리다'], ['차다', '좋다', '생각', '인', '것', '같다'], ['당연하다', '서로', '의지', '뛰다', '사람', '있다'], ['응', '완전', '짜증나다'], ['거의', '선수', '급', '이래'], ['당연하다', '향수', '오다', '바로', '보여주다'], ['그렇다', '안', '그렇다', '더', '그렇다', '것', '같다', '장마', '때문', '아', '진짜', '어떡하다'], ['맞다', '여행', '계획', '세우다', '싶다'], ['일단', '다치다', '덴', '없다', '근데', '언제', '나가다', '수', '있다'], ['안', '그래도', '번', '못', '놀다', '이번', '만나다'], ['그렇다', '너', '말', '대로', '사진', '을', '찍다', '놓다', '지금', '당장', '찍다'], ['집', '갇히다', '바깥', '에는', '물이', '많이', '고여', '있다'], ['너', '말', '대로', '증거', '사진', '을', '찍다', '놓다'], ['내', '예전', '부터', '갖다', '싶다', '향수', '라서', '너무', '맘', '들다'], ['상사', '새끼', '왜', '집', '에도', '안', '가다', '내', '옆', '붙다', '지랄', '이야'], ['집', '안', '갇히다', '밖에', '물이', '많이', '차오르다'], ['너무', '많이', '자랑', '이제', '다', '들다', '그만', '자랑', '하래'], ['응', '내', '완전', '갖다', '거', '이다'], ['그니까', '지금', '곰팡이', '제', '거제', '살다', '생각', '중', '이야'], ['축하', '해주다', '기분', '좋다', '일', '있다'], ['아니다', '진짜', '엄청', '많이', '무섭다'], ['함께', '달리다', '크루', '있다', '내', '지치다', '힘들다', '때', '크다', '도움', '을', '받다'], ['짜장면', '에서', '벌레', '나오다', '사진', '있다', '아무', '소리', '못'], ['어', '일단', '몸', '괜찮다'], ['내', '쓰레기', '제', '때', '안', '버리다', '그렇다'], ['응', '친구', '맨날', '같이', '뛰다', '완전', '걔', '좋다', '성적', '거두다'], ['그렇다', '꼭', '좋다', '걸', '로', '추천', '주다', '아주', '강력하다', '걸', '로'], ['그렇다', '친구', '만나다', '수다', '떨다', '맛있다', '것', '먹다', '그렇다'], ['아니다', '요즘', '다', '왜', '이르다', '거야', '이해', '안', '돼다'], ['그래서', '지금', '바로', '짜장면', '에서', '벌레', '나오다', '전화', '사진', '보내다'], ['그것', '나쁘다', '않다', '좋다', '생각', '이야'], ['나쁘다', '않다', '것', '같다', '애'], ['영화', '보다', '해'], ['당첨', '명', '인데', '내', '당첨', '돼다'], ['알다', '당장', '친구', '랑', '약속', '잡다'], ['구매', '생각', '완전', '있다'], ['어', '그렇다'], ['함께', '달리다', '크루', '있다', '서로', '응원', '격려', '해주다', '너무나', '힘', '돼다'], ['네', '환기', '자다', '시키다'], ['그렇다', '그게', '좋다', '냄새', '로는', '딱', '이지'], ['내', '버리다', '음식물', '쓰레기', '상해', '서', '쓰레기통', '에서', '냄새', '나', '거야'], ['욕', '안', '수가', '있다', '먼저', '짜증', '내다'], ['화장실', '청소', '해도', '끝', '없다'], ['나', '지금', '너무', '무섭다'], ['그렇다고', '수', '있다', '물', '로', '다', '싸이다', '있다'], ['나다', '이렇다', '경우', '너무', '처음', '이라서', '당황', '스럽다'], ['프로젝트', '진행', '머리', '아프다', '이번', '기회', '여행', '을', '가다', '머리', '식히다', '오다'], ['나', '갇히다', '되다', '것', '같다', '무섭다'], ['버리다', '오다', '거야'], ['맞다', '같이', '운동', '하고', '같이', '출전', '사람', '있다'], ['아', '지금', '밖에', '비', '엄청', '오다', '우리', '집', '지대', '낮다', '그래서', '홍수', '때문', '이렇게', '돼다'], ['헐다', '나', '등', '이야'], ['아니다', '화가', '정말', '나다', '어떻다', '화', '안', '차다', '수가', '있다'], ['내', '너무', '잠', '깊이', '들다', '보다', '부재', '중', '전화', '못', '받다', '그냥', '잠', '골다', '떨어지다'], ['화장실', '환풍기', '켜다', '있다', '말', '이야'], ['헐다', '나', '이벤트', '당첨', '되어다'], ['진짜', '너무', '스트레스', '받다', '죽다', '어떡하다', '되다'], ['아', '거', '어떻다', '지다', '완전', '골치', '아프다'], ['어', '비', '너무', '많이', '오다'], ['뭐', '한번', '보지', '뭐', '기분', '꿀꿀하다'], ['쓰레기', '음식물', '쓰레기', '들어가다', '상', '보다'], ['좋다', '생각', '이다', '여행', '계획', '세우다', '보다'], ['아니다', '요새', '유튜', '버들', '뒷', '광고', '때문', '줄줄이', '다', '사과', '영상', '올리다', '이번', '내', '좋아하다', '유튜버', '그렇게', '돼다'], ['맞다', '장마철', '이라', '더', '많다', '곰팡이', '피다', '것', '같다', '애', '그래서', '하루', '종일', '락스', '로', '닦다', '머리', '까지', '아프다', '젠'], ['꼭', '찾다', '볼', '게', '고맙다'], ['드디어', '프로젝트', '끝나다'], ['알다', '두서너', '장', '번', '찍다', '놓다', '볼', '게'], ['원래', '바닷가', '가다'], ['명', '이다', '내', '돼다'], ['만원', '짜다', '노트북', '을', '구매', '너무', '기분', '좋다'], ['나다', '이렇다', '경우', '처음', '이야', '머리카락', '나오다', '건', '보다', '벌레', '나오다', '건', '처음', '보다'], ['아', '그', '새끼', '정말', '짜증나다', '일', '없다', '집', '에나', '갈다', '것', '이지', '왜', '나', '한테', '만', '뭐라다'], ['사과', '영상', '을', '보다', '자기', '변명', '만', '있다', '보', '니까', '더', '화가', '나'], ['너', '말', '대로', '쉬', '고', '여행', '갈다', '계획', '세우다', '볼', '게'], ['어', '정말', '가지', '고', '싶다', '건데', '너무', '기분', '좋다'], ['헤비메탈', '제일', '좋다'], ['너', '말', '대로', '오랜', '만', '여행', '을', '다녀오다', '것', '좋다', '것', '같다', '애', '생각', '한번', '해보다'], ['네', '원래', '뛰다', '안', '좋아하다', '근데', '운동', '때문', '시작'], ['모르다', '뭔가', '썩다', '있다', '보다'], ['사진', '찍다', '보내다'], ['오늘', '최종', '발표', '마치다', '이제', '완전하다', '끝나다'], ['내', '제', '때', '안', '버리다', '그렇다', '거', '같다', '애'], ['그것', '모르다', '그냥', '구', '독자', '떨어지다', '나가다', '사과', '건지다', '진심', '인', '건지다'], ['나', '휴가', '엉망', '이야'], ['마라톤', '대회', '에서', '킬로', '달리다', '평소', '내', '기록', '보다', '갱신', '을', '상', '을', '받다', '돼다'], ['아', '쓰레기통', '에서', '역겹다', '냄새', '나다', '있다'], ['다행하다', '몸', '괜찮다', '심리', '적', '불안하다', '것', '뿐', '이야'], ['다행하다', '집', '안', '물이', '들어오다', '않다', '괜찮다'], ['너무', '기분', '좋다', '완전하다', '끝나다'], ['맞다', '정말', '죽다', '힘들다'], ['어우', '짜증나다', '상사', '집', '안', '가다', '내', '옆', '붙다', '난리', '야'], ['너무', '더럽다', '못', '먹다', '버리다', '되다', '것', '같다'], ['사진', '깜빡', '못', '찍다'], ['이번', '마라톤', '대회', '참여', '근데', '내', '순위', '권', '안', '들다', '거야'], ['아', '쓰레기통', '에서', '역겹다', '냄새', '나다', '있다'], ['그렇다', '내일', '만나다', '약속'], ['드디어', '구매', '노트북', '도착', '뜯다', '보다'], ['맞다', '다시', '먹다', '싶다', '않다'], ['지금', '정전', '돼다', '아무', '것', '안', '보이다'], ['곰팡이', '제', '거제', '괜찮다', '거야', '번', '써다', '보다'], ['오다', '짜장면', '에서', '벌레', '나오다'], ['여름', '휴가', '여름', '바다', '가야', '지'], ['고맙다', '앞', '으로도', '더', '열심히'], ['친구', '약속', '그건', '내', '빠르다'], ['그러면', '정말', '반성', '을', '해주다'], ['너무', '무섭다', '어떡하다'], ['갇히다', '것', '같다'], ['아니다', '선수', '처럼', '자다', '달리다', '아니다', '그냥', '내', '기록', '보다', '몇', '분', '이나', '더', '빨리', '도착', '거야'], ['어', '살리다', '추천', '해주다'], ['그거', '때문', '집', '에서도', '냄새', '나서다', '걱정', '이야'], ['나', '축하', '해주다', '아주', '기분', '좋다', '일이', '있다'], ['어', '드디어', '프로젝트', '최종', '발표', '끝나다'], ['나', '이벤트', '당첨', '돼다'], ['어', '얼른', '버리다', '얼른', '버리다', '거', '누가', '여기', '다', '버리다', '거야'], ['내', '잘못', '그렇다', '다음', '부턴', '제때', '제', '떄', '버리다', '되다'], ['아무래도', '나', '갇히다', '되다', '거', '같다'], ['어디', '한번', '틀다', '보다'], ['아', '짜증나다', '그', '새끼', '일', '없다', '집', '에나', '갈다', '것', '이지', '나', '한테', '만', '왜', '그렇다'], ['아니다', '해도', '정도', '있다', '욕', '안', '나오다', '생기다'], ['며칠', '전', '음식물', '쓰레기', '버리다'], ['니', '말', '맞다', '아', '당장', '아', '아니다', '진짜', '짜장면', '먹다', '게', '무슨', '일이', '야', '아', '진짜', '기분', '나쁘다', '아'], ['아우', '쓰레기통', '에서', '역겹다', '냄새', '나다', '있다'], ['아', '몸', '괜찮다'], ['방향', '제', '뿌리다', '냄새', '더', '이상하다', '어떡하다'], ['나', '혼자', '집', '안', '갇히다', '되다', '너무', '무섭다', '두렵다'], ['이벤트', '당첨', '되어다'], ['이해', '해주다', '고맙다'], ['알다', '나', '한테', '선물', '오거', '든', '바로', '보여주다'], ['어', '그렇다', '좋다'], ['으응', '알다', '고맙다'], ['상사', '든', '뭐', '든', '맨날', '저러다', '내', '욕', '을'], ['휴', '어쩌겠어', '내', '벌이다', '일이', '니까', '얼른', '청소', '이러다가', '벌레', '꼬이다', '생기다'], ['그러니까', '게으름', '부리다', '쓸데없다', '고생', '하고', '있다'], ['그렇다', '영상', '하나로', '내', '기분', '바뀌다', '수', '있다'], ['좆', '돼다', '나', '어떡하다', '나', '너무', '무섭다'], ['너', '도와주다'], ['그렇다', '그렇다', '나', '한테', '사과'], ['내', '음식물', '쓰레기', '쓰레기통', '버리다', '그게', '상해', '서', '나', '냄새', '야'], ['그래서', '매', '일', '매일', '청소', '곰팡이', '안', '없어지다'], ['근데', '맨날', '나', '한테', '만', '다', '시키다'], ['몸', '괜찮다', '집', '안', '물이', '들어오다', '엄청', '걱정', '돼다'], ['내', '잠', '을', '자다', '동안', '비', '엄청', '많이', '오다', '우리', '동네', '고립', '되다', '갇히다', '돼다'], ['고맙다', '앞', '나다', '주의'], ['냄새', '방향', '제로', '처리', '게', '가장', '좋다', '방법', '같다'], ['그렇다', '당연하다', '구매'], ['내', '좋아하다', '인', '플루', '언', '서', '이벤트'], ['괜찮다', '것', '같다', '고맙다'], ['나', '지금', '집', '갇히다', '것', '같다', '아무래도'], ['당연하다', '맘', '들다', '비싸다', '향수', '야'], ['아직', '괜찮다', '무섭다'], ['아니다', '미세먼지', '무시', '하고', '그냥', '환기'], ['응', '추천', '해주다', '뭐라다', '보고', '기분', '전환', '하고', '싶다'], ['그렇다', '네', '보고', '싶다', '내', '보여주다'], ['몸', '괜찮다', '비', '오다', '걱정', '이야'], ['다치다', '데', '없다', '너무', '깜깜', '무섭다'], ['그렇다', '음악', '이나', '들다', '기분', '풀다', '나', '신나다', '음악', '을', '좋아하다'], ['맞다', '있다', '대회', '같이', '나가다'], ['빨리', '버리다', '되다', '그치다'], ['일단', '쓰레기통', '을', '다', '닦다', '방향', '제', '뿌리다', '냄새', '사라지다', '않다'], ['온', '동네', '다', '물바다', '되어다'], ['아', '무슨', '벌레', '야'], ['그', '영', '상보', '면', '정말', '기분', '좋아지다'], ['자고', '일어나다', '주변', '다', '물바다', '되어다'], ['맞다', '그것', '생각', '중', '이다', '그렇다'], ['자다', '동안', '비', '엄청', '많이', '오다', '보다', '물이', '많이', '차', '있다'], ['프로젝트', '진행', '달', '동안', '친구', '못', '만나다', '이번', '기회', '만나다', '보다'], ['음악', '좋다'], ['좋다', '생각', '이야', '신나다', '음악', '정말', '좋아하다'], ['선수', '아니다', '내', '달리다', '운동', '을', '너무', '좋아하다', '매년', '열리다', '마라톤', '대회', '출전', '하고', '있다'], ['심지어', '불도', '꺼지다', '안', '완전', '고립', '돼다'], ['이번', '마라톤', '대회', '에서', '나', '새롭다', '기록', '을', '달성'], ['더', '실망', '스러운', '건', '스스로', '사과', '않다', '거야'], ['신나다', '음악', '듣다', '맛있다', '것', '먹다', '갈래'], ['거', '너무', '많다', '영화', '랑', '음악', '다운', '받다', '되다', '프로젝트', '돼다'], ['나름', '열심히', '그렇다'], ['맞다', '선수', '어깨', '나란하다'], ['신나다', '음악', '을', '듣다', '거', '좋다'], ['난', '음악', '이면', '다', '좋다'], ['응', '고맙다', '더', '열심히', '해보다'], ['짜장면', '벌레', '나오다'], ['청소', '해도', '화장실', '곰팡이', '사라지다', '않다'], ['쓰레기통', '내', '버리다', '음식물', '쓰레기', '상해', '서', '역겹다', '냄새', '나다'], ['그', '새끼', '나', '한테', '어떻다', '니', '안', '당하다', '그렇다'], ['장마', '시작', '되다', '비', '엄청', '많이', '내다', '우리', '동네', '고립', '돼다', '그렇다', '갇히다', '되어다'], ['요즘', '유튜버들', '자기', '산', '것', '처럼', '올리다', '걸리다'], ['거', '어떻다', '되다', '자다', '모르다', '어떻다', '따지다', '나'], ['선수', '까진', '아니다', '내', '기록', '분', '정도', '단축', '되어다'], ['사진', '찍다', '놨', '지'], ['어', '그렇다', '고맙다'], ['응', '찍다', '신고', '좋다'], ['내', '믿다', '유튜번데', '뒷', '광고', '너무', '실망', '스럽다', '화가', '나'], ['쓰레기통', '에서', '이상하다', '냄새', '나서다', '쓰레기통', '안', '을', '뒤지다', '보다', '음식물', '쓰레기', '썩다', '나', '냄새', '이다'], ['자고', '일어나다', '보다', '밖', '에가', '난리', '아니다', '친구', '전화', '오다', '내', '못', '받다'], ['선수', '처럼', '기록', '나오다', '아니다', '그냥', '내', '개인', '기록', '만', '단축', '돼다'], ['알다', '나', '이번', '엔', '그냥', '안', '넘어가다'], ['곰팡이', '제', '거제', '화장실', '곰팡이', '제거', '효과', '있다'], ['오우', '좋다', '빨리', '들려주다'], ['우리', '집', '지금', '홍수', '로', '물', '잠기다', '것', '같다'], ['완전', '끝나다'], ['내', '좋아하다', '인', '플루', '언', '서', '진행', '이벤트', '있다', '거기', '당첨', '되어다'], ['아이', '뭐', '어떻다'], ['밖에', '홍수', '오다', '집', '혼자', '갇히다'], ['니', '번', '당', '해보다', '그렇다', '소리', '나오다'], ['알다', '지금', '바로', '묶다', '버리다'], ['아이고', '알다', '그렇게'], ['너', '말', '대로', '오랜', '만', '여행', '을', '다녀오다', '것', '좋다', '것', '같다'], ['그렇다', '너', '말', '맞다', '지금', '바로', '전화하다'], ['구매', '사용', '것', '괜찮다', '것', '같다'], ['청소', '힘들다', '내', '벌이다', '일이', '니까', '얼른', '처리'], ['지금', '당장', '구매', '하고', '싶다', '알아보다', '주다'], ['그렇다', '싶다', '너무', '짜증나다', '그냥', '버리다'], ['신나다', '음악', '을', '들다', '쉬다', '겠다'], ['여행', '가다', '싶다', '그렇지만', '혼자', '가다', '건', '너무', '싫다'], ['혼자', '있다', '당연하다', '무섭다', '어떻다', '해'], ['분리', '수거', '제대로', '안', '그렇다', '거', '같다', '애'], ['그', '말', '맞다', '한데', '아니다', '아', '그래도', '이건', '너무', '심하다', '거', '아니다', '진짜', '매일', '매일', '청소', '맨날', '맨날', '생기다'], ['응', '학교', '에서', '만난', '사람', '이랑', '같이', '뛰다'], ['여기', '본관', '두', '번째', '엘리베이터'], ['벌레', '보고', '깜짝', '놀래다'], ['짜장면', '에서', '벌레', '나오다', '더럽다', '못', '먹다', '버리다', '야하다', '것', '같다'], ['그것', '보단', '쉬', '고', '싶다'], ['쓰레기통', '에서', '완전', '역겹다', '냄새', '나'], ['맞다', '우리', '집', '화장실', '환기', '구가', '없다'], ['아니다', '냄새', '너무', '나다', '내려가다', '보다', '쓰레기통', '에서', '냄새', '너무', '나다'], ['어', '내', '진짜', '가지', '고', '싶다', '화장품', '인데', '너무', '비싸다', '못', '사고', '있다', '근데', '그게', '당첨', '돼다'], ['비상', '벨', '고장', '나다', '무섭다'], ['아니다', '유명하다', '유튜버들', '다', '들다', '돈', '받다', '뒷', '광고', '있다'], ['방향', '제', '냄새', '랑', '음식물', '쓰레기', '냄새', '랑', '섞이다', '더', '이상하다', '서다', '못'], ['음식물', '쓰레기', '있다', '보다'], ['장마철', '이라서', '습기', '많아지다', '곰팡이', '많이', '생기', '니까', '어떻다', '모르다'], ['여행', '가다', '오다'], ['조금', '무섭다', '한데', '곧', '구조대', '오다', '거', '라서', '걱정', '않다'], ['저번', '주', '먹다', '음식물', '쓰레기', '아직도', '쓰레기통', '남아', '있다'], ['그러니까', '진짜', '깜짝', '놀래다'], ['친구', '랑', '약속', '벌써', '다'], ['아', '짜증', '나', '그', '새끼', '일', '없다', '집', '에나', '갈다', '것', '이지', '왜', '나', '항상', '나', '한테', '만', '그렇다'], ['오늘', '최종', '발표', '이제', '완전하다', '끝내다'], ['아니다', '아무리', '그래도', '청소', '사라지다', '되다', '거', '아니다', '아우', '짜증나다', '죽다'], ['와우', '똑똑하다', '그렇다', '생각', '못', '해봤다'], ['프로젝트', '끝나다'], ['냄새', '없어지다'], ['어', '다치다', '곳', '없다', '너무', '불안하다', '어떡하다'], ['함께', '달리다', '크루', '있다', '내', '힘들다', '지', '칠', '때', '마다', '크다', '도움', '을', '받다'], ['너무', '더럽다', '먹다', '수가', '없다', '아무래도', '짜장면', '을', '버리다', '야하다', '것', '같다'], ['그냥', '환기'], ['그렇다', '건', '아니다', '혼자', '서', '열심히', '연습', '하고', '있다'], ['오늘', '부터', '일주일', '간', '휴가', '기간', '인데', '그', '기간', '동안', '계속', '비', '온대'], ['곰팡이', '제', '거제', '효과', '있다', '번', '사용', '해보다', '싶다', '좋다', '제품', '추천', '해주다'], ['더럽다', '기분', '없어지다', '음악', '있다'], ['아', '맨날', '나', '한테', '만', '뭐라다', '그렇다', '다른', '사람', '한텐', '해주다'], ['어휴', '그냥', '갖다', '버리다', '사진', '못', '찍다', '전화하다', '그냥', '따지다'], ['완전하다', '끝나다', '달동', '안', '얼마나', '열심히'], ['그렇다', '달', '간', '정말', '고생', '많다'], ['몇', '명', '뽑다', '자다', '모르다'], ['일', '년', '만에', '휴', '가다', '엉망', '돼다', '버리다', '속상하다'], ['세', '달', '만에', '휴가', '어', '세', '달'], ['오랜', '만', '여행', '을', '다녀오다', '것', '의미', '있다', '것', '같다'], ['내', '너무나', '좋아하다', '인', '플루', '언', '서', '진행', '이벤트', '있다', '거기', '당첨', '되어다'], ['아직', '안', '선물', '오다', '같이'], ['만', '원', '짜다', '노트북', '을', '구매', '정말', '기분', '좋다'], ['가성', '비', '좋다', '효과', '좋다', '걸', '로', '부탁'], ['나', '축하', '해주다', '좋다', '일이', '있다'], ['달리다', '순간', '에는', '기분', '엄청', '힘들다', '결승선', '을', '통과', '순간', '기분', '너무', '좋다'], ['마라톤', '기록', '갱신'], ['오랜', '만', '가족', '이랑', '동해', '바다', '놀다', '가다', '그런데', '망하다'], ['선수', '아니다', '내', '운동', '을', '좋아하다', '시작', '거야'], ['그렇다', '그', '래야', '다른', '말', '안', '나오다'], ['그렇다', '내일', '같이', '가다'], ['어떻', '게', '하', '면', '엘리베이터', '밖', '빠져나오다', '수', '있다', '빨리', '빠져나오다', '싶다'], ['명', '뽑다', '건데', '그게', '내', '돼다'], ['오랜', '만', '가족', '이랑', '동해', '바다', '가다', '놀다', '오기', '로', '비', '오다', '망하다'], ['유명하다', '유튜버들', '다', '들다', '뒷', '광고', '있다', '거야'], ['아니다', '이번', '에는', '혼자', '뛰다'], ['나', '갇히다', '것', '같다', '애'], ['비싸다', '건', '못', '사다', '내', '용돈', '을', '모으다', '산', '거야'], ['그래서', '그', '런가', '하루', '종일', '화장실', '청소', '만', '기분', '이야'], ['인', '플루', '언', '서', '이벤트', '걸', '발견', '당첨', '돼다'], ['크루', '없다', '혼자', '야'], ['아니다', '나', '혼자', '거야'], ['그렇다', '그러면', '어떻다', '좋다', '말', '을'], ['친구', '내', '연락', '기다리다', '있다', '텐데', '내', '까먹다', '있다'], ['음악', '듣다', '스트레스', '풀다'], ['그렇다', '알다', '고생', '많다', '내'], ['그렇다', '그것', '좋다', '친구', '만나다'], ['어', '비', '너무', '많이', '오다'], ['맨날', '청소', '맨날', '곰팡이', '있다'], ['내', '기분', '을', '나아지다', '영상', '있다'], ['나', '당장', '사고', '싶다', '좋다', '제품', '소개', '해주다'], ['자다', '재난', '문자', '못', '보다', '피하', '라는', '전화', '못', '받다'], ['당연하다', '좋다', '제품', '있다', '구매'], ['어', '크루', '없다', '혼자'], ['내', '너무나', '좋아하다', '인', '플루', '언', '서', '진행', '이벤트', '있다', '거기', '당첨', '돼다'], ['홀가분하다', '마음', '신나다', '음악', '을', '듣다', '것', '좋다'], ['아니다', '샤워', '하고', '맨날', '창문', '자다', '열다', '놓다'], ['맞다', '그냥', '내', '싫다', '보다'], ['어', '오다', '진짜', '자기', '것', '없다', '나', '한테', '만', '그렇다'], ['아', '짜증나다', '그', '새끼', '일이', '없다', '집', '에나', '갈다', '것', '이지', '늦다', '결혼', '못', '히스테리', '나', '한테', '푸다', '건가', '왜', '항상', '나', '한테', '만', '그렇다'], ['나다', '모르다', '그냥', '비', '많이', '오다', '그렇다'], ['나', '드디어', '전공', '프로젝트', '끝나다'], ['휴가', '기간', '내내', '비', '오다', '아무래도', '집', '에서', '즐기다', '수', '있다', '방법', '을', '찾아보다', '되다'], ['집', '안', '에까지', '물이', '들어오다', '않다', '몸', '괜찮다'], ['좋다', '곰팡이', '제', '거제', '있다', '추천', '주다'], ['아니다', '그', '정돈', '아니다', '더', '노력'], ['집', '주변', '까지', '물이', '차오르다', '밖', '나가다', '수가', '없다', '몸', '괜찮다'], ['처음', '인정', '을', '안', '하드', '라고', '그렇다', '나중', '슬그머니', '꼬리', '내', '리더', '라고'], ['장마', '때문', '비', '엄청', '많이', '내다', '우리', '동네', '고립', '되다', '집', '안', '갇히다', '되어다'], ['아니다', '여행', '안', '갈다', '피곤하다'], ['선수', '까지는', '아니다', '노력'], ['그렇다', '어떻다', '동네', '에서', '장사', '그렇게', '모르다'], ['다른', '직원', '한테', '늘다', '친절하다', '나', '한테', '만', '짜증', '내다', '뭐라다', '화가', '나서다', '그렇다'], ['요즘', '감정', '조절', '안', '돼다', '너무', '힘들다'], ['알다', '지금', '이라도', '사용설명서', '보고', '살펴보다'], ['어', '살', '생각', '완전', '있다'], ['어', '혼자', '있다', '너무', '무섭다'], ['여유', '갖다', '음악', '을', '듣다', '것', '좋다'], ['나중', '쓰다', '청소', '부터', '냄새', '없어지다', '것', '같다', '해'], ['그', '새', '끼다', '왜', '나', '한테', '만', '지랄', '이지'], ['정말', '그렇게', '한번', '해보다', '되다', '너무', '사람', '무책임하다', '음식', '을', '만들다', '것', '같다', '애'], ['학원', '가다가', '갑자기', '멈추다', '무섭다'], ['그', '래야', '것', '같다', '이렇다', '안', '되다'], ['혼자', '고립', '되게', '되어다', '너무', '무섭다'], ['최종', '발표', '마치다', '이제', '완전하다', '끝나다'], ['선물', '맘', '들다', '정말', '비싸다', '향수', '거들다'], ['오다', '씨발', '짜장면', '에서', '벌레', '나오다'], ['오', '그거', '좋다', '생각'], ['영화', '다운', '받다', '프로젝트', '돼다'], ['쉬', '고', '나서다', '여행', '어디', '로', '가다', '게', '좋다'], ['아', '미치다', '짜장면', '벌레', '나오다', '아', '씨'], ['응', '알다', '그렇게', '얘기', '해주다'], ['내', '걸', '어떡하다', '좋다'], ['자다', '동안', '그렇게', '비', '많이', '오다', '줄', '모르다', '대피', '문자', '못', '보고', '그냥', '자다'], ['지금', '내', '기분', '을', '전환', '수', '있다', '영상', '있다', '어떻다', '건데'], ['응', '완전', '해방', '이야', '이제', '친구', '이랑', '놀', '거야'], ['헐다', '나', '이벤트', '당첨', '돼다'], ['맞다', '뛰다', '동안', '힘들다', '기분', '너무', '좋다'], ['결승선', '을', '통과', '순간', '힘드다', '싹', '사라지다', '더', '라고', '마법', '같다'], ['아니다', '짜장면', '먹다', '갑자기', '짜장면', '에서', '벌레', '나오다'], ['고맙다', '지금', '너무', '힘들다'], ['나', '지금', '너무', '화가', '나다', '내', '마음', '을', '진정', '시키다', '영상', '있다'], ['번만', '더', '그러면', '진짜', '가만', '안', '두다'], ['지금', '너무', '무섭다', '너', '랑', '지금', '계속', '얘기', '되다', '거', '같다', '애'], ['아', '진짜', '미치다', '새끼', '진짜', '짜증나다', '죽다'], ['너무', '마음', '들다', '비싸다', '못', '사다', '거', '거들다'], ['오랜', '만', '친구', '이랑', '동해', '바다', '가다', '놀다', '오기', '로', '비', '오다', '망하다'], ['그러면', '냄새', '랑', '방향', '제', '냄새', '섞이다'], ['노래', '랑', '영화', '다운', '받다', '거야'], ['아무', '거나', '다', '추천', '해주다', '다', '수', '있다', '것', '같다'], ['내', '자고', '있다', '동안', '우리', '동네', '비', '엄청나다', '내리다'], ['여행', '다음', '휴가', '때', '가야', '되다', '거', '같다'], ['쓰레기통', '음식물', '들어가다', '것', '같다', '내', '실수', '야'], ['그', '래야', '되다', '사용', '설명', '서', '보고', '번', '해보다'], ['그렇다', '같이', '운동', '하고', '같이', '대회', '출전', '사람', '있다'], ['내', '좋아하다', '인', '플루', '언', '서', '이벤트', '그래서', '번', '신청', '해봤다'], ['으응', '나', '지금', '혼자', '야', '너무', '무섭다'], ['아니다', '그건', '아니다'], ['힘들다', '집안', '벌레', '생기다', '거', '보다', '낫다', '얼른', '치우다'], ['달', '동안', '만나다', '못', '친구', '을', '만나다', '보다'], ['그렇다', '그냥', '음악', '이나', '들다', '너', '말', '대로', '기분', '풀다', '나', '신나다', '음악', '좋다'], ['그렇다', '번', '사보다', '어디서', '살', '수', '있다'], ['최종', '발표', '마치다', '이제', '완전하다', '끝나다', '거야'], ['너무', '많다', '영화', '랑', '음악', '다운', '받다', '되다', '프로젝트', '돼다', '그리고', '사진', '저장', '돼다'], ['그렇다', '영상', '있다', '화끈하다', '걸', '로', '하나', '부탁'], ['안', '괜찮다', '어떻다', '되다', '지다', '모르다'], ['당연하다', '기분', '안좋다', '너무', '징그럽다', '일단', '사진', '찍다'], ['저번', '마라톤', '대회', '에서', '좋다', '성적', '을', '거두다'], ['맞다', '일단', '구조', '벨', '을', '누르다'], ['너무', '냄새', '심하다', '날', '파리', '꼬이다', '밖', '에다', '내다'], ['그렇다', '그렇다', '보다'], ['음식물', '쓰레기', '썩다', '있다'], ['어디', '로', '가다', '것', '좋다'], ['당연하다', '같이', '운동', '하고', '대회', '출전', '사람', '있다'], ['나', '오늘', '이벤트', '당첨', '되어다'], ['그렇다', '놈', '욕', '을', '해주다', '되다', '얼마나', '못', '돼다'], ['좋다', '생각', '이야', '추천', '해주다', '수', '있다'], ['오다', '대박', '나', '이벤트', '당첨', '돼다'], ['씨발', '짜증나다'], ['당연하다', '맘', '들다'], ['아니다', '밖에', '홍수', '나다', '집', '밖', '을', '못', '나가다', '것', '같다', '애'], ['어', '정말', '후련하다'], ['맞다', '일', '을', '나', '한테', '만', '시키다', '또', '나르다', '믿다', '않다', '감시', '해', '그리고', '자기', '일', '을', '안', '해'], ['가다', '따지다', '물어보다'], ['오', '그거', '좋다', '생각', '인', '것', '같다'], ['어', '그냥', '음식', '값', '환불', '만', '받다', '좋다'], ['환기', '많이', '시키다', '청소', '자주', '너무', '오래되다', '집', '이라', '곰팡이', '안', '없어지다'], ['그렇다', '일도', '산더민데', '뭐', '내', '다', '자초', '일이', '지', '뭐'], ['그러니까', '짜장면', '에서', '벌레', '나오다', '더럽다', '못', '먹다', '버리다', '것', '같다'], ['프로젝트', '진행', '머리', '너무', '아프다', '여행', '을', '가다', '바람', '쐬다', '오다', '것', '좋다', '것', '같다'], ['알다', '안'], ['그래도', '직장', '생활', '인데', '참다'], ['기분', '전환', '되다', '한번', '추천', '해주다', '보다'], ['아프다', '곳', '없다', '집', '물이', '들어오다', '너무나', '걱정', '돼다'], ['내', '너무나', '좋아하다', '유튜버', '뒷', '광고', '사과', '영상', '을', '올리다'], ['개', '힘들다', '진짜', '놈', '화장실', '청소', '해도', '곰팡이', '사라지다', '않다'], ['응', '아직', '세부', '사항', '조금', '남다', '한데', '거의', '완전하다', '끝나다', '보다', '좋다'], ['진짜', '기분', '별로', '이다'], ['너무', '작다', '환기', '자다', '안', '돼다'], ['근데', '보여주다', '수', '없다', '내', '밥', '을', '사주다', '밥', '을'], ['알다', '신나다', '음악', '듣다', '스트레스', '풀', '고', '싶다'], ['내', '쓰레기', '빨리', '안', '치우다', '그렇다'], ['나', '이번', '마르다', '토너', '로', '뛰다', '그런데', '내', '기록', '보다', '훨씬', '좋다', '기록', '나오다', '거야'], ['힘내다', '정말', '고맙다'], ['오다', '짜장면', '에서', '벌레', '나오다'], ['어떻다', '안', '들리다'], ['나', '축하', '해주다', '정말', '기분', '좋다', '일이', '있다'], ['응', '이번', '그래서', '친구', '만나다'], ['아니다', '요즘', '왜', '이르다', '거지', '이해', '안', '돼다'], ['신나다', '음악', '좋다', '추천', '해주다'], ['짜장면', '에서', '벌레', '나오다', '사진', '을', '증거', '로', '제출', '적당하다', '조치', '취', '해주다'], ['정말', '마음', '들다', '명', '만', '당첨', '돼다', '내', '당첨', '돼다'], ['아', '지난', '번', '안', '치우다', '게', '썩다', '것', '같다', '애'], ['그래도', '고맙다', '덕분', '치우다', '맛', '나다'], ['그러니까', '다음', '부턴', '조심하다', '되다'], ['자고', '있다', '비', '엄청', '많이', '오다', '보다', '재난', '문자', '못', '보고', '나', '혼자', '자고', '있다', '거야'], ['바로', '묶다', '버리다', '냄새', '없어지다', '않다'], ['자고', '일어나다', '밖에', '물이', '엄청', '차오르다', '있다', '전화', '여러', '번', '오다'], ['응', '완전하다', '끝나다', '거', '라고', '보다', '돼다', '너무', '신나다'], ['새롭다', '산', '노트북', '만화', '작업', '을', '거야', '너무', '기대', '돼다'], ['나', '엘리베이터', '갇히다'], ['맞다', '꼴불견', '이야', '보기', '싫다'], ['지나가다', '이벤트', '것', '을', '보고', '신청', '당첨', '돼다'], ['그렇다', '건', '아니다', '그냥', '열심히', '노력', '하고', '연습', '거야'], ['맞다', '그', '동안', '고생', '너무', '많다', '너무', '기쁘다'], ['곰팡이', '제', '거제', '효과', '있다', '나', '구매', '하고', '싶다'], ['같이', '뛰다', '기도', '혼자', '뛰다', '기도', '해'], ['당연하다', '그렇다', '보험', '있다', '가입'], ['아니다', '일반인', '중', '에서', '괜찮다', '기록', '이야'], ['하', '모르다', '진짜', '어쩌다', '그렇다', '새끼', '걸리다'], ['이미', '다', '써다', '보다', '근데', '얘', '장난', '아니다'], ['나', '혼자', '집', '안', '갇히다', '되다', '거', '같다', '너무', '무섭다'], ['상사', '맞다', '아', '다른', '사람', '한테', '안', '그렇다', '나', '한테', '만', '그렇다'], ['내려가다', '있다', '엘리베이터', '멈추다', '버리다'], ['아', '짜증나다', '그', '새끼', '거', '없다', '집', '에나', '갈다', '것', '이지', '왜', '나', '한테', '그렇다'], ['이제', '완전하다', '끝나다', '엄청', '고생'], ['정말', '고맙다'], ['음', '아니다', '맛있다', '거', '먹다', '갈다', '나', '고생', '보상'], ['마음', '홀가분하다', '신나다', '음악', '을', '듣다', '것', '좋다', '것', '같다'], ['그렇다', '당연하다', '구매'], ['일이', '너무', '많다', '바쁘다', '년', '만에', '받다', '휴가', '인데', '비', '때문', '망하다'], ['곰팡이', '제', '거제', '괜찮다'], ['나', '이벤트', '당첨', '돼다'], ['나다', '알', '지', '그래서', '창문', '계속', '열다', '창문', '작다', '인지', '계속', '생기', '네'], ['지금', '전화하다'], ['그렇다', '야하다', '것', '같다'], ['당연하다', '무섭다', '너', '그걸', '말', '이라고'], ['딱', '명', '근데', '내', '되다', '거야'], ['아', '진짜', '어떻다', '되다', '지다', '모르다'], ['내', '잘못', '이지', '뭐', '음식물', '버리다', '거', '깜빡'], ['당첨', '선물', '내', '갖다', '싶다', '거', '라서', '엄청', '마음', '들다'], ['응', '이제', '완전', '자유', '야'], ['어디가', '좋다', '바다', '갈다'], ['홀가분하다', '마음', '신나다', '음악', '을', '듣다', '것', '좋다', '것', '같다'], ['휴가', '첫날', '부터', '하루', '종일', '비', '오다'], ['알다', '사용', '설명', '서', '보고', '살펴보다'], ['내', '그', '생각', '못'], ['해주다', '기분', '좋다', '일이', '생기다'], ['내', '쓰레기통', '을', '제때', '비우다', '않다', '그렇다', '걸', '수도', '있다'], ['응', '그렇다'], ['이번', '마라톤', '대회', '나가다', '그', '곳', '에서', '내', '성적', '좋다', '나오다'], ['어', '알다', '고맙다'], ['냄새', '너무', '역', '지금', '당장', '버리다'], ['프로젝트', '달', '동안', '친구', '을', '못', '만나다', '간만', '만나다', '약속', '을', '잡다', '보다'], ['같이', '공부', '동료', '있다'], ['괜찮다', '내', '못', '뭐'], ['오랜', '만', '여행', '을', '다녀오다', '것', '좋다', '것', '같다', '생각', '한번', '해보다'], ['마라톤', '대회', '에서', '기존', '기록', '을', '갱신'], ['향수', '당첨', '돼다'], ['엘레베이터', '그냥', '멈추다'], ['그렇다', '알다', '참고', '되다', '수', '있다', '보험', '하나', '쯤', '넣다', '보지', '뭐'], ['여기', '방', '창문', '작다', '그', '런가', '곰팡이', '너무', '생기다'], ['바쁘다', '일', '년', '만에', '휴가', '내다'], ['쓰레기', '통', '에서', '역겹다', '냄새', '나기', '시작'], ['그렇다', '건', '아니다', '그냥', '혼자', '서', '열심히', '연습', '을', '거야'], ['자고', '일어나다', '비', '너무', '많이', '오다', '우리', '동네', '고립', '되다', '갇히다', '돼다'], ['프로젝트', '머리', '아프다', '이번', '기회', '여행', '을', '가면', '서', '쉬다'], ['지금', '너무', '화가', '나서다', '아무렇다', '영상', '보다', '않다'], ['너무', '좋다', '날아가다', '느낌', '이야', '행복하다'], ['요즘', '다', '들다', '왜', '그렇다', '거지', '이해', '안', '가다'], ['함께', '달리다', '크루', '있다', '내', '지치다', '힘들다', '때', '마다', '크다', '힘', '돼다', '그래서', '이번', '기록', '자다', '나오다', '것', '같다'], ['그렇다', '말', '이야', '자기', '일', '하나', '안', '해'], ['나', '요즘', '아주', '짜증나다'], ['드디어', '프로젝트', '끝나다'], ['그러니까', '비다', '왜', '그렇게', '오다', '거야', '더', '습하다'], ['같이', '달리다', '크루', '있다', '내', '힘들다', '때', '마다', '크다', '힘', '되어다'], ['니', '안', '당', '해보다', '그렇다', '그', '새끼', '얼마나', '악랄하다'], ['그러면', '어떻다'], ['그렇다', '달', '간', '얼마나', '고생', '알다'], ['화장실', '청소', '해도', '곰팡이', '없어지다', '않다'], ['내', '자다', '동안', '우리', '동네', '비', '엄청', '많이', '오다'], ['맞다', '이제', '끝나다', '자유', '몸', '이라', '구'], ['명', '이야', '명'], ['명', '명', '뽑다', '거', '이다'], ['헐다', '나', '이벤트', '당첨', '돼다'], ['그렇다', '건', '아니다', '혼자', '서', '열심히', '연습', '을'], ['주변', '사람', '한테', '내', '이벤트', '당첨', '돼다', '비싸다', '향수', '선물', '로', '받다', '자랑', '다', '들다', '부러워하다'], ['결승선', '을', '통과', '순간', '기분', '엄청', '좋다', '날아가다', '것', '같다'], ['곰팡이', '제', '거제', '곰팡이', '없애다', '효과', '있다'], ['백화점', '에서', '진행', '향수', '이벤트'], ['당연하다', '그것', '두', '써다', '보다', '자다', '안', '되다'], ['나', '혼자', '집', '안', '갇히다', '돼다', '너무', '무섭다'], ['여행', '너무', '가다', '갈다', '만', '친구', '없다', '혼자', '가기', '싫다'], ['오', '그렇다', '보험', '가입', '해', '놓다'], ['쓰레기통', '에서', '냄새', '나서다', '그', '안', '을', '뒤지다', '보다', '음식물', '쓰레기', '상해', '서', '냄새', '나', '거', '이다'], ['곰팡이', '제', '거제', '생각', '번', '해보다'], ['내', '너무나', '좋아하다', '유튜버', '있다', '뒷', '광고', '있다', '사과', '영상', '을', '올리다'], ['사과', '영상', '을', '보다', '사과', '라기', '보다는', '자기', '변명', '만', '있다', '더', '화가', '나'], ['아니다', '그', '정도', '아니다'], ['짜장면', '벌레', '들어가다', '사진', '있다', '아무', '소리', '못'], ['나', '혼자', '집', '안', '갇히다', '돼다', '어떡하다'], ['나', '축하', '해주다', '기쁘다', '일이', '하나', '있다'], ['거', '어떡하다'], ['방향', '제로', '자다', '안', '없어지다', '어떡하다'], ['그렇다', '싶다', '지금', '형편', '에는', '갈다', '곳', '없다'], ['야', '너', '안', '당', '해보다', '모르다', '내', '진짜', '잘못', '것', '없다', '진짜', '말', '퉁', '명', '스럽게', '너무', '짜증나다'], ['알다', '그', '점', '주의'], ['당연하다', '오다', '제일', '먼저', '보여주다'], ['네', '배송', '일주일', '늦다', '너무', '기쁘다'], ['그거', '효과', '좋다'], ['함께', '달리다', '크루', '있다', '지치다', '힘들다', '때', '크다', '도움', '을', '받다'], ['맞다', '하루', '종일', '화장실', '만', '닦다', '있다', '것', '같다'], ['오', '좋다', '음악', '있다'], ['사과', '영상', '을', '보다', '자기', '변명', '만', '있다', '더', '화가', '나다'], ['그러니까', '너', '랑', '말'], ['정말', '너무', '무섭다'], ['어', '지금', '혼자', '있다', '무섭다'], ['내', '집안', '갇히다', '되어다'], ['화가', '나', '내', '마음', '을', '달래다', '영상', '있다'], ['다음', '한번', '뿌리', '고', '갈다'], ['비상', '벨', '누르다', '그래도', '지금', '너무', '무섭다'], ['냄새', '너무', '고약하다', '이미', '바깥', '빼다'], ['아니다', '요즘', '다', '왜', '이르다', '거야', '이해', '안', '돼다'], ['오다', '짜장면', '에서', '벌레', '나오다'], ['쓰레기', '버리다', '음식물', '섞이다', '들어가다', '보다'], ['나', '지금', '너무', '화가', '나다', '내', '기분', '을', '잠재우다', '영상', '있다'], ['어우', '짜증나다', '상사', '새끼', '왜', '퇴근', '안', '내', '옆', '붙다', '거야', '짜증나다'], ['나다', '자다', '모르다', '일단', '냄새', '원인', '을', '찾아보다'], ['짜장면', '에서', '벌레', '나오다', '더럽다', '못', '먹다', '버리다', '내다'], ['향수', '이벤트', '야'], ['들다', '보지', '뭐', '응'], ['고약하다', '냄새', '너무', '심하다', '방향', '제로', '해결', '안', '되다', '수도', '있다', '거', '같다'], ['닫히다', '버튼', '만', '몇', '번', '누르다', '안', '내려가다'], ['벌써', '다', '약속', '잡다', '놨', '지', '내일', '만나다'], ['일', '년', '정도', '되다', '거', '같다', '애', '요', '코로나', '계속'], ['그', '새끼', '욕', '을', '들다', '싸다', '걔', '나', '한테', '걸', '너', '보다', '되다'], ['응', '맞다', '너무', '역겹다'], ['맞다', '나', '근데', '곰팡이', '보다', '미세먼지', '더', '싫다'], ['그렇다', '거', '같다', '그래서', '집다', '자다', '보고', '들어가다'], ['오늘', '최종', '발표', '이제', '완전하다', '끝나다', '너무', '좋다'], ['증거', '로', '남기다', '되다', '일단', '찍다'], ['곰팡이', '없어지다', '않다'], ['내', '산', '건', '가장', '저렴하다', '거야', '알바', '비', '모으다', '사다'], ['새벽', '비', '그렇게', '많이', '오는', '지도', '모르다', '잠', '만', '자고', '있다'], ['응', '지금', '당장', '버리다'], ['당연하다', '있다', '나', '알다'], ['아니다', '절대로', '못'], ['노트북', '을', '사용', '만화', '작업', '을', '거야'], ['그렇다', '따다', '말', '없다', '따다', '말', '안', '되다'], ['그', '새끼', '왜', '나', '한테', '만', '이렇다'], ['고맙다', '너', '덕분', '그래도', '조금', '낫다', '고맙다'], ['오늘', '부터', '일주일', '동안', '휴가', '기간', '인데', '휴가', '기간', '내내', '비소', '식이', '있다', '짜증나다'], ['그렇다', '다음', '번', '소개', '해주다'], ['몸', '괜찮다', '그냥', '무섭다'], ['다행하다', '다치다', '곳', '없다'], ['나', '마라톤', '준비', '거', '알', '지', '이번', '그', '대회', '나가다', '등'], ['그렇다', '사진', '을', '메세지', '로', '첨부', '지금', '바로', '전화'], ['상사', '새끼', '왜', '집', '에도', '안', '가다', '내', '옆', '붙다', '지랄', '이지'], ['집', '안', '갇히다', '밖에는', '물이', '잔뜩', '고여', '있다'], ['명', '주다', '내', '걸리다'], ['방', '을', '치우다', '게', '힘들다', '하지만', '벌레', '생기', '면', '어떻다', '해', '얼른', '치우다', '되다'], ['일이', '바쁘다', '많다', '년', '만에', '받다', '휴가', '인데', '비', '오다', '아무', '데', '갈다', '수가', '없다'], ['그렇다', '것', '같다', '애', '다음', '부터는', '조심하다', '겠다'], ['그렇다', '그냥', '음악', '이나', '들다', '기분', '풀다', '신나다', '음악', '좋다'], ['당연하다', '무섭다', '혼자', '외로워', '죽다'], ['응', '내', '진짜', '좋아하다', '향수', '라서', '너무', '기분', '좋다'], ['문', '을', '더', '오랫동안', '열다', '놓다'], ['나', '축하', '해주다'], ['응', '비', '너무', '많이', '오다', '나가다', '수가', '없다'], ['내', '달리다', '운동', '을', '너무', '좋아하다', '매번', '마라톤', '대회', '나가다', '노력', '하고', '있다'], ['나', '회사', '엘레베이터', '갇히다'], ['나', '한테', '맨날', '퉁', '명', '스럽게', '그렇다'], ['오다', '짜장면', '에서', '벌레', '나오다'], ['혼자', '집', '안', '갇히다', '있다', '너무', '무섭다', '두렵다'], ['좋다', '생각', '이야', '나다', '게임', '이나', '영화', '그냥', '뒹굴뒹굴', '지내다'], ['사과', '너무', '가볍다', '사과', '진심', '안', '느껴지다', '거짓', '사과', '같다', '더', '화가', '나'], ['자다', '재난', '문자', '못', '보다'], ['내', '기분', '풀다', '싶다', '헤비메탈', '음악', '부탁'], ['아니다', '걔', '욕', '을', '들다', '싸다니다', '진짜', '짜증나다'], ['좋다', '생각', '이야', '냄새', '너무', '역', '방향', '제라', '뿌리다', '되다'], ['아', '고맙다', '근데', '어떡하다', '밥', '못', '먹다', '너무', '배', '고프다'], ['세상', '자고', '일어나다', '주변', '다', '물바다', '되어다'], ['그렇다', '것', '만', '것', '없다', '거야', '냄새', '저', '거'], ['내', '너무나', '좋아하다', '인', '플루', '언', '서', '진행', '이벤트', '있다', '거기', '당첨', '되어다'], ['너무', '냄새', '나다', '날', '파리', '생기다', '지금', '당장', '버리다', '해'], ['그렇다', '그동안', '못', '만난', '친구', '만나다', '겠다'], ['지금', '보', '니까', '음식물', '쓰레기', '쓰레기통', '있다'], ['치우다', '너무', '힘들다', '내', '음식물', '쓰레기', '쓰레기통', '에다', '버리다', '잘못', '이니까', '얼른', '냄새', '안나', '게', '치우다'], ['그래도', '어쩌겠어', '얼른', '치우다', '쉬다', '겠다'], ['이번', '마라톤', '대회', '나가다', '기록', '엄청', '좋아지다'], ['냄새', '너무', '심하다', '쓰레기', '버리다', '밖', '에다', '빼다'], ['아니다', '음악', '추천', '해달라다'], ['어', '먹다', '다', '버리다', '거', '환불', '받다'], ['짜장면', '에서', '벌레', '나오다'], ['알다', '여행', '계획', '세우다', '신나다', '놀다', '오다'], ['진짜', '어떡하다', '되다', '모르다', '아', '맨날', '솔로', '빡빡', '문지르다', '팔', '근육통', '오다', '거', '같다', '애'], ['알다', '내일', '만나다', '여행', '계획', '세우다'], ['휴가', '첫날', '부터', '밖', '에서', '하루', '종일', '비', '오다', '있다'], ['자취', '방', '엘리', '베', '이턴', '데', '정전', '인가', '보다'], ['아직', '까지는', '물이', '들다', '오지', '않다', '괜찮다', '물이', '들어오다', '무섭다'], ['친구', '약속', '잡다', '때', '계획', '세우다', '볼', '게'], ['아', '짜증나다', '아니다', '그', '새끼', '일', '없다', '집', '에나', '갈다', '것', '이지', '왜', '나', '한테', '만', '난리', '야'], ['자다', '동안', '우리', '동네', '비', '엄청', '많이', '내리다', '나', '대피', '문자', '못', '보고', '잠', '만', '자다'], ['그렇다', '영상', '있다', '추천', '해', '주다', '보다'], ['고맙다', '앞', '으로는', '기록', '넘다', '노력'], ['나', '이번', '당첨', '돼다'], ['그렇다', '이제', '부턴', '청소', '제때', '제때', '겠다'], ['오랜', '만', '가족', '이랑', '여행', '을', '다녀오다', '것', '의미', '있다', '것', '같다'], ['기분', '너무', '좋다', '뛰다', '동안', '에는', '숨', '막히다', '정도', '로', '힘', '들다', '그렇지만', '열심히', '결과', '좋다'], ['응', '이제', '버리다'], ['냄새', '너무', '고약하다', '버리다', '지금', '쓰레기', '봉투', '쌓다'], ['야', '나', '드디어', '프로젝트', '끝나다', '어'], ['알다', '여행', '계획', '세우다', '여행', '가다', '오다'], ['맞다', '화장실', '엔', '환기', '곳', '필요하다', '해'], ['너', '말', '대로', '음식물', '상해', '서', '너무', '냄새', '심해', '그래서', '지금', '버리다', '밖에', '내다'], ['갑자기', '나', '한테', '영상', '을', '소개', '어떡하다', '내', '이야기', '들어주다'], ['오랜', '만', '친구', '을', '만나다', '것', '괜찮다', '거', '같다'], ['완전', '이번', '유난히', '힘들다', '근데', '결승선', '에서', '기록', '보고', '진짜', '엄청', '놀라다'], ['명', '뽑다', '내', '되어다'], ['맞다', '이렇다', '일이', '처음', '이라서', '진짜', '너무', '무섭다'], ['축하', '해주다', '기분', '좋다', '일이', '생기다'], ['안', '그렇다', '기분', '나쁘다', '어떡하다', '거야'], ['아니다', '너무', '끔찍하다', '죽다', '더', '라고', '어떻다', '지다'], ['맞다', '나', '진짜', '가다', '곳', '많다'], ['좋다', '아이디어', '고맙다'], ['네', '무섭다', '이렇다', '땐', '어떻다', '되다', '좋다'], ['사장', '님', '께서', '보다', '정말', '미안하다'], ['진짜', '고맙다'], ['난', '게임', '싫다', '영화', '보다', '지내다', '되다'], ['아니다', '요즘', '다', '왜', '이르다', '거야', '정말', '이해', '안', '돼다'], ['알다', '지금', '이라도', '바로', '묶다', '버리다'], ['응', '신나다', '음악', '듣다'], ['기분', '좋다', '신나다', '음악', '듣다', '거', '좋다'], ['신나다', '음악', '을', '듣다', '것', '좋다', '것', '같다', '틀어주다'], ['그렇다', '것', '같다', '화장실', '창문', '없다'], ['응', '괜찮다'], ['퇴근', '지다', '얼마나', '돼다', '회사', '에서', '연락', '또', '오다'], ['일단', '괜찮다', '한데', '걱정', '이야'], ['비', '너무', '많이', '오다', '집', '갇히다', '거', '같다', '애'], ['휴가', '첫', '날', '부터', '비', '오다', '있다'], ['그렇다', '그렇다', '정말', '좋다', '생각', '이야'], ['아', '며칠', '전', '음식물', '쓰레기', '버리다', '깜빡'], ['무섭다', '괜찮다'], ['아니다', '요즘', '다', '왜', '이르다', '거야', '정말', '이해', '안', '돼다'], ['너무', '실망', '스럽다', '꼭', '그렇게', '까지', '뒷', '광고'], ['나', '갇히다', '되다', '것', '같다', '너무', '무섭다'], ['아', '진짜', '짜증나다', '나', '짜장면', '진짜', '좋아하다'], ['향수', '받다', '돼다'], ['진짜', '너무', '짜증나다'], ['사진', '을', '메세지', '로', '보내다', '뒤', '항의', '전화', '지금'], ['그렇다', '것', '같다', '애', '내', '조금', '더', '긍정', '적', '생각', '해보다'], ['너무', '마음', '들다', '내', '그', '전', '부터', '갖다', '싶다', '향수', '야'], ['당연하다', '써다', '보다', '그렇다', '없어지다', '않다'], ['비', '많이', '오다', '모르다', '자다', '재난', '문자', '못', '보다', '빠져나오다', '못', '거야'], ['주다', '이벤트'], ['프로젝트', '드디어', '끝나다'], ['그렇다고', '볼', '수가', '있다'], ['아', '짜증나다', '그', '새끼', '일', '없다', '집', '에나', '갈다', '것', '이지', '나르다', '왜', '괴롭히다'], ['오다', '나', '드디어', '프로젝트', '끝나다'], ['선수', '아니다', '내', '달리다', '운동', '을', '너무', '좋아하다', '매번', '열리다', '있다', '마라톤', '대회', '나가다', '있다'], ['지금', '우리', '집', '갇히다'], ['그것', '너무', '신나다', '일이', '다'], ['아', '짜장면', '에서', '벌레', '나오다'], ['알다', '사용설명서', '보고', '챙기다', '볼', '게'], ['당연하다', '아주', '비싸다', '향수', '야'], ['내', '쓰레기통', '에다', '버리다', '음식물', '쓰레기', '상해', '서', '나', '냄새', '인', '거', '같다'], ['괜찮다', '다음', '번', '엔', '절대로', '그렇게', '않다'], ['친구', '만나다', '재밌다', '너', '말', '대로', '친구', '만나다'], ['신나다', '음악', '듣다', '스트레스', '풀다', '볼', '게'], ['아니다', '그', '정도', '까진', '아니다'], ['맞다', '정말', '힘들다', '근데', '결승선', '들어오다', '나', '니까', '그', '힘드다', '게', '다', '없어지다', '더', '라고'], ['에이', '선수', '일', '것', '까지야'], ['너', '번', '당', '해보다', '욕', '나오다'], ['결승선', '을', '통과', '힘드다', '게', '싹', '사라지다'], ['다시', '시키다', '달라', '새', '거', '다시', '갖다'], ['아', '완전', '자기', '일', '하나', '안', '해'], ['내', '노트북', '을', '오래', '사용', '수', '있다', '보험', '가입', '생각', '해보다'], ['아', '짜증', '나', '그', '새끼', '일', '없다', '집', '에나', '갈다', '것', '이지', '왜', '나', '한테', '그렇다', '걸다'], ['선수', '아니다', '평소', '조깅', '이나', '마라톤', '그리고', '달리기', '좋아하다', '정도'], ['내', '음식물', '쓰레기', '버리다', '생기다', '일이', '니까', '얼른', '청소'], ['어쩌겠어', '내', '실수', '니까', '깨끗이', '치우다'], ['달', '동안', '친구', '을', '못', '만나다', '이번', '기회', '만나다', '것', '좋다', '거', '같다'], ['그렇다', '것', '있다', '그러면', '번', '올려주다', '기분', '너무', '더럽다'], ['뛰다', '때', '힘들다', '기분', '최고', '지'], ['응', '고맙다'], ['오랜', '만', '친구', '을', '만나다', '것', '좋다', '것', '같다'], ['명', '뽑다', '거', '이다', '내', '운', '좋다'], ['그렇다', '거', '같다'], ['정말', '그렇게', '해도', '괜찮다'], ['사진', '찍다'], ['나', '냄새', '심하다', '더', '깨끗이', '치우다', '보', '니까', '더', '힘들다', '지다'], ['그것', '괜찮다', '생각', '인', '것', '같다', '안', '그래도', '친구', '하고', '약속', '잡다', '중', '이다'], ['너무', '화가', '나다'], ['내', '달리다', '운동', '을', '너무나', '좋아하다', '매번', '마라톤', '대회', '출전', '하고', '있다'], ['게', '상품', '좋다', '거', '라서', '딱', '명', '만', '뽑다', '거', '이다'], ['아', '홍수', '때문', '우리', '집', '안', '지금', '갇히다', '것', '같다', '애', '나'], ['곰팡이', '때문', '너무', '스트레스', '야'], ['속', '시원하다', '완전', '끝나다'], ['응', '발표', '랑', '뭐', '다른', '연구', '다', '끝나다', '진짜', '완전', '홀가분하다'], ['어렵다', '년', '만에', '받다', '휴가', '인데', '비', '오다', '아무', '데도', '갈다', '수가', '없다'], ['맞다', '미세먼지', '너무', '심하다', '맨날', '마스크', '끼', '고', '다니다'], ['나', '혼자', '집', '안', '갇히다', '되어다'], ['알다', '사용', '설명', '서', '보고', '꼼꼼하다', '살펴보다'], ['그렇다', '그렇다', '그렇게', '보다'], ['딱', '명', '뽑다', '그게', '내', '된거', '야'], ['프로젝트', '진행', '머리', '복잡하다', '여행', '을', '가다', '머리', '식히다', '오다'], ['평소', '내', '갖다', '싶다', '향수', '주다', '거', '라', '당연하다', '마음', '들다'], ['당첨', '명', '이다', '내', '운', '좋다', '당첨', '돼다'], ['그렇다', '다시다', '그렇다', '일이', '없다', '위해', '서'], ['알다', '친구', '약속', '잡다', '수다', '떨다', '오다'], ['그렇다', '다른', '소리', '안', '나오다', '앞', '이렇다', '일이', '없다'], ['그렇다', '너무', '고맙다'], ['그러니까', '비다', '왜', '그렇게', '많이', '오다', '거야'], ['그렇다', '함께', '달리다', '크루', '있다', '내', '지치다', '힘들다', '때', '크다', '힘', '되어다', '있다'], ['내', '마라톤', '대회', '출전', '이전', '내', '기록', '을', '훨씬', '갱신'], ['그렇다', '그렇다', '거기', '에다가', '기록', '까지', '갱신'], ['냄새', '방향', '제로', '처리', '게', '가장', '좋다', '것', '같다'], ['그렇다', '빨리', '처리'], ['명', '되다'], ['빨리', '버리다'], ['그렇다', '새끼', '욕', '을', '처', '먹다', '지랄', '을', '뜨다', '거기', '때문', '욕', '을', '해주다', '되다'], ['근데', '친구', '바쁘다', '만나다', '가다', '모르다'], ['화장실', '청소', '해도', '곰팡이', '안', '없어지다'], ['어우', '쓰레기통', '에서', '역겹다', '냄새', '나다', '있다'], ['달리다', '동안', '너무', '지치다', '힘들다', '결승선', '을', '통과', '순간', '기분', '엄청', '좋다'], ['휴가', '인데', '밖에', '비', '오다'], ['화장실', '청소', '해도', '곰팡이', '지워지다', '않다'], ['진짜', '그', '새끼', '인성', '문제', '있다'], ['명', '뽑다', '거', '이다', '내', '너무', '운', '좋다', '이렇다', '일이', '없다'], ['아니다', '요즘', '왜', '그렇다', '이해', '안', '가다'], ['나', '축하', '해주다', '기분', '너무', '좋다'], ['그게', '좋다', '것', '같다'], ['하필', '내', '휴가', '기간', '이랑', '장마철', '이랑', '겹', '치다', '온통', '물난리', '야'], ['그래서', '열심히', '청소', '있다', '곰팡이', '안', '없어지다'], ['며칠', '전', '음식', '을', '쓰레기통', '그냥', '버리다', '그게', '썩다', '보다'], ['선물', '향수', '야', '그래서', '정말', '마음', '들다'], ['나', '고생', '너무', '많다'], ['어떻다', '좋다'], ['아직', '집', '안', '으로는', '물이', '들어오다', '않다', '괜찮다'], ['뛰다', '동안', '힘들다', '결승선', '을', '통과', '순간', '싹', '잊혀지다'], ['쓰레기통', '에서', '겁나다', '이상하다', '냄새', '나기', '시작'], ['전화하다', '뭐라다', '말', '지다'], ['달리다', '동안', '에는', '엄청', '힘들다', '결승선', '을', '통과', '순간', '엄청', '기분', '좋다'], ['수', '없다', '뭐', '너', '너무', '고맙다'], ['당첨', '선물', '너무', '마음', '들다', '내', '갖다', '싶다', '향수', '이다'], ['같이', '준비', '친구', '있다'], ['사진', '을', '메세지', '로', '첨부', '지금', '당장', '짜장면', '집', '전화', '해보다'], ['너', '말', '더러', '증거', '로', '사진', '을', '찍다', '놓다'], ['그렇다', '지금', '당장', '전화', '해보다'], ['너', '땜', '기분', '더', '나쁘다', '음악', '아무', '거나', '틀어주다'], ['아직', '안', '향수', '오다', '거야'], ['오랜', '만', '가족', '이랑', '여행', '을', '다녀오다', '것', '의미', '있다', '것', '같다', '생각', '해보다'], ['구매', '생각', '있다'], ['음악', '이나', '들다', '기분', '풀다', '나', '잔잔', '음악', '좋다'], ['그렇다', '일단', '친구', '부터', '만나다', '여행', '계획', '대해', '서', '얘기', '해보다', '되다'], ['너', '말', '대로', '시간', '지나다', '전', '전화', '지금', '당장', '해보다'], ['그렇다', '앞', '문', '을', '자주', '열다', '환기', '시키다', '볼', '게'], ['우리', '이르다', '죽다', '거', '아니다'], ['늘다', '게', '좋다'], ['그렇다', '달', '간', '얼마나', '열심히', '난', '주말', '일'], ['함께', '달리다', '크루', '있다', '지치다', '힘들다', '때', '크다', '힘', '되어다', '주다'], ['친구', '이랑', '약속', '벌써', '잡다'], ['비싸다', '건', '못', '사다', '알바', '비', '모으다', '산', '거기', '때문'], ['사장', '님', '그래서', '자다', '바꾸다', '다행', '이지', '아니다', '더', '화나다', '뻔하다'], ['아침', '일어나다', '보다', '주변', '다', '물바다', '야', '나가다', '수가', '없다'], ['문', '을', '하루', '종일', '열다', '있다', '그렇다', '불구', '하고', '곰팡이', '생기다'], ['그렇다', '같이', '운동', '하고', '같이', '대회', '나가다', '사람', '있다'], ['동해', '바다', '가다'], ['나', '속이다', '풀리다', '스트레스', '해소', '돼다'], ['명', '뽑다', '내', '돼다'], ['집', '밖', '을', '보다', '집', '주변', '까지', '물이', '차오르다', '밖', '나가다', '수가', '없다'], ['너무', '맘', '들다', '엄청', '좋다', '내', '원하다', '향수', '거들다'], ['이번', '프로젝트', '자다', '마무리', '돼다', '다음', '것', '계획', '보다'], ['휴', '힘들다', '어떡하다', '집안', '에서', '냄새', '나', '니까', '얼른', '치우다', '이르다', '벌레', '생기다'], ['응', '맞다', '같이', '뛰다', '크루', '있다', '그', '덕분', '더', '좋다', '결과', '얻다', '거', '같다', '애'], ['짜장면', '에서', '벌레', '나오다', '너무', '지저분하다', '더럽다', '못', '먹다', '갖다', '버리다', '되다', '것', '같다'], ['아', '미처', '화장실', '청소', '해도', '곰팡이', '새끼', '사라지다', '않다'], ['그렇다', '신나다', '음악', '듣다', '스트레스', '풀', '고', '싶다'], ['야', '그', '새끼', '욕', '먹다', '싸다', '진짜', '나쁘다', '새끼', '야'], ['오랜', '만', '가족', '이랑', '동행', '바다로', '놀다', '가기', '로', '비', '오다', '갈다', '수가', '없다'], ['나', '자다', '사이', '비', '많이', '오다', '보다', '밖', '나가다', '수가', '없다'], ['어', '너무', '무섭다'], ['아직', '안', '선물', '오다', '보여주다', '자랑'], ['넌', '그', '새끼', '짓', '을', '못', '보다', '그렇다', '나', '한테', '만', '얼마나', '지랄', '인데'], ['그것', '써다', '보고', '여러가지', '해봤다', '도대체', '또', '나오다', '또', '나오다', '어쩔', '수가', '없다'], ['욕', '을', '거', '잖다'], ['헐다', '나', '이벤트', '당첨', '되어다'], ['아니다', '나', '혼자', '뛰다', '좋다'], ['그', '래야', '것', '같다', '도대체', '힘들다'], ['그렇다', '언제', '한번', '말씀드리다', '보다'], ['그래서', '그렇다', '곰팡이', '더', '심하다', '끼다', '것', '같다'], ['그렇게', '행동', '무슨', '상사', '취급', '을', '바', '래'], ['여행', '가다', '싶다', '그런데', '갈다', '친구', '없다', '다', '들다', '일해', '야', '되다'], ['맞다', '당장', '버리다'], ['우선', '음식물', '을', '버리다', '게', '급선무', '인', '것', '같다'], ['내', '쓰레기통', '버리다', '음식물', '쓰레기', '상해', '서', '냄새', '나다'], ['너', '말', '대로', '제품', '문제', '있다', '꼼꼼하다', '살펴보다'], ['아', '짜증나다', '그', '새끼', '일', '없다', '집', '에나', '갈다', '것', '이지'], ['어', '내', '정말로', '갖다', '싶다', '향수', '이다'], ['그', '새끼', '일', '끝나다', '빨리', '집', '에나', '가지', '남아', '서', '자꾸', '나', '한테', '뭐라다', '해'], ['그렇게', '괜찮다', '지금', '당장', '구매'], ['나', '혼자', '갇히다', '인터폰', '안', '돼다', '어떡하다'], ['그렇게', '좋다', '나다', '써다', '보다'], ['축하', '해주다', '나', '기분', '좋다', '일이', '있다'], ['일이', '너무', '바쁘다', '힘들다', '년', '동안', '휴가', '번', '못', '가다', '이번', '처음', '휴가', '가다', '비', '때문', '아무', '데', '못'], ['힘들다', '집', '안', '냄새', '장난', '아니다', '얼른', '치우다', '것', '같다'], ['그래도', '너무', '힘들다'], ['내', '건', '보내다', '답변', '오다', '다시', '보다', '해'], ['냄새', '너무', '심하다', '날', '파리', '생기다', '것', '같다', '당장', '묶다', '버리다', '야하다', '것', '같다'], ['어', '몸', '괜찮다', '너무', '힘들다'], ['야', '알다'], ['알다', '지금', '바로', '항의', '전화', '해보다'], ['음악', '좋다', '가다', '좋다', '음악', '재밌다', '듣다', '싶다'], ['나름', '대로', '환기', '시키다', '있다', '생각', '왜', '이르다', '모르다', '대체'], ['몸', '괜찮다', '걱정', '이야'], ['그렇다', '해', '우리', '집', '화장실', '환기', '만', '곳', '없다'], ['더럽다', '기분', '을', '없애다', '수', '있다', '영상', '아무', '거나', '다', '추천', '해주다'], ['아', '짜증나다', '그', '새끼', '진짜', '일', '없다', '집', '에나', '갈다', '것', '이지', '왜', '나', '한테', '만', '자꾸', '그렇다'], ['몸', '괜찮다', '집', '물이', '들어오다', '건', '아니다'], ['응', '다행하다', '다치다', '곳', '없다', '무섭다', '뿐', '이야'], ['나가다', '수가', '없다', '바깥', '물이', '너무', '차오르다'], ['그렇다', '그거', '좋다', '생각', '이네', '다음', '부터는', '이렇게', '못', '겠다'], ['응', '놀라다', '몸', '괜찮다'], ['그렇다', '알다', '얼마나', '이쁘다', '향', '좋다', '보여주다'], ['아', '짜증', '나', '그', '새끼', '일', '끝나다', '빨리', '집', '에나', '갈다', '것', '이지', '남아', '가지', '고', '나', '한테', '자꾸', '뭐라다', '해'], ['네', '완전하다', '끝나다', '정말', '홀가분하다'], ['알다', '영화', '나', '보고', '있다', '되다', '것', '같다'], ['쓰레기통', '음식물', '섞이다', '들어가다', '거', '같다'], ['응', '이제', '주말', '에도', '쉬다', '수', '있다'], ['선수', '아니다', '내', '달리다', '운동', '을', '너무나', '좋아하다', '마라톤', '대회', '나가다', '있다'], ['너무', '좋다'], ['그래서', '매일', '같이', '청소', '곰팡이', '안', '없어지다'], ['그', '사람', '나', '한테', '더', '심하다', '욕', '하', '거들다'], ['어', '환기', '안', '돼다', '아무래도', '그렇다', '것', '같다', '생각', '들다'], ['드디어', '새롭다', '구매', '노트북', '오다'], ['어디', '한번', '두다', '보다'], ['당첨', '선물', '내', '너무나', '갖다', '싶다', '향수', '라서', '너무나', '마음', '들다'], ['완전', '너무', '너무', '마음', '들다', '너무', '좋다'], ['곰팡이', '제', '거제', '효과', '있다', '구매', '사용', '해보다', '좋다', '제품', '추천', '해주다'], ['여행', '너무', '좋다', '그렇다', '여행', '계획', '세우다', '보다'], ['선물', '너무', '마음', '들다'], ['창문', '작다', '환기', '해도', '계속', '생기', '더', '라고'], ['응', '그', '래야', '되다', '것', '같다', '애'], ['아침', '저녁', '환기', '그렇다'], ['오늘', '마트', '가다', '한번', '사보다'], ['향수', '명', '뽑다', '주다', '이벤', '틀다', '내', '돼다'], ['그건', '나다', '모르다'], ['아니다', '그래도', '진짜', '너무하다', '나', '한테', '만', '그렇다'], ['아니다', '작동', '을', '안', '어떡하다'], ['그냥', '생각', '없다', '그', '면', '자기', '기분', '좋다', '좋다', '대로', '나쁘다', '나쁘다', '그', '걸', '로', '다', '난리', '야'], ['너', '말', '대로', '사진', '을', '찍다'], ['나', '혼자', '집', '안', '갇히다', '돼다', '너무', '무섭다', '두렵다'], ['그렇다', '건', '아니다', '혼자', '서', '열심히', '노력', '연습', '하고', '있다'], ['바보', '같이', '자다', '재난', '문자', '못', '받다', '피하', '라는', '전화', '못', '받다', '그래서', '혼자', '이렇게', '갇히다', '되다', '거야'], ['용돈', '모으다', '사다', '비싸다', '못', '사다'], ['아', '짜장면', '에서', '벌레', '나오다'], ['프로젝트', '달', '동안', '친구', '못', '만나다', '이번', '기회', '만나다', '보다'], ['장마철', '이라서', '습기', '많아지다', '곰팡이', '생기', '니까', '자꾸', '신경', '쓰이다'], ['세', '번', '그렇다', '야하다', '것', '같다', '아무리', '청소', '해도', '없어지다', '않다', '거', '라고'], ['무섭다', '왜', '안', '무섭다'], ['그렇다', '항상', '나르다', '위해', '애쓰다', '정말', '고맙다'], ['어', '달', '간', '정말', '고생', '많이'], ['더', '좋다'], ['어', '빨리', '전화하다', '해결', '을', '신경', '쓰이다'], ['그렇다', '도와주다', '뭐', '어떻다', '도와주다'], ['갇히다', '것', '같다', '정말', '큰일', '이야'], ['맞다', '그게', '유일하다', '해답', '이지'], ['어', '지금', '나', '혼자', '밖에', '없다', '여기'], ['선수', '아니다', '내', '운동', '을', '좋아하다', '해봤다', '거야'], ['너', '좋아하다', '게', '뭐', '야'], ['응', '다', '끝나다', '완전', '신나다'], ['그렇다', '음악', '하나', '만', '추천', '해주다'], ['친구', '이랑', '맛있다', '걸', '먹다'], ['맞다', '환기', '자다', '안되다', '장마철', '이라', '아주', '습기', '장난', '아니다'], ['사과', '영상', '을', '보다', '사과', '라기보다는', '자기', '변명', '을', '구', '그래서', '더', '화가', '나다'], ['곰팡이', '제거', '제로', '오늘', '청소', '이제', '괜찮다', '지기', '바', '래야', '지'], ['어', '맞다', '너', '어떻다', '그걸', '알', '아'], ['음식물', '쓰레기', '제대로', '안', '버리다', '그렇다'], ['그렇다', '고맙다'], ['무슨', '이벤트', '인지', '모르다', '무슨', '이벤', '트이다'], ['그래도', '욕', '을', '스트레스', '풀다'], ['선수', '아니다', '취미', '로', '거야'], ['돈', '받다', '너무', '좋다'], ['맞다', '그', '동안', '노력', '게', '다', '보상', '이루어지다', '것', '같다'], ['완전', '짜증나다', '이직'], ['아', '저', '놈', '상사', '놈', '왜', '집', '에도', '안', '가다', '내', '옆', '붙다', '지랄', '이냐', '고'], ['어떻다'], ['화장실', '아무리', '청소', '해도', '곰팡이', '없어지다', '않다'], ['마라톤', '뛰다', '원래', '내', '기록', '을', '갱신'], ['딱', '명', '그게', '나야'], ['달', '동안', '얼마나', '열심히', '완전하다', '끝나다'], ['그렇다', '순위', '권', '안', '들다'], ['고약하다', '냄새', '방향', '제로', '없어지다', '수', '있다'], ['백화점', '에서', '명', '뽑다', '이벤트', '당첨', '돼다'], ['내', '그', '생각', '을', '못'], ['결승선', '들어서다', '순간', '힘들다', '싹', '잊혀지다', '더', '라고'], ['사과', '영상', '을', '보다', '자기', '변명', '만', '있다', '더', '화가', '나다'], ['습기', '많다', '환기', '되다', '않다', '거', '같다', '매', '일', '매일', '신경', '쓰다', '청소', '곰팡이', '왜', '안', '없어지다'], ['기분', '전환', '용', '영상', '을', '보다', '기분', '나아지다', '좋다'], ['그렇다', '번', '열다', '보다'], ['거', '많다', '영화', '보다', '고', '프로젝트', '고'], ['억지로', '사과', '절대', '진중하다', '않다'], ['좋다', '생각', '이야', '페브리즈', '뿌리다', '음식물', '냄새', '없애다'], ['그게', '좋다', '것', '같다', '방향', '제도', '바로', '사오다'], ['그냥', '나', '혼자', '서', '열심히', '연습', '하고', '노력', '하고', '즐기다', '뿐', '이야'], ['헐다', '나', '이벤트', '당첨', '되어다'], ['아', '짜장면', '을', '먹다', '벌레', '나오다'], ['고맙다', '그렇게'], ['아직', '선수', '라고', '순', '없다'], ['내', '좋아하다', '향수', '이벤', '트이다'], ['오다', '짜장면', '에서', '벌레', '나오다'], ['아니다', '저런', '놈', '욕먹다', '싸다'], ['그런', '건가', '아', '휴'], ['그', '런가', '난', '기분', '풀리다', '것', '같다'], ['당연하다', '끝나다', '달', '간', '얼마나', '고생', '많다'], ['자다', '때', '그렇게', '많다', '비', '내리다', '모르다', '난', '대피', '못'], ['드디어', '프로젝트', '끝나다'], ['그거', '좋다', '생각', '이네', '그렇다', '사', '볼', '게'], ['정전', '나서다', '그렇다', '것', '같다', '금방', '아저씨', '오다'], ['오다', '보여주다'], ['응', '맞다'], ['달리기', '기록', '경신'], ['전화', '무지하다', '오다', '더', '라고', '그것', '모르다', '잠', '들다'], ['모르다', '안', '들리다', '뭐', '어떻다'], ['그렇다', '달', '간', '정말', '고생', '많이'], ['선수', '까지', '가다', '멀다', '그냥', '일반인', '중', '에서', '좋아지다'], ['아니다', '뭐', '자다', '모르다', '그냥', '기분', '너무', '좋다'], ['응', '내', '좋아하다', '향', '이라서', '너무', '좋다'], ['곰팡이', '제', '거제', '추천', '해주다', '수', '있다'], ['그것', '좋다', '그냥', '환기', '시키다'], ['쓰레기통', '에서', '역겹다', '냄새', '나'], ['그렇다', '최종', '발표', '마치다', '이제', '완전하다', '끝나다', '거야', '야호'], ['노트북', '동영상', '을', '보다', '어학', '공부', '거야'], ['전', '먹다', '음식물', '쓰레기', '안', '치우다', '그렇다', '거', '같다', '치우다', '너무', '겁나다'], ['해보다', '그래도', '계속', '있다'], ['그렇다', '수도', '있다'], ['추천', '해주다', '음악', '있다'], ['내', '달리다', '운동', '을', '너무', '좋아하다', '매번', '마라톤', '대회', '출전', '하고는', '해'], ['자다', '사이', '비', '많이', '오다', '보다'], ['그렇다', '지금', '이라도', '항의', '전화', '게', '좋다', '것', '같다', '그렇게', '번', '해보다'], ['맞다', '지금', '나', '혼자', '있다'], ['자다', '모르다', '안', '에서', '뭔가', '썩다', '것', '같다'], ['습기', '때문', '생기다', '곰팡이', '안', '없어지다', '너무', '신경', '쓰이다'], ['알다', '만나다', '여행', '계획', '세우다', '볼', '게'], ['숨', '턱', '막히다', '알다', '근데', '결승선', '넘다', '기분', '최고', '더', '라'], ['어', '진짜', '결승선', '통과', '때', '날아가다', '것', '같다'], ['지금', '너무', '무섭다'], ['알다', '지금', '버리다', '묶다'], ['더', '실망', '스러운', '건', '사과', '먼저', '안', '거야'], ['다른', '직원', '한테', '늘다', '친절하다', '나', '한테', '자꾸', '짜증', '을', '내', '니까', '화가', '나서다', '그렇다'], ['기분', '너무', '좋다', '뛰다', '동안', '에는', '숨', '턱턱', '막히다'], ['내', '평소', '정말', '갖다', '향수', '야', '심지어', '비싸다', '만원'], ['정말', '어렵다', '기다', '프로젝트', '이다'], ['아', '짜증나다', '그', '새끼', '일', '다', '끝나다', '집', '에나', '가지', '남다', '나', '한테', '뭐라다', '해'], ['응', '다치다', '않다', '빨리', '나가다', '수', '있다', '좋다'], ['알다', '신나다', '음악', '듣다', '스트레스', '풀다', '볼', '게'], ['너', '어떻다', '선물', '좋아하다'], ['이번', '기회', '너', '말', '대로', '여행', '다녀오다'], ['달리다', '동안', '에는', '정말', '힘들다', '지치다', '결승선', '을', '통과', '순간', '너무', '기분', '좋다'], ['어', '지금', '문', '안', '열리다', '갇히다'], ['아', '후', '짜증나다', '그', '새끼', '일', '끝나다', '빨리', '집', '에나', '가지', '남아', '서', '자꾸', '나', '한테', '뭐라다', '해'], ['뭔가', '썩다', '있다', '보다'], ['어', '나', '괜찮다'], ['곰팡이', '제', '거제', '곰팡이', '제거', '효과', '있다', '나다', '번', '써다', '볼', '래', '좋다', '제품', '추천', '해주다'], ['기분', '전환', '용', '영상', '보다', '기분', '정말', '좋아지다'], ['나', '아주', '스트레스', '많이', '받다', '니깐', '시끄럽다', '음윽', '부탁'], ['아니다', '난', '독고', '다이야'], ['마라톤', '완주'], ['그래서', '신경', '쓰다', '청소', '곰팡이', '왜', '안', '없어지다'], ['생각', '있다', '또', '연락'], ['그러니까', '얼른', '버리다', '냄새', '너무', '나'], ['너무', '좋다', '생각', '인', '거', '같다', '애'], ['노트북', '늦다', '배송', '돼다', '걱정', '하고', '있다', '오늘', '도착', '기분', '좋다', '만원', '짜다', '노트북', '을', '구매'], ['오늘', '부터', '일주일', '간', '휴가', '기간', '인데', '휴가', '기간', '내내', '비', '소식', '있다', '짜증', '나'], ['그러니까', '보상', '을', '받다', '먹다', '못', '하고', '기분', '만', '나쁘다'], ['나', '음악', '듣다', '기분', '아니다', '너', '나', '들다'], ['비상', '벨', '을', '누르다', '아직', '아무', '오지', '않다', '있다', '무섭다'], ['그거', '찾아보다'], ['그것', '좋다', '혼자', '서', '일단', '쉬', '고', '싶다'], ['내', '좋아하다', '유튜버', '있다', '뒷', '광고', '사과', '영상', '을', '올리다'], ['어', '너무', '고립', '돼다', '너무', '무섭다'], ['당연하다', '당장', '사다', '좋다', '제품', '추천', '해주다'], ['으', '드럽다', '나', '이렇다', '못'], ['곰팡이', '제', '거제도', '있다', '그렇다', '사다'], ['그렇다', '한번', '써다', '볼', '게'], ['인', '플루', '언', '서', '이벤트', '걸', '보고', '신청', '당첨', '돼다'], ['곰팡이', '제', '거제', '사르다', '가다'], ['우리', '집', '쓰레기통', '에서', '역겹다', '냄새', '나다', '있다'], ['나', '축하', '해주다', '정말', '기분', '좋다', '일이', '있다'], ['아', '짜증나다', '그', '새끼', '나', '한테', '만', '그렇다'], ['오랜', '만', '친구', '만나다', '것', '좋다', '것', '같다'], ['상사', '라도', '나', '한테', '만', '그러니까', '화가', '나다'], ['냄새', '너무', '고약하다', '날', '파리', '꼬이다', '지금', '쓰레기', '밖', '에다', '내다'], ['기분', '전환', '용', '영상', '어떻다', '건데'], ['명', '뽑다', '그거', '내', '돼다'], ['응', '평소', '갖다', '싶다', '거', '라', '정말', '마음', '드', '네'], ['좋다', '방향', '제', '있다', '추천', '해주다'], ['사과', '유튜버들', '별로', '없다'], ['맞다', '좋다', '생각', '이야'], ['아', '그거', '너무', '좋다', '고맙다'], ['내', '평소', '갖다', '싶다', '향수', '야', '기분', '너무', '좋다'], ['방향', '제', '랑', '쓰레기통', '냄새', '랑', '섞이다', '어떡하다', '그렇다'], ['들다', '다니다', '자랑', '거야', '영화', '보고', '음악', '듣다'], ['해주다', '기분', '좋다', '일이', '있다'], ['맞다', '하루', '종일', '화장실', '청소', '만', '기분', '이야'], ['조치', '빨리', '취', '해주다', '너무', '좋다'], ['힘들다', '어떻다', '집', '안', '냄새', '장난', '아니다', '내', '벌린', '일이', '니까', '내', '얼른', '치우다'], ['정말', '그', '래야', '되다', '것', '같다', '다시다', '이르다', '못'], ['그렇다', '게', '있다', '지금', '당장', '가입'], ['그렇다', '아이고', '고맙다'], ['선물', '내', '갖다', '싶다', '거', '라서', '엄청', '마음', '들다'], ['쓰레기', '오래', '돼다', '냄새', '나', '것', '같다'], ['이번', '마라톤', '대회', '나가다', '신기록', '갱신'], ['휴', '내', '왜', '쓰레기'], ['아', '근데', '어떻다', '수가', '없다', '내', '퇴사', '길', '밖에', '없다', '않다'], ['그', '래야', '것', '같다', '집', '에서', '휴식', '이나', '취하', '면서', '영화', '나', '보다'], ['그렇다', '너', '말', '대로', '사진', '을', '찍다', '놓다'], ['밤새', '비', '그렇게', '많이', '내리다', '모르다'], ['응', '지금', '바로', '해보다'], ['오다', '거', '향수', '주다', '이벤', '트이다', '오다', '거', '어떻다', '돼다'], ['진짜', '너무', '힘들다', '딱', '들어가다', '순간', '진짜', '너무', '행복하다', '있다'], ['명', '뽑다', '거', '이다', '근데', '내', '돼다'], ['유명하다', '유튜버들', '다', '들다', '뒷', '광고', '하고', '있다'], ['희한하다', '결승선', '을', '통과', '순간', '힘드다', '게', '싹', '사라지다', '더', '라고'], ['그렇다', '따다', '소리', '안', '나오다', '미리', '얘기'], ['요즘', '다', '들다', '왜', '그렇다', '이해', '안', '가다'], ['응', '몸', '괜찮다', '너무', '무섭다'], ['지금', '상황', '너무', '무섭다', '나가다', '못', '하고'], ['혼자', '밖에', '없다', '너무', '무섭다'], ['아', '모르다', '진짜', '너무', '짜증', '나'], ['그러니까', '직접', '먹다', '나', '기분', '어떻다'], ['고맙다', '앞', '더', '열심히', '해보다'], ['응', '진짜', '완전', '뿌듯하다'], ['네', '여행', '가다', '싶다', '요즘', '코로나', '라서', '쉬다', '않다'], ['그거', '벌써', '잡다', '오늘', '저녁', '안', '그래도', '만나다'], ['년', '만에', '받다', '휴가', '인데', '비', '오다', '아무', '데', '못', '갈다', '것', '같다', '속상하다'], ['완전하다', '끝나다', '너무', '홀가분하다'], ['친구', '이랑', '만나다', '여행', '계획', '세우다', '보다', '겠다'], ['그래서', '청소', '열심히', '곰팡이', '안', '없어지다'], ['자고', '일어나다', '주변', '다', '물', '잠기다', '있다'], ['거', '환불', '해주다'], ['번', '그렇다', '보다', '그렇다'], ['자고', '일어나다', '홍수', '때문', '물이', '불다', '집', '고립', '되어다'], ['일이', '너무', '많다', '바쁘다', '일', '년', '만에', '받다', '휴가', '인데', '비', '오다', '망하다'], ['알다', '그렇다', '그렇게', '번', '해보다'], ['어', '지금', '당장', '추천', '주다'], ['나', '짜장면', '에서', '벌레', '나오다'], ['명', '인데', '내', '돼다'], ['만나다', '싶다', '코로나', '때문', '못', '만나다'], ['유튜버들', '가짜', '많다', '허위', '광고', '많다', '짜증', '나', '도대체', '뭘', '믿다', '건지다'], ['난', '영화', '좋아하다', '영화', '다운', '받다', '보다', '지내다'], ['처음', '엔', '너무', '어이', '없다', '헛웃음', '나오다'], ['맞다', '우리', '집', '화장실', '환풍기', '없다'], ['지금', '니', '말', '을', '듣다', '나', '니까', '구매', '생각', '생기다'], ['달리다', '동안', '에는', '엄청', '힘들다', '결승선', '을', '통과', '순간', '기분', '엄청', '좋아지다'], ['시간', '날', '때', '노트북', '매뉴얼', '보고', '익히다', '보다'], ['오랜', '만', '가족', '이랑', '동해', '바다', '가다', '놀다', '오기', '로', '근데', '비', '오다', '망하다'], ['아', '그렇다', '일단', '그렇다'], ['엥', '음', '국내', '나쁘다', '않다'], ['그렇다', '앞', '이렇다', '일이', '없다', '위해', '서'], ['있다', '두다', '명', '정도'], ['선수', '처럼', '자다', '뛰다', '않다', '일반인', '중', '에서', '자다', '나오다'], ['내', '예전', '부터', '갖다', '싶다', '향수', '선물', '이라서', '너무', '마음', '들다'], ['아', '짜증나다', '그', '새끼', '나', '한테', '만', '왜', '지랄', '이다'], ['이제', '자랑', '가야', '지', '아우', '기대', '되다'], ['헐다', '나', '이벤트', '당첨', '되어다'], ['아', '짜증나다', '그', '새끼', '일', '없다', '집', '에나', '갈다', '것', '이지', '왜', '나', '한테', '그렇다'], ['나', '지금', '기분', '너무', '안좋다', '어떻다', '영상', '나르다', '위로', '해주다'], ['쓰레기통', '에서', '역겹다', '냄새', '나다', '있다', '어떻다', '좋다', '정말', '큰일', '이야'], ['당연하다', '선물', '맘', '들다', '비싸다', '향', '순', '데'], ['다치다', '곳', '없다'], ['정말', '그렇다', '보험', '있다', '그렇다', '당장', '가입'], ['당첨', '명', '뽑다', '건데', '내', '되다', '거야', '정말', '행운', '이지'], ['방향', '제로', '고약하다', '냄새', '없애다', '겠다'], ['새', '노트북', '니깐', '꼼꼼하다', '살펴보다'], ['아니다', '근데', '왜', '나', '한테', '만', '그렇다', '다른', '애', '한텐', '다', '자다'], ['같이', '뛰다', '크루', '랑', '같이', '뛰다', '열심히', '준비'], ['너', '말', '대로', '제품', '문제', '없다', '꼼꼼하다', '살피다', '볼', '게'], ['너', '말', '대로', '노트북', '문제', '없다', '꼼꼼하다', '살펴보다'], ['친구', '짜장면', '을', '먹다', '벌레', '나오다', '버리다'], ['응', '마라톤', '내', '기록', '갱신'], ['거의', '그렇다', '뭐', '젠', '그냥', '결과', '만', '기다리다', '돼다', '결과', '좋다', '좋다'], ['이제', '완전하다', '끝나다', '너무', '기분', '좋다', '나', '이제', '쉬', '고', '싶다'], ['쓰레기통', '음식물', '쓰레기', '있다', '보다'], ['정말', '먹다', '토', '줄', '알다'], ['좋다', '생각', '이네'], ['아직', '괜찮다'], ['몸', '괜찮다', '걱정', '돼다', '저', '물이', '언제', '빠지다'], ['나', '축하', '해주다'], ['으아', '쓰레기통', '에서', '역겹다', '냄새', '나다'], ['신나다', '음악', '을', '듣다', '것', '좋다', '거', '같다'], ['무섭다', '진짜', '나', '너무', '무섭다'], ['여행', '좋다', '여행', '어디', '로', '갈다'], ['응', '알다'], ['고맙다', '너', '밖에', '없다'], ['친구', '만나다', '너무', '너무', '보고', '싶다', '얼마', '만', '인지'], ['진짜', '기분', '안좋다'], ['곰팡이', '제거', '곰팡이', '제', '거제', '효과', '있다'], ['아', '쓰레기통', '에서', '역겹다', '냄새', '나다'], ['응', '완전', '신나다'], ['그렇다', '지금', '못', '가다', '나중', '꼭', '여행', '갈다'], ['아', '그건', '그렇다', '근데', '내', '뭘', '못', '나', '한테', '만', '그렇다', '모르다'], ['친구', '만나다', '너무', '오랫동안', '못', '만나다'], ['나', '아무래도', '갇히다', '것', '같다'], ['야', '축하', '해주다', '나', '기분', '좋다', '일이', '있다'], ['나', '이벤트', '당첨', '돼다'], ['내', '사진', '찍다', '한번', '볼', '래'], ['어', '그거', '차다', '좋다', '생각', '인', '것', '같다'], ['무섭다', '않다', '갑자기', '정전', '돼다', '조금', '당황', '스럽다'], ['자고', '일어나다', '우리', '집', '주변', '다', '물', '잠기다'], ['벌레', '나오다', '사진', '을', '찍다', '증거', '확실하다', '조치', '취', '해주다'], ['방향', '제로', '처리', '냄새', '덜', '날', '것', '같다'], ['화장실', '청소', '해도', '곰팡이', '없어지다', '않다', '어떻다', '돼다'], ['바로', '버리다', '가다'], ['아니다', '전혀', '모르다'], ['하', '짜증나다', '그', '새끼', '일', '없다', '집', '에나', '갈다', '것', '이지', '결혼', '못', '히스테리', '나', '한테', '부리다', '거야', '뭐', '야', '진짜', '짜증나다'], ['그', '새끼', '일', '없다', '집', '에나', '갈다', '것', '이지', '아', '진짜', '짜증나다'], ['전화', '여러', '통', '오다', '있다', '그렇다', '피곤하다', '잠', '깊다', '들다', '보다'], ['휴가', '기간', '내내', '비', '소식', '있다', '아무', '데도', '못', '갈다', '거', '같다', '너', '말', '대로', '집', '에서', '즐겁다', '휴가', '보내다', '수', '있다', '방법', '을', '찾아보다'], ['당연하다', '동해', '바다', '갈리다', '그렇다'], ['집', '주변', '까지', '물이', '차오르다', '밖', '나가다', '수가', '없다'], ['프로', '젝', '틀다', '진행', '달', '동안', '친구', '을', '못', '만나다', '이번', '기회', '만나다', '보다'], ['노트북', '을', '오래', '사용', '수', '있다', '보험', '가입', '생각', '볼', '게'], ['자고', '일어나다', '재난', '문자', '오다', '있다', '자다', '못', '받다', '것', '같다', '애'], ['그렇다', '좋다', '걸', '로', '하나', '사주다'], ['유명하다', '유튜버들', '왜', '돈', '받다', '뒷', '광고', '모르다'], ['곰팡이', '제', '거제', '사서', '쓰다', '괜찮다', '지다'], ['함께', '달리다', '크루', '있다', '내', '지치다', '힘들다', '때', '많다', '도움', '을', '받다'], ['어', '그거', '너무', '좋다', '생각', '인걸'], ['고약하다', '냄새', '방향', '제로', '처리', '게', '가장', '좋다', '방법', '인', '것', '같다'], ['갑자기', '홍수', '나서다', '집', '주위', '물이', '차오르다', '바깥', '나가다', '수가', '없다'], ['내', '진짜', '사다', '향수', '있다', '그게', '당첨', '되다', '거야'], ['나', '혼자', '집', '안', '갇히다', '되어다'], ['저', '상사', '새끼', '잊어버리다', '많다', '노래', '부탁'], ['쓰레기통', '에서', '이상하다', '냄새', '나다'], ['축하', '해주다', '기분', '좋다', '일이', '있다'], ['자고', '일어나다', '전화', '여러', '번', '오다', '더', '라고'], ['네', '다음', '꼭', '보이다', '드리다'], ['나', '혼자', '있다', '갑자기', '정전', '돼다'], ['그동안', '쉬다', '못', '하고', '년', '만에', '휴가', '내다'], ['아직', '까지는', '괜찮다', '더', '비다', '안', '오다'], ['아니다', '상사', '다', '워', '야', '상사', '지', '걔', '욕먹다', '싸다'], ['그러니까', '아니다', '거', '아', '거', '가게', '얘기'], ['아직', '까지는', '집', '안', '물이', '들어오다', '않다', '하지만', '조만간', '물이', '들어오다', '너무', '걱정', '돼다'], ['수', '없다', '뭐', '그냥'], ['집', '홍수', '때문', '집', '고립', '되다', '것', '같다'], ['상사', '상사', '다', '워', '야', '지다', '지금', '상사', '짓다', '상사', '짓', '아니다'], ['아니다', '사오', '라니까'], ['나', '혼자', '집', '안', '갇히다', '돼다', '어떻다', '해'], ['이번', '마라톤', '대회', '출전', '내', '기록', '상당하다', '좋아지다', '더', '라고'], ['아니다', '그냥', '짜증나다'], ['얘기', '아니다', '다른', '사람', '한테', '늘다', '자다', '나', '한테', '늘다'], ['몸', '괜찮다', '마음', '안', '좋다'], ['알다', '긍정', '적', '인', '말', '해보다', '근데', '너무', '짜증', '나', '걸', '어떻다', '하라', '구'], ['아니다', '요즘', '다', '들다', '왜', '그렇다', '이해', '수가', '없다'], ['너무', '무섭다', '어떻다', '되다', '모르다'], ['인', '플루', '언', '서', '이벤트', '진행', '내', '당첨', '돼다'], ['동호회', '사람', '이랑', '같이'], ['아', '완전', '맘', '들다'], ['냄새', '너무', '심하다', '지금', '밖', '에다', '내다'], ['나', '엘레베이터', '갇히다', '정전', '나다', '보다'], ['그렇다', '그렇다', '않다', '다른', '말', '을', '수가', '있다', '사진', '을', '찍다'], ['어제', '까지', '발표', '다', '이제', '오늘', '완전하다', '끝나다'], ['맞다', '동안', '쉬다', '수', '있다', '것', '같다', '애'], ['니', '그', '새끼', '한테', '안', '당', '해보다', '그렇다', '그', '미치다', '놓다'], ['나', '혼자', '집', '안', '갇히다', '되다', '당연하다', '무섭다'], ['그것', '좋다', '생각', '인', '것', '같다', '친구', '이나', '만나다'], ['아니다', '전혀', '아니다'], ['노트북', '일이', '너무', '많다', '영화', '보고', '게임', '다운', '받다', '고', '그리고', '프로젝트', '돼다'], ['오다', '짜장면', '에서', '벌레', '나오다'], ['그렇다', '보다', '여행', '가다', '싶다'], ['나', '이제', '집', '에서', '학교', '갈리다', '엘리베이터', '타다', '갑자기', '멈추다', '문', '안', '열리다'], ['나', '지금', '엘리베이터', '갇히다'], ['힘들다', '방이', '지저분하다', '얼른', '치우다'], ['내', '버리다', '음식물', '쓰레기', '상해', '서', '냄새', '나다', '있다'], ['아니다', '그', '놈', '욕먹다', '싶다', '내', '옆', '붙다', '거야', '나', '만', '얼마나', '당하다', '모르다'], ['오늘', '최종', '발표', '모든', '게', '완전', '끝나다'], ['지난번', '버리다', '음식물', '쓰레기', '썩다', '있다'], ['안', '그래도', '사진', '찍다', '두다', '이제', '가게', '전화하다'], ['무섭다', '나', '혼자', '서', '집', '안', '갇히다'], ['오다', '짜장면', '에서', '벌레', '나오다'], ['그렇다', '너', '말', '대로', '음악', '이나', '들다', '기분', '풀다', '나', '발라드', '좋다'], ['너무', '너무', '행복하다'], ['그렇다', '않다', '우리', '신랑', '사진', '찍다', '놨어'], ['아', '내', '휴가', '엉망', '이야'], ['내', '마라톤', '대회', '나가다', '그런데', '내', '기록', '놀라다', '향상', '되어다'], ['뛰다', '동안', '에는', '너무', '지치다', '힘들다', '결승선', '을', '통과', '순간', '너무', '기분', '좋다'], ['다른', '직원', '한테', '늘다', '친절하다', '나', '한테', '만', '맨날', '짜증', '을', '내다', '화', '내', '니까', '너무', '화가', '나서다', '그렇다'], ['그동안', '내', '너무', '갖다', '싶다', '향수', '야', '비싸다', '못', '사다', '이렇게', '운', '좋다'], ['친구', '한테', '자랑', '너무', '부러워하다', '샘', '나', '거', '같다', '애'], ['빨리', '빨리', '버리다', '게', '좋다'], ['어떻다', '불만', '을', '없애다', '수', '있다'], ['년', '만에', '휴가', '야'], ['어', '그렇게', '해보다', '일이', '랑', '관련', '없다', '얘기', '해', '본적', '없다'], ['오늘', '최종', '발표', '이제', '완전하다', '끝나다', '거야', '마음', '너무나', '홀가분하다'], ['어우', '냄새', '냄새'], ['환기', '있다', '그런데', '너무', '너무', '창문', '작다'], ['우리', '집', '빼다', '사방', '다', '물바다', '야'], ['자고', '일어나다', '우리', '집', '주변', '홍수', '나가다', '지금', '밖', '나가다', '수가', '없다'], ['고맙다', '너', '밖에', '없다'], ['나', '이번', '마라톤', '경기', '완주'], ['몸', '괜', 'ㅊ', '낳다', '밖에', '물이', '고여', '있다', '걱정', '이야'], ['그렇다', '뭐', '그렇다', '거니', '정말', '걔', '카톡', '짜증나다', '야'], ['당첨', '명', '뽑다', '건데', '내', '당첨', '돼다', '정말', '운', '좋다', '거', '같다'], ['그렇다', '지금', '다른', '방법', '없다'], ['아직', '까지는', '집', '안', '물이', '들어오다', '않다', '몸', '괜찮다'], ['하지만', '날', '괴롭히다', '상사', '용서', '수', '없다'], ['자고', '일어나다', '온', '동네', '다', '물바다', '야', '나', '혼자', '서', '집안', '갇히다'], ['응', '안', '그렇다', '지금'], ['아', '진짜', '내', '왜', '그렇다'], ['내', '믿다', '유튜버', '인데', '뒷', '광고', '너무', '배신', '감', '느껴지다'], ['가끔', '바깥', '나가다', '작업', '일도', '생기', '니까', '아무래도', '컴퓨터', '보험', '을', '들다', '볼', '생각', '을', '해보다'], ['어', '선수', '급', '아니다', '그래도', '좋다', '기록', '이에요'], ['한동안', '만나다', '못', '친구', '만나다', '것', '생각', '보다'], ['그렇다', '요즘', '친구', '을', '못', '만나다', '약속', '을', '잡다', '보다', '고맙다'], ['그렇다', '우리', '집', '빼다', '다', '물', '로', '싸이다', '있다', '나가다', '수가', '없다'], ['요즘', '미세먼지', '때문', '환기', '자다', '못', '하고', '그래서', '곰팡이', '계속', '생기다', '것', '같다', '해'], ['회사', '바쁘다', '거의', '년', '만에', '휴가', '받다', '것', '같다'], ['그렇다', '어떻다', '벌레', '나오다', '수', '있다'], ['내', '기분', '을', '전환', '해주다', '수', '있다', '영상', '어떻다', '건데'], ['부터', '비', '오다', '있다'], ['그래서', '사진', '찍다', '말씀드리다'], ['엘리베이터', '문', '안', '열리다', '너무', '무섭다'], ['속이다', '다', '시원하다', '이제', '완전하다', '끝나다', '쉬다', '수가', '있다', '이제'], ['아니다', '그', '사장', '님', '왜', '꼰대', '처럼', '그렇다', '끄다'], ['내', '지금', '너무', '화가', '나다', '열', '나', '상탠데', '내', '기분', '을', '낮추다', '영상', '하나', '있다'], ['청소', '힘들다', '지금', '얼른', '청소', '돼다', '이러다가', '날', '파리', '까지', '생기다', '것', '같다'], ['그거', '근본', '적', '인', '해결', '책', '아니다'], ['화장실', '청소', '해도', '곰팡이', '안', '없어지다'], ['동호회', '사람', '이랑', '같이'], ['아니다', '그', '새끼', '먼저', '나', '한테', '짜증', '내다'], ['친구', '만나다', '약속', '잡다', '놨', '지', '진짜', '오랜', '만', '보다', '거야'], ['알다', '지금', '발', '항의', '전화', '해보다', '사진', '보여주다'], ['모르다', '이미', '속', '았', '달다', '생각', '들다', '별로', '사과', '그냥', '건성건성', '거', '같다', '애'], ['아니다', '뭐', '그렇다', '맛', '거지', '음', '고맙다'], ['아무래도', '밖에', '비', '많이', '오다', '못', '나가다', '것', '같다', '애'], ['여행', '좋다', '그렇지만', '혼자', '가다', '건', '재미', '없다'], ['내', '달리다', '운동', '을', '너무', '좋아하다', '항상', '마라톤', '대회', '출전', '하고', '있다'], ['화장실', '청소', '해도', '곰팡이', '없어지다', '않다'], ['니', '말', '을', '듣다', '보다', '그렇다', '것', '같다', '정말', '인가', '보다'], ['완전하다', '마무리', '돼다'], ['당연하다', '끝나다', '달', '간', '정말', '힘들다'], ['너무', '징그럽다', '못', '찍다'], ['사진', '을', '정확하다', '찍다', '증거', '확실하다', '않다'], ['동해', '바다로', '놀다', '가기', '로'], ['몸', '괜찮다'], ['집', '에서', '냄새', '나다', '날', '파리', '꼬이다', '얼른', '청소'], ['함께', '달리다', '크루', '있다', '서로', '크다', '힘', '되어다', '있다'], ['화장실', '아무리', '청소', '해도', '곰팡이', '안', '없어지다'], ['근데', '또', '창문', '작다', '문', '열', '어도', '소용', '없다'], ['갇히다', '것', '같다', '어떡하다', '좋다'], ['그렇다', '그', '동안', '쉬다', '못', '하고', '너무', '힘들다', '휴식', '을', '취'], ['내', '좋아하다', '유튜버', '추천', '나다', '제품', '하나', '사다', '그랬더니', '그게', '돈', '받다', '광고', '이다'], ['아이패드', '딱', '명', '주다', '거야'], ['사기', '에는', '비싸다', '선물', '받다', '싶다', '건데', '돼다'], ['자다', '동안', '그렇게', '많다', '비', '오다', '모르다', '난', '대피', '문자', '못', '받다', '피하', '지도', '못'], ['화장실', '청소', '해도', '곰팡이', '사라지다', '않다'], ['곰팡이', '제', '거제', '화장실', '곰팡이', '없애다', '많다', '효과', '있다'], ['같이', '뛰다', '크루', '있다', '내', '지치다', '힘들다', '때', '크다', '힘', '돼다'], ['노트북', '을', '오래', '사용', '수', '있다', '보험', '가입', '해보다'], ['내', '마라톤', '기록', '을', '경신'], ['아니다', '내', '좋아하다', '유튜버', '좋다', '제품', '이라고', '나다', '사다', '그런데', '알', '고', '보다', '돈', '받다', '광고', '이다', '거야'], ['화', '내지', '마', '버리다', '갈다', '거야'], ['근데', '몸', '괜찮다', '것', '같다'], ['정말', '기분', '좋다', '내', '힘드다', '없어지다', '기분', '랄', '끄다'], ['아니다', '요즘', '다', '들다', '왜', '그렇다', '거지', '난', '도대체', '이해', '수가', '없다'], ['달리다', '동안', '에는', '엄청', '힘들다', '지치다', '결승선', '을', '통과', '순간', '너무', '기분', '좋다'], ['회사', '바쁘다', '년', '만에', '내다', '휴가', '이다', '어떡하다', '거야'], ['그냥', '음악', '이나', '들다', '기분', '풀다', '보다', '나', '신나다', '음악', '좋다'], ['만원', '짜다', '노트북', '을', '사다', '배송', '늦어지다', '기다리다', '있다', '근데', '오늘', '도착', '너무', '좋다'], ['모르다', '갑자기', '안', '움직이다'], ['창문', '을', '열다', '환기', '시키다', '계속', '곰팡이', '냄새', '나서다', '너무', '머리', '아프다'], ['그렇다', '친구', '만나다', '술', '말다', '놀리다'], ['고맙다', '신나다', '음악', '들다', '주다'], ['내', '말', '아니다', '자취', '방', '창문', '너무', '작다', '환기', '제대로', '수가', '없다'], ['좋다', '생각', '이야', '나', '꼭', '그렇게'], ['그렇다', '내', '최고', '로', '좋아하다', '건데'], ['맞다', '같이', '의지', '뛰다', '사람', '있다'], ['벌레', '나오다', '짜장면', '을', '사진', '찍다', '증거', '확실하다', '거', '잖다', '적당하다', '조치', '취', '해주다'], ['아니다', '선수', '까진', '아니다'], ['달리다', '동안', '에는', '엄청', '힘들다', '지치다', '결승선', '을', '들어서다', '순간', '기분', '엄청', '좋다', '날아가다', '거', '같다'], ['어', '지금', '나', '혼자', '있다'], ['정말', '요즘', '왜', '그렇다', '거야', '이해', '수가', '없다'], ['화장실', '청소', '해도', '곰팡이', '없어지다', '않다'], ['선수', '아니다', '달리다', '운동', '을', '너무', '좋아하다', '매번', '열리다', '있다', '마라톤', '대회', '나가다', '있다'], ['마라톤', '등'], ['기록', '갱신', '힘드다', '모르다', '열심히', '뛰다'], ['그러니까', '말', '이야', '그게', '말', '이나', '되다'], ['나', '자다', '가다'], ['바다', '가다', '수영', '거', '이다', '다', '망치다'], ['이번', '구매', '노트북', '오늘', '오다'], ['확인', '해보다'], ['그렇다', '근데', '갑자기', '왜', '안쓰럽다'], ['가보다', '알다', '일단', '꽁', '짜다', '여행', '이니까', '선물', '마음', '들다'], ['당연하다', '사진', '다', '찍다', '놨어'], ['괜찮다', '덕분', '힘', '나다'], ['응', '그동안', '수고', '다', '보상', '받다', '느끼다'], ['오다', '짜장면', '에서', '벌레', '나오다'], ['저번', '마라톤', '나가다', '나', '거기', '서', '기록', '단축'], ['응', '알다'], ['응', '방금', '학회', '제출', '별다르다', '이상만', '없다', '끝나다', '것', '같다'], ['어', '그렇다', '완전', '끝나다', '정말', '좋다'], ['달', '동안', '프로젝트', '진행', '친구', '을', '못', '만나다', '친구', '만나다', '것', '좋다', '방법', '같다'], ['휴가', '기간', '내내', '비', '소식', '있다', '집', '에서', '휴가', '보내다', '수', '있다', '방법', '을', '생각', '해보다', '것', '같다'], ['집', '에서', '즐기다', '수', '있다', '영화', '나', '게임', '그렇다', '것', '소개', '해주다'], ['아', '짜증', '나', '그', '새끼', '일', '다', '집', '에나', '갈다', '것', '이지', '왜', '나', '한테', '만', '짜증', '이야', '왜', '결혼', '못', '히스테리', '나', '한테', '부리', '지'], ['맞다', '우리', '집', '화장실', '환기', '되다', '만', '곳', '없다'], ['아주', '유명하다', '인', '플루', '언', '서', '이벤트', '있다'], ['너', '말', '대로', '시간', '되다', '여행', '계획', '세우다', '오다'], ['나중', '소개', '시키다'], ['그렇다', '수', '있다', '너무', '짜증나다'], ['오다', '씨바', '쓰레기통', '에서', '역겹다', '냄새', '나다', '있다', '어후'], ['오늘', '부터', '일주일', '동안', '휴가', '기간', '인데', '휴가', '기간', '내내', '비', '온대'], ['그렇다', '건', '아니다', '혼자', '서', '열심히', '노력'], ['어', '우리', '집', '화장실', '창문', '없다', '그래도', '환풍기', '계속', '돌리다', '그렇다'], ['맞다', '정말', '기분', '좋다'], ['어', '근데', '기록', '이렇게', '좋아지다', '모르다'], ['오다', '씨바', '짜장면', '에서', '벌레', '나오다'], ['당연하다', '약속', '오늘', '친구', '술', '잔', '스트레스', '풀다', '되다', '것', '같다'], ['장마철', '이라서', '곰팡이', '많이', '생기', '고', '있다', '볼', '때', '마다', '신경', '쓰이다'], ['그렇다', '그게', '마라톤', '매력', '이라고', '생각'], ['맞다', '문제', '환기', '구가', '없다', '거야'], ['무슨', '얘기', '불안감', '가시', '지'], ['아', '생각', '짜증나다', '진짜', '이상하다', '사람', '이야'], ['좋다', '방향', '제', '있다'], ['친구', '바쁘다', '되다', '모르다', '그래도', '연락', '해보다'], ['씨발', '그래도', '기분', '나쁘다', '걸', '어떡하다'], ['친구', '한번', '연락', '보다'], ['곰팡이', '제', '거제', '그렇다', '것', '있다'], ['완전', '마음', '들다', '나', '거', '완전', '가지', '고', '싶다'], ['쓰레기', '버리다', '때', '음식물', '섞이다', '들어가다', '보다'], ['기분', '좋다', '신나다', '음악', '듣다', '것', '정말', '좋다'], ['그리다', '고맙다'], ['그렇다', '그', '래야', '되다'], ['그', '거', '두', '명', '뽑다', '거', '이다'], ['딱', '명', '뽑다', '그게', '내', '되어다'], ['내', '좋아하다', '인', '플루', '언', '서', '이벤트', '그래서', '그냥', '번', '해봤다', '내', '되다', '거야'], ['맞다', '빨리', '여기', '서', '나가다', '싶다'], ['그것', '재미있다', '그렇게'], ['오랫동안', '고생', '이제', '잠도', '자다', '자고', '맛있다', '밥', '먹다', '조금', '휴식', '을', '가다'], ['약간', '뛰다', '동안', '에는', '내', '살다', '느끼다', '되다', '거', '같다', '애'], ['냄새', '어떡하다'], ['영화', '보다', '재미', '하나', '없다'], ['사과', '영상', '을', '보다', '진실성', '아무', '것', '없다', '자기', '변명', '만', '있다', '그래서', '더', '화가', '나'], ['그', '런가', '보다', '그렇게', '말', '해주다', '고맙다'], ['냄새', '너무', '독하다', '내', '버리다', '밖', '에다', '빼다'], ['말', '그대로', '갇히다', '엘리베이터', '안', '움직이다'], ['오늘', '부터', '일주일', '동안', '휴가', '기간', '인데', '휴가', '기간', '내내', '비', '소식', '있다'], ['몸', '괜찮다', '집', '안', '에까지', '물이', '들어오다', '너무', '무섭다'], ['맞다', '그렇다', '것', '같다', '결국', '엔', '환기', '문제', '이다'], ['그', '사람', '더', '욕먹다', '돼다'], ['일', '싫다', '진짜'], ['벌레', '나오다', '짜장면', '을', '사진', '증거', '말', '적당하다', '조치', '취', '해주다'], ['난', '음악', '안', '좋아하다', '너', '나', '들다'], ['그렇다', '당장', '내일', '부터', '친구', '만나다'], ['향수', '이벤트', '인데', '그거', '명', '만', '되다', '근데', '내', '당첨', '된거', '야', '너무', '좋다'], ['자고', '일어나다', '우리', '집', '빼다', '다', '물', '잠기다'], ['당연하다', '마음', '들다', '아주', '비싸다', '향수', '야'], ['알다', '향수', '도착', '바로', '보내다', '보여주다'], ['내', '음식물', '쓰레기', '쓰레기통', '버리다', '냄새', '나', '거야'], ['그러면', '어떻다', '게', '좋다'], ['야호', '나', '이제', '프로젝트', '끝나다'], ['어', '집', '갇히다', '것', '같다', '애'], ['무섭다', '죽', '을', '거', '같다', '어떻다'], ['구매', '되다', '좋다', '거', '있다', '추천', '해주다', '필요하다'], ['우리', '동네', '주변', '사람', '아무', '없다', '다', '들다', '대피', '것', '같다'], ['괜찮다', '뭐', '한두', '번', '아니다', '그냥', '먹다', '뭐'], ['너', '한테', '터지다', '거', '같다', '어', '니', '존나', '답답하다', '씨발', '년', '아'], ['정말', '별로', '이다'], ['좋다', '알', '고', '있다'], ['쓰레기', '냄새', '랑', '섞이다', '이상하다', '않다'], ['아', '짜증나다', '왜', '상사', '놈', '집', '에도', '안', '가다', '내', '옆', '붙다', '참견', '하고', '난리', '야'], ['다른', '직원', '한테', '늘다', '친절하다', '나', '한테', '만', '짜증', '내다', '화', '내', '니까', '너무', '성질', '나서다', '그렇다'], ['유명하다', '유튜버들', '죄다', '뒷', '광고', '하고', '있다'], ['아', '짜증', '나', '그', '새끼', '왜', '맨날', '나', '한테', '만', '그렇다'], ['곰팡이', '제', '거제', '효과', '있다'], ['니', '안', '당', '해보다', '그렇다', '그렇다', '놈', '욕', '을', '바가지', '해주다', '되다'], ['아무래도', '집', '안', '갇히다', '나가다', '수가', '없다', '것', '같다'], ['전화하다', '뭐라다'], ['그냥', '평소', '좋아하다', '자다', '나오다'], ['비싸다', '주다', '사다', '내', '무리'], ['써다', '보기', '그런데', '그때', '뿐', '이야', '잠깐', '지나다', '나다', '또', '다시', '생겨나다'], ['노트북', '을', '가지', '고', '만화', '작업', '을', '자다', '되다', '거', '같다'], ['맞다', '우리', '집', '화장실', '환기', '되다', '곳', '없다'], ['정말', '많다', '영화', '랑', '음악', '다운', '받다', '거고', '프로젝트', '돼다'], ['마라톤', '기록', '갱신', '을', '이번'], ['아우', '그', '상사', '새끼', '왜', '집', '안', '가다', '내', '옆', '붙다', '욕', '하고', '난리', '야'], ['방향', '제', '잘못', '써다', '냄새', '더', '나다', '어떡하다'], ['너무', '더럽다', '지저분하다', '못', '먹다', '버리다', '것', '같다'], ['사과', '영상', '을', '보다', '사과', '진실되다', '보다는', '자기', '변명', '을', '있다', '더', '화가', '나다'], ['그렇다', '말', '들다', '욕', '을', '안', '생각', '들다'], ['노트북', '을', '밖에', '가지', '고', '나가다', '일이', '생기다', '수도', '있다', '노트북', '보험', '대해', '서', '생각', '해보다'], ['맞다', '미세먼지', '때문', '환기', '못', '시키다', '곰팡이', '때문', '지금', '너무', '스트레스', '받다'], ['뭐', '그렇다', '그', '새끼', '나쁘다'], ['어', '그거', '좋다', '생각', '인데'], ['너', '말', '대로', '오랜', '만', '여행', '을', '다녀오다', '것', '괜찮다', '거', '같다'], ['우리', '집', '빼다', '다', '물', '잠기다', '있다', '나가다', '방도', '없다'], ['내', '좋아하다', '인', '플루', '언', '서', '진행', '이벤트', '당첨', '되어다'], ['어후', '만날', '친구', '많다'], ['선수', '아니다', '내', '운동', '을', '좋아하다', '열심히'], ['괜찮다', '써다', '보다'], ['마라톤', '신기록', '갱신'], ['휴가', '첫날', '부터', '비', '오다', '있다', '하루', '종일'], ['친구', '약속', '벌써', '잡다'], ['요즘', '다', '들다', '왜', '이르다', '정말', '이해', '안', '가다'], ['다행하다', '몸', '괜찮다', '다치다', '데도', '없다'], ['장마철', '이라서', '습기', '많아지다', '곰팡이', '계속', '생기다', '그래서', '신경', '쓰이다'], ['아', '그거', '번', '써다', '보다'], ['그', '래야', '것', '같다', '아무래도', '안', '없어지다'], ['어', '마라톤', '에서', '기록', '을', '갱신'], ['아무리', '청소', '해도', '곰팡이', '지워지다', '않다'], ['맞다', '그래서', '내', '달리기', '좋아하다'], ['혼자', '있다', '너', '랑', '이라도', '대화', '수', '있다', '다행', '이야'], ['이미', '터지다'], ['맞다', '기분', '너무', '좋다', '힘들다', '기도', '너무', '뿌듯하다'], ['그건', '자다', '모르다'], ['아', '짜증나다', '그', '새끼', '일', '없다', '집', '에나', '갈다', '것', '이지', '결혼', '못', '뭐', '히스테리', '나', '한테', '부리다', '건가', '왜', '항상', '나', '한테', '만', '그렇다'], ['구매', '하고', '싶다'], ['청소', '이렇게', '열심히', '분명', '환기', '문', '제', '일', '거', '야'], ['좋다', '방법', '인', '것', '같다', '애', '그렇게', '해보다'], ['그렇다', '놈', '욕', '먹다', '싶다', '그렇다', '것', '같다', '애', '꼭', '나', '한테', '만', '그렇다'], ['나', '마라톤', '대회', '에서', '우승하다', '완전', '신나다'], ['함께', '달리다', '크루', '있다', '내', '지치다', '힘들다', '때', '마다', '크다', '힘', '되어다', '주다'], ['쌍수', '아니다', '그냥'], ['마라톤', '대회', '에서', '기존', '기록', '을', '갱신'], ['아직', '까지', '집', '안', '물이', '들어오다', '않다', '그런데', '물이', '들어오다', '걱정', '이야'], ['음식물', '쓰레기', '냄새', '같다'], ['아', '휴', '환불', '해주다'], ['나', '축하', '주다', '정말', '기분', '좋다', '일이', '있다'], ['좋다', '생각', '이야', '그렇다', '신나다', '음악', '추천', '해주다'], ['아니다', '아직', '안', '향수', '오다'], ['그렇다', '얼른', '버리다', '냄새', '심하다'], ['진짜', '로', '기분', '너무', '좋다'], ['나', '아무래도', '집', '혼자', '갇히다', '것', '같다'], ['휴', '힘들다', '어떡하다', '내', '음식물', '쓰레기', '쓰레기통', '버리다', '생기다', '일이', '니까', '내', '처리'], ['나', '드디어', '프로젝트', '끝나다'], ['자다', '동안', '비', '그렇게', '많이', '오다', '모르다', '난', '대피', '문자', '못', '보다'], ['힘들다', '내', '벌린', '일이', '니까', '얼른', '청소', '방', '이러다가', '벌레', '꼬이다', '것', '같다'], ['아', '그렇다', '돈', '아깝다', '서다'], ['화', '안', '내다'], ['아', '짜증', '나', '그', '새끼', '일', '없다', '집', '에나', '갈다', '것', '이지', '결혼', '늦다', '못', '히스테리', '부리다', '건가', '왜', '나', '한테', '만', '그렇다'], ['하', '짜증나다', '그', '새끼', '일', '없다', '집', '에나', '갈다', '일이', '지', '왜', '항상', '나', '한테', '만', '그렇다'], ['사진', '찍다', '거', '올리다', '뭐', '보상', '을', '받다'], ['그', '새끼', '일', '없다', '집', '에나', '갈다', '것', '이지', '왜', '나', '한테', '만', '그렇다'], ['아니다', '화장실', '청소', '해도', '곰팡이', '없어지다', '않다'], ['아니다', '같이', '뛰다', '크루', '없다', '나', '혼자', '서', '연습', '하고', '있다'], ['노래', '추천', '줄', '래'], ['너무', '좋다', '나르다', '갈다', '것', '같다', '뛰다', '때', '너무', '힘들다'], ['오늘', '부터', '일주일', '동안', '휴가', '기간', '인데', '계속', '비', '온대'], ['좋다', '생각', '이야', '아직', '방향', '제', '없다', '얼른', '주문'], ['그렇다', '것', '같다', '그런데', '창문', '없다'], ['엄마', '락', '락', '좋아하다'], ['너무', '무섭다'], ['뭐', '어떻다', '들리다', '것', '아니다', '걸'], ['내', '좋아하다', '인', '플루', '언', '서', '진행', '이벤트', '있다', '거기', '당첨', '되어다'], ['나', '축하', '해주다', '나', '기분', '좋다', '일이', '있다'], ['집밖', '못', '나가다', '무섭다'], ['아', '나', '진짜', '휴가', '엉망', '이야'], ['그렇다', '도무지', '곰팡이', '없어지다', '않다'], ['짜장면', '에서', '벌레', '나오다'], ['아우', '그', '새끼', '왜', '내', '옆', '붙다', '짜증나다', '지랄', '이냐', '구', '집', '에나', '갈다', '것', '이지'], ['맞다', '계속', '청소', '해도', '계속', '곰팡이', '생기', '니까', '너무', '힘드다', '것', '같다'], ['그렇다'], ['진짜', '회사', '확', '관', '두다', '싶다', '너무', '짜증나다'], ['좋다', '것', '같다', '고맙다'], ['괜찮다', '내', '잘못', '인데', '뭐'], ['그러니까', '먹다', '기분', '확', '상'], ['갖다', '싶다', '당첨', '돼다', '너무', '좋다'], ['어', '같이', '맨날', '달리기', '친구', '있다'], ['아', '짜증', '나', '그', '새끼', '일', '없다', '집', '에나', '갈다', '것', '이지', '결혼', '못', '히스테리', '나', '한테', '부리다', '건가', '왜', '항상', '나', '한테', '만', '그렇다'], ['알다', '못', '만난', '친구', '만', '나볼', '게'], ['힘들다', '너무', '행복하다'], ['그렇지만', '그래도', '너무', '짜증나다', '수', '없다'], ['그것', '보다', '다른', '걸', '싶다'], ['맞다', '프로젝트', '끝나다', '꼭', '여행', '갈리다', '생각'], ['거', '같다', '진짜', '고맙다'], ['고맙다', '여행', '가야', '지'], ['어', '전', '버리다', '음식물', '쓰레기', '안', '에서', '썩다', '보다'], ['어', '몸', '괜찮다'], ['화장실', '환기', '되다', '곳', '을', '만들다', '되다'], ['오다', '나', '드디어', '프로젝트', '끝나다'], ['그것', '좋다', '생각', '이네', '응'], ['응', '나', '혼자', '있다', '무섭다'], ['응', '다행하다', '다치다', '곳', '없다'], ['아', '짜증나다', '그', '새끼', '일', '끝나다', '빨리', '집', '에나', '가지', '남다', '자꾸', '나', '한테', '화', '내다', '있다'], ['신나다', '음악', '좋다', '신나다', '음악', '들다', '맛있다', '것', '먹다', '거야'], ['그렇다', '좋다', '방향', '제', '있다', '추천', '해주다'], ['걱정'], ['너', '말', '대로', '오랜', '만', '가족', '이랑', '여행', '다녀오다', '생각', '해보다'], ['구매', '좋다', '거', '있다', '추천', '주다'], ['향수', '빨리', '뿌리다'], ['가족', '이랑', '동해', '바다', '가기', '로'], ['그래서', '매', '일', '매일', '청소', '환기', '시키다', '곰팡이', '안', '없어지다'], ['상사', '또', '라', '새끼', '왜', '집', '안', '가다', '지랄', '이래'], ['내', '잠', '을', '자다', '동안', '비', '너무', '많이', '내다', '우리', '동네', '고립', '되다', '갇히다', '돼다'], ['그렇다', '보여주다', '얼마나', '예쁘다'], ['아직', '당첨', '되다', '거', '말', '안', '선물', '오다'], ['야', '나', '축하', '해주다'], ['응', '쓰레기통', '에서', '역겹다', '냄새', '나다', '있다'], ['며칠', '전', '버리다', '음식물', '쓰레기', '원인', '이야'], ['맞다', '기분', '전환', '용', '뭔가', '필요하다', '해', '좋다', '생각', '이네', '한번', '추천', '해주다', '보다'], ['그것', '좋다', '거', '같다', '근데', '지금', '조금', '싫다'], ['다른', '음악', '을', '한번', '틀다', '보다', '그렇다'], ['얘기', '마', '무리다', '지다'], ['어', '거의', '뭐', '거의', '선수', '라고', '볼', '수', '있다'], ['벌써', '내일', '다', '만나다', '약속'], ['여행', '조만간', '휴가', '쓸다', '거야'], ['나', '프로젝트', '드디어', '끝나다'], ['어', '그', '래야', '되다', '것', '같다', '냄새', '너무', '심하다', '초파리', '너무', '많다'], ['뭐라다', '거야', '말', '을', '제대로', '해보다'], ['그렇다', '너무', '안', '없어지다', '뭔가', '라도', '되다', '것', '같다'], ['회사', '너무', '바쁘다', '년', '만에', '휴가', '내다'], ['유명', '백화점', '에서', '이벤트', '인데', '내', '갖다', '싶다', '향수', '받다'], ['그러니까', '먹다', '나', '오죽하다'], ['집', '안', '있다', '몸', '괜찮다', '조금', '걱정', '되다'], ['결승선', '을', '통과', '순간', '힘드다', '게', '싹', '사라지다'], ['명', '만', '뽑다'], ['그', '새끼', '왜', '나', '한테', '만', '지랄', '이다'], ['너', '말', '대로', '지금', '바로', '사진', '을', '찍다', '놓다'], ['싸가지', '그냥', '너무', '없다'], ['음식물', '쓰레기', '내', '쓰레기통', '버리다', '생기다', '일이', '잖다', '힘들다', '얼른', '치우다', '해', '벌레', '많이', '생기다', '것', '같다'], ['짜장면', '시키다', '벌레', '나오다'], ['당첨', '명', '인데', '내', '당첨', '돼다', '운', '좋다'], ['욕'], ['아', '짜증', '나', '그', '새끼', '왜', '나', '한테', '만', '지랄', '이지', '거', '없다', '집', '에나', '가다'], ['좋다', '정말', '짜증', '나'], ['알다', '너', '말', '대로', '사진', '을', '첨부', '항의', '전화', '해보다'], ['완전하다', '끝나다', '속이다', '너무', '시원하다'], ['요즘', '비', '너무', '많이', '오다', '휴가', '못', '갈다', '거', '같다'], ['스트레스', '확', '풀다', '영상', '부탁'], ['응', '고생', '많다', '뭐'], ['알다', '꼼꼼하다', '살펴보다', '사용', '설명', '서', '보고'], ['오랜', '만', '만나다', '못', '친구', '만나다', '것', '좋다', '거', '같다'], ['아무래도', '하루', '종일', '영화', '보다', '되다', '것', '같다'], ['맞다', '사진', '을', '꼭', '찍다', '경찰', '제출', '거', '에요'], ['내', '음식물', '쓰레기', '아무렇다', '버리다', '생기다', '일이', '니까', '얼른', '치우다'], ['일', '년', '만에', '휴가', '내다'], ['그래서', '매일', '매일', '신경', '쓰다', '청소', '곰팡이', '안', '없어지다'], ['응', '당장', '버리다'], ['고맙다', '덕분', '힘', '나다'], ['아', '짜증나다', '그', '새끼', '일', '끝나다', '빨리', '집', '에나', '가지', '남다', '자꾸', '잔소리', '해'], ['어', '되게', '거', '전화하다', '다', '따지다', '거야'], ['그렇다', '곰팡이', '제', '거제', '곰팡이', '없애다', '데', '효과', '있다', '나다', '한번', '구매', '해보다', '효과', '좋다', '걸', '로', '한번', '추천', '해주다'], ['내', '좋아하다', '유튜버', '사과', '영상', '을', '올리다'], ['남자친구', '항상', '같이', '달다', '더', '늘다', '것', '같다', '애'], ['아직', '까지는', '집', '안', '에까지', '물이', '들어오다', '않다', '그리고', '몸', '아프다', '데', '없다', '하지만', '혼자', '있다', '너무', '무섭다'], ['이벤트', '당첨', '돼다', '너무', '신나다'], ['나', '무섭다', '빨리', '오다'], ['지금', '까지는', '그냥', '세제', '로', '청소', '만', '그거', '정말', '좋다', '생각', '이다'], ['그렇다', '좋다'], ['여행', '근데', '요즘', '코로나', '라', '괜찮다'], ['아', '짜장면', '에서', '벌레', '나오다'], ['여기', '서', '뭘', '더', '자세하다', '얘기', '해'], ['방향', '제로', '처리', '게', '가장', '좋다', '방법', '같다'], ['오다', '나', '이벤트', '당첨', '돼다'], ['오늘', '부터', '일', '동안', '휴', '가다', '휴가', '기간', '내내', '비', '온대'], ['고맙다', '방향', '제', '좋다', '걸', '로', '번', '찾다'], ['이미', '주말', '잡다'], ['좋다', '신나다', '음악', '추천', '해주다'], ['쉬', '고', '싶다', '너무', '힘들다'], ['안', '그렇다', '번', '전화', '해보다', '아', '진짜', '완전', '짜증나다', '지금', '나'], ['매', '일', '매일', '청소', '있다', '곰팡이', '안', '없어지다'], ['딱', '명', '인데', '그게', '나야', '완전', '완전', '대박', '이지'], ['함께', '달리다', '크루', '있다', '지치다', '힘들다', '때', '크다', '힘', '되어다'], ['휴가', '내다', '장마', '태풍', '겹', '치다', '비', '너무', '많이', '오다', '나가다', '수가', '없다'], ['노트북', '을', '오래', '쓸다', '수', '있다', '보험', '가입', '것', '생각', '볼', '게'], ['기분', '전환', '용', '영상', '이란', '게', '도대체', '뭐', '야', '번', '추천', '해주다', '보다'], ['아니다', '문', '을', '열', '어도', '곰팡이', '계속', '생기다'], ['완전', '마음', '들다', '내', '가지', '고', '싶다', '향수', '야'], ['사과', '사람', '뭐라다', '억지로'], ['너무', '짜증나다'], ['고맙다', '내', '빨리', '냄새', '없애다'], ['으', '진짜', '별로', '이다'], ['집', '근처', '건물', '인데', '너무', '무섭다'], ['그것', '좋다', '나', '요새', '노래', '못', '들어서다', '요새', '신곡', '을', '하나', '모르다'], ['오늘', '바로', '사르다', '갈다', '거야'], ['아', '짜증나다', '그', '새끼', '집', '에가', '서다', '잠', '이나', '자다', '것', '이지', '결혼', '못', '히스테리', '나', '한테', '부리다', '건가', '왜', '맨날', '나', '한테', '만', '저러다'], ['보고', '싶다', '그렇다', '나중', '내', '보여주다'], ['말', '뭐', '완전', '좋다'], ['맞다', '딱하다', '환기', '되다', '만', '곳', '없다'], ['아니다', '너', '랑은', '이제', '안', '하고', '싶다'], ['응', '나', '지금', '혼자', '야'], ['아', '짜증나다', '그', '새끼', '일', '없다', '집', '에나', '갈다', '것', '이지', '왜', '결혼', '못', '히스테리', '나', '한테', '부리', '나', '모르다'], ['그거', '써다', '보다', '효과', '별로', '없다'], ['휴가', '기간', '내내', '비', '소식', '있다', '아무래도', '집', '에서', '휴가', '즐기다', '것', '같다'], ['제품', '에는', '문제', '없다', '것', '같다', '상품', '최고', '야'], ['몸', '괜찮다', '하지만', '기분', '완전', '꽝', '이야'], ['비싸다', '건', '못', '사다', '알바', '비', '모으다', '사다'], ['알다', '나', '여행', '좋아하다', '여행', '계획', '세우다', '볼', '게'], ['알다', '화', '내지', '마', '지금', '당장', '묶다', '버리다'], ['쓰레기', '안', '버리다', '썩다', '냄새', '장난', '아니다'], ['정말', '다른', '데', '로', '옮기다', '싶다', '그렇지만', '지금', '갈다', '데', '없다'], ['어', '보', '니까', '쓰레기통', '버리다', '두다', '음식물', '쓰레기', '그', '사이', '썩다', '것', '같다', '애'], ['근데', '걸', '짜장면', '집', '보여주다', '다시', '짜장면', '을', '만들다', '주다'], ['동아리', '있다', '같이'], ['아우', '짜장면', '에서', '벌레', '나오다'], ['화장실', '청소', '곰팡이', '안', '사라지다'], ['당첨', '명', '이야'], ['쓰레기통', '에서', '냄새', '진동', '을', '날', '파리', '생기다', '지금', '당장', '쓰레기', '묶다', '버리다', '거', '같다'], ['아마', '선수', '일', '거', '같다', '애', '나'], ['노트북', '비싸다', '오래', '쓸다', '수', '있다', '노트북', '보험', '을', '생각', '보다'], ['그게', '낫다', '얼른', '뿌리다'], ['그거', '좋다', '생각', '이다', '번', '써다', '보다'], ['어', '그렇다'], ['갑자기', '물이', '차', '오르다', '집', '주변', '에서', '밖', '나가다', '수', '없다', '것', '같다'], ['하', '짜증나다', '그', '새끼', '일', '없다', '집', '에나', '가지', '왜', '나', '한테', '이렇다'], ['알다', '친구', '이랑', '만나다', '계획', '세우다', '볼', '께'], ['완전하다', '끝나다', '이제', '쉬다', '겠다', '그동안', '힘들다'], ['오늘', '마라톤', '대회', '나가다', '기록', '을', '갱신'], ['화장실', '아무리', '청소', '해도', '곰팡이', '안', '없어지다'], ['그렇다', '다음', '향수', '뿌리', '고', '갈다'], ['아니다', '난', '기분', '풀리다'], ['냄새', '너무', '고약하다', '지금', '버리다', '밖에', '내다'], ['내', '달리다', '운동', '을', '너무나', '좋아하다', '열심히', '연습', '매번', '마라톤', '대회', '진출', '그래서', '내', '기록', '을', '갱신', '노력', '하고', '있다'], ['장마철', '이라서', '자꾸', '습기', '생기다', '곰팡이', '생기', '니까', '신경', '너무나', '쓰이다'], ['나', '레포트', '다', '끝나다', '너무', '좋다'], ['오다', '짜장면', '에서', '벌레', '나오다'], ['알다', '난', '영화', '보고', '싶다'], ['자다', '그렇게', '많다', '비', '오다', '모르다', '난', '대피', '문자', '못', '보다'], ['나다', '놀다', '싶다', '너무', '기쁘다'], ['화장실', '곰팡이', '없애다', '곰팡이', '제', '거제', '효과', '있다'], ['유명하다', '인', '플루', '언', '서', '이벤트', '있다'], ['오랜', '만', '여행', '을', '다녀오다', '것', '좋다', '거', '같다', '생각', '한번', '해보다'], ['내', '너무나', '좋아하다', '인', '플루', '언', '서', '진행', '이벤트', '당첨', '되어다'], ['비', '엄청', '많이', '내다', '우리', '동네', '고립', '되다', '집', '안', '갇히다', '되어다'], ['자고', '일어나다', '전화', '여러', '번', '오다', '더', '라고', '그런데', '밖에', '비', '너무', '많이', '오다'], ['신나다', '음악', '듣다', '스트레스', '확', '풀', '고', '싶다'], ['나', '축하', '해주다', '기쁘다', '일', '있다'], ['음악', '이나', '들다', '기분', '을', '풀다', '나', '발라드', '좋다'], ['너무', '더럽다'], ['그렇다', '참고', '들다', '수', '있다', '어', '보험', '넣다', '볼', '게'], ['달리다', '동안', '에는', '너무', '지치다', '힘들다', '결승선', '을', '통과', '순간', '기분', '엄청', '좋다'], ['기분', '나쁘다', '감정', '사라지다', '음악', '부탁'], ['신나다', '음악', '좋다', '추천', '해주다'], ['어', '그', '정도', '아니다'], ['나쁘다', '않다', '그냥', '난', '나가다', '싶다', '휴가', '못', '간지', '엄청', '오래', '돼다'], ['친구', '랑', '같이', '있다'], ['알다', '지금', '이라도', '당장', '사용', '설명', '서', '보고', '살피다', '볼', '게'], ['제', '거제', '과연', '효과', '있다'], ['무', '틀다', '너무', '싫다', '이렇다', '때', '어떻다', '되다'], ['음식물', '쓰레기통', '섞이다', '들어가다', '보다'], ['그', '정도', '아니다', '그래도', '자다', '것', '같다'], ['쓰레기통', '음식물', '쓰레기', '있다'], ['정전', '돼다', '아무', '것', '안', '보이다'], ['아', '진짜', '요새', '그렇다', '것', '있다', '진짜', '세상', '차다', '많이', '좋아지다'], ['너무', '좋다', '내', '그동안', '갖다', '싶다', '향수', '야'], ['집', '안', '갇히다', '어떻다', '되다', '일이', '지'], ['너', '말', '대로', '오랜', '만', '여행', '을', '가보다', '것', '생각', '볼', '게'], ['알다', '적당하다', '조치', '취하', '지다', '한번', '보다'], ['그렇다', '참고', '보험', '들다', '나쁘다', '않다', '것', '같다', '잊어버리다', '그렇다', '때', '필요하다', '수', '있다'], ['혼자', '있다', '너무', '무섭다'], ['엄청', '무섭다', '지금', '어떻다', '되다', '모르다'], ['십', '키로', '마라톤', '기록', '갱신'], ['뒷', '광고', '사실', '너무', '화가', '나다', '배신', '감', '느껴지다'], ['축하', '해주다', '나', '기분', '좋다', '일', '생기다'], ['마라톤', '대회', '에서', '기존', '기록', '을', '갱신', '너무', '기분', '좋다'], ['아니다', '요즘', '다', '왜', '이르다', '거지', '이해', '안', '되다'], ['이미', '그건', '버리다'], ['당연하다', '직장', '동료', '이랑', '같이', '해'], ['그렇다', '것', '같다', '환기', '중요하다'], ['아니다', '너무', '무섭다'], ['지금', '나', '혼자', '있다', '갖다', '너무', '무섭다'], ['그렇다', '보험', '있다', '당장', '가입'], ['너무', '끔찍하다', '사진', '을', '찍다', '못'], ['냄새', '방향', '제로', '처리', '가장', '좋다'], ['정말', '그렇게', '해주다', '나', '아깝다', '정말', '토', '뻔'], ['어떡하다', '어떡하다', '부르다'], ['나', '드디어', '끝나다'], ['실망', '스러운', '건', '사과', '억지로', '거야', '상처', '받다'], ['너', '안', '당', '해보다', '모르다', '나', '한테', '만', '짜증', '내다', '다른', '직원', '한테', '친절하다', '너무', '화가', '나'], ['효과', '있다', '나', '구매', '좋다', '제품', '알다'], ['어', '정말', '기분', '좋다'], ['아', '짜증나다', '그', '새끼', '왜', '집', '안', '가다', '내', '옆', '붙다', '지랄', '이야', '상사', '놈', '말', '이야'], ['그거', '저번', '내', '가지', '고', '싶다', '향수', '그거', '당첨', '돼다', '그거', '이벤트'], ['그니까', '찍다', '고발', '나'], ['알다', '지금', '바로', '해보다'], ['청소', '해도', '곰팡이', '없어지다', '않다'], ['나', '나', '발라드', '좋아하다'], ['나', '축하', '해주다', '기분', '좋다', '일', '있다'], ['당첨', '명', '뽑다', '거', '이다', '운', '좋다', '내', '당첨', '돼다'], ['다행하다', '경비실', '아저씨', '께서', '곧', '올라오다', '괜찮다'], ['그것', '괜찮다', '근데', '쉬', '고', '싶다'], ['알다', '난', '영', '화보', '걸', '택할', '게'], ['사진', '바로', '찍다', '사장', '한테', '바로', '따지다'], ['쓰레기통', '에서', '냄새', '나'], ['나', '드디어', '프로젝트', '끝내다'], ['고맙다', '나다', '기분', '너무', '좋다'], ['나', '엘레베이터', '갇히다'], ['구매', '효과', '좋다', '로', '소개', '시키다'], ['고맙다', '다음', '또', '나가다', '말', '해주다'], ['아무래도', '그렇다', '야하다', '것', '같다', '애'], ['당첨', '선물', '내', '매번', '갖다', '향수', '라서', '너무나', '마음', '들다'], ['화장실', '청소', '아무', '리해', '곰팡이', '안', '없어지다'], ['선수', '처럼', '자다', '뛰다', '않다', '분', '정도', '단축', '것', '같다', '내', '기록', '을'], ['내', '선물', '궁금하다', '내', '나중', '꼭', '보여주다'], ['모르다', '빨리', '욕', '이나', '스트레스', '나', '풀', '고', '싶다', '나'], ['글쎄', '휴가', '받다', '수', '있다', '자다', '모르다', '좋다', '일단', '세우다', '볼', '께'], ['힘들다', '정말', '행복하다'], ['그거', '좋다', '거', '같다'], ['욕', '먹다', '싶다', '그렇다', '건데', '욕', '을', '해주다'], ['다음', '부터는', '제때', '제때', '버리다', '되다'], ['우리', '집', '빼다', '주변', '다', '온통', '물', '잠기다', '있다'], ['우리', '집', '에는', '방향', '제', '없다'], ['그렇다', '사진', '을', '바로', '찍다'], ['아', '맞다', '너', '말', '대로', '증거', '로', '벌레', '나오다', '짜장면', '을', '사진', '찍다', '놓다'], ['거', '많다', '음악', '이랑', '영화', '다운', '받다', '보다'], ['그렇다', '것', '같다', '우리', '집', '엔', '창문', '없다'], ['노트북', '을', '꼼꼼하다', '살펴보다', '작동', '되다', '문제', '없다'], ['백화점', '에서', '향수', '행사', '거기', '당첨', '돼다'], ['유튜브', '맘껏', '즐기다', '예정', '이에요'], ['선수', '아니다', '그래도', '좋다'], ['화장실', '청소', '해도', '곰팡이', '없어지다', '않다', '짜증', '나'], ['바퀴벌레', '라서', '거', '그냥', '못', '먹다', '어떡하다'], ['아', '씨발', '짜증나다', '그', '새끼', '집', '에나', '갈다', '것', '이지', '왜', '나', '한테', '지랄', '이야'], ['어', '짜장면', '에서', '벌레', '나오다'], ['마라톤', '대회', '에서', '좋다', '기록', '나오다'], ['아니다', '요즘', '다', '들다', '왜', '이르다', '거야'], ['그렇다', '새끼', '욕', '치다', '먹다', '나', '한테', '그렇다', '거', '라고'], ['알다', '몇', '장', '찍다'], ['곰팡이', '제', '거제', '곰팡이', '없애다', '데', '효과', '있다', '좋다', '것', '추천', '해주다'], ['어우', '상사', '새끼', '왜', '집', '안', '가다', '내', '옆', '처', '앉다', '갖다', '지랄', '이야'], ['맞다', '완전하다', '끝나다', '달', '간', '고생'], ['나', '음악', '안', '좋아하다', '너', '나', '들다'], ['주변', '물바다', '라서', '지금', '발자국', '못', '나가다'], ['아니다', '진짜', '얼마나', '짜증나다', '줄', '알', '아'], ['게', '너무', '너무', '많다', '영화', '보다', '되다', '그', '동안', '못', '보다', '드라마', '나', '예능', '프로그램', '그리고', '걸', '로', '프로젝트', '돼다'], ['함께', '달리다', '크루', '있다', '내', '지치다', '힘들다', '때', '마다', '격려', '해주다'], ['명', '만', '당첨', '되다', '거야'], ['그동안', '너무', '바쁘다', '일이', '많다', '일', '년', '만에', '받다', '휴가', '인데', '비', '오다', '아무', '데', '못', '갈다', '거', '같다'], ['시내', '있다', '크다', '건물'], ['짜증나다', '그', '새끼', '일이', '없다', '집', '에나', '갈다', '것', '이지', '늦다', '결혼', '못', '히스테리', '나', '한테', '푸다', '건가', '왜', '항상', '나', '한테', '만', '그렇다'], ['응', '완전하다', '끝나다', '진짜', '로'], ['버리다', '냄새', '너무', '심하다', '나다', '있다'], ['지금', '많이', '불안하다'], ['응', '나중', '너', '테', '자랑'], ['당첨', '명', '뽑다', '거', '이다', '내', '당첨', '돼다', '운', '좋다'], ['그러니까', '다음', '부턴', '조심하다', '되다', '것', '같다'], ['회사', '그만두다', '되다'], ['대답', '고맙다'], ['백화점', '에서', '제주도', '여행', '권', '당첨', '돼다'], ['최종', '발표', '오늘', '끝', '마치다', '이제', '완전하다', '끝나다', '거야'], ['오늘', '최종', '발표', '이제', '완전하다', '끝나다', '거야', '마음', '너무', '홀가분하다'], ['화장실', '청소', '해도', '끝', '없다', '곰팡이', '사라지다', '않다'], ['정말', '대', '때리다', '싶다'], ['니', '추천', '주다', '건', '좋다', '걸다', '음', '생각', '해보다', '알다'], ['홀가분하다', '마음', '신나다', '음악', '을', '들다', '것', '좋다', '것', '같다'], ['나다', '좋다'], ['나가다', '수가', '없다', '완전하다', '꽉', '막히다', '문', '열리다', '않다', '무섭다'], ['저번', '먹다', '버리다', '음식물', '쓰레기', '상', '아주', '썩다', '내', '진동'], ['왜', '대화', '끝내다', '해', '나', '아직', '얘기', '덜', '끝나다'], ['왜', '니', '사주다'], ['그것', '그렇다', '집', '자체', '습기', '안', '빠지다', '집', '을', '잘못', '지다', '보다'], ['우수하다', '성적', '을', '거두다'], ['어', '진짜', '기분', '나쁘다'], ['너무', '마음', '들다', '내', '비싸다', '못', '사다', '거야'], ['추천', '해주다', '수', '있다'], ['그렇다', '있다', '아직도', '냄새', '안', '없어지다', '너무', '역'], ['문도', '열다', '나', '맨날', '청소', '거', '알', '지', '아', '진짜', '짜증나다'], ['나', '자동차', '이벤트', '당첨', '돼다'], ['그렇다', '알다', '그렇게', '뭐라다', '안', '돼다'], ['일단', '집', '안', '까지는', '물이', '안', '들어오다', '나다', '괜찮다'], ['응', '혼자', '있다'], ['오늘', '발표', '이제', '완전하다', '끝나다', '거야'], ['근데', '요즘', '시국', '여행', '조금', '무리', '아니다'], ['나', '엄청', '가지', '고', '싶다', '향수', '있다', '그거', '주다', '이벤', '트이다'], ['알다', '좋다', '생각', '이네', '나다', '한번', '사과', '받다', '보다'], ['알다', '찍다', '사진', '을', '메세지', '로', '첨부', '항의', '전화', '해보다'], ['어떻다', '알다', '그거', '내', '지난번', '버리다', '거야'], ['냄새', '너무', '고약하다', '방향', '제로', '처리', '수', '있다', '모르다'], ['몸', '괜찮다', '집', '까지', '물이', '들어오다', '너무', '무섭다'], ['알다', '향수', '오거', '든', '당장', '보여주다'], ['아', '짜증나다', '또', '그렇다'], ['집', '가다', '엘레베이터', '타다', '갇히다', '버리다'], ['아', '짜증나다', '그', '새끼', '일', '끝나다', '빨리', '집', '에나', '가지', '왜', '남다', '맨날', '나', '한테', '뭐라다', '해'], ['당연하다', '달', '동안', '얼마나', '고생'], ['좋다', '곰팡이', '제', '거제', '있다', '추천', '주다'], ['곰팡이', '제', '거제', '사다'], ['사진', '증거', '확실하다', '아무', '소리', '못', '하고', '조치', '취해', '주다'], ['오늘', '부터', '휴가', '기간', '인데', '휴가', '기간', '내내', '비', '온대'], ['마라톤', '완주', '대단하다'], ['몸', '괜찮다', '물이', '집', '안', '까지', '들어오다', '너무', '무섭다'], ['어', '완전', '맘', '들다', '아', '너무', '좋다'], ['누가', '그딴', '개', '소리'], ['만나다', '여행', '계획', '세우다'], ['대단하다', '많다', '크룬', '아니다'], ['그동안', '일이', '너무', '많다', '년', '만에', '받다', '휴가', '인데', '비', '다', '망치다'], ['네', '정말', '아무', '이유', '없이', '저', '한테', '일', '을', '시키다'], ['그렇다', '이렇다', '거지', '같다', '기분', '날다', '만', '음악', '부탁'], ['유튜버들', '광고', '올리다', '거야'], ['냄새', '방향', '제로', '처리', '게', '가장', '좋다', '거', '같다'], ['맞다', '그동안', '보상', '받다', '기분', '이다', '너무', '기분', '좋다'], ['너무', '맘', '들다', '그동안', '내', '얼마나', '갖다', '향수', '인데'], ['안', '그래도', '써다', '보다', '번'], ['아니다', '요즘', '왜', '다', '이르다', '건지다', '이해', '수가', '없다'], ['홀가분하다', '마음', '신나다', '음악', '을', '듣다', '것', '괜찮다', '것', '같다'], ['알다', '친구', '만나다', '여행', '계획', '세우다', '볼', '게'], ['사과', '진중하다', '전혀', '없다', '보이', '더', '라고'], ['아', '짜증나다', '그', '새끼', '일', '다', '끝나다', '빨리', '집', '에나', '갈다', '것', '이지', '남다', '자꾸', '나', '한테', '뭐라다', '해'], ['나', '프로젝트', '끝나다', '드디어'], ['사진', '찍다', '두', '라고', '왜', '사진', '그냥', '찍다', '두다', '보다'], ['그렇다', '나', '랑', '함께', '달리다', '크루', '있다', '지치다', '힘들다', '때', '크다', '힘', '되어다'], ['아니다', '이제', '부터', '자랑', '한번', '해보다'], ['혼자', '집', '안', '갇히다', '되다', '엄청', '무섭다'], ['함께', '달리다', '크루', '있다', '크다', '힘', '되다', '있다'], ['어', '나', '혼자', '야', '너무', '무섭다'], ['개', '무섭다', '뭔', '소리', '지금'], ['나', '축하', '해주다', '좋다', '일이', '있다'], ['지금', '보다', '훨씬', '나아지다', '당연하다', '써다'], ['그렇다', '이해', '해주다', '고맙다', '다시다', '실수', '않다'], ['태풍', '장마', '겹', '치다', '엉망', '돼다', '버리다', '나가다', '못', '하고'], ['홍수', '나서다', '주위', '집들이', '모두', '잠기다', '밖', '나가다', '못', '것', '같다'], ['어떻다', '조치', '취', '해주다', '사과', '하', '거나', '음식', '값', '을', '환불', '해주다'], ['시키다', '정말', '짜증나다'], ['곰팡이', '청소', '안', '없어지다', '자꾸', '신경', '쓰이다'], ['엘리베이터', '타다', '불', '갑자기', '꺼지다', '문', '안', '열리다'], ['집', '안', '까지는', '물이', '들어오다', '않다'], ['사과', '영상', '을', '보다', '자기', '변명', '만', '있다', '보다', '더', '화가', '나'], ['당연하다', '같이', '운동', '하고', '대회', '나가다', '사람', '있다'], ['일단', '환기', '시키다', '나서다'], ['오다', '쓰레기통', '냄새', '장난', '아니다'], ['드디어', '내', '구매', '노트북', '도착'], ['축하', '해주다', '기분', '좋다', '일', '있다'], ['집', '주변', '까지', '물이', '차오르다', '아예', '밖', '나가다', '수가', '없다'], ['너무', '더럽다', '지저분하다', '짜장면', '버리다', '거야'], ['아니다', '뭐', '크루', '없다', '혼자', '서', '뛰다', '있다'], ['아', '진짜', '나', '한테', '만', '퉁', '명', '스럽게', '대한', '다니다', '다른', '사람', '한텐', '완전', '친절하다'], ['이제', '끝나다', '결과', '만', '기다리다', '돼다'], ['그니까', '내', '말', '오다', '개다', '아니다'], ['아니다', '요즘', '다', '들다', '왜', '그렇다', '모르다', '정말', '이해', '힘들다'], ['정말', '좋다', '생각', '이야', '정말', '그', '래야', '되다', '것', '같다', '너무', '억울하다'], ['그렇다', '기분', '좋다'], ['아니다', '창문', '작다'], ['당연하다', '바로', '찍다', '나', '거', '이제', '신고', '거기'], ['집', '안', '까지는', '물이', '들어오다', '않다', '괜찮다'], ['그렇다', '쉬다', '동안', '여행', '을', '다녀오다', '것', '좋다', '것', '같다', '계획', '번', '세우다', '볼', '게'], ['그', '영상', '보다', '내', '기분', '좋아지다'], ['동', '건물', '이야'], ['지금', '가르치다'], ['년', '만에', '휴가', '인데', '그렇다'], ['고맙다', '응원', '해주다'], ['향수', '매장', '에서', '명', '만', '당첨', '되다', '그게', '내', '돼다'], ['그렇다', '음악', '들다', '쉬다', '겠다', '너무', '피곤하다'], ['퇴근', '한지', '얼마나', '돼다', '회사', '에서', '또', '연락', '오다'], ['알다', '그', '동안', '못', '보다', '영화', '나', '볼', '게'], ['친구', '한테', '당장', '약속'], ['그래서', '열심히', '치우다', '있다', '냄새', '너무', '나', '니까', '안', '치우다', '수가', '없다'], ['우리', '집', '빼다', '다', '물', '잠기다', '있다'], ['함께', '달리다', '크루', '있다', '내', '지치다', '힘들다', '때', '크다', '힘', '되어다'], ['나', '마라톤', '평소', '거', '좋아하다', '알', '지'], ['방향', '제', '뿌리', '면', '나아지다'], ['선물', '마음', '들다', '이벤트', '신청', '아주', '비싸다', '향수', '야'], ['나', '혼자', '있다', '무섭다'], ['자다', '모르다', '비', '오는', '지도', '모르다', '무작정', '잠', '만', '잔', '것', '같다'], ['응', '내', '갖다', '싶다', '거', '이다'], ['지금', '사진', '찍다', '고맙다'], ['구매', '좋다', '거', '있다', '꼭', '추천', '해주다'], ['십', '키로', '마라톤', '을', '뛰다'], ['그렇다', '완전하다', '끝내다', '달', '간', '정말', '고생', '많다'], ['아니다', '요즘', '다', '왜', '이르다', '거야', '이해', '안', '돼다'], ['사람', '한테', '내', '이벤트', '당첨', '돼다', '갖다', '싶다', '향수', '선물', '로', '받다', '자랑'], ['오다', '짜장면', '에서', '벌레', '나오다'], ['선수', '처럼', '그렇게', '급', '높다', '않다', '일반인', '중', '에서', '꽤', '자다', '나오다'], ['어', '그러니까', '거', '빨리', '뭔가', '처리', '되다', '것', '같다', '으'], ['아무래도', '그렇다', '게', '좋다', '것', '같다'], ['뛰다', '동안', '에는', '지치다', '힘들다', '결승선', '을', '통과', '순간', '기분', '날아가다', '것', '같다'], ['내', '마라톤', '을', '뛰다', '기록', '을', '경신'], ['아니다', '요즘', '다', '들다', '왜', '그렇다', '거지', '이해', '안', '가다'], ['너무', '고생', '많다'], ['어', '진짜', '짜증나다', '나', '한테', '만', '시키다', '나', '싫어하다', '것', '같다'], ['네', '여행', '계획', '빨리', '세우다'], ['빨리', '처리', '되다', '것', '같다'], ['많이', '무섭다'], ['조금', '무섭다', '걱정', '되다'], ['그냥', '이번', '마라톤', '대회', '에서', '내', '좋다', '기록', '을', '세우다'], ['좋다', '노래', '추천', '해주다', '수', '있다'], ['제일', '싸다', '걸', '로', '사다'], ['아니다', '모르다'], ['사진', '무슨', '너무', '징그럽다', '그냥', '바로', '버리다', '버리다'], ['아', '뭐', '그렇다', '너무', '짜증나다', '그렇다'], ['그렇다', '냄새', '방향', '제로', '게', '제일', '낫다'], ['그것', '좋다', '생각', '이야'], ['어쩌겠어', '내', '실수', '로', '그렇다', '거', '니까', '깨끗이', '치우다'], ['내', '저번', '음식물', '쓰레기', '쓰레기통', '버리다', '그거', '때문', '인', '것', '같다'], ['아', '그렇다', '것', '있다', '참고'], ['타고', '나', '니까', '정전', '돼다'], ['명', '뽑다', '거', '이다', '운', '좋다', '내', '당첨', '돼다'], ['음식물', '쓰레기', '있다', '보다'], ['비', '이렇게', '많이', '오니', '더', '습하다', '곰팡이', '더', '없어지다', '않다'], ['어', '그렇다', '너무', '너무', '힘들다', '짜증나다', '수', '없다', '뭐'], ['화장실', '청소', '해도', '곰팡이', '사라지다', '않다'], ['맞다', '미세먼지', '너무', '심해'], ['나', '엘레베이터', '갇히다', '어떡하다'], ['아', '씨발', '어떡하다'], ['아', '진짜', '게', '무슨', '일이', '야', '정말', '토', '것', '같다'], ['집', '안', '갇히다', '있다', '게', '무슨', '상황', '인지', '모르다'], ['습기', '너무', '많아지다', '곰팡이', '생기', '니까', '신경', '쓰이다'], ['정말', '이지', '장마', '너무', '길다', '가뜩이나', '습하다', '더', '냄새', '나', '것', '같다'], ['많다', '영화', '보다', '고', '어', '게임', '다운', '받다'], ['자다', '동안', '우리', '동네', '그렇게', '비', '많이', '오다', '줄', '모르다'], ['그렇게', '좋다', '당연하다', '구매'], ['터지다', '직전', '이야'], ['그렇다', '걱정', '해주다', '고맙다'], ['창문', '없다', '그', '런가', '아', '짜증나다'], ['향수', '이벤트'], ['아', '짜증', '나', '그', '새끼', '일이', '없다', '집', '에나', '갈다', '것', '이지', '왜', '지금', '까지', '안', '가다', '저렇다'], ['맞다', '뛰다', '동안', '정말', '힘들다', '결승선', '을', '통과', '하나', '안', '힘들다'], ['기회', '되다', '나중', '꼭', '보여주다'], ['내', '쓰레기통', '을', '비우다', '늦', '장', '부리다'], ['어', '나', '내', '좋아하다', '인', '플루', '언', '서', '이벤트', '당첨', '돼다'], ['나', '벌써', '친구', '이랑', '약속', '내일', '만나다'], ['젠', '다음', '과제', '시작', '때', '까지', '그래도', '쉬다'], ['행복하다', '기분', '좋다'], ['좋다', '혹시', '음악', '추천', '해주다', '수', '있다'], ['맞다', '이건', '진짜', '다시', '배달', '주다'], ['당연하다', '무섭다', '나', '어떻다', '해'], ['더', '실망', '스러운', '건', '스스로', '잘못', '을', '인정', '않다', '거야', '사과', '억지로', '해'], ['알다', '친구', '만나다', '여행', '계획', '을', '한번', '세우다', '볼', '게'], ['내', '좋아하다', '인', '플루', '언', '서'], ['학교', '에서', '이벤', '트이다', '완전', '기분', '좋다'], ['당연하다', '아직', '안', '선물', '오다'], ['그것', '차다', '좋다', '생각', '이다'], ['아니다', '환기', '자주', '미세먼지', '때문', '인가', '곰팡이', '없어지다', '않다'], ['곰팡이', '제', '거제', '곰팡이', '없애다', '효과', '있다'], ['이번', '출전', '마라톤', '대회', '에서', '내', '기록', '아주', '좋다', '나오다'], ['오호', '좋다', '정보', '인데', '그렇다', '게', '있다', '당장', '가입'], ['나', '홀로', '갇히다', '것', '같다'], ['그렇다', '경비실', '아저씨', '조치', '취', '해주다', '괜찮다', '거야'], ['그냥', '회사', '그만', '두다', '되다'], ['먹다', '토', '줄', '알다'], ['화장실', '청소', '해도', '곰팡이', '없어지다', '않다'], ['당첨', '딱', '명', '뽑다', '거', '이다'], ['아', '짜증나다', '그', '새끼', '일', '다', '끝나다', '집', '에나', '갈다', '것', '이지', '남아', '서', '나', '한테', '뭐라다', '해'], ['완전', '마음', '들다'], ['알다', '신나다', '음악', '듣다', '스트레스', '풀다', '볼', '게'], ['자고', '일어나다', '보다', '전화', '여러', '통', '오다', '있다', '더', '라고', '그리고', '밖에는', '물이', '고여', '있다'], ['집', '있다', '밖에', '비', '너무', '많이', '오다', '밖에', '못', '나가다'], ['음식물', '쓰레기', '때문', '인', '것', '같다', '애', '거', '빨리', '해결', '을', '되다', '너무', '화가', '나다', '혐오', '스럽다'], ['그러니까', '너무', '지저분하다', '더럽다', '못', '먹다'], ['알다', '이제', '부터', '조심하다'], ['어', '지금', '너무', '무섭다', '너', '한테라', '얘기', '하고', '싶다', '어플', '켜다'], ['그냥', '방이', '습하다', '것', '같다', '내', '생각', '에는'], ['아니다', '진중하다', '않다', '또', '사람', '을', '속이다', '것', '같다'], ['아', '그렇다', '근데', '게', '다', '없어지다'], ['화장실', '청소', '해도', '곰팡이', '안', '없어지다'], ['좋다', '신나다', '음악', '추천', '해주다'], ['걔', '나', '한테', '이렇다'], ['응', '이제', '완전하다', '끝나다', '우리', '이제', '놀', '수', '있다'], ['아직', '말', '안', '향수', '오다', '같이'], ['친구', '약속', '벌써', '내일', '만나다'], ['걔', '나', '한테', '욕'], ['고맙다', '너', '고생', '많다'], ['알', '아', '너무', '힘들다', '그렇다', '힘', '낼', '게'], ['야', '나', '드디어', '레포트', '다', '끝나다', '진짜', '너무', '좋다', '너무'], ['정전', '돼다', '나', '무섭다'], ['오랜', '만', '친구', '을', '만나다', '것', '좋다', '것', '같다'], ['화장실', '청소', '해도', '끝', '없다'], ['정말', '실망', '스럽다', '어떻다', '그렇다', '수가', '있다', '거지'], ['프로젝트', '머리', '너무', '아프다', '이번', '기회', '여행', '을', '가다', '머리', '식히다', '오다'], ['내', '선물', '궁금하다', '보고', '싶다', '나중', '꼭', '보여주다'], ['내', '믿다', '유튜버', '인데', '뒷', '광고', '배신', '감', '느껴지다'], ['쓰레기', '냄새', '랑', '섞이다', '어떡하다', '방향', '제', '쓰다', '라그', '래'], ['백화점', '에서', '향수', '이벤트', '명', '만', '뽑다', '내', '돼다'], ['당연하다', '선물', '맘', '들다', '아주', '비싸다', '고급스럽다', '향수', '야'], ['그', '래야', '것', '같다', '너무', '냄새', '싫다'], ['음식물', '쓰레기', '냄새', '나'], ['맞다', '너', '말', '대로', '냄새', '고약하다', '얼른', '버리다', '해'], ['당첨', '명', '인데', '운', '좋다', '내', '되어다'], ['당첨', '선물', '내', '좋아하다', '향수', '라서', '너무', '마음', '들다'], ['처럼', '자다', '달리다', '않다', '일반인', '중', '에서', '자다', '달리다', '거지'], ['그것', '모르다', '우리', '그', '제품', '사다'], ['오다', '땡땡', '반점', '에서', '짜장면', '시키다', '벌레', '나오다'], ['응', '마음', '들다'], ['좋다', '들어주다', '고맙다'], ['홍수', '나서다', '나', '혼자', '집', '안', '고립', '되다', '거', '같다'], ['당연하다', '이제', '사람', '만나다', '다니다', '나', '완전', '사람', '없어지다', '줄', '알다'], ['아니다', '요즘', '다', '들다', '왜그러지', '이해', '안되다'], ['화장실', '냄새', '심하다', '열다', '기도', '그렇다'], ['내', '달리다', '운동', '을', '너무', '좋아하다', '연습', '을', '매번', '마라톤', '대회', '출전', '하고', '있다'], ['아니다', '그', '새끼', '왜', '나', '한테', '만', '이르다'], ['투', '버들', '사람', '을', '속', '이며', '뒷', '광고', '있다'], ['쓰레기통', '을', '제때', '비우다', '않다', '그렇다', '뭐'], ['알다', '사용설명서', '보고', '꼼꼼하다', '살펴보다'], ['괜찮다', '얼른', '누가', '구', '해주다', '오다', '좋다'], ['건가', '아무튼', '너무', '짜증나다'], ['노트북', '을', '가지', '고', '원고', '써다', '그림책', '을', '완성', '거야'], ['딱', '명', '그게', '바로', '나다'], ['지금', '너무', '화가', '나다', '속이다', '터지다', '어떻다', '영상', '내', '기분', '을', '풀다'], ['새롭다', '산', '노트북', '오늘', '오다'], ['알다', '친구', '만나다', '여행', '계획', '세우다', '볼', '게'], ['이따', '되다', '것', '같다', '애', '정말', '화나다'], ['아니다', '원래', '바닷가', '갈리다'], ['원래', '바다', '가다'], ['장마', '지면', '서', '갑자기', '비', '엄청', '많이', '내다', '우리', '동네', '고립', '되다', '집', '안', '갇히다', '돼다'], ['아니다', '그냥', '일반인', '이지', '일반인'], ['비', '오지', '않다', '바다', '갈리다'], ['정말', '좋다', '생각', '이야'], ['많이', '무섭다', '어떻다', '모르다'], ['나다', '모르다', '안', '치우다', '그렇다', '가보다'], ['내', '좋아하다', '인', '플루', '언', '서', '진행', '이벤트', '있다', '거기', '당첨', '돼다'], ['알다', '방향', '제로', '처리', '해보다', '알다', '고맙다'], ['홀가분하다', '마음', '신나다', '음악', '듣다', '것', '좋다'], ['마라톤', '대회', '출전', '기록', '을', '많이', '갱신'], ['다른', '직원', '한테', '늘다', '친절하다', '나', '한테', '자꾸', '짜증', '내다', '화', '내', '니까', '열', '받다', '그렇다'], ['그렇다', '환기', '한번', '해보다'], ['내', '마라톤', '대회', '출전', '이전', '내', '기록', '을', '갱신', '너무', '기분', '좋다'], ['짜증', '나다', '욕', '까지', '넌', '날', '이해', '해보다'], ['맞다', '요즘', '미세먼지', '맨날', '심하다', '환기', '못', '크다', '일이', '야'], ['맞다', '그냥', '쓰레기통', '버리다', '종량제', '봉투', '새롭다', '사려', '고'], ['신경', '써주다', '너무', '고맙다'], ['무섭다', '아무', '대답', '없다'], ['누가', '버리다', '찾아내다'], ['친구', '이랑', '집', '오다', '파티', '그때', '쓰레기', '자다', '분리', '않다', '것', '같다'], ['싸다', '거', '사다'], ['아니다', '나', '지금', '터지다', '터지다', '지금', '미치다', '지경', '이야'], ['선수', '아니다', '내', '달리다', '운동', '을', '너무', '좋아하다', '매번', '열리다', '마라톤', '대회', '나가다', '있다'], ['어', '괜찮다', '방법', '이다', '그거', '어디', '팔', '아'], ['아니다', '밖에', '홍수', '나가다', '물이', '들이다', '치다', '문', '안', '열리다'], ['당연하다', '혼자', '있다', '엄청', '무섭다'], ['욕', '을', '마음', '풀리다', '않다', '나', '신나다', '음악', '을', '좋아하다'], ['뒷', '광고', '유튜브', '만', '아니다', '난', '좋다'], ['최종', '발표', '마치다', '프로젝트', '끝나다'], ['유명하다', '유튜버', '좋다', '제품', '이르다', '사다', '하지만', '뒷', '광고', '이다'], ['향수', '이벤트', '야', '향수'], ['내', '달리다', '운동', '을', '너무나', '좋아하다', '매번', '마라톤', '대회', '출전', '하고', '있다'], ['그렇다', '나', '친구', '만나다', '되다', '것', '같다', '애'], ['짜증나다', '그', '새끼', '일', '없다', '집', '에나', '갈다', '것', '이지', '왜', '나', '한테', '만', '그렇다', '결혼', '못', '히스테리', '나', '한테', '푸다', '건가'], ['아니다', '그렇다', '않다', '물론', '내', '기록', '보다', '많이', '갱신', '돼다', '기분', '좋다'], ['그렇다', '대답', '해주다', '고맙다'], ['여행', '너무', '가다', '싶다', '지금', '갈다', '여유', '안', '돼다'], ['그렇다', '너', '말', '맞다', '거', '같다', '애', '앞', '분', '정도', '만', '환기', '계속', '시키다'], ['당첨', '명', '뽑다', '거', '이다', '내', '당첨', '돼다'], ['완전', '별로', '이다', '중국집', '사장', '님', '한테', '환불', '해달라다'], ['내', '십', '킬로미터', '마라톤', '대회', '출전', '예전', '내', '기록', '을', '훨씬', '갱신'], ['어', '음악', '좋다', '하나', '추천', '해주다'], ['비싸다', '건', '못', '사다', '월급', '을', '아끼다', '산', '거', '거들다'], ['모든', '것', '다', '끝나다', '기분', '좋다', '신나다', '음악', '을', '듣다', '것', '좋다', '것', '같다'], ['마라톤', '내', '기록', '을', '갱신'], ['아니다', '내', '잘못', '을', '것', '없다', '왜', '나', '한테', '만', '그렇다', '모르다'], ['그렇다', '음악', '이나', '들다', '나쁘다', '기분', '을', '풀다', '나', '신나다', '음악', '듣다', '싶다'], ['으', '쓰레기통', '에서', '역겹다', '냄새', '나기', '시작'], ['난', '그', '생각', '까진', '못'], ['나', '혼자', '집', '안', '갇히다', '되어다', '어떡하다'], ['너', '안', '당', '해보다', '모르다', '사람', '한텐', '안', '그렇다', '나', '한테', '만', '짜증', '내다', '뭐라다', '화가', '나'], ['그렇다', '요즘', '매', '일', '매일', '화장실', '청소', '만', '느낌', '이야'], ['맞다', '완전하다', '끝내다', '달', '간', '얼마나', '고생'], ['응', '없다'], ['최종', '발표', '마치다', '프로젝트', '완전하다', '끝나다', '거', '라고', '보다', '돼다', '너무', '홀가분하다'], ['너무', '행복하다', '진짜', '완전', '좋다'], ['어후', '짜장면', '에서', '벌레', '나오다'], ['알다', '힘', '낼', '게', '하지만', '내', '못'], ['자고', '일어나다', '우리', '집', '주변', '다', '물', '잠기다'], ['휴가', '시', '작', '함', '동시', '장마', '같이', '시작', '버리다', '그래서', '하루', '종일', '비', '오다'], ['환기', '안', '돼다', '인지', '미세먼지', '인지', '자다', '모르다', '환기', '자다', '안되다', '거', '같다', '애'], ['알다', '친구', '여행', '계획', '세우다', '볼', '게'], ['그러니까', '어', '새롭다', '생기다', '음식점', '에서', '어떻다', '그렇다', '수가', '있다'], ['그', '래야', '되다', '정말'], ['그렇다', '영상', '있다', '재밌다', '것', '같다'], ['당연하다', '맘', '들다', '정말', '비싸다', '향수', '거들다'], ['아무래도', '그렇다', '것', '같다', '해'], ['다른', '직원', '한테', '늘다', '친절하다', '나', '한테', '자꾸', '화', '내다', '짜증', '내', '니까', '화가', '나서다', '그렇다'], ['내', '전', '버리다', '음식', '썩다', '이상하다', '냄새', '나다'], ['이벤트', '당첨', '돼다'], ['그렇다', '음악', '듣다', '맛있다', '것', '먹다', '친구', '만나다', '되다'], ['헐다', '야', '나', '이벤트', '당첨', '돼다'], ['짜장면', '에서', '벌레', '나오다'], ['그렇다', '결국', '에는', '어쩔', '수', '없다', '나가다', '수', '없다', '집', '에서', '휴식', '을', '취하', '면서', '맛있다', '해', '먹다'], ['화장실', '청소', '해도', '곰팡이', '사라지다', '않다'], ['아니다', '다', '들다', '왜', '그렇다', '모르다', '이해', '힘들다'], ['알다', '지금', '당장', '짜장면', '에서', '벌레', '나오다', '거', '사진', '찍다', '놓다'], ['힘들다', '얼른', '치우다', '돼다', '이러다가', '집', '안', '벌레', '생기다', '것', '같다'], ['집', '에서', '벌레', '나오다'], ['삼성', '걸', '로', '사다', '불량품', '오다'], ['알다', '신나다', '음악', '들다', '스트레스', '확', '풀', '거야'], ['응', '친구', '명', '이랑', '같이', '뛰다'], ['내', '말', '아', '집', '진짜', '이상하다'], ['집', '갈리다', '엘리베이터', '타다', '갑자기', '멈추다'], ['내', '휴가', '엉망', '이야'], ['무섭다', '얼른', '구', '해주다'], ['습기', '많아지다', '곰팡이', '자꾸', '생기다', '신경', '쓰이다'], ['오랜', '만', '가족', '이랑', '서해', '바다', '가다', '조개', '줍다', '놀다', '오기', '로', '그런데', '비', '오다', '갈다', '수가', '없다'], ['내', '말', '진짜', '짜증나다', '진짜', '어우', '씨'], ['습기', '때문', '곰팡이', '생기다', '엄청', '신경', '쓰이다'], ['어', '지금', '나', '혼자', '있다'], ['아', '휴', '음악', '들다', '기분', '아니다'], ['네', '바로', '버리다'], ['사과', '제대로', '사람', '없다'], ['기분', '좋다', '신나다', '음악', '을', '듣다', '것', '좋다'], ['그렇다', '것', '같다', '매', '일', '매일', '청소', '있다', '곰팡이', '안', '없어지다'], ['그러니까', '얼른', '치우다', '냄새', '심해'], ['그렇다', '이대', '로는', '못', '넘어가다', '것', '같다', '뭐라다'], ['곰팡이', '자꾸', '신경', '쓰이다', '곰팡이', '없애다', '수', '있다', '방법', '없다'], ['완전하다', '끝내다', '달', '동안', '똥', '싸다'], ['어', '안', '그렇다', '주말', '약속', '잡다'], ['크루', '따로', '없다', '그냥', '나', '혼자', '서', '한강', '을', '많이', '뛰다'], ['내', '좋아하다', '인', '플루', '언', '서', '진행', '이벤트', '있다', '거기', '당첨', '되어다'], ['너무', '마음', '들다'], ['아', '후', '쓰레기통', '에서', '역겹다', '냄새', '나다', '있다'], ['무슨', '방법', '있다'], ['아니다', '환기', '습기', '자다', '안', '빠지다'], ['한번', '찾아보다', '해'], ['너무', '맘', '들다'], ['나', '축하', '해주다', '진짜', '기분', '좋다', '일', '있다'], ['아', '방향', '제라', '뿌리다'], ['어', '놀라다', '놀라다', '지금', '뭐', '몸', '아무렇다', '않다', '해', '근데', '계속', '걱정', '되다'], ['억지로', '사과', '절대로', '진정', '성', '있다', '않다', '그래서', '사람', '더', '상처', '받다'], ['그렇다', '친구', '보고', '못', '것', '여행', '가다', '다'], ['그렇다', '내', '언제', '든지', '부르다', '도와주다', '거야'], ['지금', '만화', '작업', '을', '노트북', '거야'], ['맞다', '힘들다', '결승선', '에서는', '정말', '좋다'], ['괜찮다', '그렇다', '거', '별로', '필요없다'], ['나', '아파트', '엘레베이터', '갇히다', '버리다'], ['건', '그렇지만', '욕', '을', '기분', '풀리다', '지금', '당장', '내', '기분', '나쁘다', '어떻다', '해결', '하', '라', '구'], ['친구', '좋다', '그거', '말고', '다르다', '뭐', '없다'], ['그러니까', '퇴근', '하고', '또', '혼자', '엘리베이터', '타다', '갑자기', '정전', '나', '가지', '고', '엘리베이터', '멈추다', '버리다', '긴급', '전화', '아무', '안', '받다', '어떻다', '해'], ['그렇다', '달', '간', '주말', '반납', '하고', '얼마나', '열심히', '일'], ['당첨', '명', '이다', '내', '당첨', '되다', '거야', '운', '정말', '좋다'], ['하', '씨발', '짜증나다', '그', '새끼', '왜', '자꾸', '나', '한테', '지랄', '이야'], ['써다', '보다', '그렇다', '별로', '효과', '없다', '너무', '오래되다', '집다', '살다', '게', '아니다'], ['나', '혼자', '갇히다', '되다', '거', '같다'], ['여행', '아마', '내년', '여름', '에나', '갈다', '수', '있다', '것', '같다'], ['몸', '괜찮다', '어떻다', '모르다'], ['다음', '부턴', '나다', '조심하다', '크다', '교훈', '을', '얻다'], ['아', '거', '어떡하다', '불다', '되다'], ['일이', '많다', '년', '만에', '받다', '휴가', '인데', '비', '오다', '아무', '데', '갈다', '수가', '없다'], ['오랜', '만', '여기저기', '여행', '마음', '여유', '갖다', '것', '좋다', '것', '같다'], ['혼자', '있다', '당연하다', '무섭다'], ['아', '나쁘다', '않다', '근데', '요새', '코로나', '때문', '걱정', '이야'], ['헐다', '대박', '나', '이벤트', '당첨', '돼다'], ['오늘', '최종', '발표', '나서다', '완전하다', '끝나다', '너무', '기쁘다'], ['그렇다', '게', '좋다', '아주', '사과', '받다', '보다', '되다'], ['집', '안', '갇히다', '밖에', '물이', '많이', '고여', '있다'], ['당연하다', '사람', '한테', '당첨', '선물', '비싸다', '향수', '라고', '말', '을', '다', '들다', '부럽다', '해'], ['아', '쓰레기통', '에서', '완전', '역겹다', '냄새', '나'], ['그렇다', '냄새', '너무', '심하다', '얼른', '없애다', '해'], ['아', '씨발', '쓰레기통', '에서', '열', '라', '역겹다', '냄새', '나'], ['곰팡이', '제', '거제', '효과', '있다', '사용', '해보다', '하나', '추천', '해주다', '보다'], ['오늘', '부터', '일주일', '동안', '휴가', '기간', '인데', '계속', '비', '온대'], ['헐다', '나', '이벤트', '당첨', '돼다'], ['맞다', '우리', '집', '화장실', '환기', '창', '너무', '작다'], ['그렇다', '나다', '친구', '만나다', '싶다', '약속', '잡다', '볼', '게'], ['그렇다', '있다', '모르다'], ['벌써', '환불', '받다'], ['그', '지', '버리다', '게', '낫다'], ['당첨', '명', '인데', '내', '당첨', '돼다'], ['너', '당첨', '선물', '궁금하다', '내', '나중', '보여주다'], ['아니다', '이번', '에는', '나', '혼자', '서', '참가'], ['없다', '나가다', '수가', '없다', '집', '에서', '영화', '나', '보다', '되다', '것', '같다'], ['그것', '좋다', '빨리', '약속', '잡다'], ['알다', '바로', '갖다', '버리다'], ['아', '진짜', '그러면', '번', '구매', '보다'], ['나', '혼자', '집', '안', '갇히다', '되다', '거', '같다'], ['내', '저번', '향수', '가지', '고', '싶다', '그거', '그거', '당첨', '돼다'], ['사과', '진실되다', '느껴지다', '않다', '자기', '변명', '만', '늘어놓다', '있다', '보고', '있다', '더', '화가', '나다'], ['알다', '냄새', '까지', '없애다', '걸', '로', '찾아보다'], ['지금', '버리다', '밖', '에다', '빼다'], ['이번', '마라톤', '대회', '출전', '그런데', '생각', '보다', '좋다', '기록', '결승선', '을', '통과'], ['그렇다', '음악', '들다', '쉬다', '겠다', '피곤하다'], ['잘해주다', '나', '너', '덕분', '더', '열심히', '수', '있다', '거', '같다'], ['친구', '못', '만나다', '이번', '기회', '만나다', '보다'], ['그거', '좋다'], ['백화점', '가다', '어떻다', '상품', '당첨', '돼다', '나', '기분', '너무', '좋다'], ['아', '짜증나다', '그', '새끼', '일이', '없다', '집', '에나', '갈다', '것', '이지', '늦다', '결혼', '못', '히스테리', '부리다', '건가', '왜', '항상', '나', '한테', '만', '그렇다'], ['너무', '마음', '들다', '내', '얼마나', '갖다', '싶다', '향수', '인데', '비싸다', '못', '산', '거야'], ['일단', '연락', '한번', '해보다'], ['선수', '처럼', '자다', '건', '아니다', '그냥', '내', '기록', '만', '단축', '되어다'], ['모르다', '나다', '이렇다', '적', '처음', '이라서', '정전', '돼다', '보다'], ['방향', '제', '없다', '어떡하다'], ['그렇다', '저녁', '먹다', '뭐', '먹다', '싶다'], ['벌레', '보다', '바로', '찍다'], ['휴', '그렇다', '음악', '이나', '들다', '마음', '풀다', '나', '신나다', '음악', '좋아하다'], ['알다', '신나다', '음악', '듣다', '스트레스', '확', '풀', '고', '싶다'], ['내', '마라톤', '기록', '갱신', '거', '알', '고', '있다'], ['그렇다', '앞', '으로는', '이렇다', '일이', '없다'], ['이제', '당분간', '쉬다', '수', '있다', '것', '같다'], ['나', '갇히다', '것', '같다'], ['곰팡이', '제', '거제', '효과', '있다', '나', '구매', '써다', '볼', '래'], ['사람', '막', '뭐라다', '억지로', '사과', '진정', '성도', '없다', '더', '상처', '받다'], ['당연하다', '같이', '서로', '의지', '운동', '사람', '있다', '그', '사람', '덕분', '여기', '까지', '온', '것', '같다', '애'], ['그렇다', '좋다', '언제', '우리', '집', '번', '놀다', '오다'], ['알다', '그렇게', '고맙다'], ['내', '지금', '너무', '화가', '나', '있다', '내', '기분', '을', '전환', '시키다', '수', '있다', '영상', '있다'], ['내', '음식물', '쓰레기', '쓰레기통', '에다가', '버리다'], ['나', '이벤트', '당첨', '되어다'], ['억지로', '사과', '진정', '성', '없다'], ['어', '정말', '실망', '스럽다'], ['그거', '너무', '좋다', '일', '인데'], ['내', '좋아하다', '유튜버', '뒷', '광고', '때문', '시청자', '한테', '사과', '영상', '을', '올리다'], ['니', '말', '맞다', '말', '없다', '해'], ['나', '발라드', '너무', '좋아하다'], ['이참', '대', '청소', '있다', '냄새', '안', '빠지다'], ['가끔', '밖', '에서', '작업', '때', '있다', '너', '말', '대로', '노트북', '보험', '을', '가입', '해보다'], ['그렇다', '것', '같다', '그래서', '집다', '자다', '보고', '가야', '되다', '것', '같다'], ['나', '아무래도', '혼자', '갇히다', '것', '같다'], ['우리', '집', '빼다', '다', '물', '바다', '되어다'], ['그렇게', '괜찮다', '구매', '번', '해보다', '싶다'], ['다음', '부터', '냄새', '나다', '확인', '보다'], ['응', '집', '갇히다', '것', '같다'], ['같이', '운동', '모임', '있다'], ['나', '우리', '집', '혼자', '갇히다', '주변', '다', '물바다', '야'], ['짜장면', '에서', '벌레', '나오다', '게', '무슨', '일이', '래', '정말'], ['밀리다', '잠', '을', '자고', '친구', '이랑', '만나다'], ['맞다', '힘들다', '그', '동안', '노력', '을', '보상', '받다', '것', '같다'], ['명', '뽑다', '내', '당첨', '돼다'], ['아니다', '일반', '인들', '가운데', '좋다', '나오다'], ['오랜', '만', '가족', '이랑', '서해', '바다', '가다', '놀다', '오기', '로', '비', '때문', '망하다'], ['그렇다', '달', '간', '주말', '반납', '하고', '얼마나', '열심히', '완전하다', '끝나다'], ['욕', '먹다', '만', '짓', '을', '해'], ['맞다', '결승선', '을', '통과', '순', '그동안', '힘들다', '게', '싹', '사라지다'], ['자고', '일어나다', '집', '주변', '다', '물바다', '되어다'], ['이번', '내', '마라톤', '대회', '나가다', '근데', '분', '이나', '기록', '단축', '대단하다'], ['떤다', '음악', '좋다', '추천', '해주다', '수', '있다'], ['그런', '건가', '자다', '모르다'], ['아', '그', '새끼', '집', '에나', '가지', '왜', '나', '한테', '히스테리', '부리다', '거야', '결혼', '이나', '것', '이지', '짜증나다', '진짜'], ['내', '좋아하다', '인', '플루', '언', '서', '이벤트', '그래서', '그냥', '신청', '한번', '해봤다'], ['응', '좋다', '생각', '이야', '같이', '자전거', '탈', '생각', '이야'], ['나', '혼자', '집', '안', '갇히다', '되다', '엄청', '무섭다', '두렵다'], ['냄새', '방향', '제로', '처리', '게', '가장', '좋다', '거', '같다'], ['맞다', '안', '그렇다', '환기', '쉬다', '않다', '집', '인데', '미세먼지', '때문', '더', '어려워지다'], ['당연하다', '바다', '보다', '가다'], ['알다', '조언', '해주다', '고맙다'], ['당첨', '선물', '내', '갖다', '싶다', '향수', '라서', '너무', '마음', '들다'], ['그것', '내일', '친구', '이랑', '만나다', '계획', '거야'], ['영상', '찾다'], ['그렇다', '것', '같다', '매', '일', '매일', '청소', '곰팡이', '안', '없어지다'], ['아', '짜장면', '에서', '벌레', '나오다'], ['어', '바로', '버리다'], ['너', '말', '대로', '사진', '을', '첨부', '다음', '전화', '해보다'], ['그렇다', '다음', '만나다', '맛있다', '밥', '이라도', '먹다'], ['알다', '너무', '무섭다', '고맙다'], ['달리다', '동안', '에는', '엄청', '지치다', '결승선', '을', '통과', '순간', '기분', '엄청', '좋다'], ['제주도', '갈다'], ['쓰레기통', '에서', '역겹다', '냄새', '나기', '시작'], ['어우', '쓰레기통', '에서', '역겹다', '냄새', '나다', '있다'], ['맞다', '그래도', '기록', '갱신', '너무', '좋다'], ['맞다', '우리', '집다', '딱하다', '환기', '되다', '창문', '이란', '게', '없다', '그렇다', '더', '심하다', '것', '같다', '애'], ['비', '많이', '오다', '집', '물이', '막', '들어오다', '밖에', '못', '나가다'], ['고맙다', '일단', '양초', '켜', '놓다'], ['야', '바퀴벌레', '나오다'], ['아', '오늘', '시키다', '먹다', '짜장면', '에서', '바퀴벌레', '나오다'], ['어', '실망', '이야'], ['주변', '사람', '한테', '이벤트', '당첨', '돼다', '비싸다', '향수', '받다', '자랑', '다', '들다', '부럽다', '해'], ['나', '마라톤', '기록', '갱신'], ['사과', '영상', '을', '보다', '사과', '진실되다', '않다', '더', '화가', '나다', '실망', '스럽다'], ['아', '맞다', '사진', '을', '안', '찍다', '사진', '찍다', '다', '신고', '거야'], ['친구', '만나다', '만나다', '맛있다', '것', '먹다', '수다', '떨다'], ['나다', '사과', '받다', '싶다'], ['알다', '신나다', '음악', '듣다', '스트레스', '풀', '고', '싶다'], ['달리다', '동안', '에는', '엄청', '힘들다', '결승선', '을', '통과', '순간', '날아가다', '것', '같다'], ['냄새', '방향', '제로', '처리', '게', '좋다', '것', '같다'], ['네', '제', '가지', '고', '싶다', '못', '사다', '거', '이다'], ['그렇다', '거', '못', '먹다', '뭐라다'], ['나', '마라톤', '자주', '나가다', '거', '알', '지', '나', '거기', '서', '오늘', '기록', '갱신'], ['원래', '계획', '여름', '바다', '놀다', '가다', '있다'], ['너무', '힘들다', '지치다', '집', '안', '냄새', '진동', '을', '날', '파리', '생기다', '시작', '그러니까', '얼른', '치우다', '것', '같다'], ['쓰레기', '버리다', '때', '음식물', '섞이다', '들어가다', '보다'], ['집', '들어가다', '엘리베이터', '타다', '갑자기', '멈추다'], ['야', '너', '한테', '말', '을', '꺼내다', '내', '잘못', '이다', '그냥'], ['냄새', '방향', '제로', '처리', '게', '최선', '인', '것', '같다'], ['유명하다', '유튜버', '제품', '을', '하나', '추천', '좋다', '그런데', '알', '고', '보다', '돈', '받다', '뒷', '광고', '이다'], ['너', '말', '대로', '사진', '을', '찍다', '두다', '좋다', '것', '같다'], ['응', '이제', '진짜', '드디어', '완전하다', '끝나다'], ['방향', '제', '새롭다', '사다'], ['맞다', '나', '한테', '만', '퉁', '명', '스럽다', '일', '을', '많이', '시키다', '더', '라고'], ['그', '정도', '아니다'], ['유튜', '버들', '뒷', '광고', '문제', '말', '이야'], ['그', '래야', '것', '같다', '냄새', '너무', '독해', '냄새', '맡다', '수가', '없다', '청소', '더', '되다', '것', '같다'], ['나', '집', '갇히다', '것', '같다', '애'], ['난', '아무래도', '영화', '보다', '겠다'], ['힘들다', '너무', '좋다'], ['뭐', '좋다', '제품', '하나', '있다'], ['명', '뽑다', '거', '이다', '내', '운', '좋다', '당첨', '돼다', '너무', '기분', '좋다'], ['신나다', '음악', '들다', '스트레스', '풀', '고', '싶다', '정말'], ['아니다', '그래도', '그', '동안', '노력', '을', '보상', '받다', '되게', '기쁘다'], ['알다', '친구', '약속', '잡다', '볼', '게'], ['짜증나다', '상사', '새끼', '집', '엔', '안', '가다', '내', '옆', '붙다', '또', '지랄', '이야'], ['맞다', '장마철', '이라', '화장실', '청소', '만', '기분', '이야'], ['달리다', '크루', '있다', '지치다', '힘들다', '때', '크다', '힘', '되어다', '있다'], ['명', '뽑다', '거', '이다', '운', '좋다', '내', '돼다'], ['집', '안', '까지는', '물이', '들어오다', '않다', '아직', '까지는', '괜찮다'], ['알다', '그것', '좋다', '생각', '인', '것', '같다', '수다', '떨다', '싶다'], ['쉬다', '여행', '다니다', '계획', '을', '세우다', '보다'], ['아니다', '선수', '까지', '아니다', '십', '키', '로는', '뛰다', '이번', '에는', '기록', '갱신'], ['그동안', '쉬다', '못', '하고', '열심히', '일', '하고', '그래서', '일', '년', '만에', '겨우', '얻다', '휴', '가다', '엉망', '돼다'], ['일이', '너무', '많다', '바쁘다', '일', '년', '만에', '받다', '휴가', '인데', '망하다'], ['그래서', '그', '런가', '매', '일', '매일', '화장실', '만', '청소', '기분', '이야'], ['당연하다', '달', '동안', '주말', '반납', '만들다', '프로젝트', '야', '완전하다', '끝내다'], ['그거', '비싸다', '않다'], ['일주일', '동안', '아무', '생각', '안', '하고', '그냥', '놀다', '쉬', '고', '싶다'], ['진', '것', '같다', '어떡하다', '좋다'], ['아', '모르다', '환기', '맨날', '시키다', '창문', '작다', '그', '런가', '보다', '아니다', '저', '게', '창문', '없다', '거나', '마찬가지', '지', '환풍기', '나', '맨날', '틀어놓다'], ['완전', '좋다', '뭐', '추천', '해주다', '거', '있다', '노래'], ['아', '짜증나다', '그', '새끼', '일도', '없다', '집', '에나', '갈다', '것', '이지', '나', '한테', '왜', '그렇다'], ['거', '진짜', '많다', '영화', '랑', '음악', '이랑', '다운', '받다', '거고', '그', '걸', '로', '또', '프로젝트', '돼다'], ['집', '주변', '까지', '물이', '차오르다', '밖', '나가다', '수가', '없다', '엄청', '당황', '스럽다', '몸', '괜찮다'], ['방향', '제', '빨리', '사오다', '그렇다'], ['나', '이번', '마라톤', '대회', '에서', '우수하다', '성적', '을', '거두다'], ['그렇다', '있다', '지금', '바로', '가입'], ['그러니까', '얼른', '버리다'], ['얘기', '번', '해보다'], ['같이', '뛰다', '크루', '있다', '한데', '이번', '대회', '그냥', '혼자', '나가다'], ['네', '당연하다'], ['맞다', '달리다', '동안', '에는', '엄청', '힘들다', '결승선', '을', '통과', '순간', '기분', '너무', '좋다'], ['어', '이제', '곧', '진짜', '터지다', '거', '같다', '애'], ['일', '년', '만에', '휴', '가다', '엉망', '돼다', '버리다'], ['싫다', '너무', '징그럽다'], ['에이', '그렇다', '만원', '짜다', '린데', '설마', '문제', '있다'], ['안', '그래도', '전화하다'], ['어쩔', '수없이', '그렇게'], ['당연하다', '무섭다', '어떡하다'], ['모르다', '아무래도', '쓰레기', '오래', '돼다', '상한', '거', '같다'], ['여름', '바다', '보다', '가기', '로', '장마', '진대'], ['선물', '맘', '들어서다', '난', '정말', '좋다', '비싸다', '향수', '야'], ['정말', '실망', '스럽다', '앞', '으로는', '더', '이상', '믿다', '수가', '없다', '것', '같다'], ['당첨', '명', '이다', '내', '당첨', '되다', '거야', '정말', '운', '좋다'], ['그것', '나쁘다', '않다', '향', '너무', '독하다', '별로', '야'], ['뭐', '어떻다', '들리다', '않다', '신경', '쓰다', '마'], ['빨리', '연락', '게', '낫다'], ['딱', '명', '뽑다', '내', '돼다'], ['알다', '짜장면', '버리다', '전', '사진', '찍다', '놓다'], ['맞다', '진짜', '짜증나다', '죽다'], ['진짜', '알다', '고맙다'], ['당연하다', '달', '간', '엄청', '고생'], ['그러니까', '관리', '너무', '못', '얘기'], ['너무', '실망', '스럽다', '그만큼', '재밌다', '보고', '믿다', '게', '다', '가짜', '라니'], ['나', '축하', '해주다', '기분', '좋다', '일이', '있다'], ['곰팡이', '제', '거제', '효과', '있다'], ['그러니까', '너무', '오래되다', '집', '이라', '환기', '안', '돼다'], ['여행', '권', '당첨', '되어다'], ['너무', '냄새', '심하다', '버리다', '밖', '에다', '빼', '놨어'], ['야', '자장면', '에서', '벌레', '나오다'], ['오늘', '최종', '발표', '마치다', '이제', '완전하다', '끝나다', '거야'], ['일이', '많다', '바쁘다', '일', '년', '만에', '받다', '휴가', '인데', '비', '오다', '아무', '데', '갈다', '수가', '없다'], ['나', '이벤트', '당첨', '되어다'], ['미세', '먼지', '영향', '많다'], ['그러니까', '비다', '왜', '그렇게', '오다', '거야'], ['아', '짜증', '나', '그', '새끼', '일', '끝나다', '집', '에나', '가지', '남다', '나', '한테', '자꾸', '뭐라다', '해'], ['너무', '너무', '행복하다', '얼마나', '기분', '좋다'], ['다행하다', '우리', '집', '까지는', '물이', '오지', '않다', '그리고', '난', '괜찮다'], ['아니다', '선수', '처럼', '그렇게', '기록', '좋다', '나오다', '않다'], ['갑자기', '내리다', '비', '로', '집', '밖', '물바다', '래'], ['빨리', '미세먼지', '끝나다', '좋다'], ['맞다', '완전하다', '끝나다', '거', '라고', '보다', '돼다'], ['맞다', '장마철', '이라서', '그렇다', '하루', '종일', '화장실', '청소', '만', '기분', '이야'], ['나', '드디어', '프로젝트', '끝내다'], ['사과', '믿다', '수가', '없다', '또', '언제', '사람', '을', '속', '일지', '모르다'], ['너무', '좋다', '친구', '이랑', '매일', '매일', '약속', '잡', '을', '거야'], ['믿다', '유튜버', '인데', '뒷', '광고', '너무', '배신', '감', '느껴지다'], ['완전하다', '끝나다', '속이다', '너무', '시원하다', '그동안', '고생', '을', '많이'], ['그렇다', '몇', '장', '찍다'], ['그렇다', '기분', '나쁘다', '감정', '을', '어떻다', '돼다'], ['완전', '결승선', '에서', '내', '기록', '보고', '나', '진짜', '너무', '놀래다'], ['아', '짜장면', '에서', '벌레', '나오다'], ['전혀', '안', '그렇다'], ['그게', '좋다', '안', '그래도', '써다'], ['아직', '까지', '집', '안', '에는', '물이', '들어오다', '않다', '몸', '괜찮다', '하지만', '혼자', '있다', '너무', '두렵다'], ['응', '무슨', '일이', '냐', '면', '밖에', '비', '너무', '많이', '오다'], ['그렇다', '아', '그냥', '음식', '값', '이나', '환불', '해주다', '좋다'], ['힘들다', '집안', '벌레', '생기다', '전', '얼른', '청소'], ['아직', '집', '안', '까지', '물이', '들어오다', '않다', '몸', '괜찮다'], ['무슨', '말', '나', '이렇게', '고생'], ['맞다', '나', '완전하다', '끝내다', '달', '간', '고생', '많다'], ['마라톤', '대회', '에서', '이전', '기록', '을', '갱신'], ['그러니까', '창문', '없다', '더', '환기', '안', '돼다'], ['몸', '괜찮다', '나가다', '수가', '없다', '겁', '나'], ['주변', '사람', '한테', '이벤트', '당첨', '돼다', '선물', '을', '받다', '자랑', '다', '들다', '부럽다', '해'], ['그거', '좋다', '생각', '인', '거', '같다', '애'], ['알다', '지금', '노트북', '이상', '없다', '꼼꼼하다', '살펴보다'], ['어', '그', '래야', '되다', '아', '냄새', '너무', '심하다', '못', '참다'], ['습기', '너무', '많다', '곰팡이', '생기', '니까', '매일', '청소', '안', '없어지다'], ['그렇다', '그렇다', '좋다', '그렇게', '번', '해보다'], ['그게', '좋다', '그렇게', '해보다'], ['며칠', '전', '자기', '뒷', '광고', '않다', '이야기', '어쩜', '이렇다', '수가', '있다', '진짜', '실망', '스럽다'], ['지금', '집', '인데', '문', '안', '열리다'], ['같이', '서로', '의지', '뛰다', '모임', '있다'], ['쓰레기통', '에다', '내', '음식물', '쓰레', '길', '버리다'], ['너', '안', '당', '해보다', '모르다', '자꾸', '나', '한테', '짜증', '내다', '화', '내다', '차다', '수가', '없다'], ['그래서', '매일', '같이', '청소', '곰팡이', '안', '없어지다'], ['좋다', '거', '같다', '근데', '어떻다', '노래', '듣다'], ['돈', '을', '보이다', '달라', '고'], ['해소', '수', '있다', '방법', '뭐', '있다'], ['냄새', '너무', '심하다', '방향', '제로', '안', '되다', '것', '같다'], ['그렇다', '찍다', '돼다'], ['나', '갇히다', '되다', '것', '같다', '무섭다'], ['아', '정말로', '그', '래야', '되다'], ['회사', '바쁘다', '딱', '년', '만에', '가다', '휴가', '야'], ['너무', '좋다', '그동안', '못', '만나다', '너무', '보다'], ['안', '그렇다', '찾아보다', '있다'], ['나', '프로젝트', '끝나다'], ['당장', '버리다'], ['내', '신경', '쓰다', '열심히', '청소', '곰팡이', '안', '없어지다'], ['바로', '전화하다', '게', '낫다'], ['단', '명'], ['선수', '처럼', '그렇게', '자다', '뛰다', '않다', '기록', '조금', '더', '단축', '되어다', '뿐', '이야'], ['네', '사고', '싶다', '너무', '비싸다', '못', '사다'], ['너무', '많다', '영화', '보고', '음악', '듣다', '게임', '두루', '두루', '많다', '거', '같다'], ['엄청', '무섭다'], ['다음', '부턴', '조심하다', '겠다'], ['한동안', '프로젝트', '진행', '친구', '을', '못', '만나다', '이번', '기회', '만나다', '보다'], ['냄새', '처리', '해보다'], ['어떡하다', '짜장면', '에서', '벌레', '나오다'], ['그래서', '매일', '청소', '있다', '곰팡이', '안', '없어지다', '어떻다', '해'], ['그래서', '너', '한테', '무섭다', '말', '거', '거야', '지금'], ['결국', '에는', '대', '청소', '것', '같다', '너무', '지저분하다', '벌레', '까지', '있다', '것', '같다'], ['화장실', '을', '청소', '곰팡이', '없어지다', '않다'], ['응', '근데', '너무', '꺼림칙하다', '내', '버리다', '기', '싫다'], ['신나다', '음악', '추천', '해주다'], ['벌레', '나오다', '거', '당연하다', '거지'], ['그렇게', '너무', '기분', '더럽다'], ['알다', '지금', '당장', '그렇다'], ['그', '새끼', '일', '없다', '집', '에나', '갈다', '것', '이지', '왜', '괴롭히다'], ['그래서', '매일', '매일', '청소', '있다', '곰팡이', '안', '없어지다'], ['내', '저번', '가지', '고', '싶다', '향수', '그거', '이벤트', '당첨', '돼다'], ['어', '진짜', '무책임하다'], ['어', '나', '혼자', '야', '너무', '무섭다'], ['그렇다', '말', '이야', '어떻다', '그렇다', '일이', '생기지'], ['노트북', '을', '밖', '에서', '쓸다', '일도', '생기다', '보험', '가입', '을', '생각', '해보다'], ['친구', '이랑', '인제', '여행', '가다', '휴식', '취'], ['알다', '그동안', '못', '보다', '영화', '몰다', '보다'], ['아니다', '요즘', '다', '들다', '왜', '그렇다', '난', '이해', '수가', '없다'], ['아', '짜증나다', '그', '새끼', '일', '없다', '집다', '석', '이나', '겨', '들어가다', '것', '이지', '왜', '내', '옆', '붙다', '짜증', '내다', '지랄', '이대'], ['당첨', '명', '이다', '운', '좋다', '내', '당첨', '되어다'], ['달리다', '동안', '에는', '엄청', '힘들다', '결승선', '을', '통과', '순간', '기분', '너무', '좋다'], ['노트북', '을', '좋다', '것', '을', '구입', '오래', '쓸다', '수', '있다', '보험', '을', '가입', '것', '생각', '해보다'], ['완전', '폭발', '직전', '이야'], ['맞다', '뛰다', '동안', '가슴', '터지다', '줄', '알다'], ['뭐', '때문', '인지', '모르다', '어떻다', '되다', '건지다'], ['그렇다', '그렇다', '바로', '사진', '찍다'], ['응', '그것', '좋다'], ['자다', '때', '그렇게', '많다', '비', '오다', '모르다', '비', '엄청', '많이', '오다', '우리', '동네', '다', '물', '잠기다'], ['프로젝트', '달', '동안', '친구', '못', '만나다', '친구', '이번', '기회', '만나다', '보다', '너무', '신나다'], ['그동안', '회사', '바쁘다', '년', '동안', '못', '가다'], ['그렇다', '곰팡이', '제', '거제', '혹시', '추천', '해주다', '거', '있다'], ['좋다', '거', '알', '고', '있다', '나', '추천', '해주다', '수', '있다', '그러면'], ['나', '명', '뽑다', '거', '이다'], ['내일', '친구', '만나다', '클럽', '가기', '로'], ['너무', '좋다', '신나다', '음악', '들다', '스트레스', '날다', '버리다', '싶다'], ['아', '거', '곰팡이', '냄새', '어떻다', '처리', '되다', '것', '같다', '그', '방법', '알다', '수', '있다'], ['아깝다', '말', '집', '주변', '다', '물바다', '라고', '나가다', '못'], ['일단', '친구', '만나다', '얘기', '하고', '여행', '생각', '해보다'], ['지금', '바로', '신고', '신고', '어디', '다', '되다', '모르다'], ['맞다', '이제', '자유롭다'], ['바로', '그렇게', '거야'], ['노래', '추천', '해주다'], ['아니다', '다', '들다', '왜', '그렇다', '이해', '안', '가다'], ['아니다', '요즘', '왜', '그렇다', '거야'], ['신나다', '음악', '을', '들다', '춤', '을', '추다', '싶다', '정도', '로', '기분', '너무', '좋다'], ['아', '짜증나다', '그', '새끼', '왜', '맨날', '나', '한테', '만', '그렇다'], ['나다', '자다', '모르다', '자고', '일어나다', '온통', '물바다', '되어다', '있다'], ['전화', '안'], ['그렇다', '새끼', '욕', '치다', '먹다', '그렇다', '있다', '거', '라고', '욕', '을', '더', '못', '해주다', '이구만'], ['명', '요'], ['자고', '일어나다', '우리', '집', '빼다', '주위', '다', '물', '잠기다'], ['너', '말', '대로', '장마철', '이라서', '곰팡이', '더', '많이', '생기', '나', '보다', '곰팡이', '제거', '수', '있다', '방법', '없다'], ['나', '향수', '이벤트', '당첨', '돼다'], ['아니다', '요즘', '다', '왜', '이르다', '거지', '이해', '안', '되다'], ['나', '축하', '일', '있다', '기분', '정말', '좋다'], ['내', '쓰레기통', '을', '제때', '비우다', '않다', '그렇다'], ['당연하다', '구매', '좋다', '제품', '있다', '알다', '주다'], ['어', '완전하다', '다', '끝나다', '너무', '시원하다'], ['들다', '다니다', '자랑', '일', '처리'], ['헐다', '나', '이벤트', '당첨', '돼다', '보다'], ['집', '안', '에서', '안', '좋다', '냄새', '진동', '을', '힘들다', '얼른', '청소'], ['바닷가', '놀다', '가다', '거', '이다'], ['고장', '난', '거', '같다', '반응', '없다'], ['여행', '너무', '너무', '가다', '싶다'], ['바로', '버리다', '해'], ['나', '혼자', '갇히다', '돼다', '너무', '무섭다', '두렵다'], ['사과', '영상', '을', '보다', '자기', '변명', '만', '있다', '사과', '진실되다', '않다', '보이다'], ['너무', '많다', '그렇다', '시간', '없다'], ['응', '이제', '끝나다', '이제', '쉬다', '돼다'], ['몸', '괜찮다', '집', '안', '물이', '들어오다', '엄청', '두렵다'], ['들다', '보다', '곰팡이', '제', '거제', '과연', '효과', '있다'], ['응', '사진', '벌써', '찍다'], ['매일', '환기', '시키다', '곰팡이', '계속', '생기다'], ['짜증나다', '그', '새끼', '일이', '없다', '집', '에나', '갈다', '것', '이지', '왜', '항상', '나', '한테', '만', '그렇다'], ['선수', '아니다', '내', '달리다', '운동', '을', '너무나', '좋아하다', '매번', '열리다', '마라톤', '대회', '나가다', '있다'], ['나', '어떡하다', '지금', '엘리베이터', '갇히다'], ['아니다', '나', '혼자', '뛰다'], ['짜장면', '에서', '벌레', '나오다', '더럽다', '갖다', '버리다', '야하다', '것', '같다'], ['맞다', '자다', '가르치다', '않다', '나르다', '혼내다', '일만', '시키다'], ['쓰레기통', '에서', '정말', '역겹다', '냄새', '나기', '시작'], ['집', '안', '갇히다', '밖에는', '물이', '많이', '고여', '있다'], ['아무', '음악', '이나', '추천', '해주다'], ['내', '사진', '찍다', '보여주다'], ['하', '짜증나다', '그', '새끼', '일이', '없다', '집', '에나', '갈다', '것', '이지', '왜', '나', '한테', '만', '그렇다'], ['노트북', '을', '가지', '고', '나가다', '일이', '생기다', '수도', '있다', '보험', '가입', '을', '생각', '해보다'], ['욕', '먹다', '욕'], ['그렇다', '구매', '생각', '있다', '추천', '해', '주다', '보다', '그거', '라도', '써다', '없애다'], ['맞다', '미세먼지', '때문', '감기', '걸리다', '마스크', '써다', '고', '힘들다', '죽다', '정말'], ['환기', '계속', '곰팡이', '생기다', '문', '너무', '작다', '그렇다', '가보다'], ['여행', '가다', '싶다', '정말로', '시기', '안', '좋다'], ['맞다', '그', '사람', '대한', '신뢰', '까지', '무너지다', '버리다', '너무', '속상하다'], ['응', '구매', '생각', '있다', '번', '사보다'], ['응', '화장실', '만', '닫다', '있다'], ['총', '명', '추첨', '뽑다', '거', '이다'], ['음', '그렇다', '그거', '정말', '좋다', '생각', '이다'], ['냄새', '방향', '제로', '처리', '나다', '거야'], ['응', '완전하다', '프로젝트', '끝나다'], ['응', '평소', '가지', '고', '싶다', '거야'], ['아무래도', '그', '래야', '것', '같다', '나', '영화', '좋아하다'], ['화장실', '청소', '해도', '곰팡이', '냄새', '없어지다', '않다'], ['정전', '돼다', '나', '무섭다'], ['내', '쓰레기통', '을', '제', '때', '안', '비우다', '그렇다'], ['사실', '이번', '내', '마라톤', '대회', '나가다', '생각', '보다', '기록', '많이', '갱신', '돼다', '기분', '좋다', '지금'], ['응', '내', '좋아하다', '스타벅스', '커피', '야'], ['이미', '터지다', '버리다'], ['다음', '번', '엔', '조심하다', '되다'], ['휴가', '기간', '내내', '비', '오다', '아무래도', '집', '에서', '보내다', '수', '있다', '방법', '을', '찾아보다', '되다', '거', '같다', '쉬다', '휴가', '즐겁다', '보내다', '수', '있다', '방법', '을', '찾아보다'], ['한동안', '못', '가다', '여행', '을', '떠나다', '것', '의미', '있다', '것', '같다'], ['화장실', '청소', '해도', '곰팡이', '사라지다', '않다'], ['욕', '수도', '있다', '너무', '짜증나다', '그러니까'], ['구매', '노트북', '도착', '나', '얼른', '뜯다', '보다'], ['유명하다', '유튜버들', '다', '들다', '돈', '받다', '뒷', '광고', '해주다', '있다'], ['그렇다', '보다', '그렇다'], ['아흐', '저', '만', '지기', '싫다', '아', '휴'], ['당연하다', '자랑', '비싸다', '향수', '선물', '로', '받다', '자랑', '다', '들다', '부러워하다'], ['그렇다', '있다', '당장', '가입'], ['그렇다', '다음', '주', '쯤', '제주도', '여행', '이나', '한번', '보다'], ['전화하다', '환불', '받다', '되다'], ['아', '모르다', '나', '어떻다', '나가다'], ['어', '이제', '드디어', '끝나다'], ['안', '괜찮다', '구조', '해주다'], ['우와', '너', '완전', '생각', '깊다', '고맙다'], ['락스', '같다', '거', '사서', '청소'], ['안', '에서', '음식물', '썩다', '보다'], ['고약하다', '냄새', '방향', '제로', '처리', '게', '가장', '좋다', '방법', '인', '거', '같다'], ['난', '스트레스', '확', '날다', '줄', '음악', '필요하다'], ['오다', '짜장면', '에서', '벌레', '나오다'], ['신나다', '음악', '을', '듣다', '것', '좋다', '것', '같다'], ['나', '축하', '해주다', '기분', '좋다', '일이', '있다'], ['혹시', '추천', '해주다', '곰팡이', '제', '거제', '있다', '안', '그래도', '지금', '주문'], ['너무', '냄새', '드럽다'], ['아', '짜증나다', '그', '새끼', '왜', '항상', '나', '한테', '만', '그렇다', '왜', '그', '지랄', '이야'], ['나', '보통', '친하다', '친구', '랑', '해'], ['몸', '다행하다', '괜찮다'], ['맞다', '결승선', '정말', '기분', '좋다'], ['니', '안', '당', '해보다', '그렇다', '저런', '놈', '욕', '을', '해주다', '되다'], ['맞다', '버리다', '되다', '너무', '많다', '어떻다', '버리다', '되다'], ['너무', '마음', '들다', '얼마나', '갖다', '싶다', '향수', '인데'], ['선수', '아니다', '내', '운동', '을', '좋아하다', '열심히', '달리다'], ['내', '냄새', '나다', '그냥', '놔두다'], ['욕', '만', '게', '그', '놈', '나', '한테', '만', '그렇다', '넌', '안', '당', '해보다', '그렇다'], ['그', '정도', '아니다'], ['완전', '끝나다'], ['이번', '마라톤', '대회', '나가다', '내', '기록', '엄청', '향상', '되어다'], ['응', '어디', '다가', '버리다', '알', '아'], ['그렇다', '난', '어떻다', '되다'], ['알다', '내일', '친구', '만나다', '약속', '해보다'], ['그렇다', '구매', '좋다', '상품', '있다', '얘기', '해주다'], ['응', '명', '뽑다', '거', '이다', '별로', '기대', '안', '너무', '기분', '좋다'], ['어떻다', '영상', '인데'], ['좋다', '생각', '이네', '영화', '하루', '종일', '볼', '거야'], ['에이', '그', '정도', '아니다', '그래도', '나', '진짜', '많이', '늘다', '것', '같다'], ['내', '마라톤', '대회', '출전', '이전', '내', '기록', '을', '훨씬', '갱신', '너무', '기분', '좋다'], ['쓰레기통', '에서', '역겹다', '냄새', '나'], ['맞다', '미세먼지', '때문', '실내', '에서도', '마스크', '써다', '되다', '지경', '이야'], ['회사', '정말', '바쁘다', '년', '만에', '휴가', '내다', '거', '이다'], ['명', '만', '뽑다', '거', '이다', '내', '당첨', '돼다'], ['좋다', '음악', '있다'], ['그냥', '집', '에서', '푹', '쉬다'], ['안', '그렇다', '벌써', '약속', '많이', '잡히다'], ['유명하다', '인', '플루', '언', '서', '이벤트', '진행', '하고', '있다'], ['그렇다', '나', '한테', '공감', '해주다', '사람', '너', '밖에', '없다'], ['내', '좋아하다', '인', '플루', '언', '서', '진행', '이벤트', '당첨', '돼다', '너무', '기쁘다'], ['내', '그것', '안', '그냥', '개다'], ['니', '그', '새끼', '한테', '안', '당', '해보다', '그렇다', '나', '한테', '만', '그렇다', '그', '개새끼'], ['내', '달리다', '운동', '을', '너무나', '좋아하다', '마라톤', '대회', '매번', '나가다', '있다'], ['어', '그렇다', '모르다', '알다', '감사하다'], ['내', '버리다', '음식물', '쓰레기', '상해', '서', '냄새', '나다', '있다'], ['그렇다', '너무', '갖다', '향수', '인데', '마음', '들다'], ['네', '믿다', '써다'], ['페이', '로또', '당첨', '되다', '것', '같다'], ['아무리', '청소', '해도', '화장실', '곰팡이', '없어지다', '않다'], ['제품', '문제', '없다', '것', '같다', '노트북', '너무', '마음', '들다'], ['너무', '맘', '들다', '그동안', '내', '얼마나', '사고', '싶다', '향수', '이다'], ['장마철', '이라서', '습기', '많다', '그렇다', '곰팡이', '계속', '생기', '니까', '신경', '쓰이다'], ['만', '원', '넘다', '이번', '엔', '투자'], ['오늘', '최종', '발표', '이제', '완전하다', '다', '끝나다'], ['달리다', '크루', '있다', '지치다', '힘들다', '때', '크다', '힘', '되어다'], ['아니다', '나', '욕', '스트레스', '풀리다'], ['나', '아무래도', '갇히다', '것', '같다'], ['자고', '일어나다', '다른', '집', '사람', '다', '피신', '더', '라고'], ['아무래도', '그', '래야', '되다'], ['다행하다', '비상', '벨', '정상', '이야'], ['아니다', '방향', '제', '무슨', '그냥', '내', '다음', '부터', '조심하다', '어쩌겠어'], ['응', '니', '말', '맞다', '나', '원래', '욕', '자다', '안', '너무', '짜증', '나서다', '욕', '을'], ['나', '드디어', '노트북', '사다'], ['짜증나다', '그', '새끼', '일', '없다', '집', '에나', '갈다', '것', '이지', '늦다', '결혼', '못', '히스테리', '부리다', '거야', '뭐', '야', '왜', '맨날', '나', '한테', '만', '그렇다'], ['내', '이번', '마라톤', '대회', '출전', '그', '곳', '에서', '내', '기록', '엄청', '좋아지다'], ['응', '내', '평소', '되게', '쓰다', '싶다', '거', '라서', '너무', '마음', '들다'], ['다른', '직원', '한테', '늘다', '친절하다', '나', '한테', '만', '인상', '쓰다', '짜증', '을', '내'], ['그니까', '여행가', '고', '싶다'], ['몸', '괜찮다', '집', '안', '에까지', '물이', '들어오다', '너무', '무섭다'], ['그렇게', '아무래도', '너무', '문제', '있다', '것', '같다'], ['딱', '다섯', '명', '주다', '거', '이다', '대박', '아니다'], ['마라톤', '신기록', '을', '갱신'], ['명', '뽑다', '거', '이다', '돼다'], ['아니다', '매', '일', '매일', '많이', '연습', '그게', '있다', '거', '같다', '애', '요'], ['아직', '안', '오다'], ['사진', '을', '정확하다', '찍다', '놨으', '니까', '증거', '자료', '로', '제출', '거야'], ['친구', '하고', '여름', '바다', '가다', '수영', '신나다', '놀리다'], ['그', '새끼', '자꾸', '나', '한테', '뭐라다', '욕', '나오다', '거야'], ['증거', '로', '벌레', '나오다', '짜장면', '을', '찍다', '놨으', '니까', '확실하다', '조치', '취', '해주다'], ['오다', '짜장면', '에서', '벌레', '나오다'], ['괜찮다', '지금', '구매', '하고', '싶다'], ['그렇다', '야하다', '것', '같다', '냄새', '곰팡이', '까지', '피다', '너무', '역다', '냄새'], ['집', '안', '나', '혼자', '있다', '정말', '무섭다', '두렵다'], ['추천', '해주다', '고맙다', '나다', '여행', '갈다', '생각', '거들다'], ['응', '끝나다', '이제', '쉬다'], ['어쩔', '수', '없다', '내', '실수', '니까', '깨끗하다', '치우다'], ['오늘', '최종', '발표', '마치다', '이제', '완전하다', '끝나다', '거야'], ['휴가', '기간', '내내', '비소', '식이', '있다', '너', '말', '대로', '해보다'], ['나', '축하', '해주다', '아주', '기분', '좋다', '일이', '있다'], ['우리', '집', '올라가다', '엘레베이터', '라니까'], ['쓰레기통', '에서', '역겹다', '냄새', '나다', '있다', '어떡하다'], ['더', '이야기'], ['고약하다', '냄새', '방향', '제로', '처리', '게', '가장', '좋다', '거', '같다'], ['오다', '시발', '짜장면', '에서', '벌레', '나오다'], ['응', '맨날', '연습'], ['그', '런가', '내', '못'], ['그래서', '매일', '매일', '청소', '있다', '곰팡이', '안', '없어지다'], ['아니다', '요즘', '다', '왜', '이르다', '거지', '이해', '안', '돼다'], ['맞다', '성격', '별로', '안', '좋다'], ['오', '그거', '좋다', '생각', '인데', '번', '바로', '해보다'], ['밖에', '비', '너무', '많이', '오다', '집', '갇히다'], ['오랜', '만', '친구', '이랑', '동해', '바다', '가다', '놀다', '오기', '로', '비', '때문', '갈다', '수가', '없다'], ['뭔가', '썩다', '있다', '모양', '이야'], ['영화', '보다', '거'], ['신나다', '음악', '을', '들다', '춤', '이라도', '추다', '싶다', '게', '내', '심정', '이야', '그만큼', '기분', '좋다'], ['진짜', '많이', '실망', '스럽다'], ['오다', '나', '이벤트', '당첨', '돼다'], ['아', '짜증나다', '그', '새끼', '일', '다', '끝나다', '집', '에나', '갈다', '것', '이지', '남다', '나', '한테', '자꾸', '잔소리', '해'], ['내', '등', '이야'], ['그러니까', '다음', '부터는', '이렇다', '일이', '발생', '않다', '좋다'], ['휴', '그렇다', '그냥', '음악', '이나', '들다', '기분', '을', '풀다', '나', '신나다', '음악', '을', '좋아하다'], ['아니다', '지금', '막', '홍수', '나가다', '대', '피하', '라는', '데', '아무래도', '문', '을', '못', '열', '것', '같다', '애'], ['에이', '빨리', '치우다', '버리다', '고맙다'], ['친구', '한테', '한번', '연락', '해보다'], ['어쩌라고', '그', '새끼', '편', '들다'], ['명', '뽑다', '거야', '근데', '그게', '내', '되다', '거지'], ['무섭다', '어떡하다', '되다', '모르다'], ['조심하다'], ['그', '놈', '욕', '먹다', '짓', '을', '자꾸', '나', '한테', '만', '그렇다'], ['쓰레기통', '역겹다', '냄새', '나'], ['응', '나', '혼자', '야', '너무', '무섭다'], ['헐다', '야', '나', '이벤트', '당첨', '돼다'], ['아니다', '다', '해봤다'], ['힘들다', '얼른', '방', '을', '치우다', '것', '같다', '냄새', '때문', '벌레', '생기다', '것', '같다'], ['드디어', '구매', '노트북', '오다'], ['내', '잠', '을', '자다', '동안', '비', '엄청', '많이', '오다', '우리', '지역', '홍수', '피해', '지역', '돼다', '그래서', '나', '고립', '되다', '거', '같다'], ['곰팡이', '제', '거제', '효과', '있다'], ['기분', '나쁘다', '걸', '어떻다', '해'], ['집', '나', '혼자', '있다', '주위', '사람', '다', '피신', '것', '같다'], ['그렇다', '음악', '들다', '더', '신나다'], ['나', '축하', '해주다', '정말', '기분', '좋다', '일', '있다'], ['내', '얘기', '들어주다', '고맙다'], ['너무', '좋다', '나르다', '갈다', '거', '같다', '기분', '을', '느끼다', '너무', '행복하다'], ['지금', '나', '혼자', '야', '아무', '없다'], ['나', '갇히다', '되다', '거', '같다', '어떻다', '해'], ['년', '만에', '휴가', '야', '그동안', '너무', '바쁘다', '제대로', '쉰', '적', '없다'], ['신나다', '걸', '로', '부탁'], ['으', '너', '안당', '해보다', '모르다', '내', '오죽하다', '욕', '을', '너무', '화가', '나다', '짜증나다', '그렇다'], ['너', '말', '대로', '사진', '을', '찍다', '놓다'], ['한동안', '가지', '못', '여행', '을', '다녀오다', '것', '좋다', '것', '같다'], ['그니까', '창문', '작다', '그', '런가'], ['영상', '을', '보다', '사과', '라기보다는', '자기', '변명', '만', '있다', '더', '화가', '나다'], ['치우다', '게', '너무', '힘들다', '방', '에서', '냄새', '나', '것', '보다', '낫다', '얼른', '청소'], ['그렇게', '게', '맞다', '거', '같다', '애'], ['웬', '동문서답', '이야', '너', '바보', '야'], ['정말', '힘들다', '뛰다', '나서다', '너무', '기분', '좋다', '보름', '느끼다'], ['당첨', '선물', '내', '너무나', '갖다', '싶다', '향수', '라서', '너무', '마음', '들다'], ['힘들다', '너무', '너무', '행복하다'], ['당연하다', '알다', '사람', '한테', '내', '이벤트', '당첨', '돼다', '선물', '을', '받다', '이야기'], ['유명하다', '인', '플루', '언', '서', '이벤트', '야'], ['알다', '친구', '하고', '만나다', '여행', '계획', '을', '한번', '세우다', '볼', '게'], ['아', '짜증나다', '그', '새끼', '일', '없다', '집', '에나', '갈다', '것', '이지', '왜', '항상', '나', '한테', '만', '그렇다'], ['괜찮다', '고맙다'], ['화장실', '청소', '해도', '왜', '이렇게', '더럽다'], ['포기', '하고', '싶다', '기록', '갱신', '을', '수', '있다', '좋다'], ['그것', '소용', '없다'], ['화장실', '곰팡이', '안', '사라지다'], ['아', '그렇다', '거', '좋다', '생각', '인', '거', '같다', '애'], ['그렇게', '니', '말', '안', '해주다', '알', '아', '내', '버리다', '거야'], ['축하', '해주다', '기분', '좋다', '일이', '있다'], ['알다', '지금', '노트북', '을', '뜯다', '보고', '괜찮다', '여기저기', '살펴보다'], ['좋다', '생각', '이야', '방향', '제도', '일단', '문도', '열다'], ['그렇다', '놈', '욕', '치다', '먹다', '거', '라고', '그렇다', '욕', '을', '해주다'], ['그', '상사', '욕', '먹다', '싸다'], ['좋다', '나', '여행', '다니다', '거', '좋아하다'], ['층', '에서', '멈추다', '이제', '불도', '꺼지다', '어떡하다'], ['곰팡이', '제', '거제', '중', '에서', '효과', '뭐', '좋다', '알', '아'], ['그렇다', '보험', '있다', '당연하다', '가입'], ['너무', '기분', '좋다', '아주', '행복하다'], ['그거', '써다', '안', '없어지다'], ['함께', '달리다', '크루', '있다', '내', '지치다', '힘들다', '때', '아주', '크다', '힘', '되어다', '있다'], ['혼자', '집', '안', '갇히다', '되다', '엄청', '무섭다'], ['그거', '번', '써다', '보다'], ['응', '쓰레기', '버리다', '다치다', '쓰레기통', '에서', '냄새', '안', '빠지다'], ['아무래도', '집', '안', '갇히다', '되다', '거', '같다'], ['다행하다', '우리', '집다', '안', '잠기다', '그리고', '난', '괜찮다'], ['알다', '그렇다', '보험', '금방', '들다'], ['기분', '좋다', '신나다', '음악', '을', '듣다', '것', '좋다', '것', '같다'], ['유명하다', '인', '플루', '언', '서', '이벤트', '인데', '내', '거기', '신청'], ['야', '혼자', '천사', '인척'], ['너무', '화가', '나서다', '아무', '영상', '보고', '싶다', '않다'], ['집', '있다', '모르다', '번', '찾아보다'], ['알다', '여행', '계획', '세우다', '볼', '게'], ['응', '평소', '같이', '조깅', '달리기', '같이', '운동', '크루', '있다'], ['그렇다', '좋다', '고맙다', '알다'], ['알다', '내', '바로', '오다', '너', '부터', '보여주다'], ['맞다', '달', '간', '얼마나', '고생', '많다'], ['근데', '이렇다', '일이', '처음', '이라', '어떻다', '진행', '되다', '지다', '자다', '모르다'], ['알다', '내', '다', '알다', '걱정', '마'], ['자고', '일어나다', '보다', '전화', '여러', '통', '오다', '있다', '물', '밖에', '잔뜩', '고여', '있다'], ['명', '뽑다', '내', '되다', '거야'], ['그렇다', '음악', '이나', '들다', '기분', '풀다', '나', '신나다', '음악', '좋아하다'], ['우와', '짜장면', '에서', '벌레', '나오다'], ['그래서', '그', '런가', '하루', '종일', '화장실', '청소', '만', '기분', '이야'], ['최종', '발표', '마치다', '모든', '게', '다', '끝나다', '너무', '홀가분하다'], ['아니다', '문', '자주', '열다', '놓다', '근데', '곰팡이', '계속', '생기다', '거야'], ['비싸다', '거', '못', '사다', '알바', '비', '모으다', '사다'], ['아니다', '진짜', '존내', '예민하다', '짜증나다'], ['너', '말', '대로', '시간', '되다', '여행', '계획', '또', '세우다', '볼', '게'], ['응', '좋다', '나', '너무', '행복하다'], ['내', '음식물', '쓰레기', '쓰레기통', '버리다', '생기다', '일이', '잖다', '힘들다', '청소'], ['어쩔', '수', '없이', '집', '에서', '놀', '수', '있다', '걸', '찾아보다', '되다', '영화', '나', '실컷', '보다', '겠다'], ['오늘', '저녁', '당장', '약속', '잡다', '안', '되다'], ['면', '에서', '벌레', '나오다'], ['신나다', '음악', '좋다', '얼른', '하나', '만', '고르다', '듣다'], ['화장실', '청소', '해도', '곰팡이', '없어지다', '않다'], ['갑자기', '엘리베이터', '멈추다', '불도', '꺼지다'], ['선물', '완전', '좋다', '아주', '비싸다', '향수', '야'], ['내', '좋아하다', '유튜버', '좋다', '제품', '이라고', '소개', '알', '고', '보다', '그게', '돈', '받다', '광고', '이다'], ['그래서', '화장실', '을', '매', '일', '매일', '청소', '하고', '있다', '곰팡이', '안', '없어지다'], ['갑자기', '장마', '지면', '서', '비', '많이', '내다', '우리', '동네', '고립', '되다', '갇히다', '되어다'], ['알다', '화', '내다', '지금', '버리다', '묶다'], ['아직', '말', '안', '향수', '오다', '향수', '보여주다', '자랑'], ['완전', '기분', '더럽다'], ['그렇다', '얘기', '해주다', '고맙다'], ['에이', '그건', '아니다', '선수', '급', '가깝다', '내'], ['그', '것', '좋다', '생각', '이에요'], ['그러니까', '야', '니', '같다', '안', '빡치다', '진짜', '개', '짜증나다'], ['어', '나', '혼자', '있다', '지금', '너무', '무섭다'], ['그', '새끼', '일', '끝나다', '빨리', '집', '에나', '가지', '회사', '남아', '서', '자꾸', '나', '괴롭히다'], ['그러면', '추천', '해주다', '보다', '내', '쓰다', '건', '효과', '없다'], ['프로젝트', '진행', '달', '동안', '친구', '을', '못', '만나다', '이번', '기회', '만나다', '보다'], ['곰팡이', '제', '거제', '효과', '있다', '나', '구매', '해보다'], ['아', '보다', '것', '아니다', '너무', '답답하다', '죽다', '그렇다'], ['구매', '겠다', '좋다', '거', '있다', '추천', '해주다'], ['있다', '휴가', '자다', '모르다', '주말', '다녀오다', '순', '있다', '거', '같다', '번', '찾아보다', '그것'], ['계속', '생기다', '곰팡이', '어떻', '게', '하', '면', '없애다', '수', '있다'], ['치킨', '프로', '없다'], ['유명하다', '유튜버들', '죄다', '뒷', '광고', '있다'], ['오늘', '부터', '휴가', '인데', '장마철', '이랑', '겹', '치다', '하루', '종일', '비', '오다'], ['오랜', '만', '가족', '이랑', '동해', '바다', '가다', '놀다', '그런데', '비땜', '망하다'], ['딱', '명', '만', '뽑다', '건데', '내', '뽑히다'], ['내', '너무나', '좋아하다', '인', '플루', '언', '서', '진행', '이벤트', '있다', '거기', '당첨', '돼다'], ['너무', '많이', '오다', '나', '나가다', '수가', '없다'], ['나', '몸', '괜찮다', '대신', '우울하다'], ['아', '짜장면', '에서', '벌레', '나오다'], ['아', '당연하다', '벌레', '나오다', '게', '무슨', '소리', '야'], ['아', '그렇다', '한데', '상사', '상사', '같다'], ['그렇다', '우리', '집', '빼다', '다', '물바다', '야'], ['명', '뽑다', '거', '이다', '운', '좋다', '내', '돼다'], ['일단', '인사', '팀', '말', '거야', '그', '사람', '옮기다', '내', '옮기다', '내', '떠나다'], ['다른', '직원', '한테', '늘다', '친절하다', '나', '한테', '만', '짜증', '내다', '뭐라다', '너무', '많이', '화가', '나서다', '그렇다'], ['오랜', '만', '가족', '이랑', '여행', '을', '가다', '것', '의미', '있다', '것', '같다', '생각', '한번', '해보다'], ['어', '그렇다', '진짜', '고맙다'], ['아니다', '요즘', '다', '왜', '이르다', '아', '이해', '안', '돼다'], ['내', '쓰레기통', '버리다', '음식물', '쓰레기', '상해', '서', '냄새', '나', '거야'], ['장마철', '이라서', '곰팡이', '많이', '생기다', '신경', '쓰이다'], ['컴퓨터', '오래', '쓸다', '수', '있다', '가입', '보험', '을', '들다', '보다'], ['내', '정말', '믿다', '유튜버', '인데', '뒷', '광고', '너무', '속상하다', '실망', '스럽다'], ['드디어', '구매', '노트북', '도착', '얼른', '열다', '보다'], ['몸', '괜찮다', '집', '주변', '까지', '물이', '차오르다', '집', '물이', '들어오다', '걱정', '돼다'], ['나', '마라톤', '이번', '기록', '을', '갱신'], ['내', '실수', '니까', '열심히', '깨끗이', '치우다'], ['고맙다', '도움', '돼다'], ['아니다', '그렇다', '말', '이야', '아', '진짜', '사람', '없다', '것', '아니다', '왜', '나', '한테', '만', '그렇다'], ['알다', '그', '상사', '말', '이야', '왜', '항상', '나', '한테', '만', '그렇다', '이해', '안', '되다'], ['당연하다', '같이', '운동', '하고', '같이', '신청', '뛰다', '사람', '있다'], ['휴가', '기간', '내내', '비', '소식', '있다', '아무래도', '집', '에서', '즐기다', '수', '있다', '방법', '을', '찾아보다'], ['욕', '마음', '풀리다', '않다', '그냥', '음악', '이나', '들다', '마음', '을', '풀다', '나', '발라드', '좋다'], ['내', '버리다', '음식물', '쓰레기', '썩다', '냄새', '나', '거야'], ['친구', '이랑', '맛있다', '먹다'], ['내', '달리다', '운동', '을', '너무', '좋아하다', '매번', '열심히', '연습', '마라톤', '대회', '출전', '좋다', '성적', '을', '내다', '거', '같다'], ['어우', '쓰레기통', '에서', '무슨', '역겹다', '냄새', '나'], ['그렇다', '한번', '구매', '해보다', '싶다', '좋다', '제품', '고르다', '보다'], ['벌레', '나오다', '짜장면', '을', '사진', '찍다', '증거', '확실하다', '아무', '말', '못'], ['아', '진짜', '짜증나다', '그', '새끼', '나', '한테', '만', '지랄', '이야'], ['기록', '갱신', '기분', '좋다'], ['마라톤', '경기', '에서', '내', '기록', '을', '갱신'], ['그', '말', '만', '믿다', '제품', '산', '사람', '많다'], ['완전하다', '끝나다', '아주', '속이다', '다', '시원하다'], ['달리다', '동안', '에는', '너무', '힘들다', '결승선', '을', '통과', '순간', '기분', '엄청', '좋다'], ['기분', '좋다', '신나다', '음악', '듣다', '것', '좋다'], ['네', '완전하다', '끝나다', '최종', '발표', '나다'], ['그거', '랑은', '다른', '의견', '이지', '않다'], ['근데', '그거', '때문', '너무', '스트레스', '받다', '지금'], ['내', '쓰레기통', '버리다', '음식물', '쓰레기', '상해', '서', '냄새', '나', '것', '같다'], ['그렇다', '꼭'], ['나', '축하', '해주다', '좋다', '일', '생기다'], ['아직', '안', '선물', '오다'], ['영화', '보고', '게임', '음악', '듣다', '일이', '너무', '많다', '채팅', '두루', '두루', '기분', '좋다'], ['신나다', '음악', '좋다', '좋다', '거', '있다'], ['맞다', '맨날', '나', '만', '미워하다', '나', '한테', '만', '못', '되다', '굳다', '내', '뭘', '잘못', '것', '아니다'], ['당첨', '명', '인데', '내', '당첨', '되어다'], ['어', '완전하다', '마무리', '돼다', '이제', '다', '끝', '이야'], ['그렇다', '알다', '고맙다'], ['어', '원래', '갖다', '향수', '여서', '기분', '너무', '좋다'], ['쓰레기통', '에서', '역겹다', '냄새', '나다', '있다'], ['방향', '제', '없다', '집'], ['휴가', '첫', '날', '부터', '장마철', '이라', '비', '오다', '있다'], ['짜증나다', '그', '새끼', '일', '없다', '집', '에나', '갈다', '것', '이지'], ['어', '바닷가', '가다', '거', '이다'], ['그렇다', '혼자', '집', '가다'], ['사과', '영상', '을', '보고', '나', '니까', '너무', '화가', '나', '내', '화', '잠재우다', '줄', '수', '있다', '영상', '있다'], ['기분', '좋다', '신나다', '음악', '듣다', '거', '정말', '좋다', '거', '같다'], ['쓰레기', '썩다', '냄새', '랑', '방향', '제', '냄새', '랑', '섞이다', '이상하다', '지다', '서다', '못', '쓰다'], ['지금', '비상', '상황', '이야', '어떻다', '지다'], ['구매', '좋다', '거', '추천', '해주다', '강력하다', '걸', '로'], ['노트북', '보험', '있다', '가끔', '밖에', '가지', '고', '나가다', '일이', '생기다', '수도', '있다', '노트북', '보험', '대해', '서', '생각', '해보다'], ['청소', '해도', '곰팡이', '없어지다', '않다'], ['유튜버들', '사람', '을', '속이다', '광고'], ['내', '음식물', '쓰레기', '쓰레기통', '버리다', '생기다', '일이', '니까', '어쩔', '수', '없이', '얼른', '청소'], ['아무래도', '그', '래야', '것', '같다', '영화', '보고', '싶다'], ['사장', '님', '한테', '벌레', '나오다', '그냥', '가져가다', '버리다'], ['아', '사진', '당연하다', '찍다', '아', '진짜', '후기', '그냥', '써다', '버리다', '생각', '중', '이야', '짜증나다', '진짜', '돈', '만', '버리다'], ['내', '키로', '마라톤', '기록', '어', '분', '빨르다'], ['비싸다', '건', '못', '사다', '알바', '비', '모으다', '산', '거', '거들다'], ['그것', '좋다', '생각', '이야', '오랜', '만', '친구', '만나다', '신나다', '놀다', '겠다'], ['응', '맞다', '음식물', '상해', '서', '그렇다', '것', '같다', '애', '버리다', '좋다'], ['어떻다', '좋다'], ['우리', '집', '갇히다', '주변', '다', '물바다', '라서', '나가다', '수도', '없다'], ['첫날', '부터', '비', '오기', '시작'], ['딱', '명', '딱', '명', '뽑다', '거', '이다', '돼다'], ['내', '잠', '을', '자다', '동안', '비', '엄청', '많이', '내다', '우리', '동네', '고립', '되다', '갇히다', '되어다'], ['맞다', '곰팡이', '땜', '계속', '락스', '로', '청소', '머리', '너무', '아프다'], ['여행', '을', '가다', '싶다'], ['고생', '수', '밖에', '수', '없다', '뭐'], ['전', '버리다', '음식물', '때문', '인', '거', '같다', '애'], ['신나다', '음악', '좋다', '니', '노래', '추천', '주다'], ['맞다', '요즘', '회사', '다니다', '너무', '힘들다'], ['신나다', '음악', '듣다', '것', '좋다', '어디', '여행', '가다', '싶다', '것', '저', '것', '다', '해보다', '싶다'], ['그렇다', '앞', '이르다', '일이', '없다', '단', '도리'], ['알다', '친구', '이랑', '만나다', '여행', '계획', '을', '번', '세우다', '볼', '게'], ['그렇게', '돼다'], ['그렇다', '것', '같다', '환기', '안', '되다', '너무', '습하다', '이사', '가다', '싶다'], ['기분', '좋다', '현금', '주다', '좋다'], ['그렇다', '보여주다', '얼마나', '예쁘다', '향', '좋다'], ['딱', '명', '뽑다', '거', '이다', '그게', '내', '되다', '거지'], ['컨디션', '좋다', '오늘', '별로', '힘들다', '않다'], ['그니까', '먹다', '맛', '확', '떨어지다', '뭐', '야'], ['나', '자다', '동안', '비', '많이', '오다', '우리', '동네', '다', '홍수', '나다', '지금', '갇히다', '나가다', '수가', '없다'], ['친구', '이랑', '벌써', '약속', '만나다'], ['곰팡이', '제', '거제', '생각', '못'], ['원래', '친구', '랑', '같이', '뛰다', '오늘', '혼자', '이다'], ['오다', '꼭', '보여주다'], ['아니다', '혼자', '뛰다', '이번', '에는'], ['여행', '휴가', '때', '가야', '되다', '거', '같다'], ['이번', '마라톤', '대회', '출전', '내', '성적', '우수하다'], ['유튜버들', '사람', '을', '속이다', '가면', '서', '뒷', '광고', '있다'], ['그렇다', '시간', '아니다', '달', '간', '얼마나', '고생'], ['아니다', '그건', '당연하다', '지금', '게', '말', '되다', '음식', '에서', '벌레', '나오다'], ['이미', '충분하다', '기분', '나쁘다', '걸'], ['아', '정말', '요', '제', '욕', '을', '말', '끄다'], ['다음', '부턴', '제때', '제때', '쓰레기통', '비우다', '뭐'], ['홍수', '나서다', '집', '갇히다'], ['환기', '시키다', '자다', '없어지다', '않다', '청소', '내', '얼마나', '열심히'], ['나', '달리기', '원래', '좋아하다', '거', '알', '지', '너무', '행복하다'], ['그렇다', '기다', '아', '진짜', '기분', '안', '좋다', '지금'], ['맞다', '먹기', '싫어지다'], ['음악', '한번', '들다', '보다'], ['아니다', '뭐', '아직', '먹다', '않다', '뭐', '잔', '더', '달래', '뭐', '급하다', '많이', '먹다', '싶다'], ['나', '혼자', '집', '안', '갇히다', '되다', '엄청', '무섭다'], ['좋다', '제품', '아니다', '알바', '비', '모으다', '산', '거기', '때문', '저렴하다', '걸', '로', '사다'], ['고맙다', '정말', '고맙다', '정말', '난감'], ['계속', '이런', '식이', '면', '진짜', '확', '받다', '버리다', '겠다'], ['네', '이미', '사고', '쓰다', '있다'], ['장마', '너무', '심하다', '습기', '너무', '많다', '비', '그만', '오다', '좋다', '우리', '집', '화장실', '곰팡이', '없어지다'], ['나', '오늘', '중국집', '에서', '짜장면', '먹다', '벌레', '나오다'], ['그렇다', '먹다', '수도', '없다', '짜증나다'], ['어', '그', '나', '랑', '같이', '동호회', '사람', '이랑', '같이', '뛰다'], ['힘들다', '고생', '스럽다', '내', '벌린', '일이', '니까', '얼른', '청소'], ['음', '나', '에게', '공감', '을', '해주다', '더', '좋다', '않다'], ['내', '내', '신기록', '을', '깨다'], ['어', '환기', '꽤', '많이', '해주다', '있다', '왜', '계속', '곰팡이', '피다', '거지'], ['그렇다', '또', '라이', '한테', '욕', '박지', '뭐'], ['그렇다', '게', '상사', '냐', '고', '욕', '치다', '먹다', '싶다', '지랄', '인', '것', '같다', '애'], ['전자기기', '응모', '에서', '당첨', '돼다'], ['아', '짜증나다', '그', '새끼', '일', '없다', '집', '에나', '갈다', '것', '이지', '왜', '자꾸', '나', '한테', '만', '그렇다'], ['욕', '치다', '먹다', '짓', '인', '것', '같다', '그러면', '욕', '을', '해', '주다'], ['그렇다', '다음', '또', '벌레', '나오다', '사진', '을', '찍다'], ['아직', '안', '선물', '오다', '같이'], ['비', '그렇게', '많이', '오다', '모르다', '잠', '만', '자다', '대피', '문자', '못', '보다'], ['냄새', '너무', '고약하다', '버리다', '묶다'], ['아', '몸', '괜찮다'], ['곰팡이', '제', '거제', '번', '써다', '보다'], ['선물', '내', '갖다', '싶다', '향수', '라서', '너무나', '마음', '들다'], ['그렇다', '그렇다', '것', '같다'], ['아직', '까지는', '집', '안', '물이', '들어오다', '않다', '몸', '아프다', '데', '없다', '하지만', '혼자', '있다', '너무', '무섭다'], ['맞다', '온통', '물바다', '라서', '나가다', '방법', '없다'], ['아니다', '환기', '많이'], ['명', '뽑다', '거', '라니까', '근데', '그게', '내', '돼다'], ['프로젝트', '달', '동안', '친구', '못', '만나다', '못', '만나다', '친구', '만나다', '것', '좋다', '거', '같다'], ['유명하다', '인', '플루', '언', '서', '이벤트', '야'], ['내', '휴가', '엉망', '이야'], ['향수', '주다', '이벤', '트이다', '완전', '가지', '고', '싶다', '거', '거들다'], ['오다', '보다'], ['우와', '짜장면', '벌레', '나오다'], ['몸', '괜찮다', '상황', '너무', '무섭다', '나가다', '수도', '없다'], ['비다', '왜', '그렇게', '오다', '더', '곰팡이', '생기', '고', '있다'], ['그러니까', '비다', '왜', '그렇게', '많이', '오다', '거야', '속상하다'], ['그걸', '써다', '안', '돼다'], ['짜장면', '에서', '벌레', '나오다', '더럽다', '지저분하다', '못', '먹다'], ['맞다', '결승선', '을', '지나다', '때', '그', '쾌감', '제일', '좋다'], ['곰팡이', '제', '거제', '써다', '똑같다', '애', '아무리', '청소', '해도', '없어지다', '않다'], ['그니까', '그', '새끼', '때문', '때리다', '그냥'], ['구매', '하고', '싶다', '좋다', '거', '있다', '추천', '해주다'], ['선수', '아니다', '운동', '을', '좋아하다', '열심히', '거야'], ['오랜', '만', '휴가', '내다', '비', '너무', '많이', '오다', '태풍', '까지', '겹', '치다', '그래서', '나가다', '수가', '없다'], ['아니다', '혼자', '뛰다'], ['응', '요즘', '미세먼지', '때문', '환기', '자다', '못', '것', '같다', '해'], ['역시', '그렇다', '지금', '바로', '사진', '찍다', '전화하다'], ['친구', '만나다', '거', '너무', '좋다', '얼른', '만나다', '싶다'], ['욕', '않다', '아', '왜', '나', '만', '일', '시', '켜', '요'], ['알다', '향수', '도착', '바로', '보여주다'], ['그렇다', '어리다', '것', '없다'], ['네', '도와주다', '정말', '감사하다'], ['배달', '시키다', '벌레', '나오다'], ['아니다', '혼자', '뛰다', '게', '좋다'], ['좋다', '정보', '인데', '고맙다'], ['맞다', '우리', '집', '빼다', '주위', '다', '물', '로', '잠기다'], ['방향', '제', '냄새', '랑', '쓰레기통', '냄새', '랑', '섞이다', '어떡하다'], ['선물', '당연하다', '마음', '들다', '얼마나', '비싸다', '향', '순', '데'], ['그렇다', '욕', '을', '기분', '더', '안', '좋다', '나', '신나다', '음악', '좋아하다', '음악', '이나', '듣다', '마음', '풀다'], ['그러니까', '어디서', '파다'], ['응', '너무', '무섭다'], ['나', '정말', '먹다', '토', '줄', '알다'], ['딱', '명', '뽑다', '거', '이다', '내', '되어다', '신나다'], ['일단', '신고', '무섭다', '참다', '어떻다', '해'], ['아이참', '너무', '띄우다', '마', '근데', '너무', '뿌듯하다', '기록', '을', '갱신', '진짜', '신기록', '이야'], ['아', '너무', '너무', '무섭다', '나', '어떡하다', '좋다', '전화', '해보다'], ['쓰레기통', '에서', '정말', '역겹다', '냄새', '나'], ['그렇다', '부분', '조금', '있다', '것', '같다'], ['다행하다', '우리', '집', '까지는', '들어오다', '않다', '그래서', '나', '괜찮다'], ['짜장면', '에서', '벌레', '나오다'], ['나', '드디어', '연구', '프로젝트', '끝나다'], ['내', '쓰레기', '제때', '버리다', '않다', '그렇다'], ['어', '벌레', '보다', '사진', '찍다'], ['그것', '좋다', '번', '생각', '해보다'], ['몸', '괜찮다', '집', '안', '물이', '들어오다', '보다', '너무', '걱정', '돼다'], ['이제', '다', '끝나다', '아', '주말', '못', '쉬', '고', '일', '이제', '다', '끝', '이야'], ['장마철', '이라서', '습기', '많아지다', '매일', '청소', '곰팡이', '안', '없어지다'], ['비싸다', '건', '못', '사다', '알바', '비', '모으다', '사다'], ['오', '여행', '생각', '못', '그렇다', '보다'], ['나', '아무래도', '집', '안', '혼자', '갇히다', '것', '같다'], ['응', '그렇다', '볼', '수', '있다'], ['쓰레기통', '에서', '역겹다', '냄새', '나다', '있다'], ['응', '내', '원래', '갖다', '싶다', '거', '라', '너무', '마음', '들다'], ['쓰레기통', '버리다', '음식물', '쓰레기', '상해', '서', '나', '냄새', '인', '거', '같다'], ['일이', '너무', '많다', '일', '년', '만에', '받다', '휴가', '인데', '비', '오다', '아무', '데', '못', '갈다', '거', '같다'], ['응', '이제', '진짜', '완전', '끝', '이야', '이제', '해방', '이야'], ['나다', '그렇다', '지금', '쓰레기', '묶다'], ['집', '안', '을', '치우다', '힘들다', '해도', '벌레', '생기다', '것', '같다', '얼른', '치우다', '것', '같다'], ['습기', '많아지다', '생기다', '곰팡이', '어떻다'], ['오다', '짜장면', '에서', '벌레', '나오다'], ['나', '어떡하다', '엘리베이터', '갇히다'], ['좋아하다', '유튜버', '시청자', '에게', '사과', '영상', '을', '올리다'], ['바닷가', '해수욕장', '가다', '물놀이', '실컷', '맛있다', '것', '두', '먹다', '신나다', '놀다', '오다', '생각', '이다'], ['엘레베이터', '갇히다'], ['그러니까', '말', '이야', '유독', '나', '한테', '만', '그렇다', '문제', '야'], ['응', '궂', '일도', '다', '나', '한테', '시키다', '퉁', '명', '스럽게', '대해'], ['명', '뽑다', '거', '이다', '사실', '안되다', '줄', '알', '고', '있다', '당첨', '돼다', '연락', '오다'], ['여행지', '중', '추천', '데', '있다'], ['그건', '아니다', '그냥', '뿌듯하다'], ['드디어', '완전하다', '끝나다'], ['아', '짜증나다', '그', '새끼', '일', '끝나다', '빨리', '집', '에나', '가지', '회사', '남아', '서', '나', '한테', '자꾸', '짜증', '이야'], ['아니다', '사진', '찍다', '놓다'], ['내', '음식물', '쓰레기', '버리다', '생기다', '일이', '니까', '얼른', '청소'], ['헐다', '나', '이벤트', '당첨', '되어다'], ['당연하다', '모', '여서', '같이', '운동', '하고', '대회', '출전', '사람', '있다'], ['정말', '짜증나다', '못', '살다', '야'], ['환기', '시키다', '나아지다'], ['그렇게', '해보다'], ['고맙다', '여행', '가다', '보고', '음악', '들다', '볼', '게'], ['나', '한테', '좋다', '방향', '제', '있다'], ['아니다', '많이', '들다', '뛰다'], ['내', '냄새', '나다', '모르다', '안', '버리다'], ['벌레', '나오다', '짜장면', '을', '사진', '찍다', '증거', '확실하다', '않다'], ['다른', '직원', '한테', '늘다', '친절하다', '맨날', '나', '한테', '만', '뭐라다', '나다', '화가', '나서다', '그렇다'], ['아', '뭐', '야', '야', '음식물', '쓰레기통', '안', '비우다', '냄새', '너무', '심하다'], ['집', '안', '갇히다', '밖에', '나가다', '수가', '없다', '거', '같다'], ['다른', '사람', '한테', '늘다', '다', '해주다', '나', '한테', '만', '뭐라다', '그렇다', '거', '아니다'], ['그렇다', '너', '말', '대로', '푹', '쉬', '고', '여행', '을', '다녀오다', '생각', '해보다'], ['당연하다', '마음', '들다', '얼마나', '비싸다', '향', '순', '데'], ['지금', '당장', '사진', '을', '첨부', '짜장면', '에서', '벌레', '나오다', '전화하다'], ['그렇다', '사진', '부터', '찍다', '놓다'], ['너', '말', '대로', '고맙다'], ['욕', '내', '마음', '풀리다', '않다', '나', '신나다', '음악', '을', '들다', '기분', '나아지다'], ['힘들다', '힘들다', '엄청', '보람', '있다'], ['일이', '많다', '영화', '보다', '고', '프로젝트', '돼다'], ['자고', '일어나다', '밖에', '빗물', '잔뜩', '고여', '있다'], ['내', '진짜', '받다', '싶다', '향수', '있다', '그거', '받다', '돼다'], ['좋다', '좋다', '일단', '고생', '푹', '쉬다', '고맙다'], ['이건', '너무', '너무', '마음', '들다'], ['단', '명', '뽑다', '그게', '내', '된거', '야'], ['구매', '생각', '있다', '너', '대신', '구매', '해주다'], ['아주', '마음', '들다'], ['나', '드디어', '프로젝트', '끝나다'], ['어', '곰팡이', '어떻다', '없애다', '수', '있다'], ['오다', '짜장면', '에서', '벌레', '나오다'], ['재밌다', '것', '추천', '주다', '보다'], ['엘리베이터', '고장', '난', '것', '같다'], ['알다', '뭐', '든', '싶다', '다', '알다'], ['몇', '명', '안', '돼다', '한두', '명', '뽑다', '거', '같다', '이건', '행운', '이야'], ['분명', '어제', '환기', '시키다', '왜', '그렇다', '걸다'], ['명', '밖에', '안', '뽑다', '내', '된거', '야'], ['맞다', '장마철', '이라', '하루', '종일', '화장실', '청소', '만', '있다', '기분', '이야'], ['흐', '화장실', '청소', '해도', '곰팡이', '사라지다', '않다'], ['몸', '괜찮다', '나가다', '수가', '없다', '무섭다'], ['아무래도', '그렇다'], ['아니다', '그래도', '너무', '나', '한테', '만', '그러니까', '기분', '진짜', '불쾌하다'], ['사진', '을', '메세지', '로', '첨부', '다음', '중국집', '전화', '걸다', '어떻다', '이렇다', '수', '있다', '항의', '해보다'], ['내', '너무나', '좋아하다', '인', '플루', '언', '서', '진행', '이벤트', '있다', '거기', '당첨', '돼다'], ['이미', '노래', '틀', '고', '있다'], ['어', '지금', '혼자', '있다'], ['노트북', '을', '오래', '사용', '수', '있다', '보험', '가입', '생각', '해보다'], ['선수', '하고', '기록', '차이다', '많이', '나'], ['완전', '마음', '들다', '공', '짜다'], ['지금', '전화하다', '오다'], ['가다', '버리다', '오다'], ['그렇다', '고맙다', '기분', '괜찮다', '것', '같다', '애'], ['휴', '그렇다', '음악', '이나', '들다', '기분', '풀다', '나', '신나다', '음악', '을', '좋아하다'], ['그래서', '사람', '증거', '사진', '을', '올리다', '그', '때', '서다', '광고', '이다', '미안하다', '거야'], ['쓰레기', '냄새', '나다', '방향', '제', '냄새', '랑', '섞이다', '어떡하다'], ['오다', '짜장면', '에서', '벌레', '나오다'], ['나', '혼자', '고립', '되다', '것', '같다', '애'], ['오', '좋다', '생각', '인', '것', '같다'], ['것', '같다', '어떡하다', '좋다'], ['나', '축하', '해주다', '기분', '좋다', '일이', '생기다'], ['그렇다', '꼭', '환불', '받다'], ['아', '저번', '음식물', '쓰레기', '버리다', '그걸', '깜빡', '하고', '안', '치우다', '보다'], ['비', '때문', '아무', '데도', '못', '나가다', '집', '안', '에서', '휴가', '즐기다', '수', '있다', '방법', '을', '생각', '보다', '것', '같다'], ['친구', '만나다', '수다', '떨다', '싶다'], ['몸', '다치다', '하진', '않다'], ['너무', '무섭다', '어떡하다', '어떻다', '지다'], ['그렇다', '지금', '사진', '얼른', '찍다', '놓다'], ['다치다', '데', '없다'], ['맞다', '결승선', '에서', '기분', '너무', '좋다', '계속', '마라톤', '돼다'], ['선수', '아니다', '내', '운동', '을', '좋아하다', '시작'], ['달리다', '동안', '에는', '너무', '지치다', '힘들다', '결승선', '을', '통과', '순간', '엄청', '기분', '좋다'], ['나다', '짜장면', '에서', '벌레', '나오다', '건', '처음', '이다', '너무', '더럽다', '못', '먹다'], ['너', '말', '대로', '동안', '가지', '못', '여행', '갈다', '계획', '을', '세우다', '보다'], ['며칠', '전', '쓰레기', '통', '버리다', '음식물', '쓰레기', '상해', '서', '냄새', '나', '거', '이다'], ['화장실', '청소', '곰팡이', '없어지다', '않다', '어떡하다'], ['다행하다', '집', '안', '으로는', '물이', '안', '들어오다', '괜찮다'], ['오다', '짜장면', '에서', '벌레', '나오다'], ['하', '빨리', '치우다'], ['선수', '라기', '보다는', '그냥', '순위', '권', '안', '들어오다'], ['그렇다', '다음', '엔', '이렇다', '일', '없다'], ['과일', '껍질', '때문', '썩다', '나', '것', '같다'], ['신나다', '음악', '좋다', '들다'], ['그렇다', '좋다', '생각', '이야', '냄새', '없애다'], ['다른', '직원', '한테', '늘다', '친절하다', '나', '한테', '만', '맨날', '짜증나다', '화', '내', '니까', '내', '화가', '나서다', '그렇다', '어떻다', '그렇다', '수가', '있다'], ['아', '나', '어제', '또', '미세먼지', '너무', '심해', '가지', '고'], ['내', '마라톤', '을', '이번', '기록', '을', '또', '신기록', '을', '세우다'], ['어디서', '살다', '곰팡이', '제', '거제', '제일', '좋다'], ['신나다', '음악', '을', '듣다', '것', '좋다'], ['알다', '너', '말', '대로', '노트북', '여기저기', '꼼꼼하다', '살펴보다'], ['예전', '버리다', '쓰레기', '때문', '인가', '보다'], ['냄새', '까지', '없애다', '방', '을', '다', '치우다', '힘들다', '하지만', '얼른', '치우다', '게', '나다', '것', '같다'], ['응', '몸', '괜찮다', '어떻다', '나가다'], ['완전하다', '끝나다', '달', '동안', '얼마나', '열심히'], ['명', '뽑다', '그게', '내', '되다', '거야'], ['영상', '을', '보다', '마음', '풀리다', '것', '같다'], ['화장실', '청소', '해도', '곰팡이', '안', '없어지다'], ['그렇다', '음악', '들다', '생각'], ['집', '갇히다', '밖에', '비', '너무', '많이', '오다'], ['몸', '괜찮다', '집', '안', '에만', '있다', '다행하다', '물이', '안', '들어오다'], ['그런', '건가', '알', '수', '없다'], ['환기', '시키다', '자다', '안', '돼다'], ['추천', '해주다', '제품', '있다'], ['냄새', '때문', '집안', '난리', '아니다', '내', '일이', '니까', '내', '알다', '청소', '뭐'], ['오늘', '부터', '일주일', '동안', '휴', '가다', '휴가', '기간', '내내', '비', '온대', '너무', '짜증나다'], ['오랜', '만', '여행', '을', '다녀오다', '계획', '번', '세우다', '볼', '게'], ['당연하다', '마음', '들다', '정말', '비싸다', '향수', '야'], ['이백만원', '넘다', '내', '조금', '무리', '사다'], ['아이', '뭐', '그', '정돈', '아니다', '그래도', '아마추어', '아마추어', '지'], ['친구', '만나다', '오랜', '만'], ['휴가', '기간', '내내', '비소', '식이', '있다', '아무래도', '너', '말', '대로', '되다', '거', '같다'], ['노트북', '영화', '볼', '거야'], ['그렇다', '모르다'], ['내', '좋아하다', '유튜버', '뒷', '광고', '사과', '영상', '을', '올리다'], ['응', '알다', '고맙다'], ['아', '짜증나다', '그', '씨발', '새끼', '왜', '나', '한테', '만', '지랄', '이지', '집', '에나', '갈다', '것', '이지'], ['맞다', '어제', '초미세먼지', '진짜', '나쁘다'], ['엄청', '비싸다', '향수', '인데', '나중', '너', '보여주다'], ['함께', '달리다', '크루', '있다', '내', '지치다', '힘들다', '때', '크다', '힘', '되어다', '있다'], ['오', '그렇다', '한번', '쎄다', '걸', '로', '한번', '사주다', '보다'], ['쓰레기통', '을', '정리', '되다', '것', '같다'], ['욕', '이라도', '스트레스', '풀리다', '거', '같다'], ['정말', '기분', '안', '좋다'], ['자고', '일어나다', '우리', '동네', '전체', '다', '물바다', '야'], ['다행하다', '내', '몸', '또', '멀쩡하다'], ['너', '말', '대로', '집', '에서', '휴가', '보내다', '수', '있다', '방법', '을', '생각', '보다', '것', '같다'], ['응', '내', '진짜', '좋아하다', '향수', '받다'], ['그렇다', '실망', '스럽지', '그런데', '사과', '억지로', '있다', '거야'], ['그렇다', '지금', '바로', '버리다', '오다'], ['걔', '다', '나', '만', '시키다'], ['그렇다', '것', '같다', '우리', '집', '화장실', '환', '풍', '되다', '만', '그렇다', '것', '없다'], ['다행하다', '물', '안', '들어오다', '그런데', '바깥', '을', '보', '니까', '걱정', '돼다'], ['사과', '영상', '을', '보다', '자기', '변명', '만', '있다', '더', '화가', '나다'], ['그것', '좋다', '주말', '에는', '어디', '가깝다', '데', '라도', '놀다', '가다'], ['아', '근데', '너무', '욕', '하고', '싶다'], ['백화점', '에서', '명', '만', '주다', '내', '당첨', '돼다'], ['다른', '걸', '쓰다', '나아지다'], ['나', '혼자', '집', '있다', '엄청', '무섭다'], ['나', '향수', '이벤트', '등', '당첨', '돼다'], ['명', '뽑다', '거', '이다', '내', '운', '너무', '좋다', '당첨', '돼다'], ['우리', '집', '빼다', '주변', '다', '물바다', '라', '나가다', '수가', '없다'], ['어떻다', '알다', '걔', '진짜', '나', '한테', '만', '그렇다'], ['친구', '야', '또', '딴', '소리', '어'], ['나', '프로젝트', '드디어', '끝나다'], ['그러니까', '다음', '부턴', '그렇다', '못', '돼다'], ['너무', '바쁘다', '그래서', '년', '만에', '휴가', '야'], ['아', '짜증', '나', '그', '새끼', '항상', '나', '한테', '만', '시비', '걸다'], ['청소', '열심히', '곰팡이', '안', '없어지다'], ['만원', '짜다', '노트북', '을', '구입', '늦다', '오다', '걱정', '하고', '있다', '오늘', '도착', '너무', '기쁘다'], ['나', '기분', '좋다', '이다', '축하', '해주다'], ['완전하다', '끝나다', '이제', '쉬다', '생각', '이야'], ['그래서', '계속', '청소', '곰팡이', '안', '없어지다'], ['그렇다', '꼭', '보여주다', '고맙다'], ['명', '밖에', '안', '뽑히다', '건데', '내', '뽑히다', '너무', '기분', '좋다'], ['당연하다', '선물', '마음', '들다', '이벤트', '신청'], ['맛있다', '알', '고', '기다', '시키다', '정말', '더럽다'], ['그렇다', '효과', '있다', '나', '구매', '사용', '해보다'], ['쓰레기통', '에서', '지금', '냄새', '나다', '있다'], ['내', '벌레', '나오다', '사진', '을', '찍다', '증거', '확실하다', '아무', '말', '못'], ['신나다', '음악', '좋다', '친구', '만나다', '싶다'], ['당연하다', '뛰다', '동안', '너무', '힘들다', '하지만', '모든', '게', '다', '보상', '되다'], ['락스', '사서', '벽', '을', '빡빡', '닦다', '되다', '보다'], ['향수', '받다', '수', '있다'], ['원래', '바닷가', '가다', '거', '이다'], ['오늘', '부터', '일주일', '동안', '휴가', '기간', '인데', '비', '소식', '있다', '짜증나다'], ['알다', '제품', '문제', '없다', '여기저기', '꼼꼼하다', '살펴보다'], ['나', '드디어', '프로젝트', '끝나다'], ['나', '축하', '해주다', '좋다', '일', '있다'], ['맞다', '결승선', '을', '통과', '힘드다', '게', '싹', '사라지다'], ['나', '곰팡이', '제', '거제', '안', '써다', '보다', '그거', '괜찮다'], ['그렇다', '너', '말', '대로', '여행', '계획', '세우다', '볼', '게', '오랜', '만', '여행', '을', '다녀오다', '것', '괜찮다', '것', '같다'], ['너무', '마음', '들다'], ['곰팡이', '제', '거제', '쓰다', '거', '정말', '생각', '못', '해봤다'], ['축하', '해주다', '좋다', '일이', '생기다'], ['응', '내', '제일', '갖다', '거야'], ['내', '증거', '로', '사진', '을', '찍다', '적당하다', '조치', '취', '해주다'], ['유명하다', '유튜버들', '죄다', '돈', '받다', '뒷', '광고', '해주다'], ['요즘', '다', '왜', '이르다', '거지', '정말', '이해', '안', '돼다'], ['아', '짜증나다', '상사', '새끼', '집', '에는', '안', '왜', '내', '옆', '붙다', '지랄', '이지'], ['그러니까', '나', '짜장면', '에서', '벌레', '나오다', '적', '처음', '이야', '너무', '더럽다'], ['힘들다', '방', '에서', '냄새', '나', '니까', '얼른', '치우다', '벌레', '생기다', '것', '같다'], ['너무', '배고프다', '맛있다', '먹다', '먹다', '너무', '기분', '안', '좋다'], ['아니다', '사진', '안', '찍다', '너무', '놀래다', '어떻다', '찍다', '그거'], ['가족', '이랑', '동해', '바다', '가다', '놀다', '오기', '로', '비', '땜', '망하다'], ['나', '이번', '마라톤', '나가다', '평소', '내', '기록', '보다', '훨씬', '자다', '나오다'], ['날씨', '추워지다', '자다', '안', '상', '알다', '방심하다', '당', '거지', '뭐'], ['알다', '선물', '오다', '바로', '보이다', '줄', '게'], ['우리', '집', '주변', '다', '물바다', '돼다'], ['그것', '좋다', '생각', '인거', '같다'], ['아니다', '너무', '힘들다', '이제', '쉬다'], ['거', '완전', '가지', '고', '싶다', '거', '거들다', '대박'], ['맞다', '완전하다', '끝내다', '달', '간', '정말', '고생', '많이'], ['나', '드디어', '프로젝트', '끝나다'], ['그렇다', '기분', '너무', '나쁘다', '어떻다', '음식물', '에서', '이렇다', '수가', '있다'], ['난', '선수', '아니다', '일반인', '에서', '좋다', '기록', '을', '세우다'], ['훨씬', '나아지다', '당연하다', '사다', '나', '구매'], ['뭐', '알', '아'], ['그렇다', '걱정', '해주다', '고맙다'], ['알다', '지금', '버리다'], ['지금', '버리다', '그래도', '화', '내다'], ['그', '니깐', '다음', '부턴', '확실하다', '조치', '취', '해주다', '되다', '나다', '사과', '받다'], ['아니다', '요즘', '다', '왜', '이르다', '거지', '이해', '안', '돼다'], ['나', '혼자', '집', '안', '갇히다', '되다', '엄청', '무섭다'], ['어', '그', '래야', '되다', '것', '같다'], ['자고', '일어나다', '동네', '다', '물', '로', '잠기다', '있다', '사람', '다', '대피'], ['그렇다', '것', '같다', '집다', '자다', '보고', '들어가다', '되다', '것', '같다'], ['난', '욕', '을', '더', '기분', '풀리다', '그리고', '음악', '네', '알다', '선택', '주다'], ['당연하다', '벌레', '나오다'], ['야', '내', '상사', '지', '니', '상사', '냐', '니', '뭔', '상관', '인데'], ['이번', '졸업', '논문', '통과', '돼다'], ['응', '힘들다', '괜찮다'], ['축하', '해주다', '나', '좋다', '일이', '있다'], ['마라톤', '대회', '에서', '등', '등', '기록', '세우다'], ['아니다', '자고', '일어나다', '재난', '문자', '랑', '대피', '전화', '오다', '있다', '못', '받다', '뭐', '야'], ['음악', '을', '들다', '보다', '편하다', '쉬', '고', '싶다'], ['프로젝트', '끝나다', '너무', '좋다'], ['아', '짜증나다', '그', '새끼', '일이', '없다', '집', '갈다', '것', '이지', '결혼', '못', '히스테리', '부리다', '건가', '왜', '항상', '나', '한테', '만', '그렇다', '거야'], ['너무', '맘', '들다', '그동안', '내', '너무', '갖다', '싶다', '향수', '야'], ['기분', '너무', '좋다', '너무', '크다', '보람', '을', '느끼다'], ['무섭다', '당연하다'], ['맞다', '거기', '다가', '일', '시키다', '것', '되게', '당', '연', '시', '하', '게', '시키다'], ['응', '비싸다', '못', '산', '향수', '이다'], ['완전하다', '끝나다', '아', '기분', '좋다'], ['아니다', '중국집', '에서', '짜장면', '을', '시키다', '거기', '서', '벌레', '나오다'], ['아', '짜증나다', '그', '새끼', '일이', '끝나다', '빨리', '집', '에나', '가지', '남다', '나', '한테', '뭐라다', '해'], ['그것', '때문', '운동', '거지'], ['난', '비', '오다', '줄', '모르다', '잠', '만', '자다', '그렇게', '많이', '오다', '줄', '누가', '알다'], ['오다', '짜장면', '에서', '벌레', '나오다'], ['진짜', '효과', '있다', '나', '구매'], ['사진', '빨리', '찍다', '두다'], ['아니다', '내', '까먹다', '며칠', '전', '버리다', '걸', '까먹다', '진작', '버리다', '되다'], ['유명하다', '인', '플루', '언', '서', '이벤트', '있다'], ['그렇다', '곰팡이', '너무', '안', '없어지다', '속상하다'], ['내', '선물', '뭔', '지', '궁금하다', '내', '나중', '꼭', '보여주다'], ['고장', '난', '거', '면', '어떡하다', '고장', '난', '거', '같다', '애'], ['오다', '짜장면', '먹다', '벌레', '나오다'], ['내', '마라톤', '대회', '나가다', '예전', '내', '기록', '보다', '훨씬', '자다', '나오다'], ['아니다', '요즘', '다', '들다', '왜', '그렇다', '이해', '안', '가다'], ['내', '쓰레기통', '음식물', '쓰레기', '버리다', '그게', '상해', '서', '나', '냄새', '같다'], ['내', '며칠', '전', '버리다', '음식물', '쓰레기', '상해', '서', '냄새', '나', '것', '같다'], ['알다', '그렇다', '않다', '확인', '보다', '생각', '하고', '있다'], ['그렇다', '한번', '보여주다'], ['그건', '아니다', '그냥', '틈틈하다', '연습', '을', '많이', '노력', '많이'], ['아직', '안', '선물', '도착', '같이'], ['어', '너', '랑', '대화', '수', '있다', '이벤트', '당첨', '돼다'], ['응', '환불', '다', '받다'], ['냄새', '너무', '독하다', '심하다', '버리다', '쓰레기', '봉투', '넣다'], ['명', '인데', '돼다'], ['내', '좋아하다', '유튜버', '뒷', '광고', '사과', '영상', '을', '올리다'], ['기분', '좋다', '신나다', '음악', '듣다', '거', '정말', '좋다', '것', '같다'], ['다행하다', '몸', '다치다', '데', '없다', '거', '같다', '애'], ['휴가', '첫', '날', '부터', '엄청', '비', '오기', '시작'], ['안', '그렇다', '오늘', '사르다', '가다'], ['모르다', '나', '이제', '어떻다', '돼다'], ['함께', '달리다', '크루', '있다', '지치다', '힘들다', '때', '나', '한테', '크다', '힘', '되어다', '주다'], ['맞다', '너무', '힘들다', '나다', '모르다', '욕', '을', '해', '버리다', '미안'], ['맞다', '뛰다', '동안', '힘들다', '결승선', '을', '통과', '순간', '힘드다', '게', '싹', '사라지다', '더', '라고'], ['그러니까', '밥', '먹다', '토', '줄', '알다'], ['아', '그', '새끼', '진짜', '짜증나다'], ['기분', '좋다', '일', '생기다'], ['그렇다', '얼마나', '실망', '스럽다', '사과', '진중하다', '않다'], ['그거', '써다', '보다', '다시', '바로', '생기다'], ['알다', '구매', '알다'], ['다른', '직원', '한테', '늘다', '친절하다', '나', '한테', '자꾸', '화', '내다', '짜증', '을', '내다', '그렇다'], ['물이', '너무', '많이', '차', '있다', '나가다', '수가', '없다', '무섭다'], ['응', '평소', '가지', '고', '싶다', '거야', '가지', '고', '싶다', '거'], ['친구', '하고', '연락', '진작', '내일', '만나다'], ['아니다', '진정', '성', '없다', '보이다', '또', '우리', '속이다', '것', '만', '같다'], ['어쩌겠어', '내', '실수', '거', '니까', '깨끗이', '치우다'], ['알다', '내', '사용', '설명', '서', '보고', '꼼꼼하다', '살펴보다'], ['그', '가게', '에서', '믿다'], ['응', '혼자', '인데', '어떻다'], ['맞다', '장마철', '이라', '더', '많이', '생기다', '것', '같다'], ['그렇다', '너', '말', '대로', '사진', '을', '첨부', '항의', '전화', '너무', '화가', '나'], ['나야', '사고', '싶다', '지금', '당장', '살', '수', '있다'], ['여행', '진짜', '좋다', '어디', '갈다'], ['곰팡이', '제', '거제', '효과', '있다', '나', '한번', '사용', '해보다'], ['너무', '너무', '마음', '들다', '비싸다', '향수', '야'], ['선수', '정돈', '아니다', '못', '뭐'], ['하', '씨', '아니다', '곰팡이', '왜', '이렇게', '열', '라', '없어지다', '않다'], ['유튜버들', '뒷', '광고', '있다', '사람', '을', '속', '이고', '허위', '광고'], ['장마철', '이라서', '습기', '많다', '곰팡이', '치우다', '자꾸', '신경', '쓰이다'], ['안', '들리다', '뭐', '어떻다'], ['그래서', '내', '지금', '쓰레기', '버리다', '있다', '냄새', '너무', '심해'], ['내', '왜', '그', '생각', '을', '못'], ['아', '짜증나다', '아니다', '그', '새끼', '왜', '나', '한테', '만', '그렇다'], ['내', '휴가', '엉망', '진창', '되어다'], ['아니다', '요즘', '다', '왜', '이르다', '이해', '안', '돼다'], ['그렇다', '좋다', '생각', '이야', '이렇다', '거', '미리', '부터', '얘길', '돼다'], ['너', '내', '욕', '못', '들어주다'], ['향수', '평소', '갖다', '싶다', '건데', '당첨', '돼다'], ['곰팡이', '제', '거제', '조금', '이라도', '효과', '있다', '나', '구매', '해보다'], ['사과', '영상', '을', '보다', '사과', '진실되다', '않다', '보고', '나', '니까', '더', '화가', '나다', '짜증', '나'], ['아', '회사', '상사', '진짜', '짜증나다'], ['어', '같이', '준비', '팀', '있다'], ['래', '나', '상사', '하고', '한번', '자다', '얘기', '해보다'], ['자다', '재난', '문자', '못', '보고', '혼자', '갇히다', '되어다'], ['유명하다', '인', '플루', '언', '서', '이벤트', '더', '라고'], ['괜찮다', '물어보다', '고맙다'], ['그것', '그렇다', '애초', '창문', '너무', '작다'], ['알다', '그냥', '뭐', '음악', '괜찮다', '그동안', '진짜', '고생', '얘기', '데', '없다', '너', '한테', '얘기', '거지', '뭐'], ['그러니까', '거', '진짜', '찍다', '신고', '되다', '것', '같다'], ['그렇다', '것', '같다', '우리', '집다', '창문', '없다', '답답하다'], ['응', '완전하다', '끝나다', '나', '너무', '후련하다'], ['응', '우리', '동아리', '사람', '이랑', '같이', '뛰다'], ['아무래도', '나', '혼자', '집', '안', '갇히다', '되다', '것', '같다'], ['엘리베이터'], ['아', '내', '말', '아', '거', '장난', '아니다', '아니다', '아', '거', '이미', '먹다', '어떡하다'], ['그렇다', '그렇게', '게', '좋다', '것', '같다', '방향', '제', '빨리', '찾아오다'], ['응', '완전하다', '끝나다', '거야', '달', '동안', '주말', '쉬다', '못', '하고', '일만'], ['곰팡이', '때문', '너무', '짜증나다'], ['당첨', '선물', '내', '받다', '싶다', '선물', '이라서', '너무', '마음', '들다'], ['알다', '방향', '제로', '처리', '너무', '걱정', '마'], ['회사', '진짜', '바쁘다', '년', '만에', '내다'], ['당연하다', '마음', '들다'], ['몸', '괜찮다', '근데', '지금', '어우', '어떡하다'], ['엘리베이터', '멈추다', '버리다', '어떻다', '지다'], ['사진', '찍다', '사장', '한테', '항의'], ['어', '그래서', '빨리', '버리다'], ['안', '그렇다', '지금', '나오다', '버리다', '오르다'], ['나', '축하', '해주다', '기분', '좋다', '일이', '있다'], ['내', '십', '킬로미터', '마라톤', '대회', '출전', '예전', '내', '기록', '을', '훨씬', '갱신'], ['쓰레기통', '음식물', '섞이다', '들어가다', '것', '같다'], ['알다', '영화', '주로', '찾다', '볼', '게'], ['나다', '먹다', '토', '줄', '알다'], ['사진', '찍다', '고소하다'], ['너무', '마음', '들다', '내', '갖다', '싶다', '향수', '야'], ['백화점', '이벤트', '명', '뽑다', '건데', '내', '돼다', '대박', '이지'], ['습기', '때문', '계속', '생기다', '곰팡이', '어떻다', '없애다', '수', '있다'], ['화장실', '청소', '해도', '곰파잉', '없어지다', '않다'], ['어', '몸', '괜찮다', '너', '어떻다'], ['우리', '집다', '괜찮다'], ['스트레스', '확', '풀리다', '아주', '시끄럽다', '음악', '부탁'], ['응', '완전하다', '끝나다', '거야', '이제', '잠도', '맘껏', '자다', '수', '있다'], ['나', '갇히다', '것', '같다'], ['그렇다', '아', '어떻다', '되다'], ['이제', '신나다', '음악', '들다', '푹', '쉬다'], ['알다', '다음', '만나다', '꼭', '보여주다'], ['비싸다', '건', '못', '사다', '알바', '비', '모으다', '산', '거야'], ['아', '그렇다', '사진', '부터', '찍다'], ['내', '지금', '생각', '하고', '있다', '만화가', '있다', '노트북', '만화', '그리다', '너무', '기대', '돼다'], ['난', '영화', '보다', '걸', '로', '선택', '영화', '추천', '해주다'], ['내', '수', '없다', '뭐'], ['어떻다', '새롭다', '생기다', '음식점', '벌레', '나오다', '수가', '있다', '만들다', '수가', '있다'], ['응', '몸', '괜찮다'], ['알다', '미안하다', '욕', '안'], ['무슨', '말', '이야'], ['곰팡이', '제', '거제', '구입', '아직', '효과', '안', '나다', '있다'], ['딱', '명', '뽑다', '거야', '근데', '내', '돼다'], ['고약하다', '냄새', '방향', '제로', '처리', '나다', '거', '같다'], ['당연하다', '비싸다', '향수', '선물', '로', '받다', '사람', '한테', '이야기', '다', '들다', '부러워하다'], ['아니다', '곰팡이', '피다', '화장실', '곰팡이', '피다'], ['그렇다', '당연하다', '가입', '생각', '하고', '있다'], ['선수', '아니다', '운동', '을', '좋아하다', '시작', '거', '이다', '요', '번', '엔', '결과', '좋다'], ['벌레', '나오다', '짜장면', '을', '증거', '로', '찍다', '놨으', '니까', '아무', '소리', '못'], ['화장실', '청소', '곰팡이', '사라지다', '않다'], ['사진', '찍다', '어디', '다', '사용', '하', '라고'], ['그렇다', '알다', '나다', '지금', '너무', '힘들다', '누구', '한테', '들다', '얘기', '싶다'], ['장마철', '이라서', '곰팡이', '많이', '생기', '고', '없어지다', '않다', '어떻다', '처리', '걱정', '이야'], ['마라톤', '에서', '기록', '을', '갱신'], ['그렇다', '같이', '운동', '사람', '있다'], ['그렇다', '일단', '지금', '나', '냄새', '방향', '제로', '어느', '정도', '잡다', '보다'], ['알다', '나다', '사과', '받다', '보고', '싶다'], ['양', '옆', '다', '꽉', '막히다'], ['환불', '을', '해주다'], ['제', '거제', '효과', '있다', '나', '구매', '해보다'], ['냄새', '너무', '심하다', '나서다', '지금', '밖', '에다', '빼다'], ['써다', '보다', '별로', '이다', '더', '라고'], ['내', '버리다', '음식물', '쓰레기', '상해', '서', '쓰레기통', '에서', '냄새', '나다', '있다'], ['상황', '보다', '들다', '수', '있다', '들다'], ['너', '안', '당', '해보다', '모르다', '다른', '사람', '한테', '늘다', '친절하다', '나', '한테', '만', '성질', '내다', '뭐라다', '해'], ['비싸다', '향수', '당첨', '선물', '로', '받다', '주위', '사람', '한테', '자랑', '다', '들다', '부럽다'], ['아', '화장실', '청소', '해도', '곰팡이', '사라지다', '않다'], ['수', '있다', '좋다', '생각', '만', '해도', '좋다'], ['어', '그렇다', '지금', '살펴보다'], ['알다', '너', '말', '대로', '다시', '전화', '해보다'], ['내', '좋아하다', '믿다', '유튜버', '뒷', '광고', '시청자', '한테', '사과', '영상', '을', '올리다'], ['집', '안다', '괜찮다', '바깥', '난리', '야', '차도', '잠기다', '물', '만', '보이다'], ['아니다', '요즘', '다', '왜', '이르다', '거야', '이해', '안', '돼다'], ['오늘', '마트', '나가다', '번', '찾아보다'], ['그렇다', '영상', '있다'], ['너무', '좋다', '생각', '이다'], ['회사', '바쁘다', '일', '년', '만에', '내다', '휴가', '야'], ['많다', '사람', '속', '았', '다니다', '깔다', '그리고', '사과', '왜', '억지로', '거야'], ['나', '구매', '생각', '있다'], ['그렇다', '이따가', '방향', '제', '추천', '해주다', '힘', '낼', '게'], ['고맙다', '도움', '되다'], ['그러니까', '나다', '사과받다', '싶다'], ['화장실', '곰팡이', '도대체', '사라지다', '않다'], ['아무', '대답', '을', '안', '해'], ['당연하다', '별로', '이다', '다른', '것', '아니다', '먹다', '거', '이다'], ['완전하다', '끝나다', '속이다', '너무', '너무', '시원하다'], ['응', '나중', '너', '만나다', '갈다', '때', '내', '번', '보여주다'], ['응', '그', '동안', '노력', '을', '보상', '받다', '거', '같다', '너무', '행복하다'], ['냄새', '너무', '고약하다', '버리다', '쓰레기', '봉지', '묶다'], ['아니다', '요즘', '왜', '그렇다', '다', '들다', '이해', '안', '돼다'], ['요즘', '왜', '그렇다', '정말', '화나다', '죽다'], ['당첨', '명', '인데', '내', '당첨', '돼다', '정말', '운', '좋다'], ['오', '그거', '좋다', '방법', '이다', '알다', '고맙다'], ['화장실', '청소', '해도', '해도', '곰팡이', '사라지다', '않다'], ['그', '래야', '것', '같다', '냄새', '너무', '지독하다', '한참', '걸리다'], ['너무', '좋다', '옛날', '친구', '만나다'], ['딱', '명', '뽑다', '건데', '내', '돼다', '뭐', '야'], ['어제', '구매', '노트북', '오늘', '도착'], ['비상', '벨', '인식', '자다', '안되다', '것', '같다', '애'], ['그냥', '마디'], ['나', '축하', '해주다', '오늘', '기분', '좋다', '일', '있다'], ['그렇게', '메세지', '첨부', '하고', '항의', '나', '한테', '사과', '해주다'], ['곰팡이', '제', '거제', '쓰다', '곰팡이', '사라지다', '나', '사용', '해보다'], ['나', '갇히다', '거', '같다', '지금'], ['그렇다', '같이', '뛰다', '같이', '운동', '하고', '대회', '같이', '나가다', '크루', '있다'], ['나', '혼자', '집', '안', '갇히다', '돼다', '어떡하다'], ['헐다', '나', '이벤트', '당첨', '돼다'], ['아무리', '청소', '해도', '화장실', '곰팡이', '안', '없어지다'], ['헐다', '나', '이벤트', '당첨', '돼다'], ['함께', '달리다', '크루', '있다', '지치다', '힘들다', '때', '크다', '힘', '되어다', '주다'], ['굉장하다', '좋다', '말', '인', '것', '같다'], ['노트북', '을', '오래', '쓸다', '수', '있다', '보험', '가입', '생각', '해보다'], ['아', '짜증나다', '그', '새끼', '일', '끝나다', '빨리', '집', '에나', '갈다', '것', '이지', '남다', '자꾸', '나', '한테', '뭐라다', '해'], ['내', '마라톤', '대회', '출전', '예전', '내', '기록', '을', '훨씬', '갱신'], ['당연하다', '무섭다', '무섭다', '외로워', '죽다'], ['그', '동안', '너무', '바쁘다', '일', '년', '만에', '휴가', '내다', '거', '거들다'], ['그렇다', '달', '간', '정말', '고생', '많이'], ['나', '아무래도', '혼자', '갇히다', '것', '같다'], ['아니다', '냄새', '이제', '안', '나다'], ['바닷가', '갈리다', '제주도', '로'], ['아니다', '너무', '피곤하다', '그냥', '쉬', '고', '싶다'], ['당연하다', '있다', '같이', '운동', '하고', '같이', '대회', '나가다', '그', '사람', '이랑'], ['오랜', '만', '여행', '을', '다녀오다', '것', '좋다', '것', '같다', '여행', '계획', '생각', '해보다'], ['힘들다', '냄새', '나', '니까', '얼른', '청소'], ['니', '말', '대로', '게', '좋다', '것', '같다'], ['좋다', '생각', '이야'], ['내', '좋아하다', '인', '플루', '언', '서', '진행', '이벤트', '있다', '거기', '당첨', '돼다'], ['내', '이번', '마라톤', '대회', '나가다', '근데', '그', '곳', '에서', '내', '기록', '많이', '단축', '돼다'], ['그것', '좋다', '밖에', '나가다', '놀다', '싶다'], ['원래', '휴가', '계획', '여름', '바다', '가다'], ['오', '그거', '괜찮다', '거', '같다'], ['긴장', '돼다', '지금'], ['그것', '때문', '피해', '보다', '사람', '있다'], ['기분', '좋다', '신나다', '음악', '을', '듣다', '것', '좋다', '것', '같다'], ['내', '십', '킬로미터', '마라톤', '대회', '출전', '예전', '내', '기록', '을', '훨씬', '갱신'], ['그렇다', '게', '있다', '바로', '가입'], ['내', '말', '향수', '이벤트', '라고', '향수', '이벤트'], ['아니다', '미세먼지', '미세', '멀다', '창문', '작다', '환기', '자다', '안되다'], ['그래도', '너', '랑', '얘기', '보', '니까', '조금', '마음', '풀리다', '거', '같다', '애'], ['어', '완전하다', '끝나다', '다', '마무리', '돼다'], ['그래서', '그렇다', '곰팡이', '엄청', '피더', '라고'], ['짜장면', '에서', '벌레', '나오다', '증거', '사진', '찍다', '확실하다'], ['창문', '해도', '안', '들다', '그렇다', '환기', '별로', '못', '해'], ['응', '지금', '나', '혼자', '야', '어떡하다', '무섭다'], ['나', '축하', '해주다', '기쁘다', '일이', '있다'], ['그렇다', '친구', '만나다', '여행', '계획', '세우다', '볼', '게'], ['아', '거', '찝찝하다', '어떻다', '버리다'], ['다행하다', '안', '으로는', '물이', '안', '들어오다', '괜찮다'], ['그', '런가', '나', '욕', '기분', '풀리다', '거', '라고', '생각'], ['몸', '괜찮다', '어떻다', '나가야', '되다', '걱정', '이야'], ['아', '짜증나다', '그', '새끼', '일', '없다', '집', '에나', '갈다', '것', '이지', '왜', '히스테리', '부리다'], ['어', '일단', '몸', '괜찮다'], ['응', '갖다', '싶다', '거', '라', '행복하다'], ['영화', '다운', '받다', '보다', '프로젝트', '돼다'], ['지금', '당장', '구매', '그렇다', '있다', '모르다'], ['어디서', '썩다', '냄새', '나다', '있다'], ['진짜', '마음', '들다'], ['나르다', '너무', '힘들다', '괴롭히다', '나다', '모르다', '그렇다', '소리', '나오다'], ['쓰레기', '안치', '운지', '오래', '돼다', '그렇다', '가보다'], ['아', '무섭다', '빨리', '어떻', '게', '든', '돼다', '좋다'], ['이번', '마라톤', '대회', '출전', '그런데', '그', '대회', '에서', '내', '기록', '많이', '좋아지다', '더', '라고'], ['맞다', '우리', '집다', '화장실', '환풍기', '없다'], ['마라톤', '기록', '을', '갱신', '앗', '싸다'], ['기분', '전환', '용', '영상', '이라는', '건', '뭐', '야'], ['이번', '내', '마라톤', '기록', '을', '갱신'], ['응', '알다', '고맙다'], ['야', '이제', '완전하다', '끝나다', '야', '어', '뭐', '술', '잔', '어'], ['맞다', '그래서', '그', '런가', '하루', '종일', '화장실', '청소', '만', '것', '같다'], ['어떻다', '되다', '화장실', '청소', '해도', '곰팡이', '없어지다', '않다'], ['더', '실망', '스러운', '건', '우리', '한테', '사과', '안', '우리', '강제', '로', '사과', '시키다', '거야'], ['아니다', '그때', '말', '향수', '주다', '이벤트', '있다', '그거', '내', '돼다'], ['너무', '냄새', '독하다', '버리다', '밖', '에다', '쓰레기', '빼다'], ['모르다', '그냥', '타다', '갑자기', '덜컹', '엘리베이터', '멈추다', '불도', '꺼지다'], ['나', '혼자', '집', '안', '갇히다', '돼다', '어떻다', '해'], ['그렇다', '앞', '이렇다', '일이', '없다'], ['당연하다', '무섭다', '혼자', '갇히다', '있다'], ['오랜', '만', '가족', '이랑', '여행', '을', '가다', '것', '의미', '있다', '거', '같다'], ['명', '뽑다', '내', '되다', '거야'], ['그렇다', '자고', '일어나다', '우리', '집', '주변', '다', '물', '잠기다', '있다'], ['정말', '그렇게', '나', '지금', '사진', '찍다', '놓다'], ['당첨', '명', '이다', '내', '당첨', '되어다'], ['뽑다', '거', '이다', '내', '돼다', '버리다'], ['내일', '친구', '만나다', '계획', '세우다', '볼', '게'], ['그렇다', '함께', '달리다', '크루', '있다', '나', '한테', '크다', '힘', '되어다', '있다'], ['내', '받다', '선물', '을', '구경', '하고', '싶다', '나중', '내', '꼭', '보이다', '줄', '게'], ['그렇다', '모르다'], ['응', '지금', '냄새', '버리다', '괜찮다'], ['휴', '그냥', '음악', '이나', '들다', '기분', '풀다', '신나다', '음악', '좋아하다'], ['같이', '뛰다', '크루', '있다'], ['내', '마라톤', '대회', '신청', '그런데', '내', '기록', '보다', '훨씬', '자다', '나오다'], ['알다', '나', '이번', '환불', '받다', '거야', '꼭'], ['그렇다', '안', '그렇다', '빨리', '처리'], ['나', '드디어', '프로젝트', '마감', '되어다'], ['쓰레기통', '썩다', '모르다', '내', '비우다', '않다'], ['나', '축하', '주다', '나', '기분', '좋다', '일', '있다'], ['아', '씨', '짜증나다', '진짜', '상사', '새끼', '때문', '진짜', '회사', '내', '때리다', '고민', '중', '이야'], ['곰팡이', '제', '거제', '효과', '있다', '나', '한번', '구매', '해보다'], ['그렇다', '거', '같다', '창문', '을', '캐다', '수', '밖에'], ['나', '근데', '인위', '적', '인', '냄새', '싫어하다'], ['고맙다'], ['집', '갇히다', '것', '같다', '비', '너무', '많이', '오다'], ['내', '선물', '보고', '싶다', '내', '꼭', '보여주다'], ['오늘', '부터', '일주일', '동안', '휴가', '기간', '인데', '휴가', '기간', '내내', '비', '온대'], ['그냥', '내', '운동', '걸', '좋아하다', '매번', '마라톤', '대회', '나가다', '나', '기록', '을', '세우다', '노력'], ['꼭', '보여주다', '너', '아마', '부러', '울', '걸'], ['처음', '에는', '막', '아니다', '그렇다', '결국', '다', '걸리다', '다', '거짓말', '이다'], ['으', '쓰레기통', '에서', '역겹다', '냄새', '나기', '시작'], ['나다', '짜장면', '에서', '벌레', '나오다', '경우', '처음', '이야', '너무', '지저분하다'], ['너무', '맘', '들다', '내', '원하다', '향수', '야'], ['아무', '거나', '틀다', '보다'], ['맞다', '그렇다', '것', '있다', '지금', '바로', '버리다', '화', '내지', '마'], ['아니다', '나', '혼자'], ['그렇게', '생각', '중이', '야'], ['백화점', '에서', '향수', '대한', '이벤트', '내', '평소', '갖다', '싶다', '거여', '서', '응모'], ['딱', '명', '뽑다', '내', '뽑히다'], ['완전하다', '끝나다', '너무', '후련하다'], ['왜', '요', '보다'], ['맞다', '아', '왜', '그렇다', '상사', '있다'], ['곰팡이', '제', '거제', '정말', '효과', '있다'], ['영화', '나', '보다'], ['아니다', '지금', '밖에', '비', '엄청', '내다', '홍수', '나다', '근데', '문', '안', '열리다', '것', '같다'], ['냄새', '없애다', '방', '을', '치우다', '너무', '힘들다', '하지만', '얼른', '청소', '게', '나다', '것', '같다'], ['지금', '비', '너무', '많이', '오다'], ['아니다', '다른', '직원', '한테', '친절하다', '나', '한테', '만', '자꾸', '짜증', '내다', '뭐라다', '화가', '나서다', '그렇다'], ['요즘', '다', '들다', '왜', '그렇다', '이해', '수가', '없다', '짜증나다'], ['응', '정말', '완전하다', '다', '끝나다', '행복하다'], ['사과', '건', '진정', '성도', '없다', '사과', '안', '인간', '있다'], ['휴', '그렇다', '너', '말', '대로', '음악', '이나', '들다', '기분', '풀다', '나', '발라드', '좋다'], ['그렇다', '못', '만난', '친구', '만나다', '싶다'], ['그렇다', '너무', '실망', '스럽다', '왜', '허위', '광고'], ['나다', '모르다', '이사', '갈다'], ['그렇다', '너', '한테', '해주다'], ['아직', '리포트', '조금', '남기다', '뭐', '완전하다', '끝나다', '수준', '이지'], ['정말', '그렇다', '쓰레기통', '을', '언제', '다', '정리', '한탄', '스럽다'], ['어휴', '저', '거', '완전', '무섭다', '어떡하다'], ['그렇다', '그거', '좋다', '생각', '이다', '사진', '찍다'], ['나다', '그렇게', '생각', '얼른', '버리다'], ['나', '기분', '좋다', '일', '있다'], ['나', '이벤트', '당첨', '되어다'], ['응', '구매', '하고', '싶다', '빨리', '조회', '해주다'], ['이제', '완전하다', '끝나다', '수', '있다'], ['주변', '사람', '한테', '이벤트', '당첨', '돼다', '선물', '을', '받다', '엄청', '자랑'], ['찍다', '찍다', '보기', '만', '해도', '짜증나다'], ['응', '버리다', '근데', '내', '지금', '너무', '바쁘다', '그렇다', '너', '대신', '버리다', '수', '있다'], ['설마', '그', '상사', '도대체', '뭐땜', '이르다', '거야', '정말', '답답하다', '죽겠네'], ['좋다', '빨리', '빨리', '연락', '주다', '좋다'], ['곰팡이', '제', '거제', '생각', '을', '못', '해봤다', '알다', '진작', '사다'], ['최종', '발표', '오늘', '마치다', '이제', '완전하다', '끝나다', '너무', '기분', '좋다'], ['아니다', '내', '생각', '에는', '창문', '작다', '서다', '미세먼지', '뭐', '까짓', '거', '그냥', '말다', '되다', '창문', '을', '열다', '있다', '창문', '작다', '그렇다', '거', '같다', '애'], ['그렇다', '알아보다', '수', '있다', '곰팡이', '제', '거제'], ['아', '친구', '만나다', '되다', '아', '알다', '고맙다'], ['응', '수', '없다', '뭐'], ['향수', '진짜', '몇', '명', '안', '주다', '건데', '그거', '당첨', '돼다'], ['곰팡이', '제', '거제', '효과', '있다', '나', '구매', '사용', '해보다'], ['드디어', '프로젝트', '마감', '돼다'], ['응', '그', '성취', '감', '것', '같다'], ['너', '안', '당', '해보다', '모르다', '다른', '직원', '한테', '늘다', '친절하다', '나', '한테', '만', '자꾸', '짜증', '이야'], ['나', '마라톤', '에서', '등'], ['갈다', '때', '없다', '그냥', '먹다', '살다', '견디다'], ['진짜', '나', '진짜', '내일', '가다', '엎을지', '모르다', '화가', '나가다', '진짜', '짜증나다'], ['내', '킬로미터', '마라톤', '대회', '출전', '예전', '내', '기록', '을', '훨씬', '갱신'], ['그렇다', '게', '좋다', '거', '같다', '애'], ['나', '벌써', '친구', '이랑', '약속', '내일', '만나다'], ['지난', '번', '신청', '이벤트'], ['오다', '짜장면', '에서', '벌레', '나오다', '어떡하다'], ['아', '짜증', '나', '그', '새끼', '일', '없다', '집', '에나', '갈다', '것', '이지', '왜', '내', '옆', '붙다', '지랄', '이지'], ['맞다', '그래서', '아주', '괴롭다'], ['너', '말', '대로', '게', '나다', '거', '같다', '지금', '사진', '찍다', '놓다', '거', '보내다', '보다'], ['아', '맞다', '너', '말', '대로', '지금', '바로', '사진', '찍다'], ['나', '지금', '너무', '화가', '나다', '짜증', '나다', '어떻다', '영상', '을', '보여주다'], ['아니다', '우리', '집', '반지', '근데', '지금', '밖에', '아깝다', '비', '억수', '로', '오다', '지금', '집', '물이', '차다'], ['그렇다', '얼른', '버리다', '냄새', '너무', '심하다', '나다', '있다'], ['냄새', '방향', '제로', '처리', '게', '가장', '좋다', '방법', '같다'], ['년', '만에', '휴가', '인데', '이번'], ['다행하다', '우리', '집쪽', '물', '들어오다', '않다', '것', '같다', '난', '괜찮다'], ['어', '완전하다', '다', '마무리', '돼다'], ['그렇다', '추천', '주다', '그거', '보고', '기분', '이나', '전환'], ['맞다', '정말', '힘들다', '지치다', '열심히', '달리다'], ['종종', '밖', '에서', '작업', '일도', '생기', '니까', '노트북', '보험', '가입', '을', '생각', '해보다'], ['화장실', '청소', '아무', '리해', '곰팡이', '안', '없어지다'], ['너무', '좋다', '너무', '행복하다', '이래서', '하나', '보다', '보람', '을', '느끼다'], ['정전', '돼다', '엘레베이터', '멈추다', '것', '같다', '애'], ['다음', '부터는', '먹다', '바로바로', '버리다'], ['어', '나', '완전', '끝나다', '좋다', '너무', '기분'], ['응', '그렇다', '두', '번', '아니다', '너무', '스트레스', '받다'], ['정말', '고맙다'], ['함께', '달리다', '크루', '있다', '지치다', '힘들다', '때', '나', '한테', '크다', '힘', '되어다', '주다'], ['나', '드디어', '영', '상처리', '프로젝트', '끝나다'], ['아', '짜증나다', '그', '새끼', '업무', '다', '끝나다', '집', '에나', '가지', '왜', '남다', '맨날', '나', '한테', '만', '뭐라다', '그렇다'], ['아니다', '그', '정도', '아니다'], ['그니까', '완전', '배고프다', '지금', '기다리다', '있다', '근데'], ['맞다', '능력', '없다', '나대다', '엄청', '나대다'], ['창문', '을', '자주', '열다', '한데', '방', '창문', '하나라', '환기', '자다', '안', '돼다'], ['열심히', '좋다', '결과', '나오다'], ['정전', '돼다', '엘리베이터', '불', '꺼지다', '지금', '멈추다'], ['결승선', '도착', '순간', '힘드다', '싹', '잊혀지다', '더', '라고'], ['축하', '해주다', '고맙다', '너', '랑', '대화', '기분', '더', '좋아지다', '것', '같다'], ['청소', '더', '자주', '나다'], ['알다', '친구', '만나다', '여행', '계획', '세우다', '볼', '게'], ['집', '화장실', '엔', '환기', '구가', '없다'], ['아직', '까지는', '물이', '집', '안', '들어오다', '않다', '물이', '조만간', '들어오다', '너무', '걱정', '돼다'], ['그렇다', '야하다', '것', '같다', '좋다', '거', '있다', '추천', '해주다'], ['그', '새끼', '나', '한테', '짓', '보다', '욕', '나오다', '수', '밖에', '없다'], ['그거', '너무', '좋다', '방법', '이다', '너무', '여행', '가다', '싶다'], ['프로젝트', '진행', '한동안', '친구', '을', '못', '만나다', '이번', '기회', '만나다', '보다'], ['쓰레기통', '에서', '역겹다', '냄새', '나기', '시작'], ['사과', '영상', '을', '보다', '자기', '변명', '만', '있다', '보고', '나', '니까', '더', '화가', '나'], ['아무', '것', '안', '보이다', '빨리', '도와주다'], ['나', '축하', '해주다', '기분', '좋다', '일이', '있다'], ['명', '뽑다', '건데', '내', '당첨', '돼다', '짱', '이야', '진짜'], ['스트레스', '확', '날다', '버리다', '음악', '부탁'], ['니', '내', '상황', '돼다', '보다', '얼마나', '짜증나다'], ['아니다', '요즘', '다', '들다', '왜', '이렇다', '난', '진짜', '이해', '안', '돼다'], ['나', '축하', '해주다', '기분', '좋다', '이다'], ['하루', '종일', '화장실', '청소', '만', '느낌', '이야'], ['달', '동안', '밤', '새', '도록', '프로젝트', '너무', '힘들다', '이제', '너무', '끝나다', '홀가분하다'], ['응', '너', '한테', '향수', '뿌리다'], ['백화점', '향수', '선물', '이벤트', '당첨', '되어다'], ['게', '얼마나', '많다', '영화', '랑', '음악', '다운', '받다', '되다', '프로젝트', '고'], ['당연하다', '마음', '들다', '비싸다', '향수', '야'], ['스무', '명', '정도', '되다', '거', '이다'], ['그거', '좋다', '생각', '이다', '친구', '보다', '가다'], ['자다', '동안', '그렇게', '비', '많이', '오다', '줄', '모르다', '난', '대피', '문자', '못', '보고', '잠', '만', '자다'], ['여행', '제주도', '좋다'], ['그렇다', '새끼', '욕', '먹다', '그렇다', '욕', '을', '해주다', '되다'], ['그', '래야', '것', '같다', '지금', '냄새', '안', '빠지다', '있다'], ['나', '발라드', '좋다'], ['어떻다', '자다', '생각', '알다', '스벅쿠폰', '당첨', '돼다'], ['아니다', '백화점', '가다', '나', '아무', '생각', '없이', '행운', '권', '뽑다', '그런데', '등', '당첨', '돼다'], ['유명하다', '유튜버', '괜찮다', '제품', '이라고', '사기', '유도', '그런데', '알', '고', '보다', '뒷', '광고', '이다'], ['내', '선물', '어떻다', '건지다', '궁금하다', '나중', '꼭', '보여주다'], ['그거', '괜찮다', '나', '괜찮다', '주문', '하고', '싶다'], ['완전하다', '끝나다', '속이다', '너무', '시원하다', '쉬다', '겠다'], ['헐다', '나', '이벤트', '당첨', '돼다'], ['아', '지금', '우리', '집', '방향', '제', '없다'], ['명', '뽑다', '거', '이다', '운', '내', '너무', '좋다'], ['나다', '그렇다', '생각', '하고', '있다'], ['너', '겪다', '보다', '그렇다', '좆', '같다', '새끼', '없다'], ['년', '만인', '거', '같다', '요즘', '코로나', '때문'], ['야', '나', '지금', '엘리베이터', '갇히다', '무섭다'], ['너', '테', '보여주다', '수', '있다', '좋다'], ['해외', '여행', '이벤트', '당첨', '돼다'], ['맞다', '결승선', '을', '통과', '순간', '힘드다', '싹', '사라지다', '더', '라고'], ['내', '선물', '뭔', '지', '궁금하다', '보다', '나중', '꼭', '보여주다'], ['나', '혼자', '집', '안', '갇히다', '돼다'], ['집', '갇히다'], ['그렇다', '곰팡이', '제', '거제', '사용', '효과', '있다', '구매', '사용', '해보다'], ['알다', '다음', '부턴', '조심하다', '되다'], ['그렇다', '그렇다', '게', '아무래도', '좋다'], ['신나다', '음악', '보다는', '맛있다', '음식', '을', '먹다', '싶다', '못', '먹다', '음식', '너무', '많다'], ['기분', '풀어지다', '않다', '노래', '들다', '볼', '게'], ['결국', '그렇게', '어디', '갈다', '없다', '집', '에서', '영화', '나', '실컷', '보다'], ['곰팡이', '없어지다', '않다'], ['나', '아무래도', '갇히다', '것', '같다', '어떡하다'], ['당첨', '명', '뽑다', '거', '이다', '내', '당첨', '되어다'], ['동해', '바다로', '갈다', '생각', '이다'], ['짜장면', '벌레', '나오다', '입맛', '뚝', '떨어지다'], ['몇', '장', '찍다', '놓다', '증거', '사진'], ['어', '그', '래야', '되다'], ['그렇다', '친구', '랑', '약속', '잡다', '볼', '게'], ['맞다', '우리', '집', '화장실', '환풍기', '따로', '없다'], ['그렇다', '그렇다', '어떻다', '되다']]\n"
     ]
    }
   ],
   "source": [
    "# 기계가 텍스트를 숫자로 처리할 수 있도록 훈련 데이터와 \n",
    "# 테스트 데이터에 정수 인코딩을 수행해야 합니다. \n",
    "# 우선, 훈련 데이터에 대해서 단어 집합(vocaburary)을 만들어봅시다.\n",
    "tokenizer = Tokenizer()\n",
    "print(len(X_train))\n",
    "tokenizer.fit_on_texts(X_train)\n",
    "print(len(X_train))\n",
    "print(X_train)"
   ]
  },
  {
   "cell_type": "code",
   "execution_count": 563,
   "id": "29c577af",
   "metadata": {},
   "outputs": [
    {
     "name": "stdout",
     "output_type": "stream",
     "text": [
      "{'나': 1, '있다': 2, '그렇다': 3, '너무': 4, '을': 5, '내': 6, '좋다': 7, '것': 8, '같다': 9, '안': 10, '집': 11, '돼다': 12, '거': 13, '아니다': 14, '없다': 15, '보다': 16, '그': 17, '곰팡이': 18, '기분': 19, '에서': 20, '버리다': 21, '아': 22, '냄새': 23, '만': 24, '한테': 25, '오다': 26, '되다': 27, '들다': 28, '못': 29, '다': 30, '지금': 31, '당첨': 32, '않다': 33, '해주다': 34, '알다': 35, '음악': 36, '정말': 37, '싶다': 38, '거야': 39, '끝나다': 40, '청소': 41, '왜': 42, '응': 43, '나다': 44, '무섭다': 45, '나오다': 46, '어': 47, '친구': 48, '생각': 49, '비': 50, '진짜': 51, '게': 52, '새끼': 53, '맞다': 54, '갇히다': 55, '이야': 56, '말': 57, '힘들다': 58, '일': 59, '마라톤': 60, '야': 61, '혼자': 62, '짜증나다': 63, '이벤트': 64, '나가다': 65, '괜찮다': 66, '너': 67, '어떻다': 68, '향수': 69, '기록': 70, '가다': 71, '서': 72, '많이': 73, '쓰레기': 74, '이다': 75, '수': 76, '벌레': 77, '명': 78, '만나다': 79, '해보다': 80, '자다': 81, '제': 82, '모르다': 83, '여행': 84, '휴가': 85, '받다': 86, '좋아하다': 87, '우리': 88, '화장실': 89, '사진': 90, '더': 91, '대회': 92, '찍다': 93, '고맙다': 94, '그냥': 95, '신나다': 96, '쓰레기통': 97, '엄청': 98, '음식물': 99, '동안': 100, '뭐': 101, '없어지다': 102, '먹다': 103, '하고': 104, '짜장면': 105, '갈다': 106, '해': 107, '로': 108, '당연하다': 109, '되어다': 110, '마음': 111, '물이': 112, '일이': 113, '고': 114, '사람': 115, '노트북': 116, '완전하다': 117, '구매': 118, '그렇게': 119, '프로젝트': 120, '환기': 121, '추천': 122, '해도': 123, '이지': 124, '달리다': 125, '방향': 126, '같이': 127, '이번': 128, '수가': 129, '사과': 130, '이제': 131, '그래서': 132, '에나': 133, '욕': 134, '뽑다': 135, '인': 136, '뛰다': 137, '많다': 138, '빨리': 139, '선물': 140, '거제': 141, '번': 142, '인데': 143, '생기다': 144, '애': 145, '영상': 146, '어떡하다': 147, '그거': 148, '완전': 149, '선수': 150, '몸': 151, '때': 152, '보고': 153, '니까': 154, '얼른': 155, '볼': 156, '때문': 157, '요즘': 158, '내다': 159, '대로': 160, '오늘': 161, '갖다': 162, '시키다': 163, '비싸다': 164, '갱신': 165, '화가': 166, '밖에': 167, '주다': 168, '들어오다': 169, '효과': 170, '결승선': 171, '듣다': 172, '바로': 173, '라고': 174, '아직': 175, '운동': 176, '짜증': 177, '사다': 178, '이랑': 179, '광고': 180, '주변': 181, '드디어': 182, '보여주다': 183, '근데': 184, '크루': 185, '축하': 186, '열심히': 187, '영화': 188, '그러니까': 189, '걸': 190, '한번': 191, '출전': 192, '그래도': 193, '에는': 194, '난': 195, '계획': 196, '치우다': 197, '그것': 198, '가지': 199, '사라지다': 200, '그게': 201, '다음': 202, '건': 203, '부터': 204, '얼마나': 205, '당장': 206, '자꾸': 207, '세우다': 208, '통과': 209, '달': 210, '자고': 211, '쉬다': 212, '역겹다': 213, '고생': 214, '계속': 215, '랑': 216, '순간': 217, '상사': 218, '뭐라다': 219, '언': 220, '밖': 221, '년': 222, '지치다': 223, '약속': 224, '오랜': 225, '플루': 226, '이해': 227, '까지': 228, '전화': 229, '너무나': 230, '뒷': 231, '아무': 232, '써다': 233, '다른': 234, '걱정': 235, '일어나다': 236, '처리': 237, '꼭': 238, '창문': 239, '제로': 240, '하나': 241, '아무래도': 242, '만에': 243, '크다': 244, '이나': 245, '엘리베이터': 246, '지': 247, '스트레스': 248, '제품': 249, '사용': 250, '나서다': 251, '바쁘다': 252, '물': 253, '그런데': 254, '동네': 255, '진행': 256, '기간': 257, '힘': 258, '놀다': 259, '이르다': 260, '헐다': 261, '정도': 262, '함께': 263, '방법': 264, '딱': 265, '도착': 266, '갑자기': 267, '보험': 268, '다행하다': 269, '매일': 270, '풀다': 271, '래야': 272, '일단': 273, '바다': 274, '맨날': 275, '아주': 276, '심하다': 277, '자랑': 278, '건데': 279, '이렇다': 280, '훨씬': 281, '신경': 282, '유튜버': 283, '가입': 284, '습기': 285, '하루': 286, '종일': 287, '네': 288, '겠다': 289, '회사': 290, '썩다': 291, '발표': 292, '문제': 293, '실망': 294, '지랄': 295, '또': 296, '빼다': 297, '문': 298, '나쁘다': 299, '잡다': 300, '라서': 301, '데': 302, '고립': 303, '거기': 304, '증거': 305, '간': 306, '장마철': 307, '더럽다': 308, '운': 309, '유명하다': 310, '나중': 311, '줄': 312, '얘기': 313, '알': 314, '최종': 315, '니': 316, '별로': 317, '조금': 318, '전': 319, '물바다': 320, '무슨': 321, '쓰다': 322, '멈추다': 323, '열다': 324, '그동안': 325, '고약하다': 326, '없애다': 327, '좋아지다': 328, '스럽다': 329, '잠': 330, '하': 331, '차오르다': 332, '싫다': 333, '상해': 334, '항상': 335, '옆': 336, '놓다': 337, '늘다': 338, '전화하다': 339, '놈': 340, '열리다': 341, '미세먼지': 342, '휴': 343, '다녀오다': 344, '연습': 345, '거지': 346, '싹': 347, '예전': 348, '생기': 349, '맘': 350, '올리다': 351, '까지는': 352, '홍수': 353, '이라서': 354, '문자': 355, '잠기다': 356, '매번': 357, '정전': 358, '살펴보다': 359, '자기': 360, '런가': 361, '날': 362, '내내': 363, '장마': 364, '맛있다': 365, '묶다': 366, '쓰이다': 367, '곳': 368, '죽다': 369, '시작': 370, '하지만': 371, '행복하다': 372, '건가': 373, '기회': 374, '화': 375, '벌써': 376, '힘드다': 377, '남다': 378, '히스테리': 379, '신청': 380, '유튜버들': 381, '내일': 382, '꼼꼼하다': 383, '보내다': 384, '진정': 385, '지다': 386, '오래': 387, '친절하다': 388, '믿다': 389, '부리다': 390, '자주': 391, '조치': 392, '그리고': 393, '결혼': 394, '끝내다': 395, '노래': 396, '오': 397, '평소': 398, '가장': 399, '백화점': 400, '중': 401, '노력': 402, '가족': 403, '치다': 404, '붙다': 405, '직원': 406, '그러면': 407, '환불': 408, '앞': 409, '어디': 410, '다치다': 411, '아무리': 412, '들어가다': 413, '처럼': 414, '다시': 415, '확실하다': 416, '지저분하다': 417, '음식': 418, '전환': 419, '제때': 420, '당': 421, '섞이다': 422, '잘못': 423, '홀가분하다': 424, '해봤다': 425, '이라': 426, '이렇게': 427, '돈': 428, '작다': 429, '억지로': 430, '엔': 431, '이상하다': 432, '거들다': 433, '싸다': 434, '풀리다': 435, '그건': 436, '다운': 437, '마치다': 438, '원래': 439, '보이다': 440, '동해': 441, '찾아보다': 442, '일주일': 443, '에다': 444, '상황': 445, '조심하다': 446, '산': 447, '오기': 448, '토': 449, '새롭다': 450, '속이다': 451, '엉망': 452, '짜다': 453, '요': 454, '취': 455, '두렵다': 456, '재난': 457, '대피': 458, '수도': 459, '집안': 460, '다니다': 461, '연락': 462, '소리': 463, '변명': 464, '기쁘다': 465, '바깥': 466, '부턴': 467, '망하다': 468, '이미': 469, '성': 470, '구': 471, '라': 472, '처음': 473, '주말': 474, '엘레베이터': 475, '야하다': 476, '아우': 477, '아프다': 478, '만원': 479, '항의': 480, '거의': 481, '이라도': 482, '뜯다': 483, '면': 484, '시간': 485, '여기': 486, '이전': 487, '끝': 488, '어쩔': 489, '부탁': 490, '쉬': 491, '날아가다': 492, '궁금하다': 493, '모으다': 494, '첨부': 495, '보상': 496, '차다': 497, '남아': 498, '이야기': 499, '미치다': 500, '매': 501, '늦다': 502, '방': 503, '며칠': 504, '집다': 505, '속': 506, '적': 507, '난리': 508, '사장': 509, '래': 510, '뿐': 511, '터지다': 512, '실수': 513, '인지': 514, '단축': 515, '한데': 516, '마': 517, '시원하다': 518, '제일': 519, '저번': 520, '확': 521, '게임': 522, '머리': 523, '소식': 524, '뿌리다': 525, '비우다': 526, '속상하다': 527, '으': 528, '등': 529, '낫다': 530, '풀': 531, '이벤': 532, '적당하다': 533, '님': 534, '대박': 535, '에이': 536, '씨발': 537, '두다': 538, '안되다': 539, '알바': 540, '나르다': 541, '일반인': 542, '소개': 543, '부터는': 544, '어우': 545, '많아지다': 546, '바닷가': 547, '고여': 548, '꺼지다': 549, '막': 550, '나아지다': 551, '여름': 552, '서다': 553, '겹': 554, '향': 555, '작업': 556, '파리': 557, '타다': 558, '마다': 559, '언제': 560, '나기': 561, '가보다': 562, '이라고': 563, '확인': 564, '설명': 565, '십': 566, '킬로미터': 567, '여러': 568, '배송': 569, '의미': 570, '도와주다': 571, '주위': 572, '제대로': 573, '보': 574, '도움': 575, '결과': 576, '저': 577, '건지다': 578, '추다': 579, '메세지': 580, '그니까': 581, '틀다': 582, '부러워하다': 583, '라는': 584, '놀라다': 585, '다시다': 586, '걸다': 587, '통': 588, '심해': 589, '부럽다': 590, '어쩌겠어': 591, '열': 592, '경신': 593, '뿌리': 594, '된거': 595, '에도': 596, '상품': 597, '발라드': 598, '먼저': 599, '대': 600, '느끼다': 601, '까진': 602, '다행': 603, '혹시': 604, '가기': 605, '제거': 606, '덕분': 607, '살다': 608, '괴롭히다': 609, '성적': 610, '즐기다': 611, '온대': 612, '느껴지다': 613, '바퀴벌레': 614, '내리다': 615, '도대체': 616, '차': 617, '답답하다': 618, '상': 619, '피하': 620, '과연': 621, '가야': 622, '서로': 623, '몇': 624, '비다': 625, '층': 626, '트이다': 627, '빠지다': 628, '한동안': 629, '두': 630, '신고': 631, '스러운': 632, '날다': 633, '개': 634, '만들다': 635, '용': 636, '갈리다': 637, '걸리다': 638, '아이': 639, '습하다': 640, '두루': 641, '감': 642, '달동': 643, '사보다': 644, '중국집': 645, '라도': 646, '끔찍하다': 647, '첫날': 648, '뭔': 649, '그걸': 650, '장': 651, '사이': 652, '깨끗이': 653, '봉투': 654, '넣다': 655, '보다는': 656, '만날': 657, '음': 658, '화나다': 659, '구입': 660, '요새': 661, '급': 662, '찾다': 663, '쓸다': 664, '넘다': 665, '만화': 666, '떨어지다': 667, '순': 668, '배신': 669, '이네': 670, '휴식': 671, '든': 672, '그렇지만': 673, '걔': 674, '신기록': 675, '아마추어': 676, '잖다': 677, '되게': 678, '불': 679, '잔뜩': 680, '작동': 681, '일도': 682, '없이': 683, '코로나': 684, '참고': 685, '늦어지다': 686, '필요하다': 687, '여기저기': 688, '욕먹다': 689, '잔소리': 690, '구가': 691, '퇴근': 692, '사고': 693, '기다리다': 694, '알아보다': 695, '어후': 696, '준비': 697, '모든': 698, '피해': 699, '그치다': 700, '결국': 701, '뭔가': 702, '식이': 703, '환풍기': 704, '어디서': 705, '미리': 706, '뭘': 707, '피곤하다': 708, '보기': 709, '달리기': 710, '장난': 711, '벨': 712, '비상': 713, '온통': 714, '이고': 715, '지독하다': 716, '행운': 717, '살': 718, '재밌다': 719, '예쁘다': 720, '향상': 721, '의지': 722, '위해': 723, '느낌': 724, '놀래다': 725, '밖에는': 726, '보람': 727, '술': 728, '안나': 729, '최고': 730, '막히다': 731, '닦다': 732, '아직도': 733, '춤': 734, '뽑히다': 735, '새': 736, '모두': 737, '사르다': 738, '푹': 739, '어제': 740, '넘어가다': 741, '분': 742, '시청자': 743, '발견': 744, '니깐': 745, '기존': 746, '첫': 747, '이건': 748, '태풍': 749, '지난': 750, '징그럽다': 751, '밥': 752, '인가': 753, '죄다': 754, '즐겁다': 755, '으로는': 756, '수다': 757, '떨다': 758, '맛': 759, '비소': 760, '짓': 761, '마무리': 762, '스럽게': 763, '누가': 764, '꼬이다': 765, '지나가다': 766, '진실되다': 767, '거나': 768, '퉁': 769, '해결': 770, '권': 771, '지나다': 772, '잔': 773, '지워지다': 774, '물놀이': 775, '값': 776, '살피다': 777, '아깝다': 778, '버들': 779, '서해': 780, '넌': 781, '뿌듯하다': 782, '귀찮다': 783, '기다': 784, '독하다': 785, '그만': 786, '실컷': 787, '세': 788, '쇼핑': 789, '아마': 790, '사오다': 791, '그랬더니': 792, '배달': 793, '학교': 794, '건물': 795, '정확하다': 796, '얻다': 797, '완주': 798, '당황': 799, '구조': 800, '데도': 801, '면서': 802, '깜빡': 803, '힘내다': 804, '곧': 805, '바다로': 806, '따지다': 807, '거두다': 808, '그런': 809, '불안하다': 810, '에까지': 811, '진동': 812, '고장': 813, '제주도': 814, '뻔': 815, '원': 816, '들리다': 817, '누르다': 818, '참다': 819, '취하': 820, '들어주다': 821, '정돈': 822, '제출': 823, '냐': 824, '동영상': 825, '공부': 826, '놀': 827, '진작': 828, '가끔': 829, '잡': 830, '거고': 831, '잊혀지다': 832, '상처': 833, '오케이': 834, '자세하다': 835, '유튜': 836, '진': 837, '얼마': 838, '만인': 839, '보지': 840, '안좋다': 841, '조만간': 842, '한텐': 843, '내지': 844, '테': 845, '라기': 846, '그렇다고': 847, '깨끗하다': 848, '경기': 849, '온': 850, '금방': 851, '음식점': 852, '올라가다': 853, '싫어하다': 854, '저러다': 855, '중이': 856, '진창': 857, '소용': 858, '배고프다': 859, '우울하다': 860, '오죽하다': 861, '수영': 862, '지역': 863, '말다': 864, '아무튼': 865, '편하다': 866, '우와': 867, '자유': 868, '기대': 869, '사실': 870, '밤': 871, '절대로': 872, '지내다': 873, '지도': 874, '미안하다': 875, '만난': 876, '오래되다': 877, '대화': 878, '후': 879, '옛날': 880, '들어서다': 881, '따다': 882, '씨': 883, '기도': 884, '피다': 885, '해소': 886, '후련하다': 887, '약간': 888, '용돈': 889, '놀리다': 890, '응원': 891, '불쾌하다': 892, '참가': 893, '하드': 894, '움직이다': 895, '깨다': 896, '어도': 897, '주문': 898, '나름': 899, '이사': 900, '여행가': 901, '가게': 902, '말고': 903, '일반': 904, '인들': 905, '역시': 906, '깜깜': 907, '매장': 908, '에다가': 909, '덴': 910, '대체': 911, '방금': 912, '이대': 913, '누구': 914, '틀어주다': 915, '끼다': 916, '켜': 917, '에게': 918, '자장면': 919, '유튜브': 920, '경우': 921, '영': 922, '라기보다는': 923, '일인': 924, '세상': 925, '연구실': 926, '어렵다': 927, '숨': 928, '상태': 929, '로또': 930, '급하다': 931, '젠': 932, '남기다': 933, '아예': 934, '그때': 935, '낼': 936, '보통': 937, '바': 938, '취미': 939, '사서': 940, '처': 941, '이니까': 942, '고민': 943, '저런': 944, '어쩜': 945, '편': 946, '추첨': 947, '동호회': 948, '함부로': 949, '좆': 950, '시': 951, '타고': 952, '겁': 953, '고르다': 954, '다가': 955, '놨어': 956, '다섯': 957, '아무렇다': 958, '땐': 959, '에서도': 960, '이래': 961, '어떻': 962, '내려가다': 963, '단': 964, '식히다': 965, '깜짝': 966, '이면': 967, '대신': 968, '달라': 969, '대단하다': 970, '연구': 971, '나야': 972, '이상': 973, '때리다': 974, '일만': 975, '달성': 976, '키로': 977, '해달라다': 978, '드럽다': 979, '로는': 980, '따로': 981, '놨으': 982, '워': 983, '푸다': 984, '라니까': 985, '사용설명서': 986, '아저씨': 987, '락스': 988, '이러다가': 989, '불도': 990, '사주다': 991, '오지': 992, '대해': 993, '저녁': 994, '진중하다': 995, '전혀': 996, '대답': 997, '눈': 998, '물건': 999, '창': 1000, '올라서다': 1001, '그만두다': 1002, '빡치다': 1003, '줄다': 1004, '아끼다': 1005, '직전': 1006, '해먹': 1007, '으로도': 1008, '중요하다': 1009, '으응': 1010, '나빠지다': 1011, '미안': 1012, '길': 1013, '벌이다': 1014, '여서': 1015, '꽉': 1016, '깨끗해지다': 1017, '인걸': 1018, '들려주다': 1019, '실망하다': 1020, '드라마': 1021, '정': 1022, '근처': 1023, '지만': 1024, '이란': 1025, '재미있다': 1026, '채팅': 1027, '딱하다': 1028, '쯤': 1029, '행사': 1030, '절대': 1031, '참여': 1032, '편집': 1033, '일부러': 1034, '가면': 1035, '피': 1036, '원인': 1037, '컴퓨터': 1038, '어플': 1039, '둘': 1040, '상관': 1041, '안해': 1042, '불다': 1043, '사': 1044, '엄청나다': 1045, '조깅': 1046, '죽': 1047, '시기': 1048, '바람': 1049, '자취': 1050, '덜컹': 1051, '미워하다': 1052, '집들이': 1053, '잠재우다': 1054, '자마자': 1055, '불만': 1056, '가짜': 1057, '연': 1058, '바로바로': 1059, '사기': 1060, '복권': 1061, '물어보다': 1062, '후기': 1063, '나볼': 1064, '큰일': 1065, '쾅': 1066, '독해': 1067, '이유': 1068, '글쎄': 1069, '진심': 1070, '하고는': 1071, '너무하다': 1072, '문도': 1073, '하필': 1074, '통해': 1075, '겁나다': 1076, '존나': 1077, '바보': 1078, '으아': 1079, '유독': 1080, '아유': 1081, '잠깐': 1082, '잠도': 1083, '우선': 1084, '강력하다': 1085, '조언': 1086, '오는': 1087, '사방': 1088, '인정': 1089, '외로워': 1090, '구경': 1091, '당하다': 1092, '팀': 1093, '이런': 1094, '원하다': 1095, '하자': 1096, '저렴하다': 1097, '이냐': 1098, '말씀드리다': 1099, '감사하다': 1100, '인거': 1101, '아파트': 1102, '최선': 1103, '뒤': 1104, '어휴': 1105, '스스로': 1106, '마감': 1107, '총': 1108, '에가': 1109, '인스타': 1110, '개인': 1111, '마트': 1112, '부리': 1113, '팔': 1114, '씨바': 1115, '포기': 1116, '프로': 1117, '직접': 1118, '격려': 1119, '보이': 1120, '무책임하다': 1121, '지기': 1122, '주': 1123, '제라': 1124, '설마': 1125, '았': 1126, '정보': 1127, '아침': 1128, '제도': 1129, '오르다': 1130, '순위': 1131, '놨': 1132, '빠져나오다': 1133, '까먹다': 1134, '감정': 1135, '여유': 1136, '역': 1137, '오랫동안': 1138, '마스크': 1139, '땜': 1140, '정말로': 1141, '벌린': 1142, '허위': 1143, '이에요': 1144, '끄다': 1145, '무리': 1146, '옮기다': 1147, '우수하다': 1148, '대한': 1149, '반납': 1150, '날씨': 1151, '상쾌하다': 1152, '성격': 1153, '클럽': 1154, '혐오': 1155, '진출': 1156, '과도': 1157, '헤어지다': 1158, '얘길': 1159, '와의': 1160, '전쟁': 1161, '티': 1162, '차갑다': 1163, '팔다': 1164, '현금': 1165, '떤다': 1166, '올라오다': 1167, '전기': 1168, '화끈하다': 1169, '이따': 1170, '추워지다': 1171, '담다': 1172, '어학': 1173, '청소기': 1174, '잊다': 1175, '끊다': 1176, '앗다': 1177, '물난리': 1178, '진실성': 1179, '듯이': 1180, '썩': 1181, '한강': 1182, '확보': 1183, '철': 1184, '입': 1185, '김': 1186, '동시': 1187, '화보': 1188, '요청': 1189, '한참': 1190, '듣기': 1191, '벌어지다': 1192, '차서': 1193, '발자국': 1194, '이대로': 1195, '겪다': 1196, '나가야': 1197, '상탠데': 1198, '무지': 1199, '고급': 1200, '상하': 1201, '석': 1202, '먹기': 1203, '싫어지다': 1204, '상한': 1205, '대하': 1206, '딴': 1207, '빠르다': 1208, '지지': 1209, '입맛': 1210, '깔다': 1211, '괜히': 1212, '이라는': 1213, '독자': 1214, '미우다': 1215, '갈래': 1216, '괜': 1217, 'ㅊ': 1218, '낳다': 1219, '슬프다': 1220, '인제': 1221, '에서는': 1222, '투자': 1223, '손대다': 1224, '바가지': 1225, '논문': 1226, '이어서': 1227, '야근': 1228, '챙기다': 1229, '쎄다': 1230, '들이다': 1231, '생활': 1232, '하라': 1233, '거짓말': 1234, '걔네': 1235, '가다가': 1236, '도저히': 1237, '사지': 1238, '사과받다': 1239, '찝찝하다': 1240, '빼': 1241, '형': 1242, '걱정스럽다': 1243, '반응': 1244, '발생': 1245, '다르다': 1246, '별': 1247, '컨디션': 1248, '멀쩡하다': 1249, '어둡다': 1250, '보단': 1251, '경찰': 1252, '우승하다': 1253, '지롱': 1254, '해외': 1255, '짱': 1256, '마지막': 1257, '심정': 1258, '매년': 1259, '실력': 1260, '닫히다': 1261, '상사면': 1262, '행동': 1263, '정상': 1264, '착하다': 1265, '와우': 1266, '동': 1267, '드': 1268, '트로트': 1269, '수준': 1270, '꽁': 1271, '아이패드': 1272, '가득': 1273, '사오': 1274, '게으름': 1275, '심리': 1276, '교훈': 1277, '백': 1278, '화장품': 1279, '안다': 1280, '가성': 1281, '젝': 1282, '개새끼': 1283, '칠': 1284, '과제': 1285, '봉지': 1286, '어깨': 1287, '나란하다': 1288, '어쩌라고': 1289, '예능': 1290, '인터넷': 1291, '복잡하다': 1292, '라이': 1293, '하나라': 1294, '바꾸다': 1295, '풀어지다': 1296, '아이디어': 1297, '틀': 1298, '위로': 1299, '얘': 1300, '버튼': 1301, '종': 1302, '찾아오다': 1303, '왜그러지': 1304, '차이다': 1305, '한지': 1306, '치킨': 1307, '드리다': 1308, '환': 1309, '모': 1310, '싸가지': 1311, '싸이다': 1312, '켜다': 1313, '헤비메탈': 1314, '오거': 1315, '주의': 1316, '심지어': 1317, '뒤지다': 1318, '아이고': 1319, '분리': 1320, '해방': 1321, '직장': 1322, '동료': 1323, '빡빡': 1324, '께서': 1325, '긍정': 1326, '멀다': 1327, '야호': 1328, '시끄럽다': 1329, '덜': 1330, '깊다': 1331, '잊어버리다': 1332, '방이': 1333, '지난번': 1334, '달다': 1335, '재미': 1336, '망치다': 1337, '그리다': 1338, '한두': 1339, '성질': 1340, '분명': 1341, '락': 1342, '랑은': 1343, '동아리': 1344, '께': 1345, '레포트': 1346, '부르다': 1347, '경비실': 1348, '리해': 1349, '맘껏': 1350, '개다': 1351, '가르치다': 1352, '꽤': 1353, '지면': 1354, '지경': 1355, '성도': 1356, '모임': 1357, '그만큼': 1358, '미세': 1359, '떠나다': 1360, '공감': 1361, '피신': 1362, '가깝다': 1363, '응모': 1364, '정리': 1365, '선택': 1366, '나대다': 1367, '떠보다': 1368, '어쩌지': 1369, '파격': 1370, '인하다': 1371, '깔끔하다': 1372, '한단': 1373, '여기다': 1374, '무조건': 1375, '진정하다': 1376, '취할': 1377, '중국어': 1378, '졸라': 1379, '가든': 1380, '힐링': 1381, '일보': 1382, '내주': 1383, '저지르다': 1384, '기고만장하다': 1385, '깨비': 1386, '찌꺼기': 1387, '생긴덴데': 1388, '조그만': 1389, '내야': 1390, '공역': 1391, '정식': 1392, '그만하다': 1393, '스포츠': 1394, '움직': 1395, '에서만': 1396, '가라': 1397, '잠기': 1398, '반복': 1399, '디어': 1400, '작고': 1401, '온종일': 1402, '말리': 1403, '비도': 1404, '하하': 1405, '피전': 1406, '배우다': 1407, '집주인': 1408, '주행': 1409, '아마도': 1410, '구석': 1411, '슬슬': 1412, '효준': 1413, '컷': 1414, '마침': 1415, '이요': 1416, '가능하다': 1417, '지우다': 1418, '물품': 1419, '꾸미다': 1420, '대고': 1421, '다음주': 1422, '빠져나가다': 1423, '뜻': 1424, '인게': 1425, '돌아서다': 1426, '감고': 1427, '아웅': 1428, '번은': 1429, '첨': 1430, 'ㅏ': 1431, '발뺌': 1432, '쉽다': 1433, '맴돌다': 1434, '쌍놈': 1435, '선': 1436, '왠지': 1437, '운수': 1438, '보라': 1439, '심해지다': 1440, '는걸': 1441, '조': 1442, '읽다': 1443, '가득하다': 1444, '명인': 1445, '소중하다': 1446, '자업자득': 1447, '악물다': 1448, '길이': 1449, '소': 1450, '핸드폰': 1451, '버': 1452, '리드': 1453, '듯': 1454, '이리저리': 1455, '군데': 1456, '가끔가다가': 1457, '차고': 1458, '나니': 1459, '괜잖': 1460, '여가': 1461, '며': 1462, '기미': 1463, '통수': 1464, '삼': 1465, '인간취': 1466, '식': 1467, '치가': 1468, '구상': 1469, '질문': 1470, '교수': 1471, '떼': 1472, '절로': 1473, '쌓이다': 1474, '양심': 1475, '찌다': 1476, '이루': 1477, '말로': 1478, '하물며': 1479, '마지못하다': 1480, '모카': 1481, '알아주다': 1482, '고기': 1483, '굽다': 1484, '더러워지다': 1485, '포토샵': 1486, '만하': 1487, '정해': 1488, '전율': 1489, '흐르다': 1490, '개꿀': 1491, '비교': 1492, '가격': 1493, '베다': 1494, '찍기': 1495, '귀신': 1496, '제보': 1497, '일일이': 1498, '나열하다': 1499, '켜보': 1500, '곳도': 1501, '강하다': 1502, '는데': 1503, '저걸': 1504, '튀다': 1505, '성공하다': 1506, '라고는': 1507, '조금씩': 1508, '지적': 1509, '자연': 1510, '오픈': 1511, '적다': 1512, '컴': 1513, '플레인': 1514, '벌리다': 1515, '전원': 1516, '하늘만': 1517, '원망하다': 1518, '철썩': 1519, '흐흐': 1520, '경품': 1521, '입다': 1522, '기계': 1523, '바라다': 1524, '나위': 1525, '상의': 1526, '넘치다': 1527, '약': 1528, '런': 1529, '쭉': 1530, '잡고': 1531, '천천히': 1532, '타': 1533, '맥북': 1534, '신기하다': 1535, '낫': 1536, '누군가': 1537, '척': 1538, '들이밀다': 1539, '책임': 1540, '재미없다': 1541, '내다보다': 1542, '두번째': 1543, '종류': 1544, '키질': 1545, '구결': 1546, '어떤': 1547, '멍청하다': 1548, '인공': 1549, '지능': 1550, '벌': 1551, '거리': 1552, '원한': 1553, '휴지통': 1554, '가버리다': 1555, '번트': 1556, '나누다': 1557, '위험하다': 1558, '백오십만원': 1559, '해더': 1560, '어차피': 1561, '최고다': 1562, '분명하다': 1563, '허다': 1564, '구한': 1565, '사가': 1566, '사면': 1567, '에까지는': 1568, '괜챃': 1569, '찍': 1570, '조차도': 1571, '개운하다': 1572, '향순': 1573, '탁': 1574, '명도': 1575, '하기는': 1576, '기념': 1577, '검색': 1578, '아차': 1579, '검사': 1580, '그러자': 1581, '동이': 1582, '춥다': 1583, '마시다': 1584, '사양': 1585, '덮이다': 1586, '집도': 1587, '점점': 1588, '본인': 1589, '어두워지다': 1590, '답': 1591, '저건': 1592, '통신': 1593, '나발': 1594, '편이': 1595, '다른사람': 1596, '굴더': 1597, '사무실': 1598, '쩔다': 1599, '정당하다': 1600, '청해': 1601, '믿음': 1602, '기운': 1603, '안전하다': 1604, '튜브': 1605, '서비스': 1606, '하든': 1607, '뒤늦다': 1608, '가만히': 1609, '최악': 1610, '비슷하다': 1611, '짝': 1612, '리뷰': 1613, '타입': 1614, '달리': 1615, '려고': 1616, '분들': 1617, '탄천': 1618, '둘러보다': 1619, '그렬려': 1620, '예쩐': 1621, '실': 1622, '줄어들다': 1623, '부장': 1624, '질': 1625, '공기': 1626, '대다': 1627, '데리다': 1628, '어이없다': 1629, '떨리다': 1630, '죄': 1631, '지지도': 1632, '웃기다': 1633, '목표': 1634, '이거지': 1635, '창밖': 1636, '이라고는': 1637, '바라지': 1638, '문서': 1639, '오자': 1640, '마자': 1641, '저기': 1642, '성능': 1643, '이랑은': 1644, '잡아먹다': 1645, '안달': 1646, '시인': 1647, '틈틈이': 1648, '떠밀다': 1649, '려': 1650, '불쌍하다': 1651, '건강하다': 1652, '맞추다': 1653, '강의': 1654, '외국어': 1655, '다한': 1656, '건강': 1657, '서핑': 1658, '꿈': 1659, '야무지다': 1660, '같앴어': 1661, '엄두': 1662, '티비': 1663, '프로도': 1664, '근': 1665, '보고서': 1666, '근거': 1667, '업다': 1668, '년도': 1669, '어유': 1670, '모습': 1671, '에흐': 1672, '자신': 1673, '명의': 1674, '잔잔하다': 1675, '호수': 1676, '엮겨운': 1677, '공기청정기': 1678, '기왕': 1679, '라벤더': 1680, '성은': 1681, '머': 1682, '잠들다': 1683, '발전': 1684, '오히려': 1685, '답장': 1686, '오진': 1687, '기상': 1688, '떄문': 1689, '안눌려': 1690, '대안': 1691, '증명': 1692, '식욕': 1693, '심심하다': 1694, '쪼끄매': 1695, '충격': 1696, '진우': 1697, '방안': 1698, '평상시': 1699, '자랑스럽다': 1700, '남친': 1701, '지는': 1702, '갈구다': 1703, '경비': 1704, '상위': 1705, '팬션': 1706, '경치': 1707, '해산물': 1708, '일리': 1709, '꿀팁': 1710, '맛집': 1711, '었던': 1712, '담': 1713, '따르다': 1714, '쪽': 1715, '랬': 1716, '론데': 1717, '앙': 1718, 'ㄹ': 1719, '올': 1720, '갑': 1721, '반지하': 1722, '쩜': 1723, '땡기다': 1724, '신': 1725, '병신': 1726, '말씀': 1727, '아하': 1728, '냥': 1729, '차차': 1730, '만이': 1731, '고이': 1732, '쾌쾌': 1733, '단백질': 1734, '섭취': 1735, '왼': 1736, '팔이': 1737, '쉬엄쉬엄': 1738, '설문조사': 1739, '다친덴': 1740, '특성': 1741, '지긋지긋하다': 1742, '하래': 1743, '지대': 1744, '낮다': 1745, '깊이': 1746, '부재': 1747, '골다': 1748, '골치': 1749, '꿀꿀하다': 1750, '줄줄이': 1751, '두서너': 1752, '머리카락': 1753, '킬로': 1754, '반성': 1755, '살리다': 1756, '떄': 1757, '쓸데없다': 1758, '하나로': 1759, '바뀌다': 1760, '무시': 1761, '상보': 1762, '유튜번데': 1763, '오우': 1764, '수거': 1765, '본관': 1766, '번째': 1767, '구조대': 1768, '똑똑하다': 1769, '텐데': 1770, '샤워': 1771, '전공': 1772, '슬그머니': 1773, '꼬리': 1774, '리더': 1775, '장사': 1776, '조절': 1777, '학원': 1778, '마법': 1779, '번만': 1780, '가만': 1781, '저장': 1782, '감시': 1783, '산더민데': 1784, '자초': 1785, '쐬다': 1786, '세부': 1787, '사항': 1788, '마르다': 1789, '토너': 1790, '꼴불견': 1791, '어쩌다': 1792, '어디가': 1793, '간만': 1794, '악랄하다': 1795, '형편': 1796, '점': 1797, '달래다': 1798, '새벽': 1799, '뒹굴뒹굴': 1800, '가볍다': 1801, '거짓': 1802, '싸다니다': 1803, '배': 1804, '고프다': 1805, '솔로': 1806, '문지르다': 1807, '근육통': 1808, '엘리': 1809, '베': 1810, '이턴': 1811, '쌓다': 1812, '유난히': 1813, '까지야': 1814, '올려주다': 1815, '끼': 1816, '뜨다': 1817, '인성': 1818, '더러': 1819, '잔잔': 1820, '뻔하다': 1821, '불구': 1822, '미처': 1823, '동행': 1824, '여러가지': 1825, '취급': 1826, '일해': 1827, '급선무': 1828, '인터폰': 1829, '답변': 1830, '이쁘다': 1831, '애쓰다': 1832, '유일하다': 1833, '해답': 1834, '이루어지다': 1835, '이직': 1836, '페브리즈': 1837, '무지하다': 1838, '턱': 1839, '턱턱': 1840, '음윽': 1841, '독고': 1842, '다이야': 1843, '거제도': 1844, '퇴사': 1845, '밤새': 1846, '희한하다': 1847, '어이': 1848, '헛웃음': 1849, '매뉴얼': 1850, '익히다': 1851, '엥': 1852, '국내': 1853, '짓다': 1854, '상당하다': 1855, '신랑': 1856, '샘': 1857, '관련': 1858, '본적': 1859, '거니': 1860, '카톡': 1861, '용서': 1862, '꼰대': 1863, '낮추다': 1864, '근본': 1865, '책': 1866, '발': 1867, '건성건성': 1868, '랄': 1869, '안쓰럽다': 1870, '수고': 1871, '학회': 1872, '별다르다': 1873, '이상만': 1874, '돌리다': 1875, '매력': 1876, '불안감': 1877, '가시': 1878, '그대로': 1879, '참견': 1880, '생겨나다': 1881, '방도': 1882, '쌍수': 1883, '엄마': 1884, '집밖': 1885, '도무지': 1886, '관': 1887, '무리다': 1888, '초파리': 1889, '유명': 1890, '에요': 1891, '남자친구': 1892, '세제': 1893, '신곡': 1894, '꽝': 1895, '간지': 1896, '무': 1897, '고발': 1898, '택할': 1899, '예정': 1900, '앉다': 1901, '프로그램': 1902, '시내': 1903, '자체': 1904, '자동차': 1905, '시국': 1906, '취해': 1907, '그딴': 1908, '크룬': 1909, '억울하다': 1910, '무작정': 1911, '높다': 1912, '오니': 1913, '길다': 1914, '가뜩이나': 1915, '저렇다': 1916, '늦': 1917, '오호': 1918, '홀로': 1919, '한테라': 1920, '라그': 1921, '고급스럽다': 1922, '땡땡': 1923, '반점': 1924, '투': 1925, '이며': 1926, '원고': 1927, '그림책': 1928, '완성': 1929, '종량제': 1930, '사려': 1931, '써주다': 1932, '찾아내다': 1933, '파티': 1934, '물론': 1935, '월급': 1936, '작': 1937, '함': 1938, '삼성': 1939, '불량품': 1940, '조개': 1941, '줍다': 1942, '똥': 1943, '든지': 1944, '필요없다': 1945, '긴급': 1946, '내년': 1947, '늘어놓다': 1948, '잘해주다': 1949, '당분간': 1950, '이참': 1951, '밀리다': 1952, '가운데': 1953, '자전거': 1954, '탈': 1955, '어려워지다': 1956, '양초': 1957, '꺼내다': 1958, '맡다': 1959, '키': 1960, '겨우': 1961, '마찬가지': 1962, '틀어놓다': 1963, '린데': 1964, '수없이': 1965, '진대': 1966, '관리': 1967, '라니': 1968, '먼지': 1969, '영향': 1970, '일지': 1971, '쓰레': 1972, '꺼림칙하다': 1973, '기': 1974, '생기지': 1975, '몰다': 1976, '겨': 1977, '폭발': 1978, '가슴': 1979, '자유롭다': 1980, '이구만': 1981, '혼내다': 1982, '감기': 1983, '신뢰': 1984, '무너지다': 1985, '닫다': 1986, '스타벅스': 1987, '커피': 1988, '아흐': 1989, '친하다': 1990, '놔두다': 1991, '실내': 1992, '잡히다': 1993, '페이': 1994, '인상': 1995, '자료': 1996, '역다': 1997, '시발': 1998, '모양': 1999, '쉰': 2000, '안당': 2001, '웬': 2002, '동문서답': 2003, '보름': 2004, '천사': 2005, '인척': 2006, '존내': 2007, '예민하다': 2008, '비땜': 2009, '인사': 2010, '의견': 2011, '굳다': 2012, '가져가다': 2013, '빨르다': 2014, '도리': 2015, '충분하다': 2016, '달래': 2017, '난감': 2018, '박지': 2019, '전자기기': 2020, '쾌감': 2021, '똑같다': 2022, '어리다': 2023, '파다': 2024, '아이참': 2025, '띄우다': 2026, '부분': 2027, '해수욕장': 2028, '궂': 2029, '여행지': 2030, '빗물': 2031, '흐': 2032, '공': 2033, '하진': 2034, '과일': 2035, '껍질': 2036, '에만': 2037, '이백만원': 2038, '초미세먼지': 2039, '전체': 2040, '스럽지': 2041, '풍': 2042, '시비': 2043, '벽': 2044, '방심하다': 2045, '졸업': 2046, '틈틈하다': 2047, '애초': 2048, '주로': 2049, '고소하다': 2050, '곰파잉': 2051, '만화가': 2052, '어느': 2053, '양': 2054, '차도': 2055, '이따가': 2056, '인식': 2057, '마디': 2058, '굉장하다': 2059, '긴장': 2060, '피더': 2061, '안치': 2062, '운지': 2063, '앗': 2064, '강제': 2065, '캐다': 2066, '인위': 2067, '부러': 2068, '울': 2069, '거여': 2070, '인간': 2071, '리포트': 2072, '한탄': 2073, '조회': 2074, '뭐땜': 2075, '죽겠네': 2076, '까짓': 2077, '성취': 2078, '견디다': 2079, '엎을지': 2080, '괴롭다': 2081, '반지': 2082, '억수': 2083, '집쪽': 2084, '종종': 2085, '이래서': 2086, '상처리': 2087, '업무': 2088, '능력': 2089, '도록': 2090, '스무': 2091, '스벅쿠폰': 2092, '유도': 2093, '뚝': 2094}\n"
     ]
    }
   ],
   "source": [
    "# 단어 집합이 생성되는 동시에 각 단어에 고유한 정수가 부여되었습니다. \n",
    "# 이는 tokenizer.word_index를 출력하여 확인 가능합니다.\n",
    "print(tokenizer.word_index)"
   ]
  },
  {
   "cell_type": "code",
   "execution_count": 689,
   "id": "60104571",
   "metadata": {},
   "outputs": [
    {
     "name": "stdout",
     "output_type": "stream",
     "text": [
      "단어 집합(vocabulary)의 크기 : 2094\n",
      "등장 빈도가 2번 이하인 희귀 단어의 수: 944\n",
      "단어 집합에서 희귀 단어의 비율: 45.08118433619867\n",
      "전체 등장 빈도에서 희귀 단어 등장 빈도 비율: 2.069740079152851\n"
     ]
    }
   ],
   "source": [
    "# 높은 정수가 부여된 단어들은 등장 빈도수가 매우 낮다는 것을 의미합니다. \n",
    "# 여기서는 빈도수가 낮은 단어들은 자연어 처리에서 배제하고자 합니다. \n",
    "# 등장 빈도수가 3회 미만인 단어들이 이 데이터에서 얼만큼의 비중을 차지하는지 확인해봅시다.\n",
    "threshold = 3\n",
    "total_cnt = len(tokenizer.word_index) # 단어의 수\n",
    "rare_cnt = 0 # 등장 빈도수가 threshold보다 작은 단어의 개수를 카운트\n",
    "total_freq = 0 # 훈련 데이터의 전체 단어 빈도수 총 합\n",
    "rare_freq = 0 # 등장 빈도수가 threshold보다 작은 단어의 등장 빈도수의 총 합\n",
    "\n",
    "# 단어와 빈도수의 쌍(pair)을 key와 value로 받는다.\n",
    "for key, value in tokenizer.word_counts.items():\n",
    "    total_freq = total_freq + value\n",
    "\n",
    "    # 단어의 등장 빈도수가 threshold보다 작으면\n",
    "    if(value < threshold):\n",
    "        rare_cnt = rare_cnt + 1\n",
    "        rare_freq = rare_freq + value\n",
    "\n",
    "print('단어 집합(vocabulary)의 크기 :',total_cnt)\n",
    "print('등장 빈도가 %s번 이하인 희귀 단어의 수: %s'%(threshold - 1, rare_cnt))\n",
    "print(\"단어 집합에서 희귀 단어의 비율:\", (rare_cnt / total_cnt)*100)\n",
    "print(\"전체 등장 빈도에서 희귀 단어 등장 빈도 비율:\", (rare_freq / total_freq)*100)"
   ]
  },
  {
   "cell_type": "code",
   "execution_count": 690,
   "id": "6bcc560c",
   "metadata": {},
   "outputs": [
    {
     "name": "stdout",
     "output_type": "stream",
     "text": [
      "1151\n",
      "단어 집합의 크기 : 2095\n"
     ]
    }
   ],
   "source": [
    "# 등장 빈도수가 2이하인 단어들의 수를 제외한 단어의 개수를 \n",
    "# 단어 집합의 최대 크기로 제한하겠습니다.\n",
    "\n",
    "# 전체 단어 개수 중 빈도수 2이하인 단어는 제거.\n",
    "# 0번 패딩 토큰을 고려하여 + 1\n",
    "# vocab_size = total_cnt - rare_cnt + 1\n",
    "print(total_cnt - rare_cnt + 1)\n",
    "vocab_size = len(tokenizer.word_index) + 1\n",
    "print('단어 집합의 크기 :',vocab_size)"
   ]
  },
  {
   "cell_type": "code",
   "execution_count": 691,
   "id": "d55c6db0",
   "metadata": {},
   "outputs": [],
   "source": [
    "# 케라스 토크나이저의 인자로 넘겨주고 텍스트 시퀀스를 정수 시퀀스로 변환합니다.\n",
    "tokenizer = Tokenizer(vocab_size) \n",
    "tokenizer.fit_on_texts(X_train)\n",
    "X_train = tokenizer.texts_to_sequences(X_train)\n",
    "X_test = tokenizer.texts_to_sequences(X_test)"
   ]
  },
  {
   "cell_type": "code",
   "execution_count": 692,
   "id": "8475eb59",
   "metadata": {},
   "outputs": [
    {
     "name": "stdout",
     "output_type": "stream",
     "text": [
      "[[998, 5, 1368, 167, 714, 253, 167, 15, 1369], [1, 120, 40], [55, 55]]\n"
     ]
    }
   ],
   "source": [
    "# 정수 인코딩이 진행되었는지 확인하고자 X_train에 대해서 상위 3개의 샘플만 출력합니다.\n",
    "# 각 샘플 내의 단어들은 각 단어에 대한 정수로 변환된 것을 확인할 수 있습니다. \n",
    "# 단어의 개수는 19,416개로 제한되었으므로 0번 단어 ~ 19,415번 단어까지만 사용 중입니다. \n",
    "# 0번 단어는 패딩을 위한 토큰임을 상기합시다.\n",
    "print(X_train[:3])"
   ]
  },
  {
   "cell_type": "code",
   "execution_count": 693,
   "id": "d44cf5c2",
   "metadata": {},
   "outputs": [],
   "source": [
    "# train_data에서 y_train과 y_test를 별도로 저장해줍니다.\n",
    "\n",
    "y_train = np.array(train_data['label'])\n",
    "y_test = np.array(test_data['label'])"
   ]
  },
  {
   "cell_type": "code",
   "execution_count": null,
   "id": "187b6e3e",
   "metadata": {},
   "outputs": [],
   "source": []
  },
  {
   "cell_type": "code",
   "execution_count": 694,
   "id": "9a5be384",
   "metadata": {},
   "outputs": [],
   "source": [
    "# 전체 데이터에서 빈도수가 낮은 단어가 삭제되었다는 것은 \n",
    "# 빈도수가 낮은 단어만으로 구성되었던 샘플들은 빈(empty) 샘플이 되었다는 것을 의미합니다. \n",
    "# 빈 샘플들은 어떤 레이블이 붙어있던 의미가 없으므로 빈 샘플들을 제거해주는 작업을 하겠습니다. \n",
    "# 각 샘플들의 길이를 확인해서 길이가 0인 샘플들의 인덱스를 받아오겠습니다.\n",
    "\n",
    "drop_train = [index for index, sentence in enumerate(X_train) if len(sentence) < 1]"
   ]
  },
  {
   "cell_type": "code",
   "execution_count": 695,
   "id": "5a8a5b36",
   "metadata": {},
   "outputs": [
    {
     "name": "stdout",
     "output_type": "stream",
     "text": [
      "7236\n",
      "7236\n",
      "[26, 105, 20, 77, 46] 5\n",
      "{9: array([[   0,    0,    0, ...,  167,   15, 1369],\n",
      "       [   0,    0,    0, ...,   10,  180,  999],\n",
      "       [   0,    0,    0, ...,   30,  320,  110],\n",
      "       ...,\n",
      "       [   0,    0,    0, ...,    5,   34,   27],\n",
      "       [   0,    0,    0, ...,   10,  628,    2],\n",
      "       [   0,    0,    0, ...,  311,  238,  183]]), 3: array([[   0,    0,    0, ...,    1,  120,   40],\n",
      "       [   0,    0,    0, ...,  105,   77,   46],\n",
      "       [   0,    0,    0, ...,  618,  290, 1002],\n",
      "       ...,\n",
      "       [   0,    0,    0, ...,   84,  814,    7],\n",
      "       [   0,    0,    0, ...,    1,  598,    7],\n",
      "       [   0,    0,    0, ...,   18,  102,   33]]), 2: array([[  0,   0,   0, ...,   0,  55,  55],\n",
      "       [  0,   0,   0, ...,   0, 185,  15],\n",
      "       [  0,   0,   0, ...,   0, 119,  80],\n",
      "       ...,\n",
      "       [  0,   0,   0, ...,   0,   3,  83],\n",
      "       [  0,   0,   0, ...,   0,  37,  94],\n",
      "       [  0,   0,   0, ...,   0,  11,  55]]), 4: array([[  0,   0,   0, ..., 398, 162,  39],\n",
      "       [  0,   0,   0, ..., 886,   1,  71],\n",
      "       [  0,   0,   0, ..., 246,  55, 147],\n",
      "       ...,\n",
      "       [  0,   0,   0, ...,  91, 391,  44],\n",
      "       [  0,   0,   0, ...,  17, 272,  27],\n",
      "       [  0,   0,   0, ...,   3,  68,  27]]), 13: array([[  0,   0,   6, ..., 142, 380, 425],\n",
      "       [  0,   0, 364, ..., 132,  55, 110],\n",
      "       [  0,   0,  14, ..., 163,  63,   3],\n",
      "       ...,\n",
      "       [  0,   0, 263, ..., 258, 110, 168],\n",
      "       [  0,   0, 175, ...,   4, 235,  12],\n",
      "       [  0,   0,  96, ..., 418,   4, 138]]), 8: array([[  0,   0,   0, ...,   4,  44,   2],\n",
      "       [  0,   0,   0, ...,  13,   9, 145],\n",
      "       [  0,   0,   0, ...,  15,   4, 417],\n",
      "       ...,\n",
      "       [  0,   0,   0, ...,   6,   4,   7],\n",
      "       [  0,   0,   0, ...,   9,  53,  15],\n",
      "       [  0,   0,   0, ...,   6,  32, 110]]), 1: array([[  0,   0,   0,   0,   0,   0,   0,   0,   0,   0,   0,   0,   0,\n",
      "          0,   3],\n",
      "       [  0,   0,   0,   0,   0,   0,   0,   0,   0,   0,   0,   0,   0,\n",
      "          0,   3],\n",
      "       [  0,   0,   0,   0,   0,   0,   0,   0,   0,   0,   0,   0,   0,\n",
      "          0, 591],\n",
      "       [  0,   0,   0,   0,   0,   0,   0,   0,   0,   0,   0,   0,   0,\n",
      "          0, 119],\n",
      "       [  0,   0,   0,   0,   0,   0,   0,   0,   0,   0,   0,   0,   0,\n",
      "          0,  57],\n",
      "       [  0,   0,   0,   0,   0,   0,   0,   0,   0,   0,   0,   0,   0,\n",
      "          0,   3],\n",
      "       [  0,   0,   0,   0,   0,   0,   0,   0,   0,   0,   0,   0,   0,\n",
      "          0, 119],\n",
      "       [  0,   0,   0,   0,   0,   0,   0,   0,   0,   0,   0,   0,   0,\n",
      "          0, 131],\n",
      "       [  0,   0,   0,   0,   0,   0,   0,   0,   0,   0,   0,   0,   0,\n",
      "          0,  10],\n",
      "       [  0,   0,   0,   0,   0,   0,   0,   0,   0,   0,   0,   0,   0,\n",
      "          0, 118],\n",
      "       [  0,   0,   0,   0,   0,   0,   0,   0,   0,   0,   0,   0,   0,\n",
      "          0,  66],\n",
      "       [  0,   0,   0,   0,   0,   0,   0,   0,   0,   0,   0,   0,   0,\n",
      "          0,   3],\n",
      "       [  0,   0,   0,   0,   0,   0,   0,   0,   0,   0,   0,   0,   0,\n",
      "          0,  16],\n",
      "       [  0,   0,   0,   0,   0,   0,   0,   0,   0,   0,   0,   0,   0,\n",
      "          0,  45],\n",
      "       [  0,   0,   0,   0,   0,   0,   0,   0,   0,   0,   0,   0,   0,\n",
      "          0,  83],\n",
      "       [  0,   0,   0,   0,   0,   0,   0,   0,   0,   0,   0,   0,   0,\n",
      "          0,  68],\n",
      "       [  0,   0,   0,   0,   0,   0,   0,   0,   0,   0,   0,   0,   0,\n",
      "          0,   3],\n",
      "       [  0,   0,   0,   0,   0,   0,   0,   0,   0,   0,   0,   0,   0,\n",
      "          0, 235],\n",
      "       [  0,   0,   0,   0,   0,   0,   0,   0,   0,   0,   0,   0,   0,\n",
      "          0, 134],\n",
      "       [  0,   0,   0,   0,   0,   0,   0,   0,   0,   0,   0,   0,   0,\n",
      "          0, 446],\n",
      "       [  0,   0,   0,   0,   0,   0,   0,   0,   0,   0,   0,   0,   0,\n",
      "          0, 246],\n",
      "       [  0,   0,   0,   0,   0,   0,   0,   0,   0,   0,   0,   0,   0,\n",
      "          0,  94]]), 5: array([[   0,    0,    0, ..., 1151,    4,  579],\n",
      "       [   0,    0,    0, ...,   64,   32,  110],\n",
      "       [   0,    0,    0, ...,   53,   25,  313],\n",
      "       ...,\n",
      "       [   0,    0,    0, ...,  467,  446,   27],\n",
      "       [   0,    0,    0, ...,   52,  242,    7],\n",
      "       [   0,    0,    0, ...,  106,   49,   75]]), 7: array([[  0,   0,   0, ..., 187, 117,  40],\n",
      "       [  0,   0,   0, ..., 368,  21,  21],\n",
      "       [  0,   0,   0, ..., 429,   3, 562],\n",
      "       ...,\n",
      "       [  0,   0,   0, ...,  28, 156,  52],\n",
      "       [  0,   0,   0, ..., 300, 156,  52],\n",
      "       [  0,   0,   0, ..., 704, 981,  15]]), 6: array([[   0,    0,    0, ...,  139,  483,   16],\n",
      "       [   0,    0,    0, ...,  214,  111,  887],\n",
      "       [   0,    0,    0, ...,   18,  102,   33],\n",
      "       ...,\n",
      "       [   0,    0,    0, ...,    8,    9,  147],\n",
      "       [   0,    0,    0, ..., 1210, 2094,  667],\n",
      "       [   0,    0,    0, ...,  337,  305,   90]]), 11: array([[  0,   0,   0, ..., 227,  10,  71],\n",
      "       [  0,   0,   0, ..., 213, 276,  95],\n",
      "       [  0,   0,   0, ...,   7,  13,   9],\n",
      "       ...,\n",
      "       [  0,   0,   0, ..., 227,  10,  12],\n",
      "       [  0,   0,   0, ...,  27, 120, 114],\n",
      "       [  0,   0,   0, ...,   1, 787,  16]]), 10: array([[  0,   0,   0, ..., 105,  11, 339],\n",
      "       [  0,   0,   0, ...,  27,  13,   9],\n",
      "       [  0,   0,   0, ..., 229,  29,  86],\n",
      "       ...,\n",
      "       [  0,   0,   0, ..., 727,   5, 601],\n",
      "       [  0,   0,   0, ..., 200,  91, 174],\n",
      "       [  0,   0,   0, ..., 118, 250,  80]]), 12: array([[   0,    0,    0, ...,   80,  507,    2],\n",
      "       [   0,    0,    0, ...,  531,  114,   38],\n",
      "       [   0,    0,    0, ...,  409,   20,   68],\n",
      "       ...,\n",
      "       [   0,    0,    0, ..., 2070,   72, 1364],\n",
      "       [   0,    0,    0, ...,   81,   10,   12],\n",
      "       [   0,    0,    0, ...,    4,   40,  424]]), 15: array([[ 22,  17,  53, ..., 508,  61,  37],\n",
      "       [ 22,  63,  17, ..., 260,   2, 587],\n",
      "       [  7,  49,  56, ...,  13,   9, 145],\n",
      "       ...,\n",
      "       [ 22,  63,  17, ...,  25, 219, 107],\n",
      "       [130, 146,   5, ...,  44, 177,   1],\n",
      "       [ 14, 234, 406, ..., 166, 251,   3]]), 18: array([[ 163,    1, 1372, 1153,  354,    3,   30, 1373,   57,   56,  254,\n",
      "          42,   10,  200,   39],\n",
      "       [   7,  249,  563,  543,  132,   44,  127,  178,  254,  314,  114,\n",
      "          16,  201,  180,   75],\n",
      "       [  17,   53,   59,   40,  139,   11,  133,  199,  498,   72,  207,\n",
      "           1,   25,  219,  107],\n",
      "       [  80,   83,  234,  406,   25,  338,  388,    1,   25,   24,  207,\n",
      "         219,  166,  251,    3],\n",
      "       [  81,  100,   50,    4,   73,   26,   88,  255,  353,  699,  863,\n",
      "          12,  132,  303,   12],\n",
      "       [ 338,  737,  388, 1206,  802,    1,   25,   24,  177,  159,  219,\n",
      "         107,    4,  166,    1],\n",
      "       [ 160,  225,   24,   84,    5,  344,    8,    7,    8,    9,   84,\n",
      "         196,  300,  156,   52],\n",
      "       [  42,    1,   25,   24,  379,  390,   39,   11,  133,  106,    8,\n",
      "         124,  502, 1175,  903],\n",
      "       [ 203,   83, 1538,   39,  132,   88,  305, 1539,  792,   17,  152,\n",
      "         553,   88,   25,  130],\n",
      "       [ 537,   53,   59,   40,   11,  133,  106,    8,  124,   42,    1,\n",
      "          25,   24,  295,   75],\n",
      "       [ 127,   60,    5,  137,  185,    2,  957,   78,  262,  127, 1093,\n",
      "          12,  345,    5,    2],\n",
      "       [ 478,  410,   84,    5,   71,  523,  965,   26,    8,    7,    8,\n",
      "           9,  410,  108,  562],\n",
      "       [  17,   53,   59,   40,  139,   11,  133,  106,    8,  124,  378,\n",
      "           1,   25,  219,  107],\n",
      "       [  53,   59,   40,  139,   11,  133,  199, 1598,  498,   72,  207,\n",
      "           1,   25,  177,    6],\n",
      "       [  50,  524,    2,  242,   11,   10,   20,  755,   85,  384,   76,\n",
      "           2,  190,   49,   16],\n",
      "       [  53,   59,   15,   11,  133,  106,    8,  124,   42,  335,    1,\n",
      "          25,   24,    3,   39],\n",
      "       [  53,   59,   30,   40,   11,  133,  106,    8,  124,  378,    1,\n",
      "          25,  690, 1625,   56],\n",
      "       [  53,   59,   30,   40,   11,   65,    8,  124,  498,  199,  114,\n",
      "           1,   25,  219,  107],\n",
      "       [  17,   53,   59,   15,   11,  133,  106,    8,  124,   42,  335,\n",
      "           1,   25,   24,    3],\n",
      "       [ 180,   33,   57,    5,  161,  130,  146,    5,  574,  154,    4,\n",
      "         166,   44,  177,   44],\n",
      "       [  53,   59,   30,   40,   11,  133,  106,    8,  124,  378,  207,\n",
      "           1,   25,  219,  107],\n",
      "       [ 779,  231,  180,  157, 1751,   30,  130,  146,  351,  128,    6,\n",
      "          87,  283,  119,   12],\n",
      "       [ 421,   80,   83,    6,   51,  423,    8,   15,   51,   57,  769,\n",
      "          78,  763,    4,   63],\n",
      "       [  17,   53,   59,   15,   11,  133,  106,    8,  124,   42,    1,\n",
      "          25,   24,  508,   61],\n",
      "       [  53,   51,   59,   15,   11,  133,  106,    8,  124,   42,    1,\n",
      "          25,   24,  207,    3],\n",
      "       [  17,  484,  360,   19,    7,    7,  160,  299,  299,   17,  190,\n",
      "         108,   30,  508,   61],\n",
      "       [ 457,  355,   29,   86,  620,  584,  229,   29,   86,  132,   62,\n",
      "         427,   55,   27,   39],\n",
      "       [  17,   53,   59,   40,  139,   11,  133,  199,  498,   72,  207,\n",
      "           1,   25,  219,  107],\n",
      "       [ 283,    7,  249,  563,   44,  178,  254,  314,  114,   16,  428,\n",
      "          86,  180,   75,   39],\n",
      "       [  50,  524,    2,   11,   20,   85,  384,   76,    2,  264,    5,\n",
      "          49,   80,    8,    9],\n",
      "       [  10,  811,  112,  169,   33,  393,  151,  478,  302,   15,  371,\n",
      "          62,    2,    4,   45],\n",
      "       [  17,   53,  113,   15,   11,  133,  106,    8,  124,   42,   31,\n",
      "         228,   10,   71, 1916],\n",
      "       [  53,   59,   30,   40,   11,  133,  106,    8,  124,  498,   72,\n",
      "           1,   25,  219,  107],\n",
      "       [ 489,   76,   15,   65,   76,   15,   11,   20,  671,    5,  820,\n",
      "         802,  365,  107,  103],\n",
      "       [ 179,  780,  274,   71, 1941, 1942,  259,  448,  108,  254,   50,\n",
      "          26,  106,  129,   15],\n",
      "       [  11,  133,  199,   42,    1,   25,  379,  390,   39,  394,  245,\n",
      "           8,  124,   63,   51],\n",
      "       [  53,   59,   30,   40,   11,  133,  106,    8,  124,  378,    1,\n",
      "          25,  207,  690,  107],\n",
      "       [   5,    4,   87,  357,  187,  345,   60,   92,  192,    7,  610,\n",
      "           5,  159,   13,    9],\n",
      "       [ 829,  167,  199,  114,   65,  113,  144,  459,    2,  116,  268,\n",
      "         993,   72,   49,   80],\n",
      "       [  93,   22,   51, 1063,   95,  233,   21,   49,  401,   56,   63,\n",
      "          51,  428,   24,   21],\n",
      "       [  53,   59,   40,  139,   11,  133,  199,  290,  498,   72,    1,\n",
      "          25,  207,  177,   56],\n",
      "       [ 160,   84,  196,  208,  156,   52,  225,   24,   84,    5,  344,\n",
      "           8,   66,    8,    9],\n",
      "       [  53,   59,   40,  139,   11,  133,  106,    8,  124,  378,  207,\n",
      "           1,   25,  219,  107],\n",
      "       [  17,   53,   59,   15,   11,  133,  106,    8,  124,   42,    6,\n",
      "         336,  405,  295,  124],\n",
      "       [  53, 2088,   30,   40,   11,  133,  199,   42,  378,  275,    1,\n",
      "          25,   24,  219,    3]]), 14: array([[  0,  54,  90, ...,  91,  86, 159],\n",
      "       [  0,  48,  25, ...,   4, 717,  75],\n",
      "       [  0,   6,  87, ...,  95, 380, 425],\n",
      "       ...,\n",
      "       [  0, 130, 146, ...,  91, 166,   1],\n",
      "       [  0,  14, 400, ..., 529,  32,  12],\n",
      "       [  0, 310, 283, ..., 231, 180,  75]]), 17: array([[ 221,    5,   16,   88,   11,  181,  112,  617, 1001,  466,   65,\n",
      "         129,   15,  445,   56],\n",
      "       [ 100,   88,  255,   50,   98,   73,   26,    1,  458,   29,  104,\n",
      "         330,   24,  773,   39],\n",
      "       [  17,   53,   59,   40,  139,   11,  133,  199,  290,  498,   72,\n",
      "           1,   25,  690,  107],\n",
      "       [ 283,  207,  249,    5,    7,  233, 1439,   39,  254,  314,  114,\n",
      "          16,  231,  180,   75],\n",
      "       [  17,   53,   59,   15,   11,  133,  106,    8,  124,   42,  335,\n",
      "           1,   25,   24,    3],\n",
      "       [  25,  338,   10,    3,    1,   25,   24,  207,  219,  177,    6,\n",
      "         154,  166,  251,    3],\n",
      "       [ 203, 1477, 1478,  129,   15, 1479,  130,   88,  305,   28,  913,\n",
      "         154,  935,  553, 1480],\n",
      "       [  17,   53,   59,   15,   11,  133,  106,    8,  124,   42,    1,\n",
      "          25,   24,  219,  107],\n",
      "       [ 363,   50,   26,   67,   57,  160,   11,   20,  611,   76,    2,\n",
      "         264,    5,  663,   16],\n",
      "       [ 160,  225,   24,   84,    5,  344,    8,    7,    8,    9,  196,\n",
      "         142,  208,  156,   52],\n",
      "       [  11,   10,  112,  169,   33,  603,   56,  371,  318,    2,  112,\n",
      "         169,    4,  235,   12],\n",
      "       [  17,   53,   59,   15,   11,  133,  106,    8,  124,   42,  335,\n",
      "           1,   25,   24,    3],\n",
      "       [   1,   17,   53,   59,   40,  139,   11,  133,  106,    8,  124,\n",
      "         378,    1,   25,  690],\n",
      "       [  57,   24,  389,   17,  249,    5,   30,  178,   17,  294,  642,\n",
      "           5,  147,    8,   56],\n",
      "       [ 397,  154,  285,  138,   18,   37,   10,  102,   16,  156,  152,\n",
      "         559,   41,    4,   58],\n",
      "       [   1,   17,   53,   59,   40,  139,   11,  133,  199,  378,    1,\n",
      "          25,  207,  219,  107],\n",
      "       [  87,  136,  226,  220,   72,    2,  136,  226,  220,   72,  256,\n",
      "          64,   32,   27,   39],\n",
      "       [  17,   53,   59,   40,   11,  133,  199,  290,  498,   72,    1,\n",
      "          25,  207,  177,    6],\n",
      "       [   1,   17,   53,   59,   15,   11,  133,  106,    8,  124,   42,\n",
      "           1,   25,   24,    3],\n",
      "       [1052,    1,   24,  275,  975,  163,    1,   24,  609,   57,   56,\n",
      "         132,  166,  251,    3],\n",
      "       [ 218,   53,   59,   15,   11,  133,  106,    8,  124,   42,   59,\n",
      "          10,   63,   39,   51],\n",
      "       [  15,   84,    5,  461,   49,   29,  128,  374,   84,    5,  344,\n",
      "           8,    7,    8,    9],\n",
      "       [  53,   37,   63,   59,   15,   11,  133,  106,    8,  124,   42,\n",
      "           1,   25,   24,  219],\n",
      "       [ 414,   81,  125,   14,   95,    6,   70,   16,  624,  742,  245,\n",
      "          91,  139,  266,   39],\n",
      "       [  51,  199,  114,   38, 1279,  143,    4,  164,   29,  693,    2,\n",
      "         184,  201,   32,   12],\n",
      "       [  23,  251,   17,   10,    5, 1318,   16,   99,   74,  334,   72,\n",
      "          23,    1,   13,   75],\n",
      "       [   1,   17,   53,   59,   15,   11,  133,  106,    8,  124,   42,\n",
      "           1,   25,    3,  587],\n",
      "       [ 121,   27,   33,   13,    9,  501,   59,  270,  282,  322,   41,\n",
      "          18,   42,   10,  102],\n",
      "       [  25,  338,  388,    1,   25,   24,  177,  159,  375,    6,  154,\n",
      "           4, 1340,  251,    3],\n",
      "       [  17,   53,   59,   15,   11,  133,  106,  113,  247,   42,  335,\n",
      "           1,   25,   24,    3],\n",
      "       [  17,   53,   59,   40,  139,   11,  133,  199,  378,  207,    1,\n",
      "          25,  375,  159,    2],\n",
      "       [   6,   97,   21,  144,  113,  677,   58,  155,  197,  107,   77,\n",
      "          73,  144,    8,    9],\n",
      "       [ 421,   80,   83,    1,   25,   24,  177,  159,  234,  406,   25,\n",
      "         388,    4,  166,    1],\n",
      "       [  17,   53,   42,   11,   10,   71,    6,  336,  405,  295,   56,\n",
      "         218,  340,   57,   56],\n",
      "       [  17,   53,   59,   40,  139,   11,  133,  199,   42,  378,  275,\n",
      "           1,   25,  219,  107],\n",
      "       [ 157,  136,    8,    9,  145,   13,  139,  770,    5,   27,    4,\n",
      "         166,   44, 1155,  329],\n",
      "       [ 421,   80,   83,  115,  843,   10,    3,    1,   25,   24,  177,\n",
      "         159,  219,  166,    1],\n",
      "       [ 223,   11,   10,   23,  812,    5,  362,  557,  144,  370,  189,\n",
      "         155,  197,    8,    9],\n",
      "       [  29,  104,  187,   59,  104,  132,   59,  222,  243, 1961,  797,\n",
      "         343,   71,  452,   12],\n",
      "       [ 160,  307,  354,   18,   91,   73,  349,    1,   16,   18,  606,\n",
      "          76,    2,  264,   15],\n",
      "       [ 550,  353,   65,  600,  620,  584,  302,  242,  298,    5,   29,\n",
      "         592,    8,    9,  145],\n",
      "       [  17,   53,   59,   15,   11,  133,  106,    8,  124,   42,  335,\n",
      "           1,   25,   24,    3],\n",
      "       [   5,  153,    1,  154,    4,  166,    1,    6,  375, 1054,  312,\n",
      "          76,    2,  146,    2],\n",
      "       [  17,   53,   59,   15,   11,  133,  106,    8,  124,   42,  207,\n",
      "           1,   25,   24,    3],\n",
      "       [ 138,   59,  222,  243,   86,   85,  143,   50,   26,  232,  302,\n",
      "          29,  106,   13,    9],\n",
      "       [ 421,   80,   83,  234,  115,   25,  338,  388,    1,   25,   24,\n",
      "        1340,  159,  219,  107]]), 16: array([[  61,   17,  272, ...,  191,  339,  562],\n",
      "       [  81,  457,  355, ...,   62,   55,   39],\n",
      "       [  63,   17,   53, ...,  295,  104,    2],\n",
      "       ...,\n",
      "       [  10,  421,   80, ...,  207,  177,   56],\n",
      "       [  88,   11, 2082, ...,   11,  112,  497],\n",
      "       [ 100,  119,   50, ...,  330,   24,   81]]), 19: array([[  42,    1,   25,   24,   59,    5,  163,   39,  394,   11,  133,\n",
      "         139,  199,   22,   63],\n",
      "       [ 524,    2,  242,   67,   57,  160,   11,   20,  212,   85,  384,\n",
      "          49,    5,   13,    9],\n",
      "       [  59,   15,   11,  133,  106,    8,  124,   42,    6,  336,  405,\n",
      "         733,  295,  104,    2],\n",
      "       [  26,  489,   76,  683,   11,   20,   76,    2,  190,  442,   13,\n",
      "           9,  254,    4,  527],\n",
      "       [ 524,    2,   67,   57,  160,   85,   11,   20,  384,   76,    2,\n",
      "         264,    5,   49,   16],\n",
      "       [  53,   59,   40,  139,   11,  133,  106,    8,  124,  378,  207,\n",
      "           1,   25,  219,  107],\n",
      "       [  16,  325,   29,   16, 1021,  104, 1290, 1664,  156,   39,  393,\n",
      "        1009,  203,  120,   12],\n",
      "       [  53,   59,   40,  139,   11,  133,  106,    8,  124,  498,   72,\n",
      "           1,   25,  219,  107],\n",
      "       [  53,  275,    1,   24,   16, 1682,  174,  107,  207,    1,   25,\n",
      "          24,  219,  177,    1],\n",
      "       [ 524,    2,  242,   11,   20,   85,  384,   76,    2,  264,    5,\n",
      "          49,   80,    8,    9],\n",
      "       [ 206,   22,   14,   51,  105,  103,   52,  321,  113,   61,   22,\n",
      "          51,   19,  299,   22],\n",
      "       [  14,   22,  193,  748,    4,  277,   13,   14,   51,  270,  270,\n",
      "          41,  275,  275,  144],\n",
      "       [  53,   59,   15,   11,  133,  106,    8,  124,   42,    1,  335,\n",
      "           1,   25,   24,    3],\n",
      "       [  25,   24,  163,  296,  541,  389,   33, 1783,  107,  393,  360,\n",
      "          59,    5,   10,  107],\n",
      "       [   6,  223,   58,  152,  559,  244,  258,   12,  132,  128,   70,\n",
      "          81,   46,    8,    9],\n",
      "       [ 222,  100,   85,  142,   29,   71,  128,  473,   85,   71,   50,\n",
      "         157,  232,  302,   29],\n",
      "       [ 388,    1,   25,   24,  275,  177,    5,  159,  375,    6,  154,\n",
      "           4,  166,  251,    3],\n",
      "       [ 138,   59,  222,  243,   86,   85,  143,   50,   26,  232,  302,\n",
      "          29,  106,   13,    9],\n",
      "       [  59,   30,   40,  139,   11,  133,  106,    8,  124,  378,  207,\n",
      "           1,   25,  219,  107],\n",
      "       [  29,   65,   11,   10,   20,   85,  611,   76,    2,  264,    5,\n",
      "          49,   16,    8,    9]]), 20: array([[ 599,  330,  599,  211,   17,  202,   48,  179,  224,  300,   27,\n",
      "           8,    9,   22,  372],\n",
      "       [ 180,   33,  146,    5,  351,  254,  161,  130,  146,    5,  351,\n",
      "           4,  669,  642,  613],\n",
      "       [ 132,  457,  355,  216,  620,  584,  229,   29,   86,   95,  330,\n",
      "          24,  211,    2,   16],\n",
      "       [ 326,  362,  557,  144,   31,  206,   99,   74,  216,  127,   74,\n",
      "          21,   27,   13,    9],\n",
      "       [  11,  194,   10,   71,    6,  336,    2,  477,    3,  215,  609,\n",
      "         500,  340,  753,   16],\n",
      "       [ 223,   58,  152,  244,  258,  110,  168,  132,  128,   70,  208,\n",
      "          76,    2,   13,    9],\n",
      "       [ 116,    5,  178,  116,  569,  502,  235,  104,    2,  184,  161,\n",
      "          26,   19,    4,    7],\n",
      "       [  18,  885,    8,    9,  145,  132,  286,  287,  988,  108,  732,\n",
      "         523,  228,  478,  932],\n",
      "       [ 327,  302,  170,    2,   44,  191,  118,   80,  170,    7,  190,\n",
      "         108,  191,  122,   34],\n",
      "       [  15,   11,  133,  106,    8,  124,   42,  394,   29,  379,    1,\n",
      "          25, 1113,    1,   83],\n",
      "       [  87,  187,  345,  357,   60,   92, 1156,  132,    6,   70,    5,\n",
      "         165,  402,  104,    2],\n",
      "       [  16,   27,   17,  100,   29,   16, 1021,    1, 1290, 1902,  393,\n",
      "         190,  108,  120,   12]]), 21: array([[1413,   29,   79,  128,  238,  415,  657,   39,  393,   47,   48,\n",
      "         139,  462,   79,   94],\n",
      "       [ 116,    5,  359,  116,    5, 1500,  154,    4,  681,    5,  293,\n",
      "           2,  368, 1501,   15],\n",
      "       [  50,   98,   73,   26,   88,  255,  353,  699,  863,  110,  132,\n",
      "          88,  255,  303,   12],\n",
      "       [  11,  133,  106,    8,  124,  502,  394,   29,  379,    1,   25,\n",
      "         390,  373,   42,    3],\n",
      "       [  50,  230,   73,   26,   88,  255,  353,  699,  863,   12,    1,\n",
      "         303,   27,   13,    9],\n",
      "       [  40,  139,   11,  133,  106,    8,  124,  498,  199,  114,    1,\n",
      "          25,  207,  219,  107],\n",
      "       [ 505, 1202,  245, 1977,  413,    8,  124,   42,    6,  336,  405,\n",
      "         177,  159,  295,  913],\n",
      "       [  98,   73,   26,   88,  863,  353,  699,  863,   12,  132,    1,\n",
      "         303,   27,   13,    9],\n",
      "       [  25,   24,  275,   63,  375,    6,  154,    6,  166,  251,    3,\n",
      "          68,    3,  129,    2]]), 25: array([[124, 502, 169, 379,  30,   1,  25, 390, 373,  42, 335,   1,  25,\n",
      "         24,   3],\n",
      "       [127, 389, 118, 101,  61, 184, 314, 114,  16, 201, 180,  75, 428,\n",
      "         86, 180],\n",
      "       [124, 502, 394,  29, 379,   1,  25, 984, 373,  42, 335,   1,  25,\n",
      "         24,   3],\n",
      "       [ 13,   9,  67,  57, 160,  11,  20, 755,  85, 384,  76,   2, 264,\n",
      "          5, 442],\n",
      "       [124, 394,  29, 101, 379,   1,  25, 390, 373,  42, 335,   1,  25,\n",
      "         24,   3],\n",
      "       [  8, 124, 394,  29, 379,   1,  25, 390, 373,  42, 335,   1,  25,\n",
      "         24,   3],\n",
      "       [  8, 124, 394,  29, 379,   1,  25, 390, 373,  42, 275,   1,  25,\n",
      "         24, 855]]), 26: array([[   9,   67,   57,  160,   11,   20,   85,  755,  384,   76,    2,\n",
      "         264,    5,  663,   16],\n",
      "       [ 124,   42,    1,   25,   24,  177,   56,   42,  394,   29,  379,\n",
      "           1,   25, 1113,  247],\n",
      "       [ 264,    5,  442,   27,   13,    9,  212,   85,  755,  384,   76,\n",
      "           2,  264,    5,  442]]), 22: array([[ 133,  106,    8,  124,  394,  502,   29,  379,  390,  373,   42,\n",
      "           1,   25,   24,    3],\n",
      "       [  24,    3,   39,   59,   15,   11,  133,  106,    8,  124,  394,\n",
      "          29,  379,  390,  373],\n",
      "       [ 390,   39,   11,  133,  106,    8,  124,  394,  245,    8,  124,\n",
      "          51,  177,   44,   51],\n",
      "       [ 128,  374,   84,    5,  344,    8,   37,    7,    8,    9,   84,\n",
      "         196,  208,  156,   52],\n",
      "       [ 133,  106,    8,  124,  394,   29,  379,  390,  373,   42,  335,\n",
      "           1,   25,   24,    3],\n",
      "       [ 133,  106,    8,  124,  394,   29,  379,    1,   25,  390,   39,\n",
      "         101,   61,   51,   63],\n",
      "       [ 106,    8,  124,   42,    1,   25,   24,    3,  394,   29,  379,\n",
      "           1,   25,  984,  373],\n",
      "       [ 267,  358,    1,  199,  114,  246,  323,   21, 1946,  229,  232,\n",
      "          10,   86,   68,  107],\n",
      "       [  17,  361,   16,   14,  577,   52,  239,   15,  768, 1962,  247,\n",
      "         704,    1,  275, 1963],\n",
      "       [ 106,    8,  124,  394,   29,  379,  390,  373,   42,  335,    1,\n",
      "          25,   24,    3,   39]]), 23: array([[ 106,    8,  124,  394,   29,  379,    1,   25,  390,  373,   42,\n",
      "           1,   25,   24,    3],\n",
      "       [   1,   25,   24,  215, 1509,  104,  219,  189,  166,  251, 1510,\n",
      "         763,  134,   46,   39],\n",
      "       [  11,   20,  212,  755,   85,  384,   76,    2,  264,    5,   49,\n",
      "          80,  476,    8,    9],\n",
      "       [ 106,    8,  124,  502,  394,   29,  379,  390,  373,   42,  335,\n",
      "           1,   25,   24,    3],\n",
      "       [ 133,  106,    8,  124,  394,  502,   29,  379,  390,  373,   42,\n",
      "           1,   25,   24,    3],\n",
      "       [ 106,    8,  124,  502,  394,   29,  379,  390,  373,   42,  335,\n",
      "           1,   25,   24,    3]]), 24: array([[   8,  124,  394,   29,  379,    1,   25,  390,  373,   42,  335,\n",
      "           1,   25,   24,    3],\n",
      "       [  11,  133,  106,    8,  124,  394,  394,   29,  379,    1,   25,\n",
      "         390,  373,  950,    9],\n",
      "       [  51,  979,   61,  614,   46,   61,   61,  614,   46,  614,  172,\n",
      "           2,  614,   46,  614],\n",
      "       [1262,   30, 1721,   56,   14,   17,   53,    1,   25,  949,    1,\n",
      "         101,  949,   10,   12],\n",
      "       [ 124,  502,  394,   29,  379,    1,   25,  984,  373,   42,  335,\n",
      "           1,   25,   24,    3],\n",
      "       [ 124,  502,  394,   29,  379,  390,   39,  101,   61,   42,  275,\n",
      "           1,   25,   24,    3],\n",
      "       [2077,   13,   95,  864,   27,  239,    5,  324,    2,  239,  429,\n",
      "           3,   13,    9,  145]]), 28: array([[ 67,  57, 160, 212,  11,  20,  85, 611,  76,   2, 264,   5, 442,\n",
      "          8,   9]])}\n"
     ]
    },
    {
     "name": "stderr",
     "output_type": "stream",
     "text": [
      "C:\\Users\\ssu\\.conda\\envs\\hate_speech\\lib\\site-packages\\numpy\\core\\_asarray.py:83: VisibleDeprecationWarning: Creating an ndarray from ragged nested sequences (which is a list-or-tuple of lists-or-tuples-or ndarrays with different lengths or shapes) is deprecated. If you meant to do this, you must specify 'dtype=object' when creating the ndarray\n",
      "  return array(a, dtype, copy=False, order=order)\n"
     ]
    }
   ],
   "source": [
    "# 빈 샘플들을 제거\n",
    "X_train = np.delete(X_train, drop_train, axis=0)\n",
    "y_train = np.delete(y_train, drop_train, axis=0)\n",
    "print(len(X_train))\n",
    "print(len(y_train))\n",
    "i = random.randrange(0, 2000)\n",
    "print(X_train[i], len(X_train[i]))\n",
    "\n",
    "\n",
    "# 문장 길이에 따른 결과(confidence) 예측 정확도 평균\n",
    "dict_list = {}\n",
    "for x in X_train:\n",
    "    dict_list.setdefault(len(x), []).append(x)\n",
    "\n",
    "# 딕셔너리의 모든 샘플의 길이를 15로 맞춤. max_len = 15 \n",
    "for x in dict_list:\n",
    "    dict_list[x] = pad_sequences(dict_list[x], maxlen=max_len)\n",
    "print(dict_list)"
   ]
  },
  {
   "cell_type": "code",
   "execution_count": null,
   "id": "4e835d2f",
   "metadata": {},
   "outputs": [],
   "source": []
  },
  {
   "cell_type": "code",
   "execution_count": 571,
   "id": "99574e1c",
   "metadata": {},
   "outputs": [
    {
     "name": "stdout",
     "output_type": "stream",
     "text": [
      "리뷰의 최대 길이 : 28\n",
      "리뷰의 평균 길이 : 7.752072968490879\n"
     ]
    },
    {
     "data": {
      "image/png": "[encoded data removed]",
      "text/plain": [
       "<Figure size 432x288 with 1 Axes>"
      ]
     },
     "metadata": {
      "needs_background": "light"
     },
     "output_type": "display_data"
    }
   ],
   "source": [
    "# 전체 데이터에서 가장 길이가 긴 리뷰와 전체 데이터의 길이 분포를 알아보겠습니다.\n",
    "print('문장의 최대 길이 :',max(len(review) for review in X_train))\n",
    "print('문장의 평균 길이 :',sum(map(len, X_train))/len(X_train))\n",
    "plt.hist([len(review) for review in X_train], bins=50)\n",
    "plt.xlabel('length of samples')\n",
    "plt.ylabel('number of samples')\n",
    "plt.show()"
   ]
  },
  {
   "cell_type": "code",
   "execution_count": 572,
   "id": "2b51bd33",
   "metadata": {},
   "outputs": [],
   "source": [
    "# 가장 긴 리뷰의 길이는 69이며, 그래프를 봤을 때 전체 데이터의 길이 분포는 \n",
    "# 대체적으로 약 11내외의 길이를 가지는 것을 볼 수 있습니다. \n",
    "# 모델이 처리할 수 있도록 X_train과 X_test의 모든 샘플의 길이를 \n",
    "# 특정 길이로 동일하게 맞춰줄 필요가 있습니다. 특정 길이 변수를 max_len으로 정합니다. \n",
    "# 대부분의 리뷰가 내용이 잘리지 않도록 할 수 있는 최적의 max_len의 값은 몇일까요? \n",
    "# 전체 샘플 중 길이가 max_len 이하인 샘플의 비율이 몇 %인지 확인하는 함수를 만듭니다.\n",
    "\n",
    "def below_threshold_len(max_len, nested_list):\n",
    "  count = 0\n",
    "  for sentence in nested_list:\n",
    "    if(len(sentence) <= max_len):\n",
    "        count = count + 1\n",
    "  print('전체 샘플 중 길이가 %s 이하인 샘플의 비율: %s'%(max_len, (count / len(nested_list))*100))"
   ]
  },
  {
   "cell_type": "code",
   "execution_count": 573,
   "id": "dd88e5f0",
   "metadata": {},
   "outputs": [
    {
     "name": "stdout",
     "output_type": "stream",
     "text": [
      "전체 샘플 중 길이가 15 이하인 샘플의 비율: 96.40685461580985\n"
     ]
    }
   ],
   "source": [
    "# 분포 그래프를 봤을 때, max_len = 15이 적당할 것 같습니다. \n",
    "# 이 값이 얼마나 많은 리뷰 길이를 커버하는지 확인해봅시다.\n",
    "max_len = 15\n",
    "below_threshold_len(max_len, X_train)"
   ]
  },
  {
   "cell_type": "code",
   "execution_count": 574,
   "id": "8d0cda81",
   "metadata": {},
   "outputs": [
    {
     "name": "stdout",
     "output_type": "stream",
     "text": [
      "7236\n",
      "2413\n",
      "[  0   0   0   0   0   0   0   0  47 126  82 791  27  13   9]\n"
     ]
    }
   ],
   "source": [
    "# 전체 훈련 데이터 중 약 96%의 리뷰가 15이하의 길이를 가지는 것을 확인했습니다. \n",
    "# 모든 샘플의 길이를 30으로 맞추겠습니다.\n",
    "X_train = pad_sequences(X_train, maxlen=max_len)\n",
    "X_test = pad_sequences(X_test, maxlen=max_len)\n",
    "\n",
    "print(len(X_train))\n",
    "print(len(X_test))\n",
    "\n",
    "print(X_train[random.randrange(0, 2000)])"
   ]
  },
  {
   "cell_type": "code",
   "execution_count": 461,
   "id": "1948591f",
   "metadata": {},
   "outputs": [],
   "source": []
  },
  {
   "cell_type": "code",
   "execution_count": null,
   "id": "8c6bfd04",
   "metadata": {},
   "outputs": [],
   "source": []
  },
  {
   "cell_type": "code",
   "execution_count": null,
   "id": "66c85197",
   "metadata": {},
   "outputs": [],
   "source": []
  },
  {
   "cell_type": "code",
   "execution_count": 575,
   "id": "4f581cd1",
   "metadata": {
    "scrolled": true
   },
   "outputs": [
    {
     "name": "stdout",
     "output_type": "stream",
     "text": [
      "Epoch 1/15\n",
      "91/91 [==============================] - 2s 11ms/step - loss: 0.3522 - acc: 0.8397 - val_loss: 0.1405 - val_acc: 0.9530\n",
      "\n",
      "Epoch 00001: val_acc improved from -inf to 0.95304, saving model to best_model_common_talk.h5\n",
      "Epoch 2/15\n",
      "91/91 [==============================] - 1s 7ms/step - loss: 0.1271 - acc: 0.9506 - val_loss: 0.1029 - val_acc: 0.9586\n",
      "\n",
      "Epoch 00002: val_acc improved from 0.95304 to 0.95856, saving model to best_model_common_talk.h5\n",
      "Epoch 3/15\n",
      "91/91 [==============================] - 1s 8ms/step - loss: 0.0941 - acc: 0.9596 - val_loss: 0.0975 - val_acc: 0.9613\n",
      "\n",
      "Epoch 00003: val_acc improved from 0.95856 to 0.96133, saving model to best_model_common_talk.h5\n",
      "Epoch 4/15\n",
      "91/91 [==============================] - 1s 8ms/step - loss: 0.0820 - acc: 0.9667 - val_loss: 0.0898 - val_acc: 0.9662\n",
      "\n",
      "Epoch 00004: val_acc improved from 0.96133 to 0.96616, saving model to best_model_common_talk.h5\n",
      "Epoch 5/15\n",
      "91/91 [==============================] - 1s 8ms/step - loss: 0.0729 - acc: 0.9705 - val_loss: 0.0969 - val_acc: 0.9599\n",
      "\n",
      "Epoch 00005: val_acc did not improve from 0.96616\n",
      "Epoch 6/15\n",
      "91/91 [==============================] - 1s 8ms/step - loss: 0.0670 - acc: 0.9708 - val_loss: 0.1080 - val_acc: 0.9599\n",
      "\n",
      "Epoch 00006: val_acc did not improve from 0.96616\n",
      "Epoch 7/15\n",
      "91/91 [==============================] - 1s 8ms/step - loss: 0.0638 - acc: 0.9748 - val_loss: 0.0980 - val_acc: 0.9613\n",
      "\n",
      "Epoch 00007: val_acc did not improve from 0.96616\n",
      "Epoch 8/15\n",
      "91/91 [==============================] - 1s 8ms/step - loss: 0.0609 - acc: 0.9744 - val_loss: 0.0984 - val_acc: 0.9606\n",
      "\n",
      "Epoch 00008: val_acc did not improve from 0.96616\n",
      "Epoch 00008: early stopping\n"
     ]
    }
   ],
   "source": [
    "# 하이퍼파라미터인 임베딩 벡터의 차원은 100, 은닉 상태의 크기는 128입니다. \n",
    "# 모델은 다 대 일 구조의 LSTM을 사용합니다. \n",
    "# 해당 모델은 마지막 시점에서 두 개의 선택지 중 하나를 예측하는 \n",
    "# 이진 분류 문제를 수행하는 모델입니다. \n",
    "# 이진 분류 문제의 경우, 출력층에 로지스틱 회귀를 사용해야 하므로 \n",
    "# 활성화 함수로는 시그모이드 함수를 사용하고, \n",
    "# 손실 함수로 크로스 엔트로피 함수를 사용합니다. \n",
    "# 하이퍼파라미터인 배치 크기는 64이며, 15 에포크를 수행합니다.\n",
    "\n",
    "# EarlyStopping(monitor='val_loss', mode='min', verbose=1, patience=4)는 \n",
    "# 검증 데이터 손실(val_loss)이 증가하면, 과적합 징후므로 검증 데이터 손실이 4회 증가하면 \n",
    "# 정해진 에포크가 도달하지 못하였더라도 학습을 조기 종료(Early Stopping)한다는 의미입니다. \n",
    "# ModelCheckpoint를 사용하여 검증 데이터의 정확도(val_acc)가 \n",
    "# 이전보다 좋아질 경우에만 모델을 저장합니다. \n",
    "# validation_split=0.2을 사용하여 훈련 데이터의 20%를 검증 데이터로 분리해서 사용하고, \n",
    "# 검증 데이터를 통해서 훈련이 적절히 되고 있는지 확인합니다. \n",
    "# 검증 데이터는 기계가 훈련 데이터에 과적합되고 있지는 않은지 확인하기 위한 용도로 사용됩니다.\n",
    "\n",
    "from tensorflow.keras.layers import Embedding, Dense, LSTM\n",
    "from tensorflow.keras.models import Sequential\n",
    "from tensorflow.keras.models import load_model\n",
    "from tensorflow.keras.callbacks import EarlyStopping, ModelCheckpoint\n",
    "\n",
    "# 모델 생성해서 훈련하는 코드\n",
    "embedding_dim = 100\n",
    "hidden_units = 128\n",
    "\n",
    "model = Sequential()\n",
    "model.add(Embedding(vocab_size, embedding_dim))\n",
    "model.add(LSTM(hidden_units))\n",
    "model.add(Dense(1, activation='sigmoid'))\n",
    "\n",
    "es = EarlyStopping(monitor='val_loss', mode='min', verbose=1, patience=4)\n",
    "mc = ModelCheckpoint('best_model_common_talk.h5', monitor='val_acc', mode='max', verbose=1, save_best_only=True)\n",
    "\n",
    "model.compile(optimizer='rmsprop', loss='binary_crossentropy', metrics=['acc'])\n",
    "history = model.fit(X_train, y_train, epochs=15, callbacks=[es, mc], batch_size=64, validation_split=0.2)"
   ]
  },
  {
   "cell_type": "code",
   "execution_count": 673,
   "id": "0d7ad445",
   "metadata": {},
   "outputs": [
    {
     "name": "stdout",
     "output_type": "stream",
     "text": [
      "76/76 [==============================] - 0s 2ms/step - loss: 0.1142 - acc: 0.9577\n",
      "\n",
      " 테스트 정확도: 0.9577\n"
     ]
    }
   ],
   "source": [
    "# 저자의 경우 조기 종료 조건에 따라서 9 에포크에서 훈련이 멈췄습니다. \n",
    "# 훈련이 다 되었다면 테스트 데이터에 대해서 정확도를 측정할 차례입니다. \n",
    "# 훈련 과정에서 검증 데이터의 정확도가 가장 높았을 때 저장된 모델인 'best_model.h5'를 로드합니다.\n",
    "loaded_model = load_model('best_model_common_talk.h5')\n",
    "print(\"\\n 테스트 정확도: %.4f\" % (loaded_model.evaluate(X_test, y_test)[1]))"
   ]
  },
  {
   "cell_type": "code",
   "execution_count": null,
   "id": "af288d6a",
   "metadata": {},
   "outputs": [],
   "source": []
  },
  {
   "cell_type": "code",
   "execution_count": null,
   "id": "a3bd90e6",
   "metadata": {},
   "outputs": [],
   "source": []
  },
  {
   "cell_type": "code",
   "execution_count": 674,
   "id": "79600fca",
   "metadata": {},
   "outputs": [],
   "source": [
    "# 임의의 리뷰에 대해서 예측하는 함수를 만들어보겠습니다. \n",
    "# 기본적으로 현재 학습한 model에 새로운 입력에 대해서 예측값을 얻는 것은 \n",
    "# model.predict()를 사용합니다. 그리고 model.fit()을 할 때와 마찬가지로 \n",
    "# 새로운 입력에 대해서도 동일한 전처리를 수행 후에 model.predict()의 입력으로 사용해야 합니다.\n",
    "\n",
    "def sentiment_predict(new_sentence):\n",
    "  new_sentence = re.sub(r'[^ㄱ-ㅎㅏ-ㅣ가-힣 ]','', new_sentence)\n",
    "  new_sentence = okt.morphs(new_sentence, stem=True) # 토큰화\n",
    "  new_sentence = [word for word in new_sentence if not word in stopwords] # 불용어 제거\n",
    "  encoded = tokenizer.texts_to_sequences([new_sentence]) # 정수 인코딩\n",
    "  pad_new = pad_sequences(encoded, maxlen = max_len) # 패딩\n",
    "  score = float(loaded_model.predict(pad_new)) # 예측\n",
    "  if(score > 0.5):\n",
    "    prob = score * 100\n",
    "    sent = 1\n",
    "    print(\"=> {:.2f}% 확률로 혐오 표현이 아닙니다.\".format(prob))\n",
    "  else:\n",
    "    prob = (1 - score) * 100\n",
    "    sent = -1\n",
    "    print(\"=> {:.2f}% 확률로 혐오 표현입니다.\".format(prob))\n",
    "  \n",
    "  return (prob, sent)"
   ]
  },
  {
   "cell_type": "code",
   "execution_count": 675,
   "id": "c6de504d",
   "metadata": {},
   "outputs": [
    {
     "name": "stdout",
     "output_type": "stream",
     "text": [
      "=> 75.38% 확률로 혐오 표현입니다.\n"
     ]
    },
    {
     "data": {
      "text/plain": [
       "(75.37958025932312, -1)"
      ]
     },
     "execution_count": 675,
     "metadata": {},
     "output_type": "execute_result"
    }
   ],
   "source": [
    "sentiment_predict('이 영화 개꿀잼 ㅋㅋㅋ')"
   ]
  },
  {
   "cell_type": "code",
   "execution_count": 676,
   "id": "4185514e",
   "metadata": {},
   "outputs": [
    {
     "name": "stdout",
     "output_type": "stream",
     "text": [
      "=> 75.38% 확률로 혐오 표현입니다.\n"
     ]
    },
    {
     "data": {
      "text/plain": [
       "(75.37958025932312, -1)"
      ]
     },
     "execution_count": 676,
     "metadata": {},
     "output_type": "execute_result"
    }
   ],
   "source": [
    "sentiment_predict('이 영화 핵노잼 ㅠㅠ')\n"
   ]
  },
  {
   "cell_type": "code",
   "execution_count": 677,
   "id": "2e030c73",
   "metadata": {},
   "outputs": [
    {
     "name": "stdout",
     "output_type": "stream",
     "text": [
      "=> 65.96% 확률로 혐오 표현입니다.\n"
     ]
    },
    {
     "data": {
      "text/plain": [
       "(65.96097350120544, -1)"
      ]
     },
     "execution_count": 677,
     "metadata": {},
     "output_type": "execute_result"
    }
   ],
   "source": [
    "sentiment_predict('이딴게 영화냐 ㅉㅉ!!!')"
   ]
  },
  {
   "cell_type": "code",
   "execution_count": 678,
   "id": "0417016b",
   "metadata": {},
   "outputs": [
    {
     "name": "stdout",
     "output_type": "stream",
     "text": [
      "=> 97.30% 확률로 혐오 표현입니다.\n"
     ]
    },
    {
     "data": {
      "text/plain": [
       "(97.29679822921753, -1)"
      ]
     },
     "execution_count": 678,
     "metadata": {},
     "output_type": "execute_result"
    }
   ],
   "source": [
    "sentiment_predict('감독 뭐하는 놈이냐?')"
   ]
  },
  {
   "cell_type": "code",
   "execution_count": 679,
   "id": "9f888f25",
   "metadata": {},
   "outputs": [
    {
     "name": "stdout",
     "output_type": "stream",
     "text": [
      "=> 51.62% 확률로 혐오 표현이 아닙니다.\n"
     ]
    },
    {
     "data": {
      "text/plain": [
       "(51.622891426086426, 1)"
      ]
     },
     "execution_count": 679,
     "metadata": {},
     "output_type": "execute_result"
    }
   ],
   "source": [
    "sentiment_predict('와 개쩐다 정말 세계관 최강자들의 영화다')"
   ]
  },
  {
   "cell_type": "code",
   "execution_count": 680,
   "id": "120134a0",
   "metadata": {
    "scrolled": true
   },
   "outputs": [
    {
     "name": "stdout",
     "output_type": "stream",
     "text": [
      "=> 80.46% 확률로 혐오 표현입니다.\n"
     ]
    },
    {
     "data": {
      "text/plain": [
       "(80.46271800994873, -1)"
      ]
     },
     "execution_count": 680,
     "metadata": {},
     "output_type": "execute_result"
    }
   ],
   "source": [
    "sentiment_predict('나도 잘 몰라')"
   ]
  },
  {
   "cell_type": "code",
   "execution_count": 681,
   "id": "f5bef9a8",
   "metadata": {},
   "outputs": [
    {
     "name": "stdout",
     "output_type": "stream",
     "text": [
      "=> 64.71% 확률로 혐오 표현입니다.\n"
     ]
    },
    {
     "data": {
      "text/plain": [
       "(64.71324861049652, -1)"
      ]
     },
     "execution_count": 681,
     "metadata": {},
     "output_type": "execute_result"
    }
   ],
   "source": [
    "sentiment_predict('그래 잘됐네')"
   ]
  },
  {
   "cell_type": "code",
   "execution_count": 659,
   "id": "c7f4af6f",
   "metadata": {
    "scrolled": false
   },
   "outputs": [
    {
     "name": "stdout",
     "output_type": "stream",
     "text": [
      "\n",
      " 저거는 진중하지 않았어도 전혀.\n",
      "=> 88.90% 확률로 혐오 표현입니다.\n",
      "\n",
      " 장마철이라서 습기가 많아져서 매일 청소를 하는데 곰팡이가 안 없어져.\n",
      "=> 100.00% 확률로 혐오 표현입니다.\n",
      "\n",
      " 뭐 어때서?\n",
      "=> 95.24% 확률로 혐오 표현입니다.\n",
      "\n",
      " 맞아. 오랜시간 연습했던 결실을 거두는 순간이라서 정말 감격적이었어.\n",
      "=> 100.00% 확률로 혐오 표현이 아닙니다.\n",
      "\n",
      " 그게 내 마음이 더 편할지 안하는게 마음이 더 편할지 잘 모르겠어. 근데 너무 화나.\n",
      "=> 100.00% 확률로 혐오 표현이 아닙니다.\n"
     ]
    }
   ],
   "source": [
    "# 대화 데이터 감성분석\n",
    "# 예측하기 위해서 '5차년도_2차.csv' 데이터 사용했음.\n",
    "# 데이터가 없다면 아래와 같이 문장을 입력해서 함수 호출하면 됨.\n",
    "# 예) sentiment_predict('친구들 만날 생각에 기대된다')\n",
    "\n",
    "import csv\n",
    "import random\n",
    "\n",
    "words = [] # 발화문 리스트 변수\n",
    "\n",
    "with open('5차년도_2차(긍정부정분류).csv', 'r') as csvfile:\n",
    "    reader = csv.reader(csvfile)\n",
    "    next(reader)\n",
    "    for index,col in enumerate(reader): # 발화문 필드(col[1])만 리스트에 저장\n",
    "        words.append(col[1])\n",
    "\n",
    "    for i in range(0, 5):\n",
    "        str = words[random.randrange(0, len(words))] # 무작위로 다섯 문장 감성 분류\n",
    "        print('\\n', str)\n",
    "        sentiment_predict(str)"
   ]
  },
  {
   "cell_type": "code",
   "execution_count": 585,
   "id": "405735a4",
   "metadata": {
    "scrolled": false
   },
   "outputs": [
    {
     "name": "stdout",
     "output_type": "stream",
     "text": [
      "99.14% 확률로 긍정 리뷰입니다.\n",
      "\n"
     ]
    },
    {
     "data": {
      "text/plain": [
       "(99.14499521255493, 1)"
      ]
     },
     "execution_count": 585,
     "metadata": {},
     "output_type": "execute_result"
    }
   ],
   "source": [
    "sentiment_predict('친구들 만날 생각에 기대된다')"
   ]
  },
  {
   "cell_type": "code",
   "execution_count": null,
   "id": "828d4ae5",
   "metadata": {},
   "outputs": [],
   "source": []
  },
  {
   "cell_type": "code",
   "execution_count": null,
   "id": "b3a01e83",
   "metadata": {},
   "outputs": [],
   "source": []
  },
  {
   "cell_type": "code",
   "execution_count": null,
   "id": "7085e351",
   "metadata": {},
   "outputs": [],
   "source": []
  },
  {
   "cell_type": "code",
   "execution_count": 599,
   "id": "79afd420",
   "metadata": {},
   "outputs": [
    {
     "name": "stdout",
     "output_type": "stream",
     "text": [
      "7236\n",
      "dict_keys([9, 3, 2, 4, 13, 8, 1, 5, 7, 6, 11, 10, 12, 15, 18, 14, 17, 16, 19, 20, 21, 25, 26, 22, 23, 24, 28])\n",
      "9\n",
      "3\n",
      "2\n",
      "4\n",
      "13\n",
      "8\n",
      "1\n",
      "5\n",
      "7\n",
      "6\n",
      "11\n",
      "10\n",
      "12\n",
      "15\n",
      "18\n",
      "14\n",
      "17\n",
      "16\n",
      "19\n",
      "20\n",
      "21\n",
      "25\n",
      "26\n",
      "22\n",
      "23\n",
      "24\n",
      "28\n"
     ]
    }
   ],
   "source": [
    "# 문장 길이에 따른 결과(confidence) 예측 정확도 평균\n",
    "# print(dict_list)\n",
    "all_str = 0\n",
    "for x in dict_list:\n",
    "    all_str += len(dict_list[x])\n",
    "\n",
    "print(all_str)\n",
    "dict_avg = {}\n",
    "print(dict_list.keys())\n",
    "\n",
    "for x in dict_list.keys():\n",
    "    print(x)"
   ]
  },
  {
   "cell_type": "code",
   "execution_count": 473,
   "id": "bbb60685",
   "metadata": {},
   "outputs": [],
   "source": [
    "\n",
    "# loaded_models = {}\n",
    "loaded_lstm = load_model('best_model_common_talk.h5')\n",
    "loaded_bilstm = load_model('best_model_BiLSTM.h5')\n",
    "\n",
    "\n",
    "# loaded_models.update({\"loaded_lstm\" : loaded_lstm})\n",
    "# loaded_models.update({\"loaded_bilstm\" : loaded_bilstm})\n",
    "# print(loaded_models)"
   ]
  },
  {
   "cell_type": "code",
   "execution_count": 616,
   "id": "8177512d",
   "metadata": {},
   "outputs": [
    {
     "name": "stdout",
     "output_type": "stream",
     "text": [
      "encoded :  [128, 58, 384]\n",
      "0.9297250509262085 3\n"
     ]
    }
   ],
   "source": [
    "acc, length = sent_pred_csv(loaded_lstm, '이번주도 힘들게 보내겠지')\n",
    "print(acc, length)"
   ]
  },
  {
   "cell_type": "code",
   "execution_count": 643,
   "id": "693fa4ae",
   "metadata": {},
   "outputs": [
    {
     "name": "stdout",
     "output_type": "stream",
     "text": [
      "[[4, 0.96967746814092], [5, 0.9987742751836777], [6, 0.9957171189242218], [7, 0.9966903712068286], [8, 0.9824769310896174], [9, 0.9786941587171896], [10, 0.9816712379455567], [11, 0.9973487964105314], [12, 0.9910476510693419], [13, 0.9939103547444574], [14, 0.9995877038345498], [15, 0.991220743098633], [16, 0.9897390450816601], [17, 0.9977971097214322], [18, 0.9995866247358208], [19, 0.9995839595794678], [20, 0.9966624617576599], [24, 0.9993986785411835], [26, 0.9867617785930634]]\n",
      "101\n"
     ]
    }
   ],
   "source": [
    "# 문장 길이에 따른 결과(confidence) 예측 정확도 평균\n",
    "import csv\n",
    "dict_list = {}\n",
    "dict_avg = {}\n",
    "result = []\n",
    "# with open('5차년도_2차(긍정부정분류).csv', 'r') as input:\n",
    "with open('5차년도_2차(긍정부정분류).csv', 'r') as input, \\\n",
    "    open('result_lstm.csv', 'w', encoding='utf-8', newline='') as output:\n",
    "    \n",
    "    reader = csv.reader(input)\n",
    "    next(reader)\n",
    "    wr = csv.writer(output)\n",
    "    wr.writerow(['length of sentence', 'avg of accuracy'])\n",
    "    for index,col in enumerate(reader): # 발화문 필드(col[1])만 리스트에 저장\n",
    "        if index > 100:\n",
    "            break\n",
    "        str = col[1]\n",
    "        acc, length = sent_pred_csv(loaded_lstm, str)\n",
    "        dict_list.setdefault(length, []).append(acc)\n",
    "    \n",
    "    for length in dict_list:\n",
    "        result.append([length, sum(map(abs, map(float, dict_list[length])))/len(dict_list[length])])\n",
    "    \n",
    "    list.sort(result)\n",
    "    print(result)\n",
    "    wr.writerows(result)\n",
    "    \n",
    "        \n",
    "# print(dict_list)\n",
    "all_str = 0\n",
    "for x in dict_list:\n",
    "    all_str += len(dict_list[x])\n",
    "\n",
    "print(all_str)\n"
   ]
  },
  {
   "cell_type": "code",
   "execution_count": 619,
   "id": "3e1e698e",
   "metadata": {},
   "outputs": [],
   "source": [
    "# 임의의 리뷰에 대해서 예측하는 함수를 만들어보겠습니다. \n",
    "# 기본적으로 현재 학습한 model에 새로운 입력에 대해서 예측값을 얻는 것은 \n",
    "# model.predict()를 사용합니다. 그리고 model.fit()을 할 때와 마찬가지로 \n",
    "# 새로운 입력에 대해서도 동일한 전처리를 수행 후에 model.predict()의 입력으로 사용해야 합니다.\n",
    "\n",
    "def sent_pred_csv(model, new_sentence):\n",
    "  new_sentence = re.sub(r'[^ㄱ-ㅎㅏ-ㅣ가-힣 ]','', new_sentence)\n",
    "  new_sentence = okt.morphs(new_sentence, stem=True) # 토큰화\n",
    "  new_sentence = [word for word in new_sentence if not word in stopwords] # 불용어 제거\n",
    "  encoded = tokenizer.texts_to_sequences([new_sentence]) # 정수 인코딩\n",
    "#   print(encoded)\n",
    "  length = len(encoded[0])\n",
    "#   print('encoded : ', encoded[0])\n",
    "  pad_new = pad_sequences(encoded, maxlen = max_len) # 패딩\n",
    "  score = float(model.predict(pad_new)) # 예측\n",
    "  if(score > 0.5):\n",
    "    prob = score\n",
    "    sent = 1\n",
    "#     print(\"=> {:.2f}% 확률로 혐오 표현이 아닙니다.\\n\".format(prob))\n",
    "  else:\n",
    "    prob = (1 - score)\n",
    "    sent = -1\n",
    "#     print(\"=> {:.2f}% 확률로 혐오 표현입니다.\\n\".format(prob))\n",
    "  \n",
    "  return (prob * sent), length # 확률 * {1 | -1}(긍정 | 부정)"
   ]
  },
  {
   "cell_type": "code",
   "execution_count": 632,
   "id": "2ca9e9a2",
   "metadata": {},
   "outputs": [
    {
     "name": "stdout",
     "output_type": "stream",
     "text": [
      "[[11, (0.9827659130096436, 6)], [4, (0.9999912977218628, 11)], [88, (0.998234748840332, 4)], [86, (-0.9994190037250519, 15)], [52, (0.998234748840332, 4)], [45, (-0.9995798766613007, 11)], [21, (0.9546383619308472, 16)], [37, (0.9969133138656616, 4)], [65, (-0.9998858730759821, 17)], [99, (-0.9998185336589813, 7)], [24, (-0.9985331892967224, 20)], [45, (-0.9995798766613007, 11)], [82, (-0.9999373980899691, 14)], [85, (-0.9999638884946762, 13)], [27, (-0.9998141229152679, 7)], [41, (0.999992847442627, 13)], [30, (-0.999962657209835, 12)], [22, (-0.9999534760790993, 8)], [63, (0.9503506422042847, 9)], [1, (0.9999040365219116, 12)], [48, (-0.9998655617237091, 10)], [51, (-0.9984520375728607, 13)], [28, (-0.9998640716075897, 11)], [70, (-0.9999855215046409, 9)], [13, (-0.9997947514057159, 14)], [82, (-0.9999373980899691, 14)], [46, (-0.9965647757053375, 9)], [96, (-0.9985377490520477, 7)], [24, (-0.9985331892967224, 20)], [98, (-0.9972535967826843, 6)], [6, (0.923201322555542, 9)], [25, (-0.9998115003108978, 12)], [27, (-0.9998141229152679, 7)], [68, (-0.9999748898499092, 12)], [76, (0.9999919533729553, 11)], [6, (0.923201322555542, 9)], [54, (0.9782685041427612, 15)], [31, (-0.9783652722835541, 10)], [44, (-0.9986174702644348, 18)], [81, (-0.9999669235658075, 18)], [79, (0.9999832510948181, 12)], [73, (-0.9991722106933594, 19)], [12, (-0.9992735683917999, 6)], [28, (-0.9998640716075897, 11)], [96, (-0.9985377490520477, 7)], [19, (0.9996384382247925, 20)], [95, (-0.9982632100582123, 14)], [7, (0.9999576210975647, 12)], [21, (0.9546383619308472, 16)], [88, (0.998234748840332, 4)], [15, (-0.9928533434867859, 13)], [51, (-0.9984520375728607, 13)], [48, (-0.9998655617237091, 10)], [51, (-0.9984520375728607, 13)], [12, (-0.9992735683917999, 6)], [78, (0.9999902248382568, 16)], [50, (-0.9991051256656647, 11)], [42, (-0.9997193515300751, 9)], [52, (0.998234748840332, 4)], [43, (-0.995663046836853, 16)], [69, (-0.9999554989008175, 6)], [67, (-0.9998557865619659, 13)], [41, (0.999992847442627, 13)], [77, (0.9999918341636658, 18)], [92, (0.9999957084655762, 19)], [20, (0.8376978635787964, 4)], [78, (0.9999902248382568, 16)], [29, (-0.9999191424794844, 8)], [84, (-0.9981763064861298, 5)], [92, (0.9999957084655762, 19)], [26, (-0.9993370175361633, 6)], [62, (0.9618467688560486, 13)], [69, (-0.9999554989008175, 6)], [9, (-0.9987939894199371, 13)], [82, (-0.9999373980899691, 14)], [92, (0.9999957084655762, 19)], [48, (-0.9998655617237091, 10)], [55, (0.9999970197677612, 14)], [75, (0.9999216794967651, 12)], [69, (-0.9999554989008175, 6)], [59, (-0.9982994496822357, 11)], [28, (-0.9998640716075897, 11)], [10, (-0.9993986785411835, 24)], [45, (-0.9995798766613007, 11)], [21, (0.9546383619308472, 16)], [37, (0.9969133138656616, 4)], [98, (-0.9972535967826843, 6)], [4, (0.9999912977218628, 11)], [32, (0.993954598903656, 4)], [54, (0.9782685041427612, 15)], [45, (-0.9995798766613007, 11)], [98, (-0.9972535967826843, 6)], [21, (0.9546383619308472, 16)], [65, (-0.9998858730759821, 17)], [75, (0.9999216794967651, 12)], [8, (-0.9851495921611786, 15)], [95, (-0.9982632100582123, 14)], [43, (-0.995663046836853, 16)], [63, (0.9503506422042847, 9)], [63, (0.9503506422042847, 9)]]\n"
     ]
    }
   ],
   "source": [
    "# 대화 데이터 감성분석\n",
    "# 예측하기 위해서 '5차년도_2차.csv' 데이터 사용했음.\n",
    "# 데이터가 없다면 아래와 같이 문장을 입력해서 함수 호출하면 됨.\n",
    "# 예) sentiment_predict('친구들 만날 생각에 기대된다')\n",
    "\n",
    "import csv\n",
    "import random\n",
    "\n",
    "words = [] # 발화문 리스트 변수\n",
    "result = []\n",
    "with open('5차년도_2차(긍정부정분류).csv', 'r') as input, \\\n",
    "    open('result_lstm.csv', 'w', encoding='utf-8', newline='') as output:\n",
    "    reader = csv.reader(input)\n",
    "    next(reader)\n",
    "    wr = csv.writer(output)\n",
    "    wr.writerow(['index', 'LSTM'])\n",
    "    for index,col in enumerate(reader): # 발화문 필드(col[1])만 리스트에 저장\n",
    "        sentence = col[1]\n",
    "#         print(type(sentence))\n",
    "        words.append(sentence)\n",
    "#         print(index, sentence)\n",
    "#         print(sentence)\n",
    "    for i in range(0, 2000):\n",
    "        idx = random.randrange(0, len(words))\n",
    "        str = words[idx]\n",
    "        row = [idx, sent_pred_csv(loaded_lstm, str)]\n",
    "        result.append(row)\n",
    "    \n",
    "    wr.writerows(result)\n",
    "# print(result)"
   ]
  },
  {
   "cell_type": "code",
   "execution_count": 476,
   "id": "ff828152",
   "metadata": {},
   "outputs": [
    {
     "name": "stdout",
     "output_type": "stream",
     "text": [
      "539\n"
     ]
    }
   ],
   "source": [
    "words = [ x for x in range(1000)]\n",
    "print(words[random.randrange(0, len(words))])"
   ]
  },
  {
   "cell_type": "code",
   "execution_count": 477,
   "id": "ca6f1f34",
   "metadata": {},
   "outputs": [
    {
     "data": {
      "text/plain": [
       "0.9497451782226562"
      ]
     },
     "execution_count": 477,
     "metadata": {},
     "output_type": "execute_result"
    }
   ],
   "source": [
    "sent_pred_csv(loaded_lstm, '알바비를 모아서 산 거기 때문에 좋은 건 못 샀어.')"
   ]
  },
  {
   "cell_type": "code",
   "execution_count": 478,
   "id": "fba06971",
   "metadata": {},
   "outputs": [
    {
     "ename": "TypeError",
     "evalue": "write() argument must be str, not list",
     "output_type": "error",
     "traceback": [
      "\u001b[1;31m---------------------------------------------------------------------------\u001b[0m",
      "\u001b[1;31mTypeError\u001b[0m                                 Traceback (most recent call last)",
      "\u001b[1;32m<ipython-input-478-b0d5f81f5092>\u001b[0m in \u001b[0;36m<module>\u001b[1;34m\u001b[0m\n\u001b[0;32m      4\u001b[0m \u001b[1;31m# print(random_index)\u001b[0m\u001b[1;33m\u001b[0m\u001b[1;33m\u001b[0m\u001b[1;33m\u001b[0m\u001b[0m\n\u001b[0;32m      5\u001b[0m \u001b[1;32mwith\u001b[0m \u001b[0mopen\u001b[0m\u001b[1;33m(\u001b[0m\u001b[1;34m'random_index.txt'\u001b[0m\u001b[1;33m,\u001b[0m \u001b[1;34m'w'\u001b[0m\u001b[1;33m,\u001b[0m \u001b[0mencoding\u001b[0m\u001b[1;33m=\u001b[0m\u001b[1;34m'utf-8'\u001b[0m\u001b[1;33m)\u001b[0m \u001b[1;32mas\u001b[0m \u001b[0moutput\u001b[0m\u001b[1;33m:\u001b[0m\u001b[1;33m\u001b[0m\u001b[1;33m\u001b[0m\u001b[0m\n\u001b[1;32m----> 6\u001b[1;33m     \u001b[0moutput\u001b[0m\u001b[1;33m.\u001b[0m\u001b[0mwrite\u001b[0m\u001b[1;33m(\u001b[0m\u001b[0mrandom_index\u001b[0m\u001b[1;33m)\u001b[0m\u001b[1;33m\u001b[0m\u001b[1;33m\u001b[0m\u001b[0m\n\u001b[0m",
      "\u001b[1;31mTypeError\u001b[0m: write() argument must be str, not list"
     ]
    }
   ],
   "source": [
    "random_index = []\n",
    "for i in range(2000):\n",
    "    random_index.append(random.randrange(0, len(words)))\n",
    "# print(random_index) \n",
    "with open('random_index.txt', 'w', encoding='utf-8') as output:\n",
    "    output.write(random_index)"
   ]
  },
  {
   "cell_type": "code",
   "execution_count": null,
   "id": "6331d664",
   "metadata": {},
   "outputs": [],
   "source": []
  }
 ],
 "metadata": {
  "kernelspec": {
   "display_name": "Python 3",
   "language": "python",
   "name": "python3"
  },
  "language_info": {
   "codemirror_mode": {
    "name": "ipython",
    "version": 3
   },
   "file_extension": ".py",
   "mimetype": "text/x-python",
   "name": "python",
   "nbconvert_exporter": "python",
   "pygments_lexer": "ipython3",
   "version": "3.6.13"
  }
 },
 "nbformat": 4,
 "nbformat_minor": 5
}
